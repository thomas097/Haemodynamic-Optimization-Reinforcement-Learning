{
 "cells": [
  {
   "cell_type": "markdown",
   "id": "126b6815",
   "metadata": {},
   "source": [
    "# Notebook to Preprocess MIMIC-III v1.4 Data Files\n",
    "\n",
    "In this notebook we will preprocess the [MIMIC-III](https://physionet.org/content/mimiciii/1.4/) v1.4 data files as extracted by [MIMIC-Code](https://github.com/MIT-LCP/mimic-code). Here, we implement the preprocessing for the *handcrafted state-space approach* as used by [Roggeveen et al.](https://www.sciencedirect.com/science/article/pii/S0933365720312689), by aggregating measurements into bins of 4-hours starting from the 24 hour prior to sepsis onset to 48 hours after (72 hours in total).\n",
    "\n",
    "The [original notebook](https://github.com/LucaMD/SRL/blob/master/SEPSIS/MIMIC_src/MIMIC_R_DataPreprocessing.ipynb) used to preprocess the datafiles was written in R; I have reimplemented the preprocessing in Python and validated this reimplementation with the original (minus small errors made in the original which I corrected, see `# Remark:` comments in the code cells below).\n",
    "\n",
    "Moreover, the original notebook restricted the preprocessing to records stored in the MetaVision file system as CareVue files were assumed not to contain the necessary `starttimes` for treatments. Although this is partially true, using additonal preprocessing in `convert_cv_to_mv.ipynb` we were able to reconstruct the `starttimes` for CareVue records (as described in the [MIMIC-III docs](https://mimic.mit.edu/docs/iii/about/io/)), allowing us to expand our sepsis cohort with additional patients."
   ]
  },
  {
   "cell_type": "code",
   "execution_count": 1,
   "id": "b2081bae",
   "metadata": {},
   "outputs": [],
   "source": [
    "## Dependencies\n",
    "# I/O\n",
    "import os\n",
    "import re\n",
    "import pickle\n",
    "import pandas as pd\n",
    "import numpy as np\n",
    "\n",
    "# Plotting\n",
    "import random\n",
    "import matplotlib.pyplot as plt\n",
    "\n",
    "# Timing\n",
    "from datetime import timedelta\n",
    "from tqdm import tqdm\n",
    "\n",
    "# Imputation\n",
    "from fancyimpute import KNN\n",
    "\n",
    "# Suppress scientific notation\n",
    "np.set_printoptions(suppress=True)\n",
    "\n",
    "# Settings\n",
    "INTERVAL_TIME = '4h'\n",
    "USE_CAREVUE = True\n",
    "DATA_DIR = '../data/mimic-iii/final/'        # Where mimic-iii is kept\n",
    "OUTPUT_DIR = 'datasets/mimic-iii/roggeveen'  # Where preprocessed data will be stored"
   ]
  },
  {
   "cell_type": "markdown",
   "id": "81657ac1-1f08-408a-8756-b36810d6ba06",
   "metadata": {},
   "source": [
    " "
   ]
  },
  {
   "cell_type": "code",
   "execution_count": 2,
   "id": "ec795852-dddc-4b6d-be2b-275005153e56",
   "metadata": {},
   "outputs": [],
   "source": [
    "# Check if mimic-iii folder exists\n",
    "if not os.path.exists(DATA_DIR):\n",
    "    raise Exception('Dataset directory %s does not exist!' % DATA_DIR)\n",
    "\n",
    "# Create OUTPUT_DIR\n",
    "OUTPUT_DIR = OUTPUT_DIR + '_%s%s/' % (INTERVAL_TIME, '_with_cv' if USE_CAREVUE else '')\n",
    "if not os.path.exists(OUTPUT_DIR):\n",
    "    os.makedirs(OUTPUT_DIR)"
   ]
  },
  {
   "cell_type": "markdown",
   "id": "03484cf6",
   "metadata": {},
   "source": [
    "<br>\n",
    "\n",
    "**Convenience functions**<br>\n",
    "For simplicity, we define a number of convenience functions we can reuse throughout the notebook (for loading data, plotting, unit conversions, etc.);"
   ]
  },
  {
   "cell_type": "code",
   "execution_count": 3,
   "id": "0734dee8",
   "metadata": {},
   "outputs": [
    {
     "name": "stdout",
     "output_type": "stream",
     "text": [
      "HeartRate => heart_rate\n",
      "ALBUMIN   => albumin\n",
      "MeanBP    => mean_bp\n"
     ]
    }
   ],
   "source": [
    "# reads a .csv file and parses datetime columns using pd.to_datetime()\n",
    "def read_csv(fname):\n",
    "    df = pd.read_csv(fname)\n",
    "    \n",
    "    # Mad explicit as parse_dates=True fails to cast starttime and endtime as timestamps\n",
    "    parse_dates = ['intime', 'outtime', 'starttime', 'endtime', 'window_start', \n",
    "                   'window_end', 'charttime', 'suspected_infection_time_poe']\n",
    "    \n",
    "    for col in parse_dates:\n",
    "        if col in df.columns:\n",
    "            df[col] = pd.to_datetime(df[col])\n",
    "    return df\n",
    "\n",
    "# plots values of under `key` over time\n",
    "def plot_single(dct, key, title='', xlabel='Timestep', ylabel='Value', style='.-'):\n",
    "    icustay_id = None\n",
    "    x = None\n",
    "    y = None\n",
    "    \n",
    "    icustay_ids = list(dct.keys())\n",
    "    while x is None:\n",
    "        # Pick a random ICU stay from dct\n",
    "        icustay_id = random.choice(icustay_ids)\n",
    "        \n",
    "        # Continue if no data logged for key\n",
    "        if key not in dct[icustay_id]:\n",
    "            continue\n",
    "        \n",
    "        # Continue if values are all zeros/NaNs (e.g. to mark no fluids were administered)\n",
    "        data = np.nan_to_num(dct[icustay_id][key])\n",
    "        if np.max(data) > 0:\n",
    "            x = dct[icustay_id]['timestep'][1:]\n",
    "            y = data\n",
    "                            \n",
    "    plt.figure(figsize=(8, 3))\n",
    "    plt.plot(x, y, style, label=str(icustay_id))\n",
    "    plt.title(title)\n",
    "    plt.xlabel(xlabel)\n",
    "    plt.ylabel(ylabel)\n",
    "    plt.legend()\n",
    "    plt.show()\n",
    "\n",
    "# Converts a series of deltatime objects into hours\n",
    "def to_hours(x):\n",
    "    return x.astype('timedelta64[s]').astype(int) / 3600\n",
    "\n",
    "# Converts upper- or camelcase to snake-case (lowercase with '_' separators)\n",
    "def to_snakecase(string):\n",
    "    if string.islower():\n",
    "        return string\n",
    "    elif string.isupper():\n",
    "        return string.lower()\n",
    "    else:\n",
    "        string = re.sub('(.)([A-Z][a-z]+)', r'\\1_\\2', string)\n",
    "        return re.sub('([a-z0-9])([A-Z])', r'\\1_\\2', string).lower()\n",
    "    \n",
    "print('HeartRate => %s' % to_snakecase('HeartRate'))\n",
    "print('ALBUMIN   => %s' % to_snakecase('ALBUMIN'))\n",
    "print('MeanBP    => %s' % to_snakecase('MeanBP'))"
   ]
  },
  {
   "cell_type": "markdown",
   "id": "00965527",
   "metadata": {},
   "source": [
    "---\n",
    "## Patient Cohort\n",
    "\n",
    "Using MIMIC-Code we have extracted a *sepsis-3* cohort (i.e. a list of patients satisfying the sepsis-3 criteria (Singer et al., 2016)) along with information regarding the suspected time of infection and in-hospital mortality. Let's first import these data;"
   ]
  },
  {
   "cell_type": "code",
   "execution_count": 4,
   "id": "265855f8",
   "metadata": {},
   "outputs": [
    {
     "name": "stdout",
     "output_type": "stream",
     "text": [
      "Number of admissions: 18346\n",
      "\n"
     ]
    },
    {
     "data": {
      "text/html": [
       "<div>\n",
       "<style scoped>\n",
       "    .dataframe tbody tr th:only-of-type {\n",
       "        vertical-align: middle;\n",
       "    }\n",
       "\n",
       "    .dataframe tbody tr th {\n",
       "        vertical-align: top;\n",
       "    }\n",
       "\n",
       "    .dataframe thead th {\n",
       "        text-align: right;\n",
       "    }\n",
       "</style>\n",
       "<table border=\"1\" class=\"dataframe\">\n",
       "  <thead>\n",
       "    <tr style=\"text-align: right;\">\n",
       "      <th></th>\n",
       "      <th>subject_id</th>\n",
       "      <th>hadm_id</th>\n",
       "      <th>icustay_id</th>\n",
       "      <th>intime</th>\n",
       "      <th>outtime</th>\n",
       "      <th>suspected_infection_time_poe</th>\n",
       "      <th>window_start</th>\n",
       "      <th>window_end</th>\n",
       "      <th>hospital_expire_flag</th>\n",
       "    </tr>\n",
       "  </thead>\n",
       "  <tbody>\n",
       "    <tr>\n",
       "      <th>0</th>\n",
       "      <td>55597</td>\n",
       "      <td>189080</td>\n",
       "      <td>226090</td>\n",
       "      <td>2122-04-13 22:38:32</td>\n",
       "      <td>2122-04-14 18:26:03</td>\n",
       "      <td>2122-04-13 21:35:00</td>\n",
       "      <td>2122-04-12 21:35:00</td>\n",
       "      <td>2122-04-15 21:35:00</td>\n",
       "      <td>0</td>\n",
       "    </tr>\n",
       "    <tr>\n",
       "      <th>1</th>\n",
       "      <td>6645</td>\n",
       "      <td>177907</td>\n",
       "      <td>205861</td>\n",
       "      <td>2105-07-11 21:28:35</td>\n",
       "      <td>2105-07-13 17:13:43</td>\n",
       "      <td>2105-07-11 00:00:00</td>\n",
       "      <td>2105-07-10 00:00:00</td>\n",
       "      <td>2105-07-13 00:00:00</td>\n",
       "      <td>0</td>\n",
       "    </tr>\n",
       "    <tr>\n",
       "      <th>2</th>\n",
       "      <td>30496</td>\n",
       "      <td>165002</td>\n",
       "      <td>281987</td>\n",
       "      <td>2194-06-18 14:03:07</td>\n",
       "      <td>2194-06-19 21:35:23</td>\n",
       "      <td>2194-06-18 00:00:00</td>\n",
       "      <td>2194-06-17 00:00:00</td>\n",
       "      <td>2194-06-20 00:00:00</td>\n",
       "      <td>0</td>\n",
       "    </tr>\n",
       "    <tr>\n",
       "      <th>3</th>\n",
       "      <td>92531</td>\n",
       "      <td>184997</td>\n",
       "      <td>218267</td>\n",
       "      <td>2171-07-10 15:10:29</td>\n",
       "      <td>2171-07-11 14:20:11</td>\n",
       "      <td>2171-07-10 11:40:00</td>\n",
       "      <td>2171-07-09 11:40:00</td>\n",
       "      <td>2171-07-12 11:40:00</td>\n",
       "      <td>0</td>\n",
       "    </tr>\n",
       "    <tr>\n",
       "      <th>4</th>\n",
       "      <td>28677</td>\n",
       "      <td>159991</td>\n",
       "      <td>282170</td>\n",
       "      <td>2122-12-31 09:28:43</td>\n",
       "      <td>2123-01-01 21:25:41</td>\n",
       "      <td>2122-12-31 18:25:00</td>\n",
       "      <td>2122-12-30 18:25:00</td>\n",
       "      <td>2123-01-02 18:25:00</td>\n",
       "      <td>0</td>\n",
       "    </tr>\n",
       "  </tbody>\n",
       "</table>\n",
       "</div>"
      ],
      "text/plain": [
       "   subject_id  hadm_id  icustay_id              intime             outtime  \\\n",
       "0       55597   189080      226090 2122-04-13 22:38:32 2122-04-14 18:26:03   \n",
       "1        6645   177907      205861 2105-07-11 21:28:35 2105-07-13 17:13:43   \n",
       "2       30496   165002      281987 2194-06-18 14:03:07 2194-06-19 21:35:23   \n",
       "3       92531   184997      218267 2171-07-10 15:10:29 2171-07-11 14:20:11   \n",
       "4       28677   159991      282170 2122-12-31 09:28:43 2123-01-01 21:25:41   \n",
       "\n",
       "  suspected_infection_time_poe        window_start          window_end  \\\n",
       "0          2122-04-13 21:35:00 2122-04-12 21:35:00 2122-04-15 21:35:00   \n",
       "1          2105-07-11 00:00:00 2105-07-10 00:00:00 2105-07-13 00:00:00   \n",
       "2          2194-06-18 00:00:00 2194-06-17 00:00:00 2194-06-20 00:00:00   \n",
       "3          2171-07-10 11:40:00 2171-07-09 11:40:00 2171-07-12 11:40:00   \n",
       "4          2122-12-31 18:25:00 2122-12-30 18:25:00 2123-01-02 18:25:00   \n",
       "\n",
       "   hospital_expire_flag  \n",
       "0                     0  \n",
       "1                     0  \n",
       "2                     0  \n",
       "3                     0  \n",
       "4                     0  "
      ]
     },
     "execution_count": 4,
     "metadata": {},
     "output_type": "execute_result"
    }
   ],
   "source": [
    "cohort_df = read_csv(DATA_DIR + 'cohort.csv')\n",
    "print('Number of admissions: %s\\n' % len(cohort_df))\n",
    "cohort_df.head()"
   ]
  },
  {
   "cell_type": "markdown",
   "id": "97b9a9b4-7186-4a70-ae9f-b5b83b613a05",
   "metadata": {},
   "source": [
    "**Sanity check: limit admissions to SOFA $\\geq$ 2**"
   ]
  },
  {
   "cell_type": "code",
   "execution_count": 5,
   "id": "37e9f445-6d70-4a09-a127-9fa4eaebb6ae",
   "metadata": {},
   "outputs": [],
   "source": [
    "# Remark: The original notebook uses SOFA>3, yet the paper mentions the standard SOFA>=2 as the selection criterion\n",
    "demo_df = read_csv(DATA_DIR + 'demographics_cohort.csv')\n",
    "sofa2_icustays = set([row['icustay_id'] for _, row in demo_df.iterrows() if row['sofa'] >= 2])\n",
    "\n",
    "# Filter cohort\n",
    "cohort_df = cohort_df[cohort_df['icustay_id'].isin(sofa2_icustays)]"
   ]
  },
  {
   "cell_type": "code",
   "execution_count": 6,
   "id": "70f71a6c",
   "metadata": {},
   "outputs": [
    {
     "name": "stdout",
     "output_type": "stream",
     "text": [
      "Total number of admissions: 18091\n"
     ]
    }
   ],
   "source": [
    "icustay_ids = cohort_df['icustay_id'].values\n",
    "print('Total number of admissions: %s' % icustay_ids.size) # few are dropped still"
   ]
  },
  {
   "cell_type": "markdown",
   "id": "c299a861",
   "metadata": {},
   "source": [
    "<br>\n",
    "\n",
    "**Collecting the data in `data_all`**<br>\n",
    "For convenience, we will collect features in a dictionary `data_all`, mapping from each admission (`icustay_id`) to the corresponding time series data of each feature (e.g. `heart+rate`, `sys_bp`, `total_iv_fluid`, `wbc`) or action (e.g. `max_vaso`);"
   ]
  },
  {
   "cell_type": "code",
   "execution_count": 7,
   "id": "033b1a6f",
   "metadata": {},
   "outputs": [],
   "source": [
    "# We will store our data in this\n",
    "data_all = {icustay_id:dict() for icustay_id in cohort_df['icustay_id'].values}\n",
    "\n",
    "# See? empty...\n",
    "assert data_all[255559] == {}"
   ]
  },
  {
   "cell_type": "markdown",
   "id": "ca96fe5f",
   "metadata": {},
   "source": [
    "---\n",
    "\n",
    "## 4-Hour Time Intervals\n",
    "\n",
    "For each 72-hour time window (spanning 24h prior to sepsis onset to 48h after) we will precompute all intermediate timesteps in increments of $\\Delta t=4$ hours (defined by `INTERVAL_TIME`). Each time we add our output to `data_all`;"
   ]
  },
  {
   "cell_type": "code",
   "execution_count": 8,
   "id": "b3e051c5",
   "metadata": {},
   "outputs": [],
   "source": [
    "def date_range(icustay, freq):\n",
    "    starttime = icustay['window_start']\n",
    "    endtime = icustay['window_end']\n",
    "    return pd.date_range(start=starttime, end=endtime, freq=freq).values\n",
    "    \n",
    "icustay_timesteps = {icustay['icustay_id']: date_range(icustay, freq=INTERVAL_TIME) for _, icustay in cohort_df.iterrows()}"
   ]
  },
  {
   "cell_type": "markdown",
   "id": "6eb16195",
   "metadata": {},
   "source": [
    " "
   ]
  },
  {
   "cell_type": "code",
   "execution_count": 9,
   "id": "8f1d932c",
   "metadata": {},
   "outputs": [],
   "source": [
    "for icustay_id, timesteps in icustay_timesteps.items():\n",
    "    data_all[icustay_id]['timestep'] = timesteps"
   ]
  },
  {
   "cell_type": "code",
   "execution_count": 10,
   "id": "7db13a29",
   "metadata": {},
   "outputs": [
    {
     "data": {
      "text/plain": [
       "{'timestep': array(['2150-09-15T16:12:00.000000000', '2150-09-15T20:12:00.000000000',\n",
       "        '2150-09-16T00:12:00.000000000', '2150-09-16T04:12:00.000000000',\n",
       "        '2150-09-16T08:12:00.000000000', '2150-09-16T12:12:00.000000000',\n",
       "        '2150-09-16T16:12:00.000000000', '2150-09-16T20:12:00.000000000',\n",
       "        '2150-09-17T00:12:00.000000000', '2150-09-17T04:12:00.000000000',\n",
       "        '2150-09-17T08:12:00.000000000', '2150-09-17T12:12:00.000000000',\n",
       "        '2150-09-17T16:12:00.000000000', '2150-09-17T20:12:00.000000000',\n",
       "        '2150-09-18T00:12:00.000000000', '2150-09-18T04:12:00.000000000',\n",
       "        '2150-09-18T08:12:00.000000000', '2150-09-18T12:12:00.000000000',\n",
       "        '2150-09-18T16:12:00.000000000'], dtype='datetime64[ns]')}"
      ]
     },
     "execution_count": 10,
     "metadata": {},
     "output_type": "execute_result"
    }
   ],
   "source": [
    "# Plot timesteps of random admission\n",
    "data_all[255559]"
   ]
  },
  {
   "cell_type": "markdown",
   "id": "1ecf07ce",
   "metadata": {},
   "source": [
    "---\n",
    "## Vasopressors\n",
    "\n",
    "### 1. MetaVision Records"
   ]
  },
  {
   "cell_type": "code",
   "execution_count": 11,
   "id": "d7a02578",
   "metadata": {},
   "outputs": [
    {
     "data": {
      "text/html": [
       "<div>\n",
       "<style scoped>\n",
       "    .dataframe tbody tr th:only-of-type {\n",
       "        vertical-align: middle;\n",
       "    }\n",
       "\n",
       "    .dataframe tbody tr th {\n",
       "        vertical-align: top;\n",
       "    }\n",
       "\n",
       "    .dataframe thead th {\n",
       "        text-align: right;\n",
       "    }\n",
       "</style>\n",
       "<table border=\"1\" class=\"dataframe\">\n",
       "  <thead>\n",
       "    <tr style=\"text-align: right;\">\n",
       "      <th></th>\n",
       "      <th>icustay_id</th>\n",
       "      <th>starttime</th>\n",
       "      <th>endtime</th>\n",
       "      <th>rate</th>\n",
       "      <th>rateuom</th>\n",
       "      <th>patientweight</th>\n",
       "      <th>orderid</th>\n",
       "      <th>linkorderid</th>\n",
       "      <th>vasoactive_drug</th>\n",
       "      <th>mcgkgmin</th>\n",
       "      <th>mcgmin</th>\n",
       "    </tr>\n",
       "  </thead>\n",
       "  <tbody>\n",
       "    <tr>\n",
       "      <th>0</th>\n",
       "      <td>200063</td>\n",
       "      <td>2141-03-21 11:00:00</td>\n",
       "      <td>2141-03-21 14:14:00</td>\n",
       "      <td>0.312876</td>\n",
       "      <td>mcg/kg/min</td>\n",
       "      <td>131.8</td>\n",
       "      <td>8935976</td>\n",
       "      <td>8935976</td>\n",
       "      <td>norepinephrine</td>\n",
       "      <td>0.312876</td>\n",
       "      <td>41.237116</td>\n",
       "    </tr>\n",
       "    <tr>\n",
       "      <th>1</th>\n",
       "      <td>200063</td>\n",
       "      <td>2141-03-21 14:14:00</td>\n",
       "      <td>2141-03-21 14:41:00</td>\n",
       "      <td>0.300485</td>\n",
       "      <td>mcg/kg/min</td>\n",
       "      <td>131.8</td>\n",
       "      <td>5139193</td>\n",
       "      <td>5139193</td>\n",
       "      <td>norepinephrine</td>\n",
       "      <td>0.300485</td>\n",
       "      <td>39.603961</td>\n",
       "    </tr>\n",
       "    <tr>\n",
       "      <th>2</th>\n",
       "      <td>200063</td>\n",
       "      <td>2141-03-21 14:41:00</td>\n",
       "      <td>2141-03-21 15:00:00</td>\n",
       "      <td>0.401104</td>\n",
       "      <td>mcg/kg/min</td>\n",
       "      <td>131.8</td>\n",
       "      <td>8037665</td>\n",
       "      <td>5139193</td>\n",
       "      <td>norepinephrine</td>\n",
       "      <td>0.401104</td>\n",
       "      <td>52.865445</td>\n",
       "    </tr>\n",
       "    <tr>\n",
       "      <th>3</th>\n",
       "      <td>200063</td>\n",
       "      <td>2141-03-21 15:00:00</td>\n",
       "      <td>2141-03-21 15:27:00</td>\n",
       "      <td>0.301501</td>\n",
       "      <td>mcg/kg/min</td>\n",
       "      <td>131.8</td>\n",
       "      <td>6825847</td>\n",
       "      <td>5139193</td>\n",
       "      <td>norepinephrine</td>\n",
       "      <td>0.301501</td>\n",
       "      <td>39.737781</td>\n",
       "    </tr>\n",
       "    <tr>\n",
       "      <th>4</th>\n",
       "      <td>200063</td>\n",
       "      <td>2141-03-21 15:27:00</td>\n",
       "      <td>2141-03-21 18:27:00</td>\n",
       "      <td>0.200936</td>\n",
       "      <td>mcg/kg/min</td>\n",
       "      <td>131.8</td>\n",
       "      <td>5209279</td>\n",
       "      <td>5139193</td>\n",
       "      <td>norepinephrine</td>\n",
       "      <td>0.200936</td>\n",
       "      <td>26.483338</td>\n",
       "    </tr>\n",
       "  </tbody>\n",
       "</table>\n",
       "</div>"
      ],
      "text/plain": [
       "   icustay_id           starttime             endtime      rate     rateuom  \\\n",
       "0      200063 2141-03-21 11:00:00 2141-03-21 14:14:00  0.312876  mcg/kg/min   \n",
       "1      200063 2141-03-21 14:14:00 2141-03-21 14:41:00  0.300485  mcg/kg/min   \n",
       "2      200063 2141-03-21 14:41:00 2141-03-21 15:00:00  0.401104  mcg/kg/min   \n",
       "3      200063 2141-03-21 15:00:00 2141-03-21 15:27:00  0.301501  mcg/kg/min   \n",
       "4      200063 2141-03-21 15:27:00 2141-03-21 18:27:00  0.200936  mcg/kg/min   \n",
       "\n",
       "   patientweight  orderid  linkorderid vasoactive_drug  mcgkgmin     mcgmin  \n",
       "0          131.8  8935976      8935976  norepinephrine  0.312876  41.237116  \n",
       "1          131.8  5139193      5139193  norepinephrine  0.300485  39.603961  \n",
       "2          131.8  8037665      5139193  norepinephrine  0.401104  52.865445  \n",
       "3          131.8  6825847      5139193  norepinephrine  0.301501  39.737781  \n",
       "4          131.8  5209279      5139193  norepinephrine  0.200936  26.483338  "
      ]
     },
     "execution_count": 11,
     "metadata": {},
     "output_type": "execute_result"
    }
   ],
   "source": [
    "# Load data file from MIMIC-Code\n",
    "vaso_mv_df = read_csv(DATA_DIR + 'vassopressors_mv_cohort.csv')\n",
    "vaso_mv_df.head()"
   ]
  },
  {
   "cell_type": "markdown",
   "id": "b6e07d7d-42f0-46ff-88bb-313ab1fcdd68",
   "metadata": {},
   "source": [
    "**Computing maximum vasopressor dose**<br>\n",
    "\n",
    "For each admission (i.e. ICU stay), we iterate over timesteps $t$ and determine which treatments overlap with its immediate 4 hour history (i.e. which treatments occurred between 4 hours ago and now). We then record the maximum rate of these treatments."
   ]
  },
  {
   "cell_type": "code",
   "execution_count": 12,
   "id": "42df6b93",
   "metadata": {},
   "outputs": [
    {
     "name": "stderr",
     "output_type": "stream",
     "text": [
      "100%|██████████████████████████████████████████████████████████████████████████████| 4137/4137 [01:03<00:00, 64.97it/s]\n"
     ]
    }
   ],
   "source": [
    "# Consider ICU stays one-by-one\n",
    "for icustay_id, treatments in tqdm(vaso_mv_df.groupby('icustay_id')):\n",
    "    \n",
    "    # Is patient part of cohort?\n",
    "    if icustay_id not in data_all:\n",
    "        continue\n",
    "        \n",
    "    # To store vasopressor doses into\n",
    "    timesteps = icustay_timesteps[icustay_id]\n",
    "    max_vaso = np.zeros(len(timesteps) - 1, dtype=np.float32)\n",
    "    \n",
    "    for i, interval_start in enumerate(timesteps[:-1]):\n",
    "        interval_end = timesteps[i + 1]\n",
    "        \n",
    "        # Inclusion test: treatment time overlaps with current interval.\n",
    "        # Remark: original R-code erroneously used 'treatment[endtime] <= interval_end' as first term\n",
    "        condition = (treatments['starttime'] <= interval_end) & (treatments['endtime'] > interval_start)\n",
    "        \n",
    "        # Compute max vasopressor intake in mcg/kg/min (norepinephrine-equivalent)\n",
    "        max_vaso[i] = treatments[condition]['mcgkgmin'].max()\n",
    "        max_vaso[i] = np.nan_to_num(max_vaso[i], nan=0.0)\n",
    "        \n",
    "    data_all[icustay_id]['max_vaso'] = max_vaso\n",
    "    \n",
    "del vaso_mv_df"
   ]
  },
  {
   "cell_type": "code",
   "execution_count": 13,
   "id": "84a2c96c",
   "metadata": {},
   "outputs": [
    {
     "data": {
      "image/png": "[encoded data removed]",
      "text/plain": [
       "<Figure size 576x216 with 1 Axes>"
      ]
     },
     "metadata": {
      "needs_background": "light"
     },
     "output_type": "display_data"
    }
   ],
   "source": [
    "# Plot vasopressors of random admission\n",
    "plot_single(data_all, key='max_vaso', title='Max. vasopressor dosage (%s)' % INTERVAL_TIME, ylabel='Max. vasopressor ($\\mu$g/kg/min)', style='-.')"
   ]
  },
  {
   "cell_type": "markdown",
   "id": "cf150544-7650-449d-97a8-e0048b37d0cd",
   "metadata": {},
   "source": [
    "**Sanity checks**"
   ]
  },
  {
   "cell_type": "code",
   "execution_count": 14,
   "id": "ba59c385-2f87-4ff1-b01e-b9e2edd59f40",
   "metadata": {},
   "outputs": [
    {
     "data": {
      "text/plain": [
       "4131"
      ]
     },
     "execution_count": 14,
     "metadata": {},
     "output_type": "execute_result"
    }
   ],
   "source": [
    "# How many admissions have vasopressor registered?\n",
    "sum([1 if 'max_vaso' in adm else 0 for adm in data_all.values()])"
   ]
  },
  {
   "cell_type": "code",
   "execution_count": 15,
   "id": "04e5dd42-5897-4d48-a01d-2a58ba491d8a",
   "metadata": {},
   "outputs": [
    {
     "data": {
      "text/plain": [
       "array([  0.002 ,   0.1126,   0.2251,   0.4503, 222.7312])"
      ]
     },
     "execution_count": 15,
     "metadata": {},
     "output_type": "execute_result"
    }
   ],
   "source": [
    "# Does the action space look like Roggeveen et al.?\n",
    "max_vasos = np.row_stack([x['max_vaso'] for x in data_all.values() if 'max_vaso' in x]).flatten()\n",
    "\n",
    "# Drop overrepresented zero doses\n",
    "max_vasos = max_vasos[max_vasos > 0]\n",
    "\n",
    "np.quantile(max_vasos, np.linspace(0, 1, 5)).round(4) # Approved!"
   ]
  },
  {
   "cell_type": "markdown",
   "id": "2b27b79b-502a-4071-9dbb-dd0064eb3fdc",
   "metadata": {},
   "source": [
    "### 2. CareVue Records (optional)\n",
    "\n",
    "In case `USE_CAREVUE` is enabled, we repeat the above process for the (converted) CareVue files."
   ]
  },
  {
   "cell_type": "code",
   "execution_count": 16,
   "id": "f525b161-5199-4dfa-96c4-729ff1e2ecb3",
   "metadata": {},
   "outputs": [
    {
     "name": "stderr",
     "output_type": "stream",
     "text": [
      "100%|██████████████████████████████████████████████████████████████████████████████| 3898/3898 [00:59<00:00, 65.59it/s]\n"
     ]
    }
   ],
   "source": [
    "if USE_CAREVUE:\n",
    "    # Load preprocessed CV vasopressor file\n",
    "    vaso_cv_df = read_csv(DATA_DIR + 'vassopressors_cv_cohort_v2.csv')\n",
    "    vaso_cv_df.head()\n",
    "    \n",
    "    for icustay_id, treatments in tqdm(vaso_cv_df.groupby('icustay_id')):\n",
    "\n",
    "        # Is patient part of cohort?\n",
    "        if icustay_id not in data_all:\n",
    "            continue\n",
    "            \n",
    "        # Skip if already stored in MV\n",
    "        if 'max_vaso' in data_all[icustay_id]:\n",
    "            continue\n",
    "\n",
    "        # To store vasopressor doses into\n",
    "        timesteps = icustay_timesteps[icustay_id]\n",
    "        max_vaso = np.zeros(len(timesteps) - 1, dtype=np.float32)\n",
    "\n",
    "        for i, interval_start in enumerate(timesteps[:-1]):\n",
    "            interval_end = timesteps[i + 1]\n",
    "\n",
    "            # Inclusion test: treatment time overlaps with current interval.\n",
    "            condition = (treatments['starttime'] <= interval_end) & (treatments['endtime'] > interval_start)\n",
    "\n",
    "            # Compute max vasopressor intake in mcg/kg/min (norepinephrine-equivalent)\n",
    "            max_vaso[i] = treatments[condition]['mcgkgmin'].max()\n",
    "            max_vaso[i] = np.nan_to_num(max_vaso[i], nan=0.0)\n",
    "\n",
    "        data_all[icustay_id]['max_vaso_cv'] = max_vaso  # Mark it has been logged by CV\n",
    "\n",
    "    del vaso_cv_df"
   ]
  },
  {
   "cell_type": "code",
   "execution_count": 17,
   "id": "dce82dfe-4d0e-4c43-9fa2-9a1013b16523",
   "metadata": {},
   "outputs": [
    {
     "data": {
      "image/png": "[encoded data removed]",
      "text/plain": [
       "<Figure size 576x216 with 1 Axes>"
      ]
     },
     "metadata": {
      "needs_background": "light"
     },
     "output_type": "display_data"
    }
   ],
   "source": [
    "# Plot vasopressors of random admission stored in CV\n",
    "if USE_CAREVUE:\n",
    "    plot_single(data_all, key='max_vaso_cv', title='Max. vasopressor dosage (%s)' % INTERVAL_TIME, ylabel='Max. vasopressor ($\\mu$g/kg/min)', style='-.')"
   ]
  },
  {
   "cell_type": "code",
   "execution_count": 18,
   "id": "992aa0b4-e0bd-46e9-bdfb-993aa4fb30b9",
   "metadata": {},
   "outputs": [
    {
     "name": "stdout",
     "output_type": "stream",
     "text": [
      "3875\n"
     ]
    }
   ],
   "source": [
    "# How many admissions have vasopressor registered in CV?\n",
    "if USE_CAREVUE:\n",
    "    print(sum([1 if 'max_vaso_cv' in adm else 0 for adm in data_all.values()]))"
   ]
  },
  {
   "cell_type": "code",
   "execution_count": 19,
   "id": "a1a8f40b-a1f7-4fbb-af18-6cc11ce57ce3",
   "metadata": {},
   "outputs": [
    {
     "name": "stdout",
     "output_type": "stream",
     "text": [
      "[ 0.0003  0.07    0.2     0.45   60.    ]\n"
     ]
    }
   ],
   "source": [
    "# Does the action space look like Roggeveen et al.?\n",
    "if USE_CAREVUE:\n",
    "    max_vasos = np.row_stack([x['max_vaso_cv'] for x in data_all.values() if 'max_vaso_cv' in x]).flatten()\n",
    "    max_vasos = max_vasos[max_vasos > 0]  # Drop zeros\n",
    "    print(np.quantile(max_vasos, np.linspace(0, 1, 5)).round(4))  #"
   ]
  },
  {
   "cell_type": "markdown",
   "id": "f4c7fd80-5ae9-4dc8-9439-bd57bee76020",
   "metadata": {},
   "source": [
    "**Merge with MV**"
   ]
  },
  {
   "cell_type": "code",
   "execution_count": 20,
   "id": "8ae46860-c9c3-45eb-8361-39ee41665b82",
   "metadata": {},
   "outputs": [
    {
     "name": "stdout",
     "output_type": "stream",
     "text": [
      "Done!\n"
     ]
    }
   ],
   "source": [
    "# Merge CV records with max_vaso logged under MV\n",
    "if USE_CAREVUE:\n",
    "    for icustay_id in data_all.keys():\n",
    "        if 'max_vaso_cv' in data_all[icustay_id]:\n",
    "            data_all[icustay_id]['max_vaso'] = data_all[icustay_id].pop('max_vaso_cv')\n",
    "print('Done!')"
   ]
  },
  {
   "cell_type": "markdown",
   "id": "8edc95a1",
   "metadata": {},
   "source": [
    "---\n",
    "## IV Fluids\n",
    "\n",
    "### 1. MetaVision Records"
   ]
  },
  {
   "cell_type": "code",
   "execution_count": 21,
   "id": "fa96d597",
   "metadata": {},
   "outputs": [
    {
     "data": {
      "text/html": [
       "<div>\n",
       "<style scoped>\n",
       "    .dataframe tbody tr th:only-of-type {\n",
       "        vertical-align: middle;\n",
       "    }\n",
       "\n",
       "    .dataframe tbody tr th {\n",
       "        vertical-align: top;\n",
       "    }\n",
       "\n",
       "    .dataframe thead th {\n",
       "        text-align: right;\n",
       "    }\n",
       "</style>\n",
       "<table border=\"1\" class=\"dataframe\">\n",
       "  <thead>\n",
       "    <tr style=\"text-align: right;\">\n",
       "      <th></th>\n",
       "      <th>subject_id</th>\n",
       "      <th>hadm_id</th>\n",
       "      <th>icustay_id</th>\n",
       "      <th>starttime</th>\n",
       "      <th>endtime</th>\n",
       "      <th>amount</th>\n",
       "      <th>duration</th>\n",
       "    </tr>\n",
       "  </thead>\n",
       "  <tbody>\n",
       "    <tr>\n",
       "      <th>2</th>\n",
       "      <td>23</td>\n",
       "      <td>124321</td>\n",
       "      <td>234044.0</td>\n",
       "      <td>2157-10-21 15:00:00</td>\n",
       "      <td>2157-10-21 15:01:00</td>\n",
       "      <td>200.000000</td>\n",
       "      <td>0.016667</td>\n",
       "    </tr>\n",
       "    <tr>\n",
       "      <th>4</th>\n",
       "      <td>23</td>\n",
       "      <td>124321</td>\n",
       "      <td>234044.0</td>\n",
       "      <td>2157-10-21 12:15:00</td>\n",
       "      <td>2157-10-21 13:22:00</td>\n",
       "      <td>13.432238</td>\n",
       "      <td>1.116667</td>\n",
       "    </tr>\n",
       "    <tr>\n",
       "      <th>7</th>\n",
       "      <td>23</td>\n",
       "      <td>124321</td>\n",
       "      <td>234044.0</td>\n",
       "      <td>2157-10-21 17:08:00</td>\n",
       "      <td>2157-10-21 18:08:00</td>\n",
       "      <td>49.999999</td>\n",
       "      <td>1.000000</td>\n",
       "    </tr>\n",
       "    <tr>\n",
       "      <th>10</th>\n",
       "      <td>23</td>\n",
       "      <td>124321</td>\n",
       "      <td>234044.0</td>\n",
       "      <td>2157-10-22 08:00:00</td>\n",
       "      <td>2157-10-22 08:01:00</td>\n",
       "      <td>200.000000</td>\n",
       "      <td>0.016667</td>\n",
       "    </tr>\n",
       "    <tr>\n",
       "      <th>14</th>\n",
       "      <td>23</td>\n",
       "      <td>124321</td>\n",
       "      <td>234044.0</td>\n",
       "      <td>2157-10-22 09:24:00</td>\n",
       "      <td>2157-10-22 09:48:00</td>\n",
       "      <td>1.602968</td>\n",
       "      <td>0.400000</td>\n",
       "    </tr>\n",
       "  </tbody>\n",
       "</table>\n",
       "</div>"
      ],
      "text/plain": [
       "    subject_id  hadm_id  icustay_id           starttime             endtime  \\\n",
       "2           23   124321    234044.0 2157-10-21 15:00:00 2157-10-21 15:01:00   \n",
       "4           23   124321    234044.0 2157-10-21 12:15:00 2157-10-21 13:22:00   \n",
       "7           23   124321    234044.0 2157-10-21 17:08:00 2157-10-21 18:08:00   \n",
       "10          23   124321    234044.0 2157-10-22 08:00:00 2157-10-22 08:01:00   \n",
       "14          23   124321    234044.0 2157-10-22 09:24:00 2157-10-22 09:48:00   \n",
       "\n",
       "        amount  duration  \n",
       "2   200.000000  0.016667  \n",
       "4    13.432238  1.116667  \n",
       "7    49.999999  1.000000  \n",
       "10  200.000000  0.016667  \n",
       "14    1.602968  0.400000  "
      ]
     },
     "execution_count": 21,
     "metadata": {},
     "output_type": "execute_result"
    }
   ],
   "source": [
    "ivfluid_mv_df = read_csv(DATA_DIR + 'inputevents_mv_cohort.csv')\n",
    "\n",
    "# Drop 14-Oral/Gastric Intake (i.e. having a glass of water)\n",
    "condition = (ivfluid_mv_df['ordercategoryname'] != '14-Oral/Gastric Intake') & (ivfluid_mv_df['amountuom'] == 'ml')\n",
    "ivfluid_mv_df = ivfluid_mv_df[condition]\n",
    "\n",
    "# Sanity check: remove amounts outside (0, 5000) range\n",
    "ivfluid_mv_df = ivfluid_mv_df[(ivfluid_mv_df['amount'] > 0) & (ivfluid_mv_df['amount'] < 5000)]\n",
    "\n",
    "# Compute duration in hours\n",
    "# Remark: original erroneously measured time in a mix of hours and minutes (due to unit='auto')\n",
    "ivfluid_mv_df['duration'] = to_hours(ivfluid_mv_df['endtime'] - ivfluid_mv_df['starttime'])\n",
    "\n",
    "# Drop unused columns\n",
    "ivfluid_mv_df = ivfluid_mv_df[['subject_id', 'hadm_id', 'icustay_id', 'starttime', 'endtime', 'amount', 'duration']]\n",
    "ivfluid_mv_df.head()"
   ]
  },
  {
   "cell_type": "markdown",
   "id": "879bea88",
   "metadata": {},
   "source": [
    "**Computing total intake of IV fluids**<br>\n",
    "In order to determine the total amount of IV fluid administered within a 4 hour interval, we need to calculate how long a treatment was administered for during an interval; multiplied by the rate (i.e. `amount / duration`) we can infer the total amount administered by each treatment during the current interval. For this we use the `total_admin_in_interval` function below:"
   ]
  },
  {
   "cell_type": "code",
   "execution_count": 22,
   "id": "50b2e875",
   "metadata": {},
   "outputs": [],
   "source": [
    "# Computes how much of each dose was administered between interval_start and interval_end\n",
    "def total_admin_in_interval(interval_start, interval_end, treatments):\n",
    "    dose_start = treatments['starttime']\n",
    "    dose_end = treatments['endtime']\n",
    "    amount = treatments['amount']\n",
    "    duration = treatments['duration']\n",
    "    rate = amount / duration # in ml/hour!   \n",
    "    \n",
    "    total_ml = 0\n",
    "    \n",
    "    # Option 1: Dose started before interval and ended after interval\n",
    "    c1 = (dose_start < interval_start) & (dose_end > interval_end)\n",
    "    if c1.any():\n",
    "        total_ml += (to_hours(interval_end - interval_start) * rate[c1]).sum()\n",
    "    \n",
    "    # Option 2: Dose started before and ended within interval\n",
    "    c2 = (dose_start < interval_start) & (dose_end > interval_start) & (dose_end <= interval_end)\n",
    "    if c2.any():\n",
    "        total_ml += (to_hours(dose_end - interval_start) * rate[c2]).sum()\n",
    "\n",
    "    # Option 3: Dose started and ended in interval\n",
    "    c3 = (dose_start >= interval_start) & (dose_start < interval_end) & (dose_end <= interval_end) & (dose_end > interval_start)\n",
    "    if c3.any():\n",
    "        total_ml += amount[c3].sum()\n",
    "    \n",
    "    # Option 4: dose started in interval and ended after interval\n",
    "    # Remark: Extra division by duration in original notebook\n",
    "    # Remark: In original notebook, > in first term causes treatments to be skipped starting exactly at interval start\n",
    "    c4 = (dose_start >= interval_start) & (dose_start < interval_end) & (dose_end > interval_end)\n",
    "    if c4.any():\n",
    "        total_ml += (to_hours(interval_end - dose_start) * rate[c4]).sum()\n",
    "            \n",
    "    return total_ml"
   ]
  },
  {
   "cell_type": "markdown",
   "id": "01ef1eb3",
   "metadata": {},
   "source": [
    "We can now use `total_admin_in_interval()` on each interval `(interval_start, interval_end)` and treatment in `ivfluid_mv_df` to compute the total IV fluid administration:"
   ]
  },
  {
   "cell_type": "code",
   "execution_count": 23,
   "id": "0d5be83f",
   "metadata": {},
   "outputs": [
    {
     "name": "stderr",
     "output_type": "stream",
     "text": [
      "Grab some coffee: 100%|██████████████████████████████████████████████████████████| 13593/13593 [08:23<00:00, 27.02it/s]\n"
     ]
    }
   ],
   "source": [
    "for icustay_id, treatments in tqdm(ivfluid_mv_df.groupby('icustay_id'), desc='Grab some coffee'):\n",
    "    \n",
    "    # Is icustay part of cohort?\n",
    "    if icustay_id not in data_all:\n",
    "        continue\n",
    "    \n",
    "    # Store fluid intake in vector\n",
    "    timesteps = icustay_timesteps[icustay_id]\n",
    "    total_ivfluid = np.zeros(len(timesteps) - 1, dtype=np.float32)\n",
    "    \n",
    "    # Compute total IV fluid within each interval\n",
    "    for i, interval_start in enumerate(timesteps[:-1]):\n",
    "        interval_end = timesteps[i + 1]\n",
    "        total_ivfluid[i] = total_admin_in_interval(interval_start, interval_end, treatments)\n",
    "        \n",
    "    # Save!\n",
    "    data_all[icustay_id]['total_iv_fluid'] = total_ivfluid\n",
    "    \n",
    "del ivfluid_mv_df"
   ]
  },
  {
   "cell_type": "code",
   "execution_count": 24,
   "id": "8342541b",
   "metadata": {},
   "outputs": [
    {
     "data": {
      "image/png": "[encoded data removed]",
      "text/plain": [
       "<Figure size 576x216 with 1 Axes>"
      ]
     },
     "metadata": {
      "needs_background": "light"
     },
     "output_type": "display_data"
    }
   ],
   "source": [
    "# Show IV fluids from random admission\n",
    "plot_single(data_all, key='total_iv_fluid', title='Total IV Fluids (%s)' % INTERVAL_TIME, ylabel='Total IV fluid (ml)', style='-.')"
   ]
  },
  {
   "cell_type": "markdown",
   "id": "162f9cce-958b-4d2e-b779-7722e4cf5517",
   "metadata": {},
   "source": [
    "**Sanity checks**"
   ]
  },
  {
   "cell_type": "code",
   "execution_count": 25,
   "id": "59d3b106-9c2b-41af-b169-73e45e7ec10f",
   "metadata": {},
   "outputs": [
    {
     "data": {
      "text/plain": [
       "9203"
      ]
     },
     "execution_count": 25,
     "metadata": {},
     "output_type": "execute_result"
    }
   ],
   "source": [
    "# How many admissions have IV fluids registered?\n",
    "sum([1 if 'total_iv_fluid' in adm else 0 for adm in data_all.values()])"
   ]
  },
  {
   "cell_type": "code",
   "execution_count": 26,
   "id": "380ba912-e362-41e1-abb0-aa11fc1398d4",
   "metadata": {},
   "outputs": [
    {
     "data": {
      "text/plain": [
       "array([    0.043,   162.527,   500.   ,  1075.   , 25332.742])"
      ]
     },
     "execution_count": 26,
     "metadata": {},
     "output_type": "execute_result"
    }
   ],
   "source": [
    "# Does the action space look like Roggeveen et al.?\n",
    "iv_fluids = np.column_stack([x['total_iv_fluid'] for x in data_all.values() if 'total_iv_fluid' in x]).flatten()\n",
    "iv_fluids = iv_fluids[iv_fluids > 0]\n",
    "np.nanquantile(iv_fluids, np.linspace(0, 1, 5)).round(3) # Different"
   ]
  },
  {
   "cell_type": "markdown",
   "id": "7663653b-6057-430e-b9db-cfc0482e96ad",
   "metadata": {},
   "source": [
    "### 2. CareVue Records (optional)\n",
    "In case `USE_CAREVUE` is enabled, we repeat the above process for the (converted) CareVue files."
   ]
  },
  {
   "cell_type": "code",
   "execution_count": 27,
   "id": "f3ea6cb1-d95b-4394-972f-8f998e945e04",
   "metadata": {},
   "outputs": [
    {
     "name": "stderr",
     "output_type": "stream",
     "text": [
      "Grab another coffee: 100%|█████████████████████████████████████████████████████████| 8919/8919 [09:19<00:00, 15.94it/s]\n"
     ]
    }
   ],
   "source": [
    "if USE_CAREVUE:\n",
    "    ivfluid_cv_df = read_csv(DATA_DIR + 'inputevents_cv_cohort_v2.csv')\n",
    "\n",
    "    # Sanity check: remove amounts outside (0, 5000) range\n",
    "    # Note: OrderCategoryName -> 'Oral/Gastric' and unit = 'ml' already taken care of ;)\n",
    "    ivfluid_cv_df = ivfluid_cv_df[(ivfluid_cv_df['amount'] > 0) & (ivfluid_cv_df['amount'] < 5000)]\n",
    "\n",
    "    # Compute duration of IV administration\n",
    "    ivfluid_cv_df['duration'] = to_hours(ivfluid_cv_df['endtime'] - ivfluid_cv_df['starttime'])\n",
    "    ivfluid_cv_df.head()\n",
    "    \n",
    "    # Resample IV fluids\n",
    "    for icustay_id, treatments in tqdm(ivfluid_cv_df.groupby('icustay_id'), desc='Grab another coffee'):\n",
    "    \n",
    "        if icustay_id not in data_all:\n",
    "            continue\n",
    "            \n",
    "        # Skip if already stored in MV\n",
    "        if 'total_iv_fluid' in data_all[icustay_id]:\n",
    "            continue\n",
    "\n",
    "        # Store fluid intake in vector\n",
    "        timesteps = icustay_timesteps[icustay_id]\n",
    "        total_ivfluid = np.zeros(len(timesteps) - 1, dtype=np.float32)\n",
    "\n",
    "        # Compute total IV fluid within each interval\n",
    "        for i, interval_start in enumerate(timesteps[:-1]):\n",
    "            interval_end = timesteps[i + 1]\n",
    "            total_ivfluid[i] = total_admin_in_interval(interval_start, interval_end, treatments)\n",
    "\n",
    "        # Save!\n",
    "        data_all[icustay_id]['total_iv_fluid_cv'] = total_ivfluid  # Mark data came from CareVue\n",
    "\n",
    "    del ivfluid_cv_df"
   ]
  },
  {
   "cell_type": "code",
   "execution_count": 28,
   "id": "2e64b72a-7676-4251-88a7-ad65ce644714",
   "metadata": {},
   "outputs": [
    {
     "data": {
      "image/png": "[encoded data removed]",
      "text/plain": [
       "<Figure size 576x216 with 1 Axes>"
      ]
     },
     "metadata": {
      "needs_background": "light"
     },
     "output_type": "display_data"
    }
   ],
   "source": [
    "# Show IV fluids from random admission stored in CV\n",
    "plot_single(data_all, key='total_iv_fluid_cv', title='Total IV Fluids (%s)' % INTERVAL_TIME, ylabel='Total IV fluid (ml)', style='-.')"
   ]
  },
  {
   "cell_type": "code",
   "execution_count": 29,
   "id": "36acd456-cd89-40c0-90d3-94b433060348",
   "metadata": {},
   "outputs": [
    {
     "data": {
      "text/plain": [
       "8768"
      ]
     },
     "execution_count": 29,
     "metadata": {},
     "output_type": "execute_result"
    }
   ],
   "source": [
    "# How many admissions have IV fluids registered?\n",
    "sum([1 if 'total_iv_fluid_cv' in adm else 0 for adm in data_all.values()])"
   ]
  },
  {
   "cell_type": "markdown",
   "id": "219d46a9-7adb-4818-a111-aae39d9572a2",
   "metadata": {},
   "source": [
    "**Merge with MV**"
   ]
  },
  {
   "cell_type": "code",
   "execution_count": 30,
   "id": "caca4ed8-8b91-4f29-bdd0-13860739d5bb",
   "metadata": {},
   "outputs": [
    {
     "name": "stdout",
     "output_type": "stream",
     "text": [
      "Done!\n"
     ]
    }
   ],
   "source": [
    "# Merge with total_iv_fluid logged by MV\n",
    "if USE_CAREVUE:\n",
    "    for icustay_id in data_all.keys():\n",
    "        if 'total_iv_fluid_cv' in data_all[icustay_id]:\n",
    "            data_all[icustay_id]['total_iv_fluid'] = data_all[icustay_id].pop('total_iv_fluid_cv')\n",
    "print('Done!')"
   ]
  },
  {
   "cell_type": "markdown",
   "id": "0358279d-f45e-4e1b-9f1d-ec07752a8fe7",
   "metadata": {},
   "source": [
    "### IV Fluid Running Total \n",
    "\n",
    "In Roggeveen et al. an additional feature is incorporated which measures the total IV fluid administered up to the current timestep. We implement this here using `np.cumsum` over the previously computed IV fluid balances;"
   ]
  },
  {
   "cell_type": "code",
   "execution_count": 31,
   "id": "45caa603-4b2b-45a7-9e82-03f7a261a1b7",
   "metadata": {},
   "outputs": [],
   "source": [
    "for icustay_id, icustay_data in data_all.items():\n",
    "    if 'total_iv_fluid' in icustay_data.keys():\n",
    "        data_all[icustay_id]['running_total_iv_fluid'] = np.cumsum(np.nan_to_num(icustay_data['total_iv_fluid'], nan=0.0))"
   ]
  },
  {
   "cell_type": "code",
   "execution_count": 32,
   "id": "93201d0f-c072-4ffa-b5b5-671e1fdf1211",
   "metadata": {},
   "outputs": [
    {
     "data": {
      "image/png": "[encoded data removed]",
      "text/plain": [
       "<Figure size 576x216 with 1 Axes>"
      ]
     },
     "metadata": {
      "needs_background": "light"
     },
     "output_type": "display_data"
    }
   ],
   "source": [
    "# Grab IV fluids from random patient\n",
    "plot_single(data_all, key='running_total_iv_fluid', title='Total IV Fluids (cumulative - %s)' % INTERVAL_TIME, ylabel='Total IV fluid (ml)', style='-')"
   ]
  },
  {
   "cell_type": "markdown",
   "id": "e68ee18e",
   "metadata": {},
   "source": [
    "---\n",
    "## Vital functions"
   ]
  },
  {
   "cell_type": "code",
   "execution_count": 33,
   "id": "8a531810",
   "metadata": {},
   "outputs": [
    {
     "data": {
      "text/html": [
       "<div>\n",
       "<style scoped>\n",
       "    .dataframe tbody tr th:only-of-type {\n",
       "        vertical-align: middle;\n",
       "    }\n",
       "\n",
       "    .dataframe tbody tr th {\n",
       "        vertical-align: top;\n",
       "    }\n",
       "\n",
       "    .dataframe thead th {\n",
       "        text-align: right;\n",
       "    }\n",
       "</style>\n",
       "<table border=\"1\" class=\"dataframe\">\n",
       "  <thead>\n",
       "    <tr style=\"text-align: right;\">\n",
       "      <th></th>\n",
       "      <th>subject_id</th>\n",
       "      <th>hadm_id</th>\n",
       "      <th>icustay_id</th>\n",
       "      <th>window_start</th>\n",
       "      <th>window_end</th>\n",
       "      <th>intime</th>\n",
       "      <th>outtime</th>\n",
       "      <th>charttime</th>\n",
       "      <th>vital_id</th>\n",
       "      <th>valuenum</th>\n",
       "    </tr>\n",
       "  </thead>\n",
       "  <tbody>\n",
       "    <tr>\n",
       "      <th>0</th>\n",
       "      <td>4</td>\n",
       "      <td>185777</td>\n",
       "      <td>294638</td>\n",
       "      <td>2191-03-15</td>\n",
       "      <td>2191-03-18</td>\n",
       "      <td>2191-03-16 00:29:31</td>\n",
       "      <td>2191-03-17 16:46:31</td>\n",
       "      <td>2191-03-16 01:30:00</td>\n",
       "      <td>HeartRate</td>\n",
       "      <td>111.000000</td>\n",
       "    </tr>\n",
       "    <tr>\n",
       "      <th>1</th>\n",
       "      <td>4</td>\n",
       "      <td>185777</td>\n",
       "      <td>294638</td>\n",
       "      <td>2191-03-15</td>\n",
       "      <td>2191-03-18</td>\n",
       "      <td>2191-03-16 00:29:31</td>\n",
       "      <td>2191-03-17 16:46:31</td>\n",
       "      <td>2191-03-16 01:30:00</td>\n",
       "      <td>SpO2</td>\n",
       "      <td>98.000000</td>\n",
       "    </tr>\n",
       "    <tr>\n",
       "      <th>2</th>\n",
       "      <td>4</td>\n",
       "      <td>185777</td>\n",
       "      <td>294638</td>\n",
       "      <td>2191-03-15</td>\n",
       "      <td>2191-03-18</td>\n",
       "      <td>2191-03-16 00:29:31</td>\n",
       "      <td>2191-03-17 16:46:31</td>\n",
       "      <td>2191-03-16 01:30:00</td>\n",
       "      <td>TempC</td>\n",
       "      <td>37.444445</td>\n",
       "    </tr>\n",
       "    <tr>\n",
       "      <th>3</th>\n",
       "      <td>4</td>\n",
       "      <td>185777</td>\n",
       "      <td>294638</td>\n",
       "      <td>2191-03-15</td>\n",
       "      <td>2191-03-18</td>\n",
       "      <td>2191-03-16 00:29:31</td>\n",
       "      <td>2191-03-17 16:46:31</td>\n",
       "      <td>2191-03-16 02:00:00</td>\n",
       "      <td>DiasBP</td>\n",
       "      <td>63.000000</td>\n",
       "    </tr>\n",
       "    <tr>\n",
       "      <th>4</th>\n",
       "      <td>4</td>\n",
       "      <td>185777</td>\n",
       "      <td>294638</td>\n",
       "      <td>2191-03-15</td>\n",
       "      <td>2191-03-18</td>\n",
       "      <td>2191-03-16 00:29:31</td>\n",
       "      <td>2191-03-17 16:46:31</td>\n",
       "      <td>2191-03-16 02:00:00</td>\n",
       "      <td>HeartRate</td>\n",
       "      <td>100.000000</td>\n",
       "    </tr>\n",
       "  </tbody>\n",
       "</table>\n",
       "</div>"
      ],
      "text/plain": [
       "   subject_id  hadm_id  icustay_id window_start window_end  \\\n",
       "0           4   185777      294638   2191-03-15 2191-03-18   \n",
       "1           4   185777      294638   2191-03-15 2191-03-18   \n",
       "2           4   185777      294638   2191-03-15 2191-03-18   \n",
       "3           4   185777      294638   2191-03-15 2191-03-18   \n",
       "4           4   185777      294638   2191-03-15 2191-03-18   \n",
       "\n",
       "               intime             outtime           charttime   vital_id  \\\n",
       "0 2191-03-16 00:29:31 2191-03-17 16:46:31 2191-03-16 01:30:00  HeartRate   \n",
       "1 2191-03-16 00:29:31 2191-03-17 16:46:31 2191-03-16 01:30:00       SpO2   \n",
       "2 2191-03-16 00:29:31 2191-03-17 16:46:31 2191-03-16 01:30:00      TempC   \n",
       "3 2191-03-16 00:29:31 2191-03-17 16:46:31 2191-03-16 02:00:00     DiasBP   \n",
       "4 2191-03-16 00:29:31 2191-03-17 16:46:31 2191-03-16 02:00:00  HeartRate   \n",
       "\n",
       "     valuenum  \n",
       "0  111.000000  \n",
       "1   98.000000  \n",
       "2   37.444445  \n",
       "3   63.000000  \n",
       "4  100.000000  "
      ]
     },
     "execution_count": 33,
     "metadata": {},
     "output_type": "execute_result"
    }
   ],
   "source": [
    "vitals_df = read_csv(DATA_DIR + 'vitals_cohort.csv')\n",
    "vitals_df.head()"
   ]
  },
  {
   "cell_type": "code",
   "execution_count": 34,
   "id": "9b0fdbfb",
   "metadata": {},
   "outputs": [
    {
     "name": "stdout",
     "output_type": "stream",
     "text": [
      "['HeartRate', 'SpO2', 'TempC', 'DiasBP', 'MeanBP', 'SysBP', 'Glucose', 'RespRate']\n"
     ]
    }
   ],
   "source": [
    "# List vitals recorded\n",
    "ALL_VITALS = list(vitals_df['vital_id'].unique())\n",
    "print(ALL_VITALS)"
   ]
  },
  {
   "cell_type": "code",
   "execution_count": 35,
   "id": "b53a3b70",
   "metadata": {},
   "outputs": [
    {
     "name": "stderr",
     "output_type": "stream",
     "text": [
      "100%|████████████████████████████████████████████████████████████████████████████| 15606/15606 [06:37<00:00, 39.23it/s]\n"
     ]
    }
   ],
   "source": [
    "for icustay_id, measurements in tqdm(vitals_df.groupby('icustay_id')):\n",
    "    \n",
    "    # Is icustay part of cohort?\n",
    "    if icustay_id not in icustay_timesteps:\n",
    "        continue\n",
    "        \n",
    "    # Add keys for each vital_id to data_all with empty measurements vector\n",
    "    timesteps = icustay_timesteps[icustay_id]\n",
    "    for vital_id in ALL_VITALS:\n",
    "        data_all[icustay_id][to_snakecase(vital_id)] = np.full(len(timesteps) - 1, np.nan)\n",
    "            \n",
    "    for i, interval_start in enumerate(timesteps[:-1]):\n",
    "        interval_end = timesteps[i + 1]\n",
    "        \n",
    "        # Inclusion test: charttime in (interval_start, interval_end)\n",
    "        condition = (measurements['charttime'] > interval_start) & (measurements['charttime'] <= interval_end)  \n",
    "        \n",
    "        # Compute average value of each vital_id\n",
    "        vital_means = measurements[condition].groupby('vital_id')['valuenum'].mean()\n",
    "        \n",
    "        for vital_id, value in vital_means.items():\n",
    "            data_all[icustay_id][to_snakecase(vital_id)][i] = value\n",
    "            \n",
    "del vitals_df"
   ]
  },
  {
   "cell_type": "code",
   "execution_count": 36,
   "id": "7f2af786",
   "metadata": {},
   "outputs": [
    {
     "data": {
      "image/png": "[encoded data removed]",
      "text/plain": [
       "<Figure size 576x216 with 1 Axes>"
      ]
     },
     "metadata": {
      "needs_background": "light"
     },
     "output_type": "display_data"
    }
   ],
   "source": [
    "# Show SysBP from random patient\n",
    "plot_single(data_all, key='sys_bp', title='Systolic Blood Pressure (%s)' % INTERVAL_TIME, ylabel='Pressure (mmHg)')"
   ]
  },
  {
   "cell_type": "markdown",
   "id": "430a94af",
   "metadata": {},
   "source": [
    "---\n",
    "## Lab Results"
   ]
  },
  {
   "cell_type": "code",
   "execution_count": 37,
   "id": "281d57c2",
   "metadata": {},
   "outputs": [
    {
     "data": {
      "text/html": [
       "<div>\n",
       "<style scoped>\n",
       "    .dataframe tbody tr th:only-of-type {\n",
       "        vertical-align: middle;\n",
       "    }\n",
       "\n",
       "    .dataframe tbody tr th {\n",
       "        vertical-align: top;\n",
       "    }\n",
       "\n",
       "    .dataframe thead th {\n",
       "        text-align: right;\n",
       "    }\n",
       "</style>\n",
       "<table border=\"1\" class=\"dataframe\">\n",
       "  <thead>\n",
       "    <tr style=\"text-align: right;\">\n",
       "      <th></th>\n",
       "      <th>subject_id</th>\n",
       "      <th>hadm_id</th>\n",
       "      <th>icustay_id</th>\n",
       "      <th>window_start</th>\n",
       "      <th>window_end</th>\n",
       "      <th>intime</th>\n",
       "      <th>outtime</th>\n",
       "      <th>charttime</th>\n",
       "      <th>lab_id</th>\n",
       "      <th>valuenum</th>\n",
       "    </tr>\n",
       "  </thead>\n",
       "  <tbody>\n",
       "    <tr>\n",
       "      <th>0</th>\n",
       "      <td>4</td>\n",
       "      <td>185777</td>\n",
       "      <td>294638</td>\n",
       "      <td>2191-03-15</td>\n",
       "      <td>2191-03-18</td>\n",
       "      <td>2191-03-16 00:29:31</td>\n",
       "      <td>2191-03-17 16:46:31</td>\n",
       "      <td>2191-03-15 14:12:00</td>\n",
       "      <td>ALAT</td>\n",
       "      <td>28.0</td>\n",
       "    </tr>\n",
       "    <tr>\n",
       "      <th>1</th>\n",
       "      <td>4</td>\n",
       "      <td>185777</td>\n",
       "      <td>294638</td>\n",
       "      <td>2191-03-15</td>\n",
       "      <td>2191-03-18</td>\n",
       "      <td>2191-03-16 00:29:31</td>\n",
       "      <td>2191-03-17 16:46:31</td>\n",
       "      <td>2191-03-15 14:12:00</td>\n",
       "      <td>ANION GAP</td>\n",
       "      <td>17.0</td>\n",
       "    </tr>\n",
       "    <tr>\n",
       "      <th>2</th>\n",
       "      <td>4</td>\n",
       "      <td>185777</td>\n",
       "      <td>294638</td>\n",
       "      <td>2191-03-15</td>\n",
       "      <td>2191-03-18</td>\n",
       "      <td>2191-03-16 00:29:31</td>\n",
       "      <td>2191-03-17 16:46:31</td>\n",
       "      <td>2191-03-15 14:12:00</td>\n",
       "      <td>ASAT</td>\n",
       "      <td>69.0</td>\n",
       "    </tr>\n",
       "    <tr>\n",
       "      <th>3</th>\n",
       "      <td>4</td>\n",
       "      <td>185777</td>\n",
       "      <td>294638</td>\n",
       "      <td>2191-03-15</td>\n",
       "      <td>2191-03-18</td>\n",
       "      <td>2191-03-16 00:29:31</td>\n",
       "      <td>2191-03-17 16:46:31</td>\n",
       "      <td>2191-03-15 14:12:00</td>\n",
       "      <td>BICARBONATE</td>\n",
       "      <td>24.0</td>\n",
       "    </tr>\n",
       "    <tr>\n",
       "      <th>4</th>\n",
       "      <td>4</td>\n",
       "      <td>185777</td>\n",
       "      <td>294638</td>\n",
       "      <td>2191-03-15</td>\n",
       "      <td>2191-03-18</td>\n",
       "      <td>2191-03-16 00:29:31</td>\n",
       "      <td>2191-03-17 16:46:31</td>\n",
       "      <td>2191-03-15 14:12:00</td>\n",
       "      <td>BILIRUBIN</td>\n",
       "      <td>2.2</td>\n",
       "    </tr>\n",
       "  </tbody>\n",
       "</table>\n",
       "</div>"
      ],
      "text/plain": [
       "   subject_id  hadm_id  icustay_id window_start window_end  \\\n",
       "0           4   185777      294638   2191-03-15 2191-03-18   \n",
       "1           4   185777      294638   2191-03-15 2191-03-18   \n",
       "2           4   185777      294638   2191-03-15 2191-03-18   \n",
       "3           4   185777      294638   2191-03-15 2191-03-18   \n",
       "4           4   185777      294638   2191-03-15 2191-03-18   \n",
       "\n",
       "               intime             outtime           charttime       lab_id  \\\n",
       "0 2191-03-16 00:29:31 2191-03-17 16:46:31 2191-03-15 14:12:00         ALAT   \n",
       "1 2191-03-16 00:29:31 2191-03-17 16:46:31 2191-03-15 14:12:00    ANION GAP   \n",
       "2 2191-03-16 00:29:31 2191-03-17 16:46:31 2191-03-15 14:12:00         ASAT   \n",
       "3 2191-03-16 00:29:31 2191-03-17 16:46:31 2191-03-15 14:12:00  BICARBONATE   \n",
       "4 2191-03-16 00:29:31 2191-03-17 16:46:31 2191-03-15 14:12:00    BILIRUBIN   \n",
       "\n",
       "   valuenum  \n",
       "0      28.0  \n",
       "1      17.0  \n",
       "2      69.0  \n",
       "3      24.0  \n",
       "4       2.2  "
      ]
     },
     "execution_count": 37,
     "metadata": {},
     "output_type": "execute_result"
    }
   ],
   "source": [
    "lab_df = read_csv(DATA_DIR + 'labs_cohort.csv')\n",
    "\n",
    "# Drop rows with NaNs\n",
    "lab_df = lab_df.dropna(axis=0)\n",
    "\n",
    "lab_df.head()"
   ]
  },
  {
   "cell_type": "code",
   "execution_count": 38,
   "id": "cb46b8b6",
   "metadata": {},
   "outputs": [
    {
     "name": "stdout",
     "output_type": "stream",
     "text": [
      "['ALAT', 'ANION GAP', 'ASAT', 'BICARBONATE', 'BILIRUBIN', 'BUN', 'CALCIUM', 'CHLORIDE', 'CREATININE', 'GLUCOSE', 'HEMOGLOBIN', 'MAGNESIUM', 'PLATELET', 'POTASSIUM', 'SODIUM', 'WBC', 'PT', 'PTT', 'BaseExcess', 'LACTATE', 'PACO2', 'PAO2', 'PH', 'ALBUMIN', 'BANDS', 'ION_CALCIUM']\n"
     ]
    }
   ],
   "source": [
    "# List hormones / fluids measured\n",
    "ALL_LAB_IDS = list(lab_df['lab_id'].unique())\n",
    "print(ALL_LAB_IDS) "
   ]
  },
  {
   "cell_type": "code",
   "execution_count": 39,
   "id": "fa057eb0",
   "metadata": {},
   "outputs": [
    {
     "name": "stderr",
     "output_type": "stream",
     "text": [
      "100%|████████████████████████████████████████████████████████████████████████████| 17106/17106 [06:55<00:00, 41.19it/s]\n"
     ]
    }
   ],
   "source": [
    "# Bin lab results into intervals\n",
    "for icustay_id, lab_results in tqdm(lab_df.groupby('icustay_id')):\n",
    "    \n",
    "    # Is icustay part of cohort?\n",
    "    if icustay_id not in icustay_timesteps:\n",
    "        continue\n",
    "        \n",
    "    # Add lab IDs to `data_all` to store aggregated lab measurements\n",
    "    timesteps = icustay_timesteps[icustay_id]\n",
    "    for lab_id in ALL_LAB_IDS:\n",
    "        if lab_id not in data_all: # glucose is also measured more frequently as a vital\n",
    "            data_all[icustay_id][to_snakecase(lab_id)] = np.full(len(timesteps) - 1, np.nan)\n",
    "            \n",
    "    for i, interval_start in enumerate(timesteps[:-1]):\n",
    "        interval_end = timesteps[i + 1]\n",
    "        \n",
    "        # Inclusion test: charttime in (interval_start, interval_end)\n",
    "        condition = (lab_results['charttime'] > interval_start) & (lab_results['charttime'] <= interval_end)  \n",
    "        \n",
    "        # Compute average value of each lab ID\n",
    "        lab_means = lab_results[condition].groupby('lab_id')['valuenum'].mean()\n",
    "        \n",
    "        for item_id, value in lab_means.items():\n",
    "            data_all[icustay_id][to_snakecase(item_id)][i] = value\n",
    "            \n",
    "del lab_df"
   ]
  },
  {
   "cell_type": "code",
   "execution_count": 40,
   "id": "6d0fbd71",
   "metadata": {},
   "outputs": [
    {
     "data": {
      "image/png": "[encoded data removed]",
      "text/plain": [
       "<Figure size 576x216 with 1 Axes>"
      ]
     },
     "metadata": {
      "needs_background": "light"
     },
     "output_type": "display_data"
    }
   ],
   "source": [
    "# Show potassium levels from random patient\n",
    "plot_single(data_all, key='potassium', title='Potassium levels (%s)' % INTERVAL_TIME, ylabel='Level (mEq/L)', style='.-')"
   ]
  },
  {
   "cell_type": "markdown",
   "id": "c1a7532c-1980-4194-bc38-e3f8080ef1ab",
   "metadata": {},
   "source": [
    "Note the many missing values we have, i.e. gaps in the plot above, even when we plot the most frequently measured lab item (`potassium`) and bin these measurements into intervals of 4 hours."
   ]
  },
  {
   "cell_type": "markdown",
   "id": "0a0d4be4",
   "metadata": {},
   "source": [
    "---\n",
    "## Urine Output"
   ]
  },
  {
   "cell_type": "code",
   "execution_count": 41,
   "id": "081d5c58",
   "metadata": {},
   "outputs": [
    {
     "data": {
      "text/html": [
       "<div>\n",
       "<style scoped>\n",
       "    .dataframe tbody tr th:only-of-type {\n",
       "        vertical-align: middle;\n",
       "    }\n",
       "\n",
       "    .dataframe tbody tr th {\n",
       "        vertical-align: top;\n",
       "    }\n",
       "\n",
       "    .dataframe thead th {\n",
       "        text-align: right;\n",
       "    }\n",
       "</style>\n",
       "<table border=\"1\" class=\"dataframe\">\n",
       "  <thead>\n",
       "    <tr style=\"text-align: right;\">\n",
       "      <th></th>\n",
       "      <th>subject_id</th>\n",
       "      <th>hadm_id</th>\n",
       "      <th>icustay_id</th>\n",
       "      <th>charttime</th>\n",
       "      <th>value</th>\n",
       "    </tr>\n",
       "  </thead>\n",
       "  <tbody>\n",
       "    <tr>\n",
       "      <th>0</th>\n",
       "      <td>20944</td>\n",
       "      <td>177500</td>\n",
       "      <td>205353</td>\n",
       "      <td>2140-12-01 02:00:00</td>\n",
       "      <td>5.0</td>\n",
       "    </tr>\n",
       "    <tr>\n",
       "      <th>1</th>\n",
       "      <td>15185</td>\n",
       "      <td>120114</td>\n",
       "      <td>210804</td>\n",
       "      <td>2132-06-03 08:00:00</td>\n",
       "      <td>100.0</td>\n",
       "    </tr>\n",
       "    <tr>\n",
       "      <th>2</th>\n",
       "      <td>11483</td>\n",
       "      <td>180774</td>\n",
       "      <td>236794</td>\n",
       "      <td>2100-11-01 01:00:00</td>\n",
       "      <td>150.0</td>\n",
       "    </tr>\n",
       "    <tr>\n",
       "      <th>3</th>\n",
       "      <td>10624</td>\n",
       "      <td>151346</td>\n",
       "      <td>247650</td>\n",
       "      <td>2141-08-23 18:00:00</td>\n",
       "      <td>160.0</td>\n",
       "    </tr>\n",
       "    <tr>\n",
       "      <th>4</th>\n",
       "      <td>9021</td>\n",
       "      <td>178275</td>\n",
       "      <td>233215</td>\n",
       "      <td>2167-07-28 07:00:00</td>\n",
       "      <td>45.0</td>\n",
       "    </tr>\n",
       "  </tbody>\n",
       "</table>\n",
       "</div>"
      ],
      "text/plain": [
       "   subject_id  hadm_id  icustay_id           charttime  value\n",
       "0       20944   177500      205353 2140-12-01 02:00:00    5.0\n",
       "1       15185   120114      210804 2132-06-03 08:00:00  100.0\n",
       "2       11483   180774      236794 2100-11-01 01:00:00  150.0\n",
       "3       10624   151346      247650 2141-08-23 18:00:00  160.0\n",
       "4        9021   178275      233215 2167-07-28 07:00:00   45.0"
      ]
     },
     "execution_count": 41,
     "metadata": {},
     "output_type": "execute_result"
    }
   ],
   "source": [
    "urine_df = read_csv(DATA_DIR + 'urineoutput_cohort.csv')\n",
    "\n",
    "# Sanity check: drop values exceeding 5000\n",
    "urine_df = urine_df[(urine_df['value'] > 0) & (urine_df['value'] < 5000)]\n",
    "\n",
    "urine_df.head()"
   ]
  },
  {
   "cell_type": "code",
   "execution_count": 42,
   "id": "c9941b89",
   "metadata": {},
   "outputs": [
    {
     "name": "stderr",
     "output_type": "stream",
     "text": [
      "100%|████████████████████████████████████████████████████████████████████████████| 15024/15024 [03:32<00:00, 70.78it/s]\n"
     ]
    }
   ],
   "source": [
    "for icustay_id, measurements in tqdm(urine_df.groupby('icustay_id')):\n",
    "    \n",
    "    # Is icustay part of cohort?\n",
    "    if icustay_id not in data_all:\n",
    "        continue\n",
    "        \n",
    "    # Add urine output to `data_all` to store aggregated urine measurements\n",
    "    timesteps = icustay_timesteps[icustay_id]\n",
    "    data_all[icustay_id]['total_urine_output'] = np.full(len(timesteps) - 1, np.nan)\n",
    "            \n",
    "    for i, interval_start in enumerate(timesteps[:-1]):\n",
    "        interval_end = timesteps[i + 1]\n",
    "        \n",
    "        # Inclusion test: charttime in (interval_start, interval_end)\n",
    "        condition = (measurements['charttime'] > interval_start) & (measurements['charttime'] <= interval_end)  \n",
    "        \n",
    "        # Compute total value within timestep\n",
    "        data_all[icustay_id]['total_urine_output'][i] = measurements[condition]['value'].sum()\n",
    "        \n",
    "del urine_df"
   ]
  },
  {
   "cell_type": "code",
   "execution_count": 43,
   "id": "3afb1640",
   "metadata": {},
   "outputs": [
    {
     "data": {
      "image/png": "[encoded data removed]",
      "text/plain": [
       "<Figure size 576x216 with 1 Axes>"
      ]
     },
     "metadata": {
      "needs_background": "light"
     },
     "output_type": "display_data"
    }
   ],
   "source": [
    "# Grab urine output from random patient\n",
    "plot_single(data_all, key='total_urine_output', title='Urine Output (%s)' % INTERVAL_TIME, ylabel='Output (mL)', style='-')"
   ]
  },
  {
   "cell_type": "markdown",
   "id": "71309861-8d64-4822-acb5-549b254dbcb9",
   "metadata": {},
   "source": [
    "### Urine Output Running Total \n",
    "\n",
    "In Roggeveen et al. an additional feature `running_total_urine_output` is included in the feature set;"
   ]
  },
  {
   "cell_type": "code",
   "execution_count": 44,
   "id": "d2276570-53b8-45ee-a4b4-044d9e258d83",
   "metadata": {},
   "outputs": [],
   "source": [
    "for icustay_id, icustay_data in data_all.items():\n",
    "    if 'total_urine_output' in icustay_data.keys():\n",
    "        data_all[icustay_id]['running_total_urine_output'] = np.cumsum(icustay_data['total_urine_output'])"
   ]
  },
  {
   "cell_type": "code",
   "execution_count": 45,
   "id": "90e08312-5d76-49f2-9c34-f754f7a109b9",
   "metadata": {},
   "outputs": [
    {
     "data": {
      "image/png": "[encoded data removed]",
      "text/plain": [
       "<Figure size 576x216 with 1 Axes>"
      ]
     },
     "metadata": {
      "needs_background": "light"
     },
     "output_type": "display_data"
    }
   ],
   "source": [
    "# Grab urine output from random patient\n",
    "plot_single(data_all, key='running_total_urine_output', title='Urine Output (cumulative) (%s)' % INTERVAL_TIME, ylabel='Output (mL)', style='-')"
   ]
  },
  {
   "cell_type": "markdown",
   "id": "c8f9318c",
   "metadata": {},
   "source": [
    "---\n",
    "## FiO2 (Fraction of Inspired Oxygen)"
   ]
  },
  {
   "cell_type": "code",
   "execution_count": 46,
   "id": "6cf6179b",
   "metadata": {},
   "outputs": [
    {
     "data": {
      "text/html": [
       "<div>\n",
       "<style scoped>\n",
       "    .dataframe tbody tr th:only-of-type {\n",
       "        vertical-align: middle;\n",
       "    }\n",
       "\n",
       "    .dataframe tbody tr th {\n",
       "        vertical-align: top;\n",
       "    }\n",
       "\n",
       "    .dataframe thead th {\n",
       "        text-align: right;\n",
       "    }\n",
       "</style>\n",
       "<table border=\"1\" class=\"dataframe\">\n",
       "  <thead>\n",
       "    <tr style=\"text-align: right;\">\n",
       "      <th></th>\n",
       "      <th>subject_id</th>\n",
       "      <th>hadm_id</th>\n",
       "      <th>icustay_id</th>\n",
       "      <th>charttime</th>\n",
       "      <th>fio2</th>\n",
       "    </tr>\n",
       "  </thead>\n",
       "  <tbody>\n",
       "    <tr>\n",
       "      <th>0</th>\n",
       "      <td>4</td>\n",
       "      <td>185777</td>\n",
       "      <td>294638</td>\n",
       "      <td>2191-03-16 03:00:00</td>\n",
       "      <td>94.999999</td>\n",
       "    </tr>\n",
       "    <tr>\n",
       "      <th>1</th>\n",
       "      <td>4</td>\n",
       "      <td>185777</td>\n",
       "      <td>294638</td>\n",
       "      <td>2191-03-16 08:00:00</td>\n",
       "      <td>50.000000</td>\n",
       "    </tr>\n",
       "    <tr>\n",
       "      <th>2</th>\n",
       "      <td>4</td>\n",
       "      <td>185777</td>\n",
       "      <td>294638</td>\n",
       "      <td>2191-03-16 11:00:00</td>\n",
       "      <td>NaN</td>\n",
       "    </tr>\n",
       "    <tr>\n",
       "      <th>3</th>\n",
       "      <td>9</td>\n",
       "      <td>150750</td>\n",
       "      <td>220597</td>\n",
       "      <td>2149-11-09 13:40:00</td>\n",
       "      <td>NaN</td>\n",
       "    </tr>\n",
       "    <tr>\n",
       "      <th>4</th>\n",
       "      <td>9</td>\n",
       "      <td>150750</td>\n",
       "      <td>220597</td>\n",
       "      <td>2149-11-09 17:00:00</td>\n",
       "      <td>60.000002</td>\n",
       "    </tr>\n",
       "  </tbody>\n",
       "</table>\n",
       "</div>"
      ],
      "text/plain": [
       "   subject_id  hadm_id  icustay_id           charttime       fio2\n",
       "0           4   185777      294638 2191-03-16 03:00:00  94.999999\n",
       "1           4   185777      294638 2191-03-16 08:00:00  50.000000\n",
       "2           4   185777      294638 2191-03-16 11:00:00        NaN\n",
       "3           9   150750      220597 2149-11-09 13:40:00        NaN\n",
       "4           9   150750      220597 2149-11-09 17:00:00  60.000002"
      ]
     },
     "execution_count": 46,
     "metadata": {},
     "output_type": "execute_result"
    }
   ],
   "source": [
    "fio2_df = read_csv(DATA_DIR + 'fio2_cohort.csv')\n",
    "fio2_df.head()"
   ]
  },
  {
   "cell_type": "code",
   "execution_count": 47,
   "id": "bc4f35f0",
   "metadata": {},
   "outputs": [
    {
     "name": "stderr",
     "output_type": "stream",
     "text": [
      "100%|████████████████████████████████████████████████████████████████████████████| 10215/10215 [02:24<00:00, 70.53it/s]\n"
     ]
    }
   ],
   "source": [
    "# Process ICU stays one-by-one\n",
    "for icustay_id, measurements in tqdm(fio2_df.groupby('icustay_id')):\n",
    "    \n",
    "    # Is icustay part of cohort?\n",
    "    if icustay_id not in icustay_timesteps:\n",
    "        continue\n",
    "        \n",
    "    # Add FiO2 ID to `data_all` to store aggregated measurements\n",
    "    timesteps = icustay_timesteps[icustay_id]\n",
    "    data_all[icustay_id]['fi_o2'] = np.full(len(timesteps) - 1, np.nan)\n",
    "            \n",
    "    for i, interval_start in enumerate(timesteps[:-1]):\n",
    "        interval_end = timesteps[i + 1]\n",
    "        \n",
    "        # Inclusion test: charttime in (interval_start, interval_end)\n",
    "        condition = (measurements['charttime'] > interval_start) & (measurements['charttime'] <= interval_end)  \n",
    "        \n",
    "        # Compute average value within timestep\n",
    "        data_all[icustay_id]['fi_o2'][i] = measurements[condition]['fio2'].mean()\n",
    "        \n",
    "del fio2_df"
   ]
  },
  {
   "cell_type": "code",
   "execution_count": 48,
   "id": "51410524",
   "metadata": {},
   "outputs": [
    {
     "data": {
      "image/png": "[encoded data removed]",
      "text/plain": [
       "<Figure size 576x216 with 1 Axes>"
      ]
     },
     "metadata": {
      "needs_background": "light"
     },
     "output_type": "display_data"
    }
   ],
   "source": [
    "# Grab FiO2 from random patient\n",
    "plot_single(data_all, key='fi_o2', title='Fraction of Inspired Oxygen (%s)' % INTERVAL_TIME, ylabel='Inspired oxygen (%)')"
   ]
  },
  {
   "cell_type": "markdown",
   "id": "3005efc6",
   "metadata": {},
   "source": [
    "---\n",
    "## Demographics"
   ]
  },
  {
   "cell_type": "code",
   "execution_count": 49,
   "id": "72e100bc-eee0-4c67-aa51-e1692ed3a00e",
   "metadata": {},
   "outputs": [
    {
     "data": {
      "text/html": [
       "<div>\n",
       "<style scoped>\n",
       "    .dataframe tbody tr th:only-of-type {\n",
       "        vertical-align: middle;\n",
       "    }\n",
       "\n",
       "    .dataframe tbody tr th {\n",
       "        vertical-align: top;\n",
       "    }\n",
       "\n",
       "    .dataframe thead th {\n",
       "        text-align: right;\n",
       "    }\n",
       "</style>\n",
       "<table border=\"1\" class=\"dataframe\">\n",
       "  <thead>\n",
       "    <tr style=\"text-align: right;\">\n",
       "      <th></th>\n",
       "      <th>subject_id</th>\n",
       "      <th>hadm_id</th>\n",
       "      <th>icustay_id</th>\n",
       "      <th>age</th>\n",
       "      <th>is_male</th>\n",
       "      <th>race_white</th>\n",
       "      <th>race_black</th>\n",
       "      <th>race_hispanic</th>\n",
       "      <th>race_other</th>\n",
       "      <th>height</th>\n",
       "      <th>...</th>\n",
       "      <th>vent</th>\n",
       "      <th>sofa</th>\n",
       "      <th>lods</th>\n",
       "      <th>sirs</th>\n",
       "      <th>qsofa</th>\n",
       "      <th>qsofa_sysbp_score</th>\n",
       "      <th>qsofa_gcs_score</th>\n",
       "      <th>qsofa_resprate_score</th>\n",
       "      <th>elixhauser_hospital</th>\n",
       "      <th>blood_culture_positive</th>\n",
       "    </tr>\n",
       "  </thead>\n",
       "  <tbody>\n",
       "    <tr>\n",
       "      <th>0</th>\n",
       "      <td>27513</td>\n",
       "      <td>163557</td>\n",
       "      <td>200003</td>\n",
       "      <td>48.2940</td>\n",
       "      <td>1</td>\n",
       "      <td>1</td>\n",
       "      <td>0</td>\n",
       "      <td>0</td>\n",
       "      <td>0</td>\n",
       "      <td>177.80</td>\n",
       "      <td>...</td>\n",
       "      <td>1</td>\n",
       "      <td>6</td>\n",
       "      <td>3</td>\n",
       "      <td>4</td>\n",
       "      <td>2</td>\n",
       "      <td>1.0</td>\n",
       "      <td>0.0</td>\n",
       "      <td>1.0</td>\n",
       "      <td>0</td>\n",
       "      <td>1</td>\n",
       "    </tr>\n",
       "    <tr>\n",
       "      <th>1</th>\n",
       "      <td>9514</td>\n",
       "      <td>127229</td>\n",
       "      <td>200014</td>\n",
       "      <td>84.7274</td>\n",
       "      <td>1</td>\n",
       "      <td>0</td>\n",
       "      <td>0</td>\n",
       "      <td>0</td>\n",
       "      <td>1</td>\n",
       "      <td>167.64</td>\n",
       "      <td>...</td>\n",
       "      <td>1</td>\n",
       "      <td>3</td>\n",
       "      <td>5</td>\n",
       "      <td>4</td>\n",
       "      <td>2</td>\n",
       "      <td>1.0</td>\n",
       "      <td>0.0</td>\n",
       "      <td>1.0</td>\n",
       "      <td>0</td>\n",
       "      <td>1</td>\n",
       "    </tr>\n",
       "    <tr>\n",
       "      <th>2</th>\n",
       "      <td>21789</td>\n",
       "      <td>112486</td>\n",
       "      <td>200019</td>\n",
       "      <td>82.8820</td>\n",
       "      <td>0</td>\n",
       "      <td>1</td>\n",
       "      <td>0</td>\n",
       "      <td>0</td>\n",
       "      <td>0</td>\n",
       "      <td>NaN</td>\n",
       "      <td>...</td>\n",
       "      <td>1</td>\n",
       "      <td>5</td>\n",
       "      <td>7</td>\n",
       "      <td>3</td>\n",
       "      <td>2</td>\n",
       "      <td>0.0</td>\n",
       "      <td>1.0</td>\n",
       "      <td>1.0</td>\n",
       "      <td>0</td>\n",
       "      <td>1</td>\n",
       "    </tr>\n",
       "    <tr>\n",
       "      <th>3</th>\n",
       "      <td>14987</td>\n",
       "      <td>165426</td>\n",
       "      <td>200030</td>\n",
       "      <td>54.1915</td>\n",
       "      <td>1</td>\n",
       "      <td>0</td>\n",
       "      <td>1</td>\n",
       "      <td>0</td>\n",
       "      <td>0</td>\n",
       "      <td>187.96</td>\n",
       "      <td>...</td>\n",
       "      <td>0</td>\n",
       "      <td>7</td>\n",
       "      <td>4</td>\n",
       "      <td>4</td>\n",
       "      <td>2</td>\n",
       "      <td>1.0</td>\n",
       "      <td>0.0</td>\n",
       "      <td>1.0</td>\n",
       "      <td>9</td>\n",
       "      <td>1</td>\n",
       "    </tr>\n",
       "    <tr>\n",
       "      <th>4</th>\n",
       "      <td>46489</td>\n",
       "      <td>152416</td>\n",
       "      <td>200035</td>\n",
       "      <td>30.6591</td>\n",
       "      <td>1</td>\n",
       "      <td>0</td>\n",
       "      <td>1</td>\n",
       "      <td>0</td>\n",
       "      <td>0</td>\n",
       "      <td>NaN</td>\n",
       "      <td>...</td>\n",
       "      <td>0</td>\n",
       "      <td>2</td>\n",
       "      <td>1</td>\n",
       "      <td>3</td>\n",
       "      <td>1</td>\n",
       "      <td>0.0</td>\n",
       "      <td>0.0</td>\n",
       "      <td>1.0</td>\n",
       "      <td>2</td>\n",
       "      <td>0</td>\n",
       "    </tr>\n",
       "  </tbody>\n",
       "</table>\n",
       "<p>5 rows × 21 columns</p>\n",
       "</div>"
      ],
      "text/plain": [
       "   subject_id  hadm_id  icustay_id      age  is_male  race_white  race_black  \\\n",
       "0       27513   163557      200003  48.2940        1           1           0   \n",
       "1        9514   127229      200014  84.7274        1           0           0   \n",
       "2       21789   112486      200019  82.8820        0           1           0   \n",
       "3       14987   165426      200030  54.1915        1           0           1   \n",
       "4       46489   152416      200035  30.6591        1           0           1   \n",
       "\n",
       "   race_hispanic  race_other  height  ...  vent  sofa  lods  sirs  qsofa  \\\n",
       "0              0           0  177.80  ...     1     6     3     4      2   \n",
       "1              0           1  167.64  ...     1     3     5     4      2   \n",
       "2              0           0     NaN  ...     1     5     7     3      2   \n",
       "3              0           0  187.96  ...     0     7     4     4      2   \n",
       "4              0           0     NaN  ...     0     2     1     3      1   \n",
       "\n",
       "   qsofa_sysbp_score  qsofa_gcs_score  qsofa_resprate_score  \\\n",
       "0                1.0              0.0                   1.0   \n",
       "1                1.0              0.0                   1.0   \n",
       "2                0.0              1.0                   1.0   \n",
       "3                1.0              0.0                   1.0   \n",
       "4                0.0              0.0                   1.0   \n",
       "\n",
       "   elixhauser_hospital  blood_culture_positive  \n",
       "0                    0                       1  \n",
       "1                    0                       1  \n",
       "2                    0                       1  \n",
       "3                    9                       1  \n",
       "4                    2                       0  \n",
       "\n",
       "[5 rows x 21 columns]"
      ]
     },
     "execution_count": 49,
     "metadata": {},
     "output_type": "execute_result"
    }
   ],
   "source": [
    "demo_df = pd.read_csv(DATA_DIR + 'demographics_cohort.csv')\n",
    "demo_df.head()"
   ]
  },
  {
   "cell_type": "code",
   "execution_count": 50,
   "id": "071d7519",
   "metadata": {},
   "outputs": [],
   "source": [
    "# Define demographics and disease severity scores of interest (on admission)\n",
    "DEMOGRAPHICS_COLS = ['age', 'height', 'is_male', 'weight', 'vent', 'sofa', 'sirs']"
   ]
  },
  {
   "cell_type": "code",
   "execution_count": 51,
   "id": "18f77d0f",
   "metadata": {},
   "outputs": [
    {
     "name": "stderr",
     "output_type": "stream",
     "text": [
      "100%|██████████████████████████████████████████████████████████████████████████| 18346/18346 [00:08<00:00, 2046.06it/s]\n"
     ]
    }
   ],
   "source": [
    "for icustay_id, demographics in tqdm(demo_df.groupby('icustay_id')):\n",
    "    \n",
    "    # Is icustay part of cohort?\n",
    "    if icustay_id not in icustay_timesteps:\n",
    "        continue\n",
    "        \n",
    "    timesteps = icustay_timesteps[icustay_id]\n",
    "    N = len(timesteps) - 1\n",
    "    \n",
    "    # Repeat demographics at each timestep\n",
    "    for feature in DEMOGRAPHICS_COLS:\n",
    "        data_all[icustay_id][feature] = np.ones(N) * demographics[feature].values[0]\n",
    "        \n",
    "del demo_df"
   ]
  },
  {
   "cell_type": "code",
   "execution_count": 52,
   "id": "283f3187",
   "metadata": {},
   "outputs": [
    {
     "data": {
      "image/png": "[encoded data removed]",
      "text/plain": [
       "<Figure size 576x216 with 1 Axes>"
      ]
     },
     "metadata": {
      "needs_background": "light"
     },
     "output_type": "display_data"
    }
   ],
   "source": [
    "plot_single(data_all, key='age', title='Age', ylabel='Age (years)')"
   ]
  },
  {
   "cell_type": "markdown",
   "id": "b1d16016",
   "metadata": {},
   "source": [
    "---\n",
    "# Putting It All Together!"
   ]
  },
  {
   "cell_type": "markdown",
   "id": "b542b664",
   "metadata": {},
   "source": [
    "## Add Reward\n",
    "We define positive terminal reward (R=15) as discharge of patient (survival beyond hospital stay) and negative reward (R=-15) for the passing of the patient in-hospital. No intermediate rewards are issued."
   ]
  },
  {
   "cell_type": "code",
   "execution_count": 53,
   "id": "051a362e",
   "metadata": {},
   "outputs": [
    {
     "name": "stderr",
     "output_type": "stream",
     "text": [
      "100%|█████████████████████████████████████████████████████████████████████████| 18091/18091 [00:00<00:00, 29587.11it/s]\n"
     ]
    }
   ],
   "source": [
    "# Dict mapping from patient to 30-day mortality\n",
    "mortality_dct = {row['icustay_id']: row['hospital_expire_flag'] for _, row in cohort_df.iterrows()}\n",
    "\n",
    "# Process ICU stays one-by-one\n",
    "for icustay_id, patient in tqdm(cohort_df.groupby('icustay_id')):\n",
    "    \n",
    "    # Is icustay part of cohort?\n",
    "    if icustay_id not in icustay_timesteps:\n",
    "        continue\n",
    "        \n",
    "    # Determine whether person passed away in hospital\n",
    "    timesteps = icustay_timesteps[icustay_id]\n",
    "    deceased = mortality_dct[icustay_id]\n",
    "    \n",
    "    # Define reward as +15 if survived; -15 otherwise; no intermediate rewards\n",
    "    rewards = np.zeros(len(timesteps) - 1)\n",
    "    rewards[-1] = 15 if not deceased else -15\n",
    "    \n",
    "    data_all[icustay_id]['reward'] = rewards"
   ]
  },
  {
   "cell_type": "code",
   "execution_count": 54,
   "id": "6a8a8f0d",
   "metadata": {},
   "outputs": [
    {
     "data": {
      "image/png": "[encoded data removed]",
      "text/plain": [
       "<Figure size 576x216 with 1 Axes>"
      ]
     },
     "metadata": {
      "needs_background": "light"
     },
     "output_type": "display_data"
    }
   ],
   "source": [
    "# Grab Reward trajectory from random patient\n",
    "plot_single(data_all, key='reward', title='Reward over time (%s)' % INTERVAL_TIME, ylabel='Reward')"
   ]
  },
  {
   "cell_type": "markdown",
   "id": "d83e59a7",
   "metadata": {},
   "source": [
    "## Shift IV/VP Forward\n",
    "By dropping the last VP/IV value (and prepending a `NaN`) we effectively shift the actions, vasopressor doses and IV fluid intakes, one time-step forward (giving us a state representation containing the *previous* vasopressor/IV dose along with the current non-shifted IV/VP and the associated reward);"
   ]
  },
  {
   "cell_type": "code",
   "execution_count": 55,
   "id": "85dfc7ca",
   "metadata": {},
   "outputs": [
    {
     "name": "stdout",
     "output_type": "stream",
     "text": [
      "Done!\n"
     ]
    }
   ],
   "source": [
    "for icustay_id, icustay_data in data_all.items():\n",
    "    \n",
    "    # Shift actions sequence forward by one\n",
    "    if 'total_iv_fluid' in data_all[icustay_id]:\n",
    "        data_all[icustay_id]['total_iv_fluid_prev'] = [np.NaN] + list(data_all[icustay_id]['total_iv_fluid'][:-1])\n",
    "        \n",
    "    # Don't forget for running total!\n",
    "    # Remark: original notebook did not shift running total IV (only total_iv_fluid) \n",
    "    # therefore the model was able to compute the current IV level as running_total_iv_fluid - total_iv_fluid_prev!\n",
    "    if 'running_total_iv_fluid' in data_all[icustay_id]:\n",
    "        data_all[icustay_id]['running_total_iv_fluid_prev'] = [np.NaN] + list(data_all[icustay_id]['running_total_iv_fluid'][:-1])\n",
    "        \n",
    "    if 'max_vaso' in data_all[icustay_id]:\n",
    "        data_all[icustay_id]['max_vaso_prev'] = [np.NaN] + list(data_all[icustay_id]['max_vaso'][:-1])\n",
    "        \n",
    "print('Done!')"
   ]
  },
  {
   "cell_type": "markdown",
   "id": "5c59090d",
   "metadata": {},
   "source": [
    "## Convert to DataFrame!"
   ]
  },
  {
   "cell_type": "code",
   "execution_count": 56,
   "id": "31f830ca",
   "metadata": {},
   "outputs": [
    {
     "data": {
      "text/html": [
       "<div>\n",
       "<style scoped>\n",
       "    .dataframe tbody tr th:only-of-type {\n",
       "        vertical-align: middle;\n",
       "    }\n",
       "\n",
       "    .dataframe tbody tr th {\n",
       "        vertical-align: top;\n",
       "    }\n",
       "\n",
       "    .dataframe thead th {\n",
       "        text-align: right;\n",
       "    }\n",
       "</style>\n",
       "<table border=\"1\" class=\"dataframe\">\n",
       "  <thead>\n",
       "    <tr style=\"text-align: right;\">\n",
       "      <th></th>\n",
       "      <th>index</th>\n",
       "      <th>timestep</th>\n",
       "      <th>total_iv_fluid</th>\n",
       "      <th>running_total_iv_fluid</th>\n",
       "      <th>heart_rate</th>\n",
       "      <th>sp_o2</th>\n",
       "      <th>temp_c</th>\n",
       "      <th>dias_bp</th>\n",
       "      <th>mean_bp</th>\n",
       "      <th>sys_bp</th>\n",
       "      <th>...</th>\n",
       "      <th>weight</th>\n",
       "      <th>vent</th>\n",
       "      <th>sofa</th>\n",
       "      <th>sirs</th>\n",
       "      <th>reward</th>\n",
       "      <th>total_iv_fluid_prev</th>\n",
       "      <th>running_total_iv_fluid_prev</th>\n",
       "      <th>icustay_id</th>\n",
       "      <th>max_vaso</th>\n",
       "      <th>max_vaso_prev</th>\n",
       "    </tr>\n",
       "  </thead>\n",
       "  <tbody>\n",
       "    <tr>\n",
       "      <th>0</th>\n",
       "      <td>0</td>\n",
       "      <td>2122-04-13 01:35:00</td>\n",
       "      <td>0.0</td>\n",
       "      <td>0.0</td>\n",
       "      <td>NaN</td>\n",
       "      <td>NaN</td>\n",
       "      <td>NaN</td>\n",
       "      <td>NaN</td>\n",
       "      <td>NaN</td>\n",
       "      <td>NaN</td>\n",
       "      <td>...</td>\n",
       "      <td>99.2</td>\n",
       "      <td>0.0</td>\n",
       "      <td>5.0</td>\n",
       "      <td>4.0</td>\n",
       "      <td>0.0</td>\n",
       "      <td>NaN</td>\n",
       "      <td>NaN</td>\n",
       "      <td>226090</td>\n",
       "      <td>NaN</td>\n",
       "      <td>NaN</td>\n",
       "    </tr>\n",
       "    <tr>\n",
       "      <th>1</th>\n",
       "      <td>1</td>\n",
       "      <td>2122-04-13 05:35:00</td>\n",
       "      <td>0.0</td>\n",
       "      <td>0.0</td>\n",
       "      <td>NaN</td>\n",
       "      <td>NaN</td>\n",
       "      <td>NaN</td>\n",
       "      <td>NaN</td>\n",
       "      <td>NaN</td>\n",
       "      <td>NaN</td>\n",
       "      <td>...</td>\n",
       "      <td>99.2</td>\n",
       "      <td>0.0</td>\n",
       "      <td>5.0</td>\n",
       "      <td>4.0</td>\n",
       "      <td>0.0</td>\n",
       "      <td>0.0</td>\n",
       "      <td>0.0</td>\n",
       "      <td>226090</td>\n",
       "      <td>NaN</td>\n",
       "      <td>NaN</td>\n",
       "    </tr>\n",
       "    <tr>\n",
       "      <th>2</th>\n",
       "      <td>2</td>\n",
       "      <td>2122-04-13 09:35:00</td>\n",
       "      <td>0.0</td>\n",
       "      <td>0.0</td>\n",
       "      <td>NaN</td>\n",
       "      <td>NaN</td>\n",
       "      <td>NaN</td>\n",
       "      <td>NaN</td>\n",
       "      <td>NaN</td>\n",
       "      <td>NaN</td>\n",
       "      <td>...</td>\n",
       "      <td>99.2</td>\n",
       "      <td>0.0</td>\n",
       "      <td>5.0</td>\n",
       "      <td>4.0</td>\n",
       "      <td>0.0</td>\n",
       "      <td>0.0</td>\n",
       "      <td>0.0</td>\n",
       "      <td>226090</td>\n",
       "      <td>NaN</td>\n",
       "      <td>NaN</td>\n",
       "    </tr>\n",
       "    <tr>\n",
       "      <th>3</th>\n",
       "      <td>3</td>\n",
       "      <td>2122-04-13 13:35:00</td>\n",
       "      <td>0.0</td>\n",
       "      <td>0.0</td>\n",
       "      <td>NaN</td>\n",
       "      <td>NaN</td>\n",
       "      <td>NaN</td>\n",
       "      <td>NaN</td>\n",
       "      <td>NaN</td>\n",
       "      <td>NaN</td>\n",
       "      <td>...</td>\n",
       "      <td>99.2</td>\n",
       "      <td>0.0</td>\n",
       "      <td>5.0</td>\n",
       "      <td>4.0</td>\n",
       "      <td>0.0</td>\n",
       "      <td>0.0</td>\n",
       "      <td>0.0</td>\n",
       "      <td>226090</td>\n",
       "      <td>NaN</td>\n",
       "      <td>NaN</td>\n",
       "    </tr>\n",
       "    <tr>\n",
       "      <th>4</th>\n",
       "      <td>4</td>\n",
       "      <td>2122-04-13 17:35:00</td>\n",
       "      <td>0.0</td>\n",
       "      <td>0.0</td>\n",
       "      <td>NaN</td>\n",
       "      <td>NaN</td>\n",
       "      <td>NaN</td>\n",
       "      <td>NaN</td>\n",
       "      <td>NaN</td>\n",
       "      <td>NaN</td>\n",
       "      <td>...</td>\n",
       "      <td>99.2</td>\n",
       "      <td>0.0</td>\n",
       "      <td>5.0</td>\n",
       "      <td>4.0</td>\n",
       "      <td>0.0</td>\n",
       "      <td>0.0</td>\n",
       "      <td>0.0</td>\n",
       "      <td>226090</td>\n",
       "      <td>NaN</td>\n",
       "      <td>NaN</td>\n",
       "    </tr>\n",
       "  </tbody>\n",
       "</table>\n",
       "<p>5 rows × 53 columns</p>\n",
       "</div>"
      ],
      "text/plain": [
       "   index            timestep  total_iv_fluid  running_total_iv_fluid  \\\n",
       "0      0 2122-04-13 01:35:00             0.0                     0.0   \n",
       "1      1 2122-04-13 05:35:00             0.0                     0.0   \n",
       "2      2 2122-04-13 09:35:00             0.0                     0.0   \n",
       "3      3 2122-04-13 13:35:00             0.0                     0.0   \n",
       "4      4 2122-04-13 17:35:00             0.0                     0.0   \n",
       "\n",
       "   heart_rate  sp_o2  temp_c  dias_bp  mean_bp  sys_bp  ...  weight  vent  \\\n",
       "0         NaN    NaN     NaN      NaN      NaN     NaN  ...    99.2   0.0   \n",
       "1         NaN    NaN     NaN      NaN      NaN     NaN  ...    99.2   0.0   \n",
       "2         NaN    NaN     NaN      NaN      NaN     NaN  ...    99.2   0.0   \n",
       "3         NaN    NaN     NaN      NaN      NaN     NaN  ...    99.2   0.0   \n",
       "4         NaN    NaN     NaN      NaN      NaN     NaN  ...    99.2   0.0   \n",
       "\n",
       "   sofa  sirs  reward  total_iv_fluid_prev  running_total_iv_fluid_prev  \\\n",
       "0   5.0   4.0     0.0                  NaN                          NaN   \n",
       "1   5.0   4.0     0.0                  0.0                          0.0   \n",
       "2   5.0   4.0     0.0                  0.0                          0.0   \n",
       "3   5.0   4.0     0.0                  0.0                          0.0   \n",
       "4   5.0   4.0     0.0                  0.0                          0.0   \n",
       "\n",
       "   icustay_id  max_vaso  max_vaso_prev  \n",
       "0      226090       NaN            NaN  \n",
       "1      226090       NaN            NaN  \n",
       "2      226090       NaN            NaN  \n",
       "3      226090       NaN            NaN  \n",
       "4      226090       NaN            NaN  \n",
       "\n",
       "[5 rows x 53 columns]"
      ]
     },
     "execution_count": 56,
     "metadata": {},
     "output_type": "execute_result"
    }
   ],
   "source": [
    "# Mark measurement by decision time `interval_start` (i.e. drop interval_end)\n",
    "for icustay_id in data_all.keys():\n",
    "    data_all[icustay_id]['timestep'] = data_all[icustay_id]['timestep'][1:]\n",
    "\n",
    "# Convert individual icustay dicts into DataFrames\n",
    "data_all_df = {icustay_id: pd.DataFrame.from_dict(icustay_data) for icustay_id, icustay_data in data_all.items()}\n",
    "\n",
    "# Add icustay_id as identifier\n",
    "for icustay_id in data_all_df.keys():\n",
    "    data_all_df[icustay_id]['icustay_id'] = icustay_id\n",
    "    \n",
    "# Merge into one large DataFrame\n",
    "data_all_df = pd.concat(data_all_df.values()).reset_index()\n",
    "data_all_df.head()"
   ]
  },
  {
   "cell_type": "code",
   "execution_count": 57,
   "id": "ae6cabb8-8239-4a98-9a74-8b43952c5652",
   "metadata": {},
   "outputs": [],
   "source": [
    "# For conversion rates see https://github.com/LucaMD/SRL/blob/master/SEPSIS/MIMIC_src/MIMIC_R_DataPreprocessing.ipynb\n",
    "data_final_df = pd.DataFrame({'icustay_id': data_all_df['icustay_id'], \n",
    "                              'timestep': data_all_df['timestep'], \n",
    "                              # Discretized 'action' (0 - 24) added below\n",
    "                              'max_vaso': data_all_df['max_vaso'],\n",
    "                              'max_vaso_prev': data_all_df['max_vaso_prev'],\n",
    "                              'total_iv_fluid': data_all_df['total_iv_fluid'],\n",
    "                              'total_iv_fluid_prev': data_all_df['total_iv_fluid_prev'],\n",
    "                              'reward': data_all_df['reward'],\n",
    "                              'sirs_score': data_all_df['sirs'],\n",
    "                              'sofa_score': data_all_df['sofa'],\n",
    "                              'weight': data_all_df['weight'],\n",
    "                              'ventilator': data_all_df['vent'],\n",
    "                              'height': data_all_df['height'],\n",
    "                              'age': data_all_df['age'],\n",
    "                              'gender': data_all_df['is_male'],\n",
    "                              'heart_rate': data_all_df['heart_rate'],\n",
    "                              'temp': data_all_df['temp_c'],\n",
    "                              'mean_bp': data_all_df['mean_bp'],\n",
    "                              'dias_bp': data_all_df['dias_bp'],\n",
    "                              'sys_bp': data_all_df['sys_bp'],\n",
    "                              'resp_rate': data_all_df['resp_rate'],\n",
    "                              'spo2': data_all_df['sp_o2'],\n",
    "                              'natrium': data_all_df['sodium'],\n",
    "                              'chloride': data_all_df['chloride'],\n",
    "                              'kalium': data_all_df['potassium'],\n",
    "                              'trombo': data_all_df['platelet'],\n",
    "                              'leu': data_all_df['wbc'],\n",
    "                              'anion_gap': data_all_df['anion gap'],\n",
    "                              'aptt': data_all_df['ptt'],\n",
    "                              'art_ph': data_all_df['ph'],\n",
    "                              'asat': data_all_df['asat'],\n",
    "                              'alat': data_all_df['alat'],\n",
    "                              'bicarbonaat': data_all_df['bicarbonate'],\n",
    "                              'art_be': data_all_df['base_excess'],\n",
    "                              'ion_ca': data_all_df['ion_calcium'],\n",
    "                              'lactate': data_all_df['lactate'],\n",
    "                              'paco2': data_all_df['paco2'],\n",
    "                              'pao2': data_all_df['pao2'],\n",
    "                              'fio2': data_all_df['fi_o2'],\n",
    "                              'sirs_bands': data_all_df['bands'], # Not part of feature space\n",
    "                              'shock_index': data_all_df['heart_rate'] / data_all_df['sys_bp'],\n",
    "                              'hb': data_all_df['hemoglobin'] * 0.6206, # Conversion rates (see original notebook)\n",
    "                              'bilirubin': data_all_df['bilirubin'] * (1 / 0.05847953),\n",
    "                              'creatinine': data_all_df['creatinine'] * (1 / 0.01131222),\n",
    "                              'inr': data_all_df['pt'] / 12,\n",
    "                              'ureum': data_all_df['bun'] * 0.3571,\n",
    "                              'albumin': data_all_df['albumin'] * 10,\n",
    "                              'magnesium': data_all_df['magnesium'] * 0.411,\n",
    "                              'calcium': data_all_df['calcium'] * 0.25,\n",
    "                              'pf_ratio': data_all_df['paco2'] / data_all_df['fi_o2'],\n",
    "                              'glucose': data_all_df['glucose'] * 0.0555,\n",
    "                              'running_total_urine_output': data_all_df['running_total_urine_output'],\n",
    "                              'total_urine_output': data_all_df['total_urine_output'],\n",
    "                              'running_total_iv_fluid_prev': data_all_df['running_total_iv_fluid_prev'],})"
   ]
  },
  {
   "cell_type": "code",
   "execution_count": 58,
   "id": "7a9055c1",
   "metadata": {},
   "outputs": [
    {
     "data": {
      "text/html": [
       "<div>\n",
       "<style scoped>\n",
       "    .dataframe tbody tr th:only-of-type {\n",
       "        vertical-align: middle;\n",
       "    }\n",
       "\n",
       "    .dataframe tbody tr th {\n",
       "        vertical-align: top;\n",
       "    }\n",
       "\n",
       "    .dataframe thead th {\n",
       "        text-align: right;\n",
       "    }\n",
       "</style>\n",
       "<table border=\"1\" class=\"dataframe\">\n",
       "  <thead>\n",
       "    <tr style=\"text-align: right;\">\n",
       "      <th></th>\n",
       "      <th>icustay_id</th>\n",
       "      <th>timestep</th>\n",
       "      <th>max_vaso</th>\n",
       "      <th>max_vaso_prev</th>\n",
       "      <th>total_iv_fluid</th>\n",
       "      <th>total_iv_fluid_prev</th>\n",
       "      <th>reward</th>\n",
       "      <th>sirs_score</th>\n",
       "      <th>sofa_score</th>\n",
       "      <th>weight</th>\n",
       "      <th>...</th>\n",
       "      <th>inr</th>\n",
       "      <th>ureum</th>\n",
       "      <th>albumin</th>\n",
       "      <th>magnesium</th>\n",
       "      <th>calcium</th>\n",
       "      <th>pf_ratio</th>\n",
       "      <th>glucose</th>\n",
       "      <th>running_total_urine_output</th>\n",
       "      <th>total_urine_output</th>\n",
       "      <th>running_total_iv_fluid_prev</th>\n",
       "    </tr>\n",
       "  </thead>\n",
       "  <tbody>\n",
       "    <tr>\n",
       "      <th>276714</th>\n",
       "      <td>204863</td>\n",
       "      <td>2196-01-12 01:15:00</td>\n",
       "      <td>NaN</td>\n",
       "      <td>NaN</td>\n",
       "      <td>0.0</td>\n",
       "      <td>NaN</td>\n",
       "      <td>0.0</td>\n",
       "      <td>2.0</td>\n",
       "      <td>7.0</td>\n",
       "      <td>112.0</td>\n",
       "      <td>...</td>\n",
       "      <td>NaN</td>\n",
       "      <td>NaN</td>\n",
       "      <td>NaN</td>\n",
       "      <td>NaN</td>\n",
       "      <td>NaN</td>\n",
       "      <td>NaN</td>\n",
       "      <td>NaN</td>\n",
       "      <td>NaN</td>\n",
       "      <td>NaN</td>\n",
       "      <td>NaN</td>\n",
       "    </tr>\n",
       "    <tr>\n",
       "      <th>276715</th>\n",
       "      <td>204863</td>\n",
       "      <td>2196-01-12 05:15:00</td>\n",
       "      <td>NaN</td>\n",
       "      <td>NaN</td>\n",
       "      <td>0.0</td>\n",
       "      <td>0.0</td>\n",
       "      <td>0.0</td>\n",
       "      <td>2.0</td>\n",
       "      <td>7.0</td>\n",
       "      <td>112.0</td>\n",
       "      <td>...</td>\n",
       "      <td>NaN</td>\n",
       "      <td>NaN</td>\n",
       "      <td>NaN</td>\n",
       "      <td>NaN</td>\n",
       "      <td>NaN</td>\n",
       "      <td>NaN</td>\n",
       "      <td>NaN</td>\n",
       "      <td>NaN</td>\n",
       "      <td>NaN</td>\n",
       "      <td>0.0</td>\n",
       "    </tr>\n",
       "    <tr>\n",
       "      <th>276716</th>\n",
       "      <td>204863</td>\n",
       "      <td>2196-01-12 09:15:00</td>\n",
       "      <td>NaN</td>\n",
       "      <td>NaN</td>\n",
       "      <td>0.0</td>\n",
       "      <td>0.0</td>\n",
       "      <td>0.0</td>\n",
       "      <td>2.0</td>\n",
       "      <td>7.0</td>\n",
       "      <td>112.0</td>\n",
       "      <td>...</td>\n",
       "      <td>NaN</td>\n",
       "      <td>NaN</td>\n",
       "      <td>NaN</td>\n",
       "      <td>NaN</td>\n",
       "      <td>NaN</td>\n",
       "      <td>NaN</td>\n",
       "      <td>NaN</td>\n",
       "      <td>NaN</td>\n",
       "      <td>NaN</td>\n",
       "      <td>0.0</td>\n",
       "    </tr>\n",
       "    <tr>\n",
       "      <th>276717</th>\n",
       "      <td>204863</td>\n",
       "      <td>2196-01-12 13:15:00</td>\n",
       "      <td>NaN</td>\n",
       "      <td>NaN</td>\n",
       "      <td>0.0</td>\n",
       "      <td>0.0</td>\n",
       "      <td>0.0</td>\n",
       "      <td>2.0</td>\n",
       "      <td>7.0</td>\n",
       "      <td>112.0</td>\n",
       "      <td>...</td>\n",
       "      <td>NaN</td>\n",
       "      <td>NaN</td>\n",
       "      <td>NaN</td>\n",
       "      <td>NaN</td>\n",
       "      <td>NaN</td>\n",
       "      <td>NaN</td>\n",
       "      <td>NaN</td>\n",
       "      <td>NaN</td>\n",
       "      <td>NaN</td>\n",
       "      <td>0.0</td>\n",
       "    </tr>\n",
       "    <tr>\n",
       "      <th>276718</th>\n",
       "      <td>204863</td>\n",
       "      <td>2196-01-12 17:15:00</td>\n",
       "      <td>NaN</td>\n",
       "      <td>NaN</td>\n",
       "      <td>0.0</td>\n",
       "      <td>0.0</td>\n",
       "      <td>0.0</td>\n",
       "      <td>2.0</td>\n",
       "      <td>7.0</td>\n",
       "      <td>112.0</td>\n",
       "      <td>...</td>\n",
       "      <td>NaN</td>\n",
       "      <td>NaN</td>\n",
       "      <td>NaN</td>\n",
       "      <td>NaN</td>\n",
       "      <td>NaN</td>\n",
       "      <td>NaN</td>\n",
       "      <td>NaN</td>\n",
       "      <td>NaN</td>\n",
       "      <td>NaN</td>\n",
       "      <td>0.0</td>\n",
       "    </tr>\n",
       "  </tbody>\n",
       "</table>\n",
       "<p>5 rows × 53 columns</p>\n",
       "</div>"
      ],
      "text/plain": [
       "        icustay_id            timestep  max_vaso  max_vaso_prev  \\\n",
       "276714      204863 2196-01-12 01:15:00       NaN            NaN   \n",
       "276715      204863 2196-01-12 05:15:00       NaN            NaN   \n",
       "276716      204863 2196-01-12 09:15:00       NaN            NaN   \n",
       "276717      204863 2196-01-12 13:15:00       NaN            NaN   \n",
       "276718      204863 2196-01-12 17:15:00       NaN            NaN   \n",
       "\n",
       "        total_iv_fluid  total_iv_fluid_prev  reward  sirs_score  sofa_score  \\\n",
       "276714             0.0                  NaN     0.0         2.0         7.0   \n",
       "276715             0.0                  0.0     0.0         2.0         7.0   \n",
       "276716             0.0                  0.0     0.0         2.0         7.0   \n",
       "276717             0.0                  0.0     0.0         2.0         7.0   \n",
       "276718             0.0                  0.0     0.0         2.0         7.0   \n",
       "\n",
       "        weight  ...  inr  ureum  albumin  magnesium  calcium  pf_ratio  \\\n",
       "276714   112.0  ...  NaN    NaN      NaN        NaN      NaN       NaN   \n",
       "276715   112.0  ...  NaN    NaN      NaN        NaN      NaN       NaN   \n",
       "276716   112.0  ...  NaN    NaN      NaN        NaN      NaN       NaN   \n",
       "276717   112.0  ...  NaN    NaN      NaN        NaN      NaN       NaN   \n",
       "276718   112.0  ...  NaN    NaN      NaN        NaN      NaN       NaN   \n",
       "\n",
       "        glucose  running_total_urine_output  total_urine_output  \\\n",
       "276714      NaN                         NaN                 NaN   \n",
       "276715      NaN                         NaN                 NaN   \n",
       "276716      NaN                         NaN                 NaN   \n",
       "276717      NaN                         NaN                 NaN   \n",
       "276718      NaN                         NaN                 NaN   \n",
       "\n",
       "        running_total_iv_fluid_prev  \n",
       "276714                          NaN  \n",
       "276715                          0.0  \n",
       "276716                          0.0  \n",
       "276717                          0.0  \n",
       "276718                          0.0  \n",
       "\n",
       "[5 rows x 53 columns]"
      ]
     },
     "execution_count": 58,
     "metadata": {},
     "output_type": "execute_result"
    }
   ],
   "source": [
    "# Show data for random patient\n",
    "icustay_id = random.choice(data_final_df.icustay_id.unique())\n",
    "data_final_df[data_final_df['icustay_id'] == icustay_id].head()"
   ]
  },
  {
   "cell_type": "markdown",
   "id": "210df0f5",
   "metadata": {},
   "source": [
    "## Discretize Action Space\n",
    "\n",
    "#### Compute Bins"
   ]
  },
  {
   "cell_type": "code",
   "execution_count": 59,
   "id": "74872866",
   "metadata": {},
   "outputs": [
    {
     "name": "stdout",
     "output_type": "stream",
     "text": [
      "Max VP bins:   [-inf, 0, 0.09001958929002285, 0.22499999403953552, 0.4502701759338379, inf]\n",
      "IV fluid bins: [-inf, 0, 200.0, 463.7348937988281, 907.7433471679688, inf]\n"
     ]
    }
   ],
   "source": [
    "# Compute 5-bin histogram to obtain discrete intervals\n",
    "def get_quantile_intervals(vals, N=5, max_inf=True, min_inf=True):\n",
    "    # Drop NaNs and zero doses (they get their own action)\n",
    "    vals = vals[(vals > 0) & ~np.isnan(vals)].values\n",
    "        \n",
    "    # Compute quantiles with special zero bin\n",
    "    quantiles = [0] + list(np.quantile(vals, np.linspace(0, 1, N)))\n",
    "    quantiles[0] = -np.inf\n",
    "    quantiles[1] = 0\n",
    "    quantiles[-1] = np.inf\n",
    "    return quantiles\n",
    "    \n",
    "max_vp_bins = get_quantile_intervals(data_final_df['max_vaso'])\n",
    "tot_iv_bins = get_quantile_intervals(data_final_df['total_iv_fluid'])\n",
    "\n",
    "print('Max VP bins:  ', max_vp_bins)\n",
    "print('IV fluid bins:', tot_iv_bins)"
   ]
  },
  {
   "cell_type": "markdown",
   "id": "5c01973e-d2f2-4758-8a76-1c8ee14e4a7b",
   "metadata": {},
   "source": [
    "<br>\n",
    "\n",
    "**Sanity Check: Number of actions in each bin**<br>\n",
    "Each bin should have a good number of samples"
   ]
  },
  {
   "cell_type": "code",
   "execution_count": 60,
   "id": "6b22da30-a5d5-43dc-ba3f-ac41a73f9717",
   "metadata": {},
   "outputs": [
    {
     "data": {
      "text/html": [
       "<div>\n",
       "<style scoped>\n",
       "    .dataframe tbody tr th:only-of-type {\n",
       "        vertical-align: middle;\n",
       "    }\n",
       "\n",
       "    .dataframe tbody tr th {\n",
       "        vertical-align: top;\n",
       "    }\n",
       "\n",
       "    .dataframe thead th {\n",
       "        text-align: right;\n",
       "    }\n",
       "</style>\n",
       "<table border=\"1\" class=\"dataframe\">\n",
       "  <thead>\n",
       "    <tr style=\"text-align: right;\">\n",
       "      <th></th>\n",
       "      <th>0</th>\n",
       "      <th>1</th>\n",
       "      <th>2</th>\n",
       "      <th>3</th>\n",
       "      <th>4</th>\n",
       "    </tr>\n",
       "  </thead>\n",
       "  <tbody>\n",
       "    <tr>\n",
       "      <th>Max VP</th>\n",
       "      <td>289624</td>\n",
       "      <td>9004</td>\n",
       "      <td>9892</td>\n",
       "      <td>8118</td>\n",
       "      <td>9000</td>\n",
       "    </tr>\n",
       "    <tr>\n",
       "      <th>IV Fluid</th>\n",
       "      <td>171945</td>\n",
       "      <td>38573</td>\n",
       "      <td>38274</td>\n",
       "      <td>38423</td>\n",
       "      <td>38423</td>\n",
       "    </tr>\n",
       "  </tbody>\n",
       "</table>\n",
       "</div>"
      ],
      "text/plain": [
       "               0      1      2      3      4\n",
       "Max VP    289624   9004   9892   8118   9000\n",
       "IV Fluid  171945  38573  38274  38423  38423"
      ]
     },
     "execution_count": 60,
     "metadata": {},
     "output_type": "execute_result"
    }
   ],
   "source": [
    "max_vp_binned = pd.cut(data_final_df['max_vaso'].fillna(0), \n",
    "                       right=True, \n",
    "                       bins=max_vp_bins, \n",
    "                       labels=[0, 1, 2, 3, 4]).value_counts()\n",
    "\n",
    "iv_fluid_shifted_binned = pd.cut(data_final_df['total_iv_fluid'].fillna(0), \n",
    "                                 right=True, \n",
    "                                 bins=tot_iv_bins, \n",
    "                                 labels=[0, 1, 2, 3, 4]).value_counts()\n",
    "\n",
    "pd.DataFrame({'Max VP': max_vp_binned,\n",
    "              'IV Fluid': iv_fluid_shifted_binned}).transpose()"
   ]
  },
  {
   "cell_type": "markdown",
   "id": "cd0bddd5-3234-40a0-b706-af57da213e49",
   "metadata": {},
   "source": [
    "#### Convert Continuous Actions to 5x5 Action Space"
   ]
  },
  {
   "cell_type": "code",
   "execution_count": 61,
   "id": "d189cfd2",
   "metadata": {},
   "outputs": [
    {
     "data": {
      "image/png": "[encoded data removed]",
      "text/plain": [
       "<Figure size 432x288 with 1 Axes>"
      ]
     },
     "metadata": {
      "needs_background": "light"
     },
     "output_type": "display_data"
    }
   ],
   "source": [
    "# Replace NaNs by zero (no vasopressor or IV fluid treatment, so dose = zero)\n",
    "data_final_df['max_vaso'] = data_final_df['max_vaso'].fillna(0)\n",
    "data_final_df['total_iv_fluid'] = data_final_df['total_iv_fluid'].fillna(0)\n",
    "data_final_df['max_vaso_prev'] = data_final_df['max_vaso_prev'].fillna(0)\n",
    "data_final_df['total_iv_fluid_prev'] = data_final_df['total_iv_fluid_prev'].fillna(0)\n",
    "\n",
    "# Use pd.cut to discretize actions\n",
    "max_vp_discrete = pd.cut(data_final_df['max_vaso'], \n",
    "                         right=True,\n",
    "                         bins=max_vp_bins, \n",
    "                         labels=[0, 1, 2, 3, 4]).astype(float)\n",
    "\n",
    "total_iv_discrete = pd.cut(data_final_df['total_iv_fluid'],\n",
    "                           right=True,\n",
    "                           bins=tot_iv_bins, \n",
    "                           labels=[0, 1, 2, 3, 4]).astype(float)\n",
    "\n",
    "# Compute action as 5 * total_iv_fluid + max_vaso\n",
    "data_final_df['action'] = 5 * total_iv_discrete + max_vp_discrete\n",
    "data_final_df['action'].hist(bins=25);"
   ]
  },
  {
   "cell_type": "markdown",
   "id": "e8baf939-4aac-4b25-b024-bcb979a48200",
   "metadata": {},
   "source": [
    "#### Export Action Bins and Action-Bin Mapping"
   ]
  },
  {
   "cell_type": "code",
   "execution_count": 62,
   "id": "a2b81140-80c9-4e2f-9132-fd7b185da70f",
   "metadata": {},
   "outputs": [
    {
     "name": "stdout",
     "output_type": "stream",
     "text": [
      "Done!\n"
     ]
    }
   ],
   "source": [
    "# Save bin edges of max_vaso and total_iv_fluid as .npy files for later reference\n",
    "with open(OUTPUT_DIR + 'max_vaso_bins.npy', 'w') as file:\n",
    "    np.savetxt(file, max_vp_bins)\n",
    "    \n",
    "with open(OUTPUT_DIR + 'total_iv_fluid_bins.npy', 'w') as file:\n",
    "    np.savetxt(file, tot_iv_bins)\n",
    "    \n",
    "print('Done!')"
   ]
  },
  {
   "cell_type": "code",
   "execution_count": 63,
   "id": "7f48ccba-a0f3-4c12-b4a4-c72540a8b0e8",
   "metadata": {},
   "outputs": [
    {
     "name": "stdout",
     "output_type": "stream",
     "text": [
      "Done!\n"
     ]
    }
   ],
   "source": [
    "# Save mapping from action indices (0 to 24) to bin indices (0 to 4)\n",
    "action_id_to_bins = dict()\n",
    "for max_vaso in range(5):\n",
    "    for total_iv_fluid in range(5):\n",
    "        action_id_to_bins[5 * total_iv_fluid + max_vaso] = (total_iv_fluid, max_vaso)\n",
    "\n",
    "with open(OUTPUT_DIR + 'action_to_vaso_fluid_bins.pkl', 'wb') as file:\n",
    "    pickle.dump(action_id_to_bins, file)\n",
    "    \n",
    "print('Done!')"
   ]
  },
  {
   "cell_type": "markdown",
   "id": "749dce87-89d0-4efb-ad34-2df03f005f9c",
   "metadata": {},
   "source": [
    "## Disease Severity Scores (SOFA, qSOFA, SIRS)\n",
    "For evaluation it is useful to consider not just (q)SOFA scores on admission (see `demographics_cohort.csv`), but also at each state (where possible). This will allow us to analyze the actions taken by the model as a function of disease progression."
   ]
  },
  {
   "cell_type": "code",
   "execution_count": 64,
   "id": "07c32e70-cf5c-4596-9822-254d6f5f2970",
   "metadata": {},
   "outputs": [],
   "source": [
    "# TODO: SOFA and qSOFA (how to get gcs?)\n",
    "\n",
    "def SIRS(df):\n",
    "    # Check if all quantities we need are there\n",
    "    missing = df['temp'].isna() | df['heart_rate'].isna() | (df['resp_rate'].isna() & df['paco2'].isna()) | (df['leu'].isna() & df['sirs_bands'].isna())\n",
    "    missing = missing.values\n",
    "    \n",
    "    # SIRS conditions\n",
    "    temp = (df['temp'] < 36) | (df['temp'] > 38)\n",
    "    heart_rate = df['heart_rate'] > 90\n",
    "    resp_rate = (df['resp_rate'] > 20) | (df['paco2'] < 32)\n",
    "    leukocytes = (df['leu'] > 12000) | (df['leu'] < 4000) | (df['sirs_bands'] > 10)\n",
    "    \n",
    "    # Total SIRS score\n",
    "    sirs = temp.astype(int) + heart_rate.astype(int) + resp_rate.astype(int) + leukocytes.astype(int)\n",
    "    sirs = sirs.values\n",
    "        \n",
    "    return np.where(missing, -np.ones(sirs.shape), sirs) # -1 in case not computable\n",
    "\n",
    "\n",
    "data_final_df['state_sirs'] = SIRS(data_final_df)"
   ]
  },
  {
   "cell_type": "code",
   "execution_count": 65,
   "id": "1184c5e7-1886-4087-ae23-f091a2ee1e08",
   "metadata": {},
   "outputs": [
    {
     "data": {
      "text/plain": [
       "<AxesSubplot:>"
      ]
     },
     "execution_count": 65,
     "metadata": {},
     "output_type": "execute_result"
    },
    {
     "data": {
      "image/png": "[encoded data removed]",
      "text/plain": [
       "<Figure size 432x288 with 1 Axes>"
      ]
     },
     "metadata": {
      "needs_background": "light"
     },
     "output_type": "display_data"
    }
   ],
   "source": [
    "data_final_df['state_sirs'].hist()"
   ]
  },
  {
   "cell_type": "markdown",
   "id": "fc41fa04-61a6-48af-8b5d-616f50a1aeba",
   "metadata": {},
   "source": [
    "## Cap Outlying Measurements\n",
    "\n",
    "During exploratory data analysis it was found that the data was riddled with measurement errors, whereby treatment and vital parameters would take values orders in magnitude higher than would be possible (or safe practice). To ensure feature normalization will not too much be affected by these values, we will cap values to their respective minimum or maximum when outside of their clinically possible range.\n",
    "\n",
    "However, slight modifications are made to the capping values used in (Roggeveen et al., 2021)\n",
    "1. Max. `anion_gap`: 12 $\\rightarrow$ 40 (as 12 can be considered an acceptable value for even healthy patients depending on the lab and how the test was performed, see [Wikipedia's entry for Anion Gap](https://en.wikipedia.org/wiki/Anion_gap))\n",
    "2. Min. `shock_index`: 0.5 $\\rightarrow$ 0.4 (a value of 0.5 was very often measured (>22.000) and thus the range was slightly relaxed compared to Roggeveen et al.)"
   ]
  },
  {
   "cell_type": "code",
   "execution_count": 67,
   "id": "e29f04a8-2d74-4dd9-a2b2-e9cb5fe2d3c3",
   "metadata": {},
   "outputs": [
    {
     "name": "stdout",
     "output_type": "stream",
     "text": [
      "shock_index 674\n",
      "weight 1710\n"
     ]
    }
   ],
   "source": [
    "# Load capping values (roggeveen et al., 2021)\n",
    "min_max_values = pd.read_csv('capping_values.csv').set_index('parameter').to_dict('index')\n",
    "\n",
    "for feature, rng in min_max_values.items():\n",
    "    # Cap values with bounds specific to feature\n",
    "    capped_values = data_final_df[feature].clip(lower=rng['minval'], upper=rng['maxval'])\n",
    "        \n",
    "    # Count non-NaN measurements capped\n",
    "    num_capped = ((capped_values != data_final_df[feature]) * capped_values.notna()).sum()\n",
    "    \n",
    "    # Print features for which a lot of values were capped\n",
    "    if num_capped > 100:\n",
    "        print(feature, num_capped)\n",
    "    \n",
    "    data_final_df[feature] = capped_values"
   ]
  },
  {
   "cell_type": "markdown",
   "id": "658a4c77-0d72-468d-8684-f21b2be99937",
   "metadata": {},
   "source": [
    "## Drop No-Treatment Admissions\n",
    "\n",
    "There are many admissions in which no hemodynamic treatments are prescribed; we will filter out these treatments as done in Roggeveen et al.;"
   ]
  },
  {
   "cell_type": "code",
   "execution_count": 68,
   "id": "0beeb528-b727-4dc1-8207-80c3d32693b1",
   "metadata": {},
   "outputs": [],
   "source": [
    "# Identify admissions where treatments were registered (at least one action > 0)\n",
    "admission_has_treatment = data_final_df.groupby('icustay_id', sort=False)['action'].max() > 0\n",
    "icustay_ids = admission_has_treatment.index[admission_has_treatment.values]\n",
    "\n",
    "# Drop all non-treatment admissions\n",
    "data_final_df = data_final_df[data_final_df['icustay_id'].isin(icustay_ids)]"
   ]
  },
  {
   "cell_type": "code",
   "execution_count": 69,
   "id": "ea3a981f-67c7-463f-928d-515b7aaf40dd",
   "metadata": {},
   "outputs": [
    {
     "data": {
      "text/plain": [
       "15084"
      ]
     },
     "execution_count": 69,
     "metadata": {},
     "output_type": "execute_result"
    }
   ],
   "source": [
    "# How many admissions do we have left?\n",
    "len(data_final_df.icustay_id.unique())"
   ]
  },
  {
   "cell_type": "markdown",
   "id": "947c1588-5893-4733-8ae1-62878fecf7fd",
   "metadata": {},
   "source": [
    "## Training, Validation and Test\n",
    "\n",
    "To train and test the model we need dedicated training, validation (e.g. for hyperparameter tuning) and test sets. We perform the splitting below;"
   ]
  },
  {
   "cell_type": "code",
   "execution_count": 70,
   "id": "4788ab65-e15b-4aa3-b122-beb97d13182d",
   "metadata": {},
   "outputs": [],
   "source": [
    "# For reproduction sake!\n",
    "random.seed(10)"
   ]
  },
  {
   "cell_type": "code",
   "execution_count": 71,
   "id": "3bede28a-7f14-42ad-aaf5-41a316ac24a1",
   "metadata": {},
   "outputs": [
    {
     "name": "stdout",
     "output_type": "stream",
     "text": [
      "Dataset instances:\n",
      "Train  10558\n",
      "Valid  1508\n",
      "Test   3018\n"
     ]
    }
   ],
   "source": [
    "# Specify fraction of ICU-stays for training, validation and testing\n",
    "frac_train = 0.7\n",
    "frac_valid = 0.1\n",
    "\n",
    "# Randomly assign icustay_ids to train, val and test\n",
    "icustay_ids = list(data_final_df['icustay_id'].unique())\n",
    "random.shuffle(icustay_ids)\n",
    "\n",
    "num_train = int(len(icustay_ids) * frac_train)\n",
    "num_valid = int(len(icustay_ids) * frac_valid)\n",
    "\n",
    "train_icustays = icustay_ids[:num_train]\n",
    "valid_icustays = icustay_ids[num_train:num_train + num_valid]\n",
    "test_icustays = icustay_ids[num_train + num_valid:]\n",
    "\n",
    "# Store train/valid/test icustay_ids\n",
    "np.savetxt(OUTPUT_DIR + 'mimic-iii_icustay_ids_train.npy', train_icustays)\n",
    "np.savetxt(OUTPUT_DIR + 'mimic-iii_icustay_ids_valid.npy', valid_icustays)\n",
    "np.savetxt(OUTPUT_DIR + 'mimic-iii_icustay_ids_test.npy', test_icustays)\n",
    "\n",
    "print('Dataset instances:')\n",
    "print('Train  %s' % len(train_icustays))\n",
    "print('Valid  %s' % len(valid_icustays))\n",
    "print('Test   %s' % len(test_icustays))"
   ]
  },
  {
   "cell_type": "code",
   "execution_count": 72,
   "id": "76e4ec9a-c135-4bea-ba3e-95338a8e9a19",
   "metadata": {},
   "outputs": [
    {
     "name": "stdout",
     "output_type": "stream",
     "text": [
      "Done!\n"
     ]
    }
   ],
   "source": [
    "data_train_df = data_final_df[data_final_df['icustay_id'].isin(train_icustays)].reset_index(drop=True)\n",
    "data_valid_df = data_final_df[data_final_df['icustay_id'].isin(valid_icustays)].reset_index(drop=True)\n",
    "data_test_df = data_final_df[data_final_df['icustay_id'].isin(test_icustays)].reset_index(drop=True)\n",
    "print('Done!')"
   ]
  },
  {
   "cell_type": "markdown",
   "id": "f25910e7-1159-466b-b81b-dc0dc4b8d780",
   "metadata": {},
   "source": [
    "## Imputation\n",
    "\n",
    "### Forward-Filling Imputation\n",
    "\n",
    "Lab results are made very infrequently, therefore most timesteps will miss these values. We follow (Roggeveen et al., 2021) and use forward-filling (or Last-Value Carried Forward Imputations) to impute these missing values:"
   ]
  },
  {
   "cell_type": "code",
   "execution_count": 73,
   "id": "ffc8c4ba-9013-4ba3-83b4-a122b290a68b",
   "metadata": {},
   "outputs": [],
   "source": [
    "# Columns corresponding to lab measurements\n",
    "FFILL_COLS = ['natrium', 'chloride', 'kalium', 'trombo', 'leu', 'anion_gap', 'aptt', 'art_ph', \n",
    "              'asat', 'alat', 'bicarbonaat', 'art_be', 'ion_ca', 'lactate', 'paco2', 'pao2', \n",
    "              'fio2', 'sirs_bands', 'shock_index', 'hb', 'bilirubin', 'creatinine', 'inr', \n",
    "              'ureum', 'albumin', 'magnesium', 'calcium', 'pf_ratio', 'glucose']"
   ]
  },
  {
   "cell_type": "code",
   "execution_count": 74,
   "id": "681707cc-b9a4-40ca-90fe-4b9022f33ec7",
   "metadata": {},
   "outputs": [],
   "source": [
    "for dataset in [data_train_df, data_valid_df, data_test_df]:\n",
    "    dataset.loc[:, FFILL_COLS] = dataset.groupby('icustay_id', sort=False)[FFILL_COLS].ffill()"
   ]
  },
  {
   "cell_type": "markdown",
   "id": "fc798950-245b-42a1-b90f-c0584c869b8f",
   "metadata": {},
   "source": [
    "**Sanity Check**"
   ]
  },
  {
   "cell_type": "code",
   "execution_count": 75,
   "id": "7def56e7-f2ac-47cd-998f-0f14175ca375",
   "metadata": {},
   "outputs": [
    {
     "data": {
      "image/png": "[encoded data removed]",
      "text/plain": [
       "<Figure size 432x288 with 1 Axes>"
      ]
     },
     "metadata": {
      "needs_background": "light"
     },
     "output_type": "display_data"
    }
   ],
   "source": [
    "icustay_id = random.choice(data_train_df.icustay_id.unique())\n",
    "icustay = data_train_df[data_train_df.icustay_id == icustay_id]\n",
    "\n",
    "plt.plot(icustay.timestep, icustay.creatinine)\n",
    "plt.title('Forward-filled Creatinine levels')\n",
    "plt.show()"
   ]
  },
  {
   "cell_type": "markdown",
   "id": "cbc9263c-0c49-4ae9-a902-9a9f4d10f2d4",
   "metadata": {},
   "source": [
    "### Linear Interpolation\n",
    "As sometimes only single points are missing between otherwise adjacent measurements we use linear interpolation to fill in these gaps. This prevents the possibility of the kNN imputer (next up) to add noise to these fairly certain values."
   ]
  },
  {
   "cell_type": "code",
   "execution_count": 76,
   "id": "c2292608-7507-4f5f-a58c-a2dbbd8d6f20",
   "metadata": {},
   "outputs": [],
   "source": [
    "# Columns corresponding to lab measurements\n",
    "INTERP_COLS = ['heart_rate', 'temp', 'mean_bp', 'dias_bp', 'sys_bp', 'resp_rate', 'spo2', \n",
    "               'running_total_urine_output', 'total_urine_output']"
   ]
  },
  {
   "cell_type": "code",
   "execution_count": 77,
   "id": "48478812-8f2d-44f9-b630-63c57a99e3d8",
   "metadata": {},
   "outputs": [
    {
     "name": "stderr",
     "output_type": "stream",
     "text": [
      "100%|████████████████████████████████████████████████████████████████████████████████████| 9/9 [00:35<00:00,  3.94s/it]\n",
      "100%|████████████████████████████████████████████████████████████████████████████████████| 9/9 [00:05<00:00,  1.75it/s]\n",
      "100%|████████████████████████████████████████████████████████████████████████████████████| 9/9 [00:09<00:00,  1.10s/it]\n"
     ]
    }
   ],
   "source": [
    "for dataset in [data_train_df, data_valid_df, data_test_df]:\n",
    "    icustay = dataset.groupby('icustay_id', sort=False)\n",
    "    for col in tqdm(INTERP_COLS):\n",
    "        dataset[col] = icustay[col].apply(lambda group: group.interpolate(method='linear', limit_area='inside', limit=1)) # Max 2 steps apart and no extrapolation!"
   ]
  },
  {
   "cell_type": "code",
   "execution_count": 85,
   "id": "4858765b-bc21-416c-8510-18a8e4bc8276",
   "metadata": {},
   "outputs": [
    {
     "data": {
      "image/png": "[encoded data removed]",
      "text/plain": [
       "<Figure size 432x288 with 1 Axes>"
      ]
     },
     "metadata": {
      "needs_background": "light"
     },
     "output_type": "display_data"
    }
   ],
   "source": [
    "icustay_id = random.choice(data_train_df.icustay_id.unique())\n",
    "icustay = data_train_df[data_train_df.icustay_id == icustay_id]\n",
    "\n",
    "plt.plot(icustay.timestep, icustay.resp_rate)\n",
    "plt.title('Linearly-interpolated Respiratory Rate')\n",
    "plt.show()"
   ]
  },
  {
   "cell_type": "markdown",
   "id": "83ec124e-9ca2-437e-91a3-dcd7368fe5d7",
   "metadata": {},
   "source": [
    "### KNN-based Imputation\n",
    "Some points that are missing lie 'outside' of the recorded set of measurements (i.e. there is no point to the left or right) or multiple-adjacent values are missing -- to resolve these we need extrapolation. To this end, we use a kNN-based imputation strategy with k=3."
   ]
  },
  {
   "cell_type": "code",
   "execution_count": 86,
   "id": "03398b4b-498c-4bd8-951f-32db42661c08",
   "metadata": {},
   "outputs": [],
   "source": [
    "# We define the field to be KNN imputed as the combined set of lab results and vitals\n",
    "IMPUTING_FIELDS = INTERP_COLS + FFILL_COLS"
   ]
  },
  {
   "cell_type": "code",
   "execution_count": 87,
   "id": "678b52a1-6449-4364-9d42-8073863480e6",
   "metadata": {},
   "outputs": [
    {
     "name": "stderr",
     "output_type": "stream",
     "text": [
      "train:  81%|████████████████████████████████████████████████████████▋             | 8543/10558 [12:59<03:09, 10.65it/s]c:\\users\\uw naam\\appdata\\local\\programs\\python\\python38\\lib\\site-packages\\fancyimpute\\solver.py:55: UserWarning: Input matrix is not missing any values\n",
      "  warnings.warn(\"Input matrix is not missing any values\")\n",
      "train: 100%|█████████████████████████████████████████████████████████████████████| 10558/10558 [16:02<00:00, 10.97it/s]\n",
      "valid: 100%|███████████████████████████████████████████████████████████████████████| 1508/1508 [00:25<00:00, 59.62it/s]\n",
      "test: 100%|████████████████████████████████████████████████████████████████████████| 3018/3018 [01:02<00:00, 48.37it/s]\n"
     ]
    },
    {
     "data": {
      "text/html": [
       "<div>\n",
       "<style scoped>\n",
       "    .dataframe tbody tr th:only-of-type {\n",
       "        vertical-align: middle;\n",
       "    }\n",
       "\n",
       "    .dataframe tbody tr th {\n",
       "        vertical-align: top;\n",
       "    }\n",
       "\n",
       "    .dataframe thead th {\n",
       "        text-align: right;\n",
       "    }\n",
       "</style>\n",
       "<table border=\"1\" class=\"dataframe\">\n",
       "  <thead>\n",
       "    <tr style=\"text-align: right;\">\n",
       "      <th></th>\n",
       "      <th>icustay_id</th>\n",
       "      <th>timestep</th>\n",
       "      <th>max_vaso</th>\n",
       "      <th>max_vaso_prev</th>\n",
       "      <th>total_iv_fluid</th>\n",
       "      <th>total_iv_fluid_prev</th>\n",
       "      <th>reward</th>\n",
       "      <th>sirs_score</th>\n",
       "      <th>sofa_score</th>\n",
       "      <th>weight</th>\n",
       "      <th>...</th>\n",
       "      <th>albumin</th>\n",
       "      <th>magnesium</th>\n",
       "      <th>calcium</th>\n",
       "      <th>pf_ratio</th>\n",
       "      <th>glucose</th>\n",
       "      <th>running_total_urine_output</th>\n",
       "      <th>total_urine_output</th>\n",
       "      <th>running_total_iv_fluid_prev</th>\n",
       "      <th>action</th>\n",
       "      <th>state_sirs</th>\n",
       "    </tr>\n",
       "  </thead>\n",
       "  <tbody>\n",
       "    <tr>\n",
       "      <th>0</th>\n",
       "      <td>226090</td>\n",
       "      <td>2122-04-13 01:35:00</td>\n",
       "      <td>0.0</td>\n",
       "      <td>0.0</td>\n",
       "      <td>0.0</td>\n",
       "      <td>0.0</td>\n",
       "      <td>0.0</td>\n",
       "      <td>4.0</td>\n",
       "      <td>5.0</td>\n",
       "      <td>99.2</td>\n",
       "      <td>...</td>\n",
       "      <td>36.0</td>\n",
       "      <td>0.8631</td>\n",
       "      <td>2.325</td>\n",
       "      <td>0.0</td>\n",
       "      <td>7.3815</td>\n",
       "      <td>0.0</td>\n",
       "      <td>0.0</td>\n",
       "      <td>NaN</td>\n",
       "      <td>0.0</td>\n",
       "      <td>-1.0</td>\n",
       "    </tr>\n",
       "    <tr>\n",
       "      <th>1</th>\n",
       "      <td>226090</td>\n",
       "      <td>2122-04-13 05:35:00</td>\n",
       "      <td>0.0</td>\n",
       "      <td>0.0</td>\n",
       "      <td>0.0</td>\n",
       "      <td>0.0</td>\n",
       "      <td>0.0</td>\n",
       "      <td>4.0</td>\n",
       "      <td>5.0</td>\n",
       "      <td>99.2</td>\n",
       "      <td>...</td>\n",
       "      <td>36.0</td>\n",
       "      <td>0.8631</td>\n",
       "      <td>2.325</td>\n",
       "      <td>0.0</td>\n",
       "      <td>7.3815</td>\n",
       "      <td>0.0</td>\n",
       "      <td>0.0</td>\n",
       "      <td>0.0</td>\n",
       "      <td>0.0</td>\n",
       "      <td>-1.0</td>\n",
       "    </tr>\n",
       "    <tr>\n",
       "      <th>2</th>\n",
       "      <td>226090</td>\n",
       "      <td>2122-04-13 09:35:00</td>\n",
       "      <td>0.0</td>\n",
       "      <td>0.0</td>\n",
       "      <td>0.0</td>\n",
       "      <td>0.0</td>\n",
       "      <td>0.0</td>\n",
       "      <td>4.0</td>\n",
       "      <td>5.0</td>\n",
       "      <td>99.2</td>\n",
       "      <td>...</td>\n",
       "      <td>36.0</td>\n",
       "      <td>0.8631</td>\n",
       "      <td>2.325</td>\n",
       "      <td>0.0</td>\n",
       "      <td>7.3815</td>\n",
       "      <td>0.0</td>\n",
       "      <td>0.0</td>\n",
       "      <td>0.0</td>\n",
       "      <td>0.0</td>\n",
       "      <td>-1.0</td>\n",
       "    </tr>\n",
       "    <tr>\n",
       "      <th>3</th>\n",
       "      <td>226090</td>\n",
       "      <td>2122-04-13 13:35:00</td>\n",
       "      <td>0.0</td>\n",
       "      <td>0.0</td>\n",
       "      <td>0.0</td>\n",
       "      <td>0.0</td>\n",
       "      <td>0.0</td>\n",
       "      <td>4.0</td>\n",
       "      <td>5.0</td>\n",
       "      <td>99.2</td>\n",
       "      <td>...</td>\n",
       "      <td>36.0</td>\n",
       "      <td>0.8631</td>\n",
       "      <td>2.325</td>\n",
       "      <td>0.0</td>\n",
       "      <td>7.3815</td>\n",
       "      <td>0.0</td>\n",
       "      <td>0.0</td>\n",
       "      <td>0.0</td>\n",
       "      <td>0.0</td>\n",
       "      <td>-1.0</td>\n",
       "    </tr>\n",
       "    <tr>\n",
       "      <th>4</th>\n",
       "      <td>226090</td>\n",
       "      <td>2122-04-13 17:35:00</td>\n",
       "      <td>0.0</td>\n",
       "      <td>0.0</td>\n",
       "      <td>0.0</td>\n",
       "      <td>0.0</td>\n",
       "      <td>0.0</td>\n",
       "      <td>4.0</td>\n",
       "      <td>5.0</td>\n",
       "      <td>99.2</td>\n",
       "      <td>...</td>\n",
       "      <td>36.0</td>\n",
       "      <td>0.8631</td>\n",
       "      <td>2.325</td>\n",
       "      <td>0.0</td>\n",
       "      <td>7.3815</td>\n",
       "      <td>0.0</td>\n",
       "      <td>0.0</td>\n",
       "      <td>0.0</td>\n",
       "      <td>0.0</td>\n",
       "      <td>-1.0</td>\n",
       "    </tr>\n",
       "  </tbody>\n",
       "</table>\n",
       "<p>5 rows × 55 columns</p>\n",
       "</div>"
      ],
      "text/plain": [
       "   icustay_id            timestep  max_vaso  max_vaso_prev  total_iv_fluid  \\\n",
       "0      226090 2122-04-13 01:35:00       0.0            0.0             0.0   \n",
       "1      226090 2122-04-13 05:35:00       0.0            0.0             0.0   \n",
       "2      226090 2122-04-13 09:35:00       0.0            0.0             0.0   \n",
       "3      226090 2122-04-13 13:35:00       0.0            0.0             0.0   \n",
       "4      226090 2122-04-13 17:35:00       0.0            0.0             0.0   \n",
       "\n",
       "   total_iv_fluid_prev  reward  sirs_score  sofa_score  weight  ...  albumin  \\\n",
       "0                  0.0     0.0         4.0         5.0    99.2  ...     36.0   \n",
       "1                  0.0     0.0         4.0         5.0    99.2  ...     36.0   \n",
       "2                  0.0     0.0         4.0         5.0    99.2  ...     36.0   \n",
       "3                  0.0     0.0         4.0         5.0    99.2  ...     36.0   \n",
       "4                  0.0     0.0         4.0         5.0    99.2  ...     36.0   \n",
       "\n",
       "   magnesium  calcium  pf_ratio  glucose  running_total_urine_output  \\\n",
       "0     0.8631    2.325       0.0   7.3815                         0.0   \n",
       "1     0.8631    2.325       0.0   7.3815                         0.0   \n",
       "2     0.8631    2.325       0.0   7.3815                         0.0   \n",
       "3     0.8631    2.325       0.0   7.3815                         0.0   \n",
       "4     0.8631    2.325       0.0   7.3815                         0.0   \n",
       "\n",
       "   total_urine_output  running_total_iv_fluid_prev  action  state_sirs  \n",
       "0                 0.0                          NaN     0.0        -1.0  \n",
       "1                 0.0                          0.0     0.0        -1.0  \n",
       "2                 0.0                          0.0     0.0        -1.0  \n",
       "3                 0.0                          0.0     0.0        -1.0  \n",
       "4                 0.0                          0.0     0.0        -1.0  \n",
       "\n",
       "[5 rows x 55 columns]"
      ]
     },
     "execution_count": 87,
     "metadata": {},
     "output_type": "execute_result"
    }
   ],
   "source": [
    "# Training\n",
    "for icustay_id in tqdm(train_icustays, desc='train'):\n",
    "    X_incomplete = data_train_df.loc[data_train_df['icustay_id'] == icustay_id][IMPUTING_FIELDS]\n",
    "    data_train_df.loc[data_train_df['icustay_id'] == icustay_id, IMPUTING_FIELDS] = KNN(k=3, verbose=False).fit_transform(X_incomplete)\n",
    "    \n",
    "# Validation\n",
    "for icustay_id in tqdm(valid_icustays, desc='valid'):\n",
    "    X_incomplete = data_valid_df.loc[data_valid_df['icustay_id'] == icustay_id][IMPUTING_FIELDS]\n",
    "    data_valid_df.loc[data_valid_df['icustay_id'] == icustay_id, IMPUTING_FIELDS] = KNN(k=3, verbose=False).fit_transform(X_incomplete)\n",
    "    \n",
    "# Test\n",
    "for icustay_id in tqdm(test_icustays, desc='test'):\n",
    "    X_incomplete = data_test_df.loc[data_test_df['icustay_id'] == icustay_id][IMPUTING_FIELDS]\n",
    "    data_test_df.loc[data_test_df['icustay_id'] == icustay_id, IMPUTING_FIELDS] = KNN(k=3, verbose=False).fit_transform(X_incomplete)\n",
    "\n",
    "data_train_df.head()"
   ]
  },
  {
   "cell_type": "markdown",
   "id": "1407e63f-8c1d-4ba9-819c-04fc237d826a",
   "metadata": {},
   "source": [
    "<br>\n",
    "\n",
    "Lagged features may have `NaN` as their first entry within each admission. We replace these with their most likely value using backfilling;"
   ]
  },
  {
   "cell_type": "code",
   "execution_count": 88,
   "id": "a317b121-c526-4bb2-a812-b66d9825c8a4",
   "metadata": {},
   "outputs": [],
   "source": [
    "BFILL_COLS = ['total_iv_fluid_prev', 'running_total_iv_fluid_prev', 'max_vaso_prev']"
   ]
  },
  {
   "cell_type": "code",
   "execution_count": 89,
   "id": "0639f20a-1de9-47f3-9870-b36568ffc296",
   "metadata": {},
   "outputs": [],
   "source": [
    "for dataset in [data_train_df, data_valid_df, data_test_df]:\n",
    "    dataset.loc[:, BFILL_COLS] = dataset.groupby('icustay_id', sort=False)[BFILL_COLS].backfill()"
   ]
  },
  {
   "cell_type": "markdown",
   "id": "e6d5088c-19d2-4da1-978c-46412b91a218",
   "metadata": {},
   "source": [
    "## Feature Normalization\n",
    "To satisfy the input assumptions of neural networks, we normalize the input features to be centered and approximately normal. To this end, we perform various transformations (e.g. log transforms) to standardize the data. These transformations are guided by the value distributions seen in the [exploratory data analysis](https://github.com/thomas097/Haemodynamic-Optimization-Reinforcement-Learning/tree/main/exploratory_analysis) (EDA);"
   ]
  },
  {
   "cell_type": "code",
   "execution_count": 114,
   "id": "22ed9e47-d2be-4f5f-ab87-bb6ec91b5b13",
   "metadata": {},
   "outputs": [],
   "source": [
    "# Which field need to be log-transformed was found in the EDA\n",
    "BINARY_FIELDS = ['ventilator', 'gender']\n",
    "LOG_FIELDS = ['max_vaso_prev', 'spo2', 'ureum', 'creatinine', 'alat', 'asat', 'bilirubin', 'inr', 'total_iv_fluid_prev', \n",
    "              'running_total_iv_fluid_prev', 'running_total_urine_output', 'total_urine_output']\n",
    "EXCLUDE = ['icustay_id', 'timestep', 'reward', 'state_sirs', 'action', 'max_vaso', 'total_iv_fluid']"
   ]
  },
  {
   "cell_type": "markdown",
   "id": "33cce673-0875-44c8-b12a-7c529f122659",
   "metadata": {},
   "source": [
    "### Z-scoring and Log-transforms"
   ]
  },
  {
   "cell_type": "code",
   "execution_count": 94,
   "id": "ef8cfe43-db9d-48b9-84dd-da6f865d2424",
   "metadata": {},
   "outputs": [
    {
     "name": "stderr",
     "output_type": "stream",
     "text": [
      "100%|█████████████████████████████████████████████████████████████████████████████████| 55/55 [00:00<00:00, 288.91it/s]\n",
      "100%|█████████████████████████████████████████████████████████████████████████████████| 55/55 [00:00<00:00, 556.59it/s]\n",
      "100%|█████████████████████████████████████████████████████████████████████████████████| 55/55 [00:00<00:00, 867.44it/s]"
     ]
    },
    {
     "name": "stdout",
     "output_type": "stream",
     "text": [
      "Done!\n"
     ]
    },
    {
     "name": "stderr",
     "output_type": "stream",
     "text": [
      "\n"
     ]
    }
   ],
   "source": [
    "# Compute training set averages and stdevs\n",
    "avgs, stds = dict(), dict()\n",
    "for col in data_train_df.columns:\n",
    "    if col not in EXCLUDE:\n",
    "        avgs[col] = data_train_df[col].mean() # training set mean\n",
    "        stds[col] = data_train_df[col].std()  # training set std\n",
    "\n",
    "# Perform normalization with values from data_train_df\n",
    "for df in [data_train_df, data_valid_df, data_test_df]:\n",
    "    for col in tqdm(df.columns):\n",
    "        if col not in EXCLUDE:\n",
    "            if col in BINARY_FIELDS:\n",
    "                # Binary\n",
    "                df[col] = df[col] - 0.5\n",
    "            elif col in LOG_FIELDS:\n",
    "                # Log\n",
    "                df[col] = np.log(0.1 + df[col])\n",
    "            else:\n",
    "                # Linear\n",
    "                df[col] = (df[col] - avgs[col]) / stds[col]\n",
    "                \n",
    "print('Done!')"
   ]
  },
  {
   "cell_type": "markdown",
   "id": "31551fe1-f0cf-4d14-bb48-14c525eea68c",
   "metadata": {},
   "source": [
    "### MinMax Normalization\n",
    "After Z-scoring Roggeveen et al. scales all features using MinMax normalization, which we will repeat for good measure (although it undoes some of the previous normalization steps);"
   ]
  },
  {
   "cell_type": "code",
   "execution_count": 95,
   "id": "9cec3a09-5d22-4eba-a5f8-fd7187b36caf",
   "metadata": {},
   "outputs": [
    {
     "name": "stderr",
     "output_type": "stream",
     "text": [
      "100%|█████████████████████████████████████████████████████████████████████████████████| 55/55 [00:00<00:00, 162.41it/s]"
     ]
    },
    {
     "name": "stdout",
     "output_type": "stream",
     "text": [
      "Done!\n"
     ]
    },
    {
     "name": "stderr",
     "output_type": "stream",
     "text": [
      "\n"
     ]
    }
   ],
   "source": [
    "for col in tqdm(df.columns):\n",
    "    if col not in EXCLUDE:\n",
    "        # Min/max estimates from training set!\n",
    "        train_min = data_train_df[col].min()\n",
    "        train_max = data_train_df[col].max()\n",
    "        \n",
    "        data_train_df[col] = (data_train_df[col] - train_min) / (train_max - train_min)\n",
    "        data_valid_df[col] = (data_valid_df[col] - train_min) / (train_max - train_min)\n",
    "        data_test_df[col] = (data_test_df[col] - train_min) / (train_max - train_min)\n",
    "        \n",
    "print('Done!')"
   ]
  },
  {
   "cell_type": "code",
   "execution_count": 96,
   "id": "c3628ef4-0cc1-410f-aca4-43b2c1f3c9a5",
   "metadata": {},
   "outputs": [
    {
     "data": {
      "text/html": [
       "<div>\n",
       "<style scoped>\n",
       "    .dataframe tbody tr th:only-of-type {\n",
       "        vertical-align: middle;\n",
       "    }\n",
       "\n",
       "    .dataframe tbody tr th {\n",
       "        vertical-align: top;\n",
       "    }\n",
       "\n",
       "    .dataframe thead th {\n",
       "        text-align: right;\n",
       "    }\n",
       "</style>\n",
       "<table border=\"1\" class=\"dataframe\">\n",
       "  <thead>\n",
       "    <tr style=\"text-align: right;\">\n",
       "      <th></th>\n",
       "      <th>icustay_id</th>\n",
       "      <th>timestep</th>\n",
       "      <th>max_vaso</th>\n",
       "      <th>max_vaso_prev</th>\n",
       "      <th>total_iv_fluid</th>\n",
       "      <th>total_iv_fluid_prev</th>\n",
       "      <th>reward</th>\n",
       "      <th>sirs_score</th>\n",
       "      <th>sofa_score</th>\n",
       "      <th>weight</th>\n",
       "      <th>...</th>\n",
       "      <th>albumin</th>\n",
       "      <th>magnesium</th>\n",
       "      <th>calcium</th>\n",
       "      <th>pf_ratio</th>\n",
       "      <th>glucose</th>\n",
       "      <th>running_total_urine_output</th>\n",
       "      <th>total_urine_output</th>\n",
       "      <th>running_total_iv_fluid_prev</th>\n",
       "      <th>action</th>\n",
       "      <th>state_sirs</th>\n",
       "    </tr>\n",
       "  </thead>\n",
       "  <tbody>\n",
       "    <tr>\n",
       "      <th>0</th>\n",
       "      <td>226090</td>\n",
       "      <td>2122-04-13 01:35:00</td>\n",
       "      <td>0.0</td>\n",
       "      <td>0.0</td>\n",
       "      <td>0.0</td>\n",
       "      <td>0.0</td>\n",
       "      <td>0.0</td>\n",
       "      <td>1.0</td>\n",
       "      <td>0.15</td>\n",
       "      <td>0.227692</td>\n",
       "      <td>...</td>\n",
       "      <td>0.666667</td>\n",
       "      <td>0.43155</td>\n",
       "      <td>0.775</td>\n",
       "      <td>0.0</td>\n",
       "      <td>0.24605</td>\n",
       "      <td>0.0</td>\n",
       "      <td>0.0</td>\n",
       "      <td>0.0</td>\n",
       "      <td>0.0</td>\n",
       "      <td>-1.0</td>\n",
       "    </tr>\n",
       "    <tr>\n",
       "      <th>1</th>\n",
       "      <td>226090</td>\n",
       "      <td>2122-04-13 05:35:00</td>\n",
       "      <td>0.0</td>\n",
       "      <td>0.0</td>\n",
       "      <td>0.0</td>\n",
       "      <td>0.0</td>\n",
       "      <td>0.0</td>\n",
       "      <td>1.0</td>\n",
       "      <td>0.15</td>\n",
       "      <td>0.227692</td>\n",
       "      <td>...</td>\n",
       "      <td>0.666667</td>\n",
       "      <td>0.43155</td>\n",
       "      <td>0.775</td>\n",
       "      <td>0.0</td>\n",
       "      <td>0.24605</td>\n",
       "      <td>0.0</td>\n",
       "      <td>0.0</td>\n",
       "      <td>0.0</td>\n",
       "      <td>0.0</td>\n",
       "      <td>-1.0</td>\n",
       "    </tr>\n",
       "    <tr>\n",
       "      <th>2</th>\n",
       "      <td>226090</td>\n",
       "      <td>2122-04-13 09:35:00</td>\n",
       "      <td>0.0</td>\n",
       "      <td>0.0</td>\n",
       "      <td>0.0</td>\n",
       "      <td>0.0</td>\n",
       "      <td>0.0</td>\n",
       "      <td>1.0</td>\n",
       "      <td>0.15</td>\n",
       "      <td>0.227692</td>\n",
       "      <td>...</td>\n",
       "      <td>0.666667</td>\n",
       "      <td>0.43155</td>\n",
       "      <td>0.775</td>\n",
       "      <td>0.0</td>\n",
       "      <td>0.24605</td>\n",
       "      <td>0.0</td>\n",
       "      <td>0.0</td>\n",
       "      <td>0.0</td>\n",
       "      <td>0.0</td>\n",
       "      <td>-1.0</td>\n",
       "    </tr>\n",
       "    <tr>\n",
       "      <th>3</th>\n",
       "      <td>226090</td>\n",
       "      <td>2122-04-13 13:35:00</td>\n",
       "      <td>0.0</td>\n",
       "      <td>0.0</td>\n",
       "      <td>0.0</td>\n",
       "      <td>0.0</td>\n",
       "      <td>0.0</td>\n",
       "      <td>1.0</td>\n",
       "      <td>0.15</td>\n",
       "      <td>0.227692</td>\n",
       "      <td>...</td>\n",
       "      <td>0.666667</td>\n",
       "      <td>0.43155</td>\n",
       "      <td>0.775</td>\n",
       "      <td>0.0</td>\n",
       "      <td>0.24605</td>\n",
       "      <td>0.0</td>\n",
       "      <td>0.0</td>\n",
       "      <td>0.0</td>\n",
       "      <td>0.0</td>\n",
       "      <td>-1.0</td>\n",
       "    </tr>\n",
       "    <tr>\n",
       "      <th>4</th>\n",
       "      <td>226090</td>\n",
       "      <td>2122-04-13 17:35:00</td>\n",
       "      <td>0.0</td>\n",
       "      <td>0.0</td>\n",
       "      <td>0.0</td>\n",
       "      <td>0.0</td>\n",
       "      <td>0.0</td>\n",
       "      <td>1.0</td>\n",
       "      <td>0.15</td>\n",
       "      <td>0.227692</td>\n",
       "      <td>...</td>\n",
       "      <td>0.666667</td>\n",
       "      <td>0.43155</td>\n",
       "      <td>0.775</td>\n",
       "      <td>0.0</td>\n",
       "      <td>0.24605</td>\n",
       "      <td>0.0</td>\n",
       "      <td>0.0</td>\n",
       "      <td>0.0</td>\n",
       "      <td>0.0</td>\n",
       "      <td>-1.0</td>\n",
       "    </tr>\n",
       "  </tbody>\n",
       "</table>\n",
       "<p>5 rows × 55 columns</p>\n",
       "</div>"
      ],
      "text/plain": [
       "   icustay_id            timestep  max_vaso  max_vaso_prev  total_iv_fluid  \\\n",
       "0      226090 2122-04-13 01:35:00       0.0            0.0             0.0   \n",
       "1      226090 2122-04-13 05:35:00       0.0            0.0             0.0   \n",
       "2      226090 2122-04-13 09:35:00       0.0            0.0             0.0   \n",
       "3      226090 2122-04-13 13:35:00       0.0            0.0             0.0   \n",
       "4      226090 2122-04-13 17:35:00       0.0            0.0             0.0   \n",
       "\n",
       "   total_iv_fluid_prev  reward  sirs_score  sofa_score    weight  ...  \\\n",
       "0                  0.0     0.0         1.0        0.15  0.227692  ...   \n",
       "1                  0.0     0.0         1.0        0.15  0.227692  ...   \n",
       "2                  0.0     0.0         1.0        0.15  0.227692  ...   \n",
       "3                  0.0     0.0         1.0        0.15  0.227692  ...   \n",
       "4                  0.0     0.0         1.0        0.15  0.227692  ...   \n",
       "\n",
       "    albumin  magnesium  calcium  pf_ratio  glucose  \\\n",
       "0  0.666667    0.43155    0.775       0.0  0.24605   \n",
       "1  0.666667    0.43155    0.775       0.0  0.24605   \n",
       "2  0.666667    0.43155    0.775       0.0  0.24605   \n",
       "3  0.666667    0.43155    0.775       0.0  0.24605   \n",
       "4  0.666667    0.43155    0.775       0.0  0.24605   \n",
       "\n",
       "   running_total_urine_output  total_urine_output  \\\n",
       "0                         0.0                 0.0   \n",
       "1                         0.0                 0.0   \n",
       "2                         0.0                 0.0   \n",
       "3                         0.0                 0.0   \n",
       "4                         0.0                 0.0   \n",
       "\n",
       "   running_total_iv_fluid_prev  action  state_sirs  \n",
       "0                          0.0     0.0        -1.0  \n",
       "1                          0.0     0.0        -1.0  \n",
       "2                          0.0     0.0        -1.0  \n",
       "3                          0.0     0.0        -1.0  \n",
       "4                          0.0     0.0        -1.0  \n",
       "\n",
       "[5 rows x 55 columns]"
      ]
     },
     "execution_count": 96,
     "metadata": {},
     "output_type": "execute_result"
    }
   ],
   "source": [
    "data_train_df.head()"
   ]
  },
  {
   "cell_type": "markdown",
   "id": "235207c5-a906-4bf0-881b-413a5878614c",
   "metadata": {},
   "source": [
    "## Rename Columns to `X*`\n",
    "\n",
    "In the source code we may wish to refer to the list of features without defining the names of the features each time, i.e. `['heart_rate', 'albumin', 'leu', 'resp_rate', 'fio2', ...]` etc. Much easier is to simply refer to the columns as `x0` to `x49` which we can create procedurally. Below we will define a mapping from state-space features to their `x*`equivalents;"
   ]
  },
  {
   "cell_type": "code",
   "execution_count": 97,
   "id": "581b334f-f869-42ea-b041-28522337de58",
   "metadata": {},
   "outputs": [],
   "source": [
    "STATE_SPACE_COLUMNS = ['max_vaso_prev', 'total_iv_fluid_prev', 'sirs_score', 'sofa_score', 'weight', 'ventilator', 'height', 'age', 'gender',\n",
    "                       'heart_rate', 'temp', 'mean_bp', 'dias_bp', 'sys_bp', 'resp_rate', 'spo2', 'natrium', 'chloride', 'kalium', 'trombo', \n",
    "                       'leu', 'anion_gap', 'aptt', 'art_ph', 'asat', 'alat', 'bicarbonaat', 'art_be', 'ion_ca', 'lactate', 'paco2', 'pao2', \n",
    "                       'fio2', 'sirs_bands', 'shock_index', 'hb', 'bilirubin', 'creatinine', 'inr', 'ureum', 'albumin', 'magnesium', 'calcium', \n",
    "                       'pf_ratio', 'glucose', 'running_total_urine_output', 'total_urine_output', 'running_total_iv_fluid_prev']\n",
    "\n",
    "# Check if all features in `data_train_df`\n",
    "for col in STATE_SPACE_COLUMNS:\n",
    "    if col not in data_train_df:\n",
    "        raise Exception('%s not in data_train_df' % col)\n",
    "\n",
    "# Write out file for later reference\n",
    "with open(OUTPUT_DIR + 'state_space_features.txt', 'w') as f:\n",
    "    for col in STATE_SPACE_COLUMNS:\n",
    "        f.write(\"%s\\n\" % col)"
   ]
  },
  {
   "cell_type": "code",
   "execution_count": 98,
   "id": "4069132a-63d3-479e-a685-eee1343f9101",
   "metadata": {},
   "outputs": [],
   "source": [
    "# Create x* name for each column\n",
    "new_state_space_columns = {feat:'x%s' % i for i, feat in enumerate(STATE_SPACE_COLUMNS)}\n",
    "\n",
    "# Replace 'icustay_id' by 'episode'\n",
    "new_state_space_columns['icustay_id'] = 'episode'\n",
    "\n",
    "# Rename columns\n",
    "data_train_df = data_train_df.rename(columns=new_state_space_columns)\n",
    "data_valid_df = data_valid_df.rename(columns=new_state_space_columns)\n",
    "data_test_df = data_test_df.rename(columns=new_state_space_columns)"
   ]
  },
  {
   "cell_type": "code",
   "execution_count": 99,
   "id": "ce03d4e5-31e1-4304-b04a-e818f8d0c52d",
   "metadata": {},
   "outputs": [
    {
     "data": {
      "text/plain": [
       "Index(['episode', 'timestep', 'max_vaso', 'x0', 'total_iv_fluid', 'x1',\n",
       "       'reward', 'x2', 'x3', 'x4', 'x5', 'x6', 'x7', 'x8', 'x9', 'x10', 'x11',\n",
       "       'x12', 'x13', 'x14', 'x15', 'x16', 'x17', 'x18', 'x19', 'x20', 'x21',\n",
       "       'x22', 'x23', 'x24', 'x25', 'x26', 'x27', 'x28', 'x29', 'x30', 'x31',\n",
       "       'x32', 'x33', 'x34', 'x35', 'x36', 'x37', 'x38', 'x39', 'x40', 'x41',\n",
       "       'x42', 'x43', 'x44', 'x45', 'x46', 'x47', 'action', 'state_sirs'],\n",
       "      dtype='object')"
      ]
     },
     "execution_count": 99,
     "metadata": {},
     "output_type": "execute_result"
    }
   ],
   "source": [
    "data_train_df.columns"
   ]
  },
  {
   "cell_type": "markdown",
   "id": "7f57697e-3fe8-4d12-bdda-537619a98b6f",
   "metadata": {},
   "source": [
    "## Drop Impossible Actions\n",
    "\n",
    "Just in case there are any, drop instances where no IV fluids are given but vasopressor is administered (actions 0-4). This should not be possible as vasopressors are, in fact, fluids themselves!"
   ]
  },
  {
   "cell_type": "code",
   "execution_count": 152,
   "id": "2fc514fe-9119-4edc-9d84-09811dd7dec8",
   "metadata": {},
   "outputs": [],
   "source": [
    "DISALLOWED_ACTIONS = [1, 2, 3, 4]"
   ]
  },
  {
   "cell_type": "code",
   "execution_count": 156,
   "id": "492725ee-66e6-4850-ad3e-f2893e2d0cba",
   "metadata": {},
   "outputs": [
    {
     "name": "stdout",
     "output_type": "stream",
     "text": [
      "Dropping 0\n",
      "Dropping 0\n",
      "Dropping 0\n"
     ]
    }
   ],
   "source": [
    "for dataset in [data_train_df, data_valid_df, data_test_df]:\n",
    "    not_allowed = dataset.action.isin(DISALLOWED_ACTIONS)\n",
    "    print('Dropping', np.sum(not_allowed))\n",
    "    dataset.loc[not_allowed, 'action'] = 0"
   ]
  },
  {
   "cell_type": "code",
   "execution_count": 167,
   "id": "0043112b-17e1-496d-bd72-48e8c30c2ec6",
   "metadata": {},
   "outputs": [
    {
     "data": {
      "text/plain": [
       "0"
      ]
     },
     "execution_count": 167,
     "metadata": {},
     "output_type": "execute_result"
    }
   ],
   "source": [
    "# How many 1's are still in the training dataset?\n",
    "np.sum(data_train_df.action == 1)"
   ]
  },
  {
   "cell_type": "markdown",
   "id": "b4c2345f-fa7c-4f0c-a608-cd2d8c7b7fd7",
   "metadata": {},
   "source": [
    "## Final Details"
   ]
  },
  {
   "cell_type": "code",
   "execution_count": 168,
   "id": "48caec95-ec65-4da4-b279-76a912d10658",
   "metadata": {},
   "outputs": [
    {
     "name": "stderr",
     "output_type": "stream",
     "text": [
      "C:\\Users\\UWNAAM~1\\AppData\\Local\\Temp/ipykernel_12612/177892729.py:5: FutureWarning: DataFrame.mean and DataFrame.median with numeric_only=None will include datetime64 and datetime64tz columns in a future version.\n",
      "  data_train_df.fillna((data_train_df.mean(axis=0)), inplace=True)\n",
      "C:\\Users\\UWNAAM~1\\AppData\\Local\\Temp/ipykernel_12612/177892729.py:6: FutureWarning: DataFrame.mean and DataFrame.median with numeric_only=None will include datetime64 and datetime64tz columns in a future version.\n",
      "  data_valid_df.fillna((data_train_df.mean(axis=0)), inplace=True)\n",
      "C:\\Users\\UWNAAM~1\\AppData\\Local\\Temp/ipykernel_12612/177892729.py:7: FutureWarning: DataFrame.mean and DataFrame.median with numeric_only=None will include datetime64 and datetime64tz columns in a future version.\n",
      "  data_test_df.fillna((data_train_df.mean(axis=0)), inplace=True)\n"
     ]
    }
   ],
   "source": [
    "# Sort by timestep\n",
    "data_train_df = data_train_df.sort_values(['episode', 'timestep'])\n",
    "data_valid_df = data_valid_df.sort_values(['episode', 'timestep'])\n",
    "data_test_df = data_test_df.sort_values(['episode', 'timestep'])\n",
    "\n",
    "# Fill any missing values that may be lingering with the column average\n",
    "data_train_df.fillna((data_train_df.mean(axis=0)), inplace=True, numeric_only=True)\n",
    "data_valid_df.fillna((data_train_df.mean(axis=0)), inplace=True, numeric_only=True)\n",
    "data_test_df.fillna((data_train_df.mean(axis=0)), inplace=True, numeric_only=True)"
   ]
  },
  {
   "cell_type": "markdown",
   "id": "b0c2590f-52b4-4221-b0a1-d7991300f69a",
   "metadata": {},
   "source": [
    "## Export Datasets"
   ]
  },
  {
   "cell_type": "code",
   "execution_count": 173,
   "id": "b7145e3d",
   "metadata": {},
   "outputs": [
    {
     "name": "stdout",
     "output_type": "stream",
     "text": [
      "Done!\n"
     ]
    }
   ],
   "source": [
    "# Don't forget to save!!\n",
    "data_train_df.to_csv(OUTPUT_DIR + 'mimic-iii_train.csv', index=False)\n",
    "data_valid_df.to_csv(OUTPUT_DIR + 'mimic-iii_valid.csv', index=False)\n",
    "data_test_df.to_csv(OUTPUT_DIR + 'mimic-iii_test.csv', index=False)\n",
    "print('Done!')"
   ]
  },
  {
   "cell_type": "markdown",
   "id": "0055db50",
   "metadata": {},
   "source": [
    "#### Memory Usage"
   ]
  },
  {
   "cell_type": "code",
   "execution_count": 174,
   "id": "ff06c2d5",
   "metadata": {},
   "outputs": [
    {
     "name": "stdout",
     "output_type": "stream",
     "text": [
      "Number of ICU-stay ids: 15084\n",
      "Expected memory usage of dataset: 0.11GB\n"
     ]
    }
   ],
   "source": [
    "# Size of current dataset with current ICU stays\n",
    "num_icustay_ids = len(data_final_df['icustay_id'].unique())\n",
    "print('Number of ICU-stay ids:', num_icustay_ids)\n",
    "\n",
    "full_df_gigs = data_final_df.memory_usage(deep=True).sum() / (1 << 30)\n",
    "print('Expected memory usage of dataset: %sGB' % round(full_df_gigs, 2)) "
   ]
  },
  {
   "cell_type": "markdown",
   "id": "a158e1cb",
   "metadata": {},
   "source": [
    "---\n",
    "\n",
    "## Sanity Checks"
   ]
  },
  {
   "cell_type": "code",
   "execution_count": 175,
   "id": "3c627372",
   "metadata": {},
   "outputs": [
    {
     "data": {
      "image/png": "[encoded data removed]",
      "text/plain": [
       "<Figure size 864x576 with 1 Axes>"
      ]
     },
     "metadata": {
      "needs_background": "light"
     },
     "output_type": "display_data"
    }
   ],
   "source": [
    "# Limit plot to one ICU stay\n",
    "icustay_id = random.choice(list(data_train_df['episode'].unique()))\n",
    "icustay_df = data_train_df[data_train_df['episode'] == icustay_id]\n",
    "\n",
    "# Plot interesting columns\n",
    "plt.figure(figsize=(12, 8))\n",
    "for col in icustay_df.columns:\n",
    "    if col not in EXCLUDE + ['episode']:\n",
    "        plt.plot(icustay_df['timestep'], icustay_df[col], label=col, marker='.')\n",
    "        \n",
    "plt.title('Final dataset for ICUSTAY = %s' % icustay_id)\n",
    "plt.legend(ncol=3, prop={'size': 8})\n",
    "plt.show()"
   ]
  },
  {
   "cell_type": "code",
   "execution_count": 162,
   "id": "774dcce3-ef1c-4dc4-a915-11587d9870b1",
   "metadata": {},
   "outputs": [
    {
     "data": {
      "image/png": "[encoded data removed]",
      "text/plain": [
       "<Figure size 1152x432 with 3 Axes>"
      ]
     },
     "metadata": {
      "needs_background": "light"
     },
     "output_type": "display_data"
    }
   ],
   "source": [
    "# Limit plot to one ICU stay\n",
    "icustay_id = random.choice(list(data_train_df['episode'].unique()))\n",
    "icustay_df = data_train_df[data_train_df['episode'] == icustay_id]\n",
    "\n",
    "# Plot interesting columns\n",
    "plt.figure(figsize=(16, 6))\n",
    "plt.subplot(1, 3, 1)\n",
    "plt.title('action')\n",
    "plt.plot(icustay_df['timestep'], icustay_df['action'], marker='.')\n",
    "\n",
    "plt.subplot(1, 3, 2)\n",
    "plt.title('max_vaso')\n",
    "plt.plot(icustay_df['timestep'], icustay_df['max_vaso'], marker='.')\n",
    "\n",
    "plt.subplot(1, 3, 3)\n",
    "plt.title('total_iv_fluid')\n",
    "plt.plot(icustay_df['timestep'], icustay_df['total_iv_fluid'], marker='.')\n",
    "        \n",
    "plt.suptitle('Actions for ICUSTAY = %s' % icustay_id)\n",
    "plt.show()"
   ]
  },
  {
   "cell_type": "markdown",
   "id": "c375e039-eacb-457e-95cf-45242c4bd72c",
   "metadata": {},
   "source": [
    "### General Statistics"
   ]
  },
  {
   "cell_type": "code",
   "execution_count": 107,
   "id": "c307b31a-61d3-4a80-92ab-eefbc185b9c8",
   "metadata": {},
   "outputs": [
    {
     "name": "stdout",
     "output_type": "stream",
     "text": [
      "Admissions:\n",
      "Train: 10558\n",
      "Valid: 1508\n",
      "Test:  3018\n"
     ]
    }
   ],
   "source": [
    "train_df = pd.read_csv(OUTPUT_DIR + '/mimic-iii_train.csv')\n",
    "print('Admissions:')\n",
    "print('Train:', len(data_train_df['episode'].unique()))\n",
    "print('Valid:', len(data_valid_df['episode'].unique()))\n",
    "print('Test: ', len(data_test_df['episode'].unique()))"
   ]
  },
  {
   "cell_type": "code",
   "execution_count": 134,
   "id": "17b847f6-ff80-46f8-a777-013f979cec86",
   "metadata": {},
   "outputs": [
    {
     "name": "stdout",
     "output_type": "stream",
     "text": [
      "Training admissions with actions: 10558\n"
     ]
    }
   ],
   "source": [
    "actionable_episodes = (train_df.groupby('episode')['action'].max() > 0).sum()\n",
    "print('Training admissions with actions:', actionable_episodes)"
   ]
  },
  {
   "cell_type": "code",
   "execution_count": null,
   "id": "126673cf-933b-4f42-b670-336d4d70857c",
   "metadata": {},
   "outputs": [],
   "source": []
  }
 ],
 "metadata": {
  "kernelspec": {
   "display_name": "Python 3 (ipykernel)",
   "language": "python",
   "name": "python3"
  },
  "language_info": {
   "codemirror_mode": {
    "name": "ipython",
    "version": 3
   },
   "file_extension": ".py",
   "mimetype": "text/x-python",
   "name": "python",
   "nbconvert_exporter": "python",
   "pygments_lexer": "ipython3",
   "version": "3.8.10"
  },
  "toc-showmarkdowntxt": false
 },
 "nbformat": 4,
 "nbformat_minor": 5
}
