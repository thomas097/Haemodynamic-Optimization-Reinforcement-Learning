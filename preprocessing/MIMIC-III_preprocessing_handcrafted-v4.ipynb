{
 "cells": [
  {
   "cell_type": "markdown",
   "id": "126b6815",
   "metadata": {},
   "source": [
    "# Notebook to Preprocess MIMIC-III v1.4 Data Files\n",
    "\n",
    "In this notebook we will preprocess the CSV files in `data/mimic-iii/final` directory, extracted by the MIMIC-CODE library from the original MIMIC-III v1.4 dataset, in order to be used by our reinforcement learning agent. In particular this notebook will decribe the preprocessing for the **handcrafted state-space** approach as described in [Roggeveen et al.](https://www.sciencedirect.com/science/article/pii/S0933365720312689)."
   ]
  },
  {
   "cell_type": "code",
   "execution_count": 1,
   "id": "b2081bae",
   "metadata": {},
   "outputs": [],
   "source": [
    "import pandas as pd\n",
    "import numpy as np\n",
    "from datetime import timedelta\n",
    "from tqdm import tqdm\n",
    "import pickle\n",
    "\n",
    "DATA_DIR = '../data/mimic-iii/final/'"
   ]
  },
  {
   "cell_type": "markdown",
   "id": "00965527",
   "metadata": {},
   "source": [
    "---\n",
    "## Patient Cohort\n",
    "\n",
    "Using MIMIC-CODE we have extracted a Sepsis-3 cohort (i.e. a list of patients satisfying the Sepsis-3 criteria) along with information regarding the suspected time of infection. Let's first import these data;"
   ]
  },
  {
   "cell_type": "code",
   "execution_count": 2,
   "id": "265855f8",
   "metadata": {},
   "outputs": [
    {
     "data": {
      "text/html": [
       "<div>\n",
       "<style scoped>\n",
       "    .dataframe tbody tr th:only-of-type {\n",
       "        vertical-align: middle;\n",
       "    }\n",
       "\n",
       "    .dataframe tbody tr th {\n",
       "        vertical-align: top;\n",
       "    }\n",
       "\n",
       "    .dataframe thead th {\n",
       "        text-align: right;\n",
       "    }\n",
       "</style>\n",
       "<table border=\"1\" class=\"dataframe\">\n",
       "  <thead>\n",
       "    <tr style=\"text-align: right;\">\n",
       "      <th></th>\n",
       "      <th>subject_id</th>\n",
       "      <th>hadm_id</th>\n",
       "      <th>icustay_id</th>\n",
       "      <th>intime</th>\n",
       "      <th>outtime</th>\n",
       "      <th>suspected_infection_time_poe</th>\n",
       "      <th>window_start</th>\n",
       "      <th>window_end</th>\n",
       "      <th>hospital_expire_flag</th>\n",
       "    </tr>\n",
       "  </thead>\n",
       "  <tbody>\n",
       "    <tr>\n",
       "      <th>0</th>\n",
       "      <td>10006</td>\n",
       "      <td>142345</td>\n",
       "      <td>206504</td>\n",
       "      <td>2164-10-23 21:10:15</td>\n",
       "      <td>2164-10-25 12:21:07</td>\n",
       "      <td>2164-10-23 15:30:00</td>\n",
       "      <td>2164-10-22 15:30:00</td>\n",
       "      <td>2164-10-25 15:30:00</td>\n",
       "      <td>0</td>\n",
       "    </tr>\n",
       "    <tr>\n",
       "      <th>1</th>\n",
       "      <td>10013</td>\n",
       "      <td>165520</td>\n",
       "      <td>264446</td>\n",
       "      <td>2125-10-04 23:38:00</td>\n",
       "      <td>2125-10-07 15:13:52</td>\n",
       "      <td>2125-10-05 02:00:00</td>\n",
       "      <td>2125-10-04 02:00:00</td>\n",
       "      <td>2125-10-07 02:00:00</td>\n",
       "      <td>1</td>\n",
       "    </tr>\n",
       "    <tr>\n",
       "      <th>2</th>\n",
       "      <td>10017</td>\n",
       "      <td>199207</td>\n",
       "      <td>204881</td>\n",
       "      <td>2149-05-29 18:52:29</td>\n",
       "      <td>2149-05-31 22:19:17</td>\n",
       "      <td>2149-05-27 05:15:00</td>\n",
       "      <td>2149-05-26 05:15:00</td>\n",
       "      <td>2149-05-29 05:15:00</td>\n",
       "      <td>0</td>\n",
       "    </tr>\n",
       "    <tr>\n",
       "      <th>3</th>\n",
       "      <td>10019</td>\n",
       "      <td>177759</td>\n",
       "      <td>228977</td>\n",
       "      <td>2163-05-14 20:43:56</td>\n",
       "      <td>2163-05-16 03:47:04</td>\n",
       "      <td>2163-05-14 21:52:00</td>\n",
       "      <td>2163-05-13 21:52:00</td>\n",
       "      <td>2163-05-16 21:52:00</td>\n",
       "      <td>1</td>\n",
       "    </tr>\n",
       "    <tr>\n",
       "      <th>4</th>\n",
       "      <td>10026</td>\n",
       "      <td>103770</td>\n",
       "      <td>277021</td>\n",
       "      <td>2195-05-17 07:40:18</td>\n",
       "      <td>2195-05-19 17:24:25</td>\n",
       "      <td>2195-05-17 09:12:00</td>\n",
       "      <td>2195-05-16 09:12:00</td>\n",
       "      <td>2195-05-19 09:12:00</td>\n",
       "      <td>0</td>\n",
       "    </tr>\n",
       "  </tbody>\n",
       "</table>\n",
       "</div>"
      ],
      "text/plain": [
       "   subject_id  hadm_id  icustay_id               intime              outtime  \\\n",
       "0       10006   142345      206504  2164-10-23 21:10:15  2164-10-25 12:21:07   \n",
       "1       10013   165520      264446  2125-10-04 23:38:00  2125-10-07 15:13:52   \n",
       "2       10017   199207      204881  2149-05-29 18:52:29  2149-05-31 22:19:17   \n",
       "3       10019   177759      228977  2163-05-14 20:43:56  2163-05-16 03:47:04   \n",
       "4       10026   103770      277021  2195-05-17 07:40:18  2195-05-19 17:24:25   \n",
       "\n",
       "  suspected_infection_time_poe        window_start          window_end  \\\n",
       "0          2164-10-23 15:30:00 2164-10-22 15:30:00 2164-10-25 15:30:00   \n",
       "1          2125-10-05 02:00:00 2125-10-04 02:00:00 2125-10-07 02:00:00   \n",
       "2          2149-05-27 05:15:00 2149-05-26 05:15:00 2149-05-29 05:15:00   \n",
       "3          2163-05-14 21:52:00 2163-05-13 21:52:00 2163-05-16 21:52:00   \n",
       "4          2195-05-17 09:12:00 2195-05-16 09:12:00 2195-05-19 09:12:00   \n",
       "\n",
       "   hospital_expire_flag  \n",
       "0                     0  \n",
       "1                     1  \n",
       "2                     0  \n",
       "3                     1  \n",
       "4                     0  "
      ]
     },
     "execution_count": 2,
     "metadata": {},
     "output_type": "execute_result"
    }
   ],
   "source": [
    "cohort_df = pd.read_csv(DATA_DIR + 'cohort.csv')\n",
    "cohort_df['window_start'] = pd.to_datetime(cohort_df['window_start'])\n",
    "cohort_df['window_end'] = pd.to_datetime(cohort_df['window_end'])\n",
    "\n",
    "cohort_df.head()"
   ]
  },
  {
   "cell_type": "markdown",
   "id": "755ad49b",
   "metadata": {},
   "source": [
    "---\n",
    "Let's see how many ICU stays (i.e. patients) exhibit signs of Sepsis-3"
   ]
  },
  {
   "cell_type": "code",
   "execution_count": 3,
   "id": "70f71a6c",
   "metadata": {},
   "outputs": [
    {
     "data": {
      "text/plain": [
       "60"
      ]
     },
     "execution_count": 3,
     "metadata": {},
     "output_type": "execute_result"
    }
   ],
   "source": [
    "valid_icustays = cohort_df['icustay_id'].values\n",
    "valid_icustays.size"
   ]
  },
  {
   "cell_type": "markdown",
   "id": "c299a861",
   "metadata": {},
   "source": [
    "We will collect features in an, as of yet, unpopulated dictionary `data_all`, mapping from each `icustay_id` to the corresponding sequences of vitals, lab results and actions (i.e. maximum vasopressor and IV fluid intake);"
   ]
  },
  {
   "cell_type": "code",
   "execution_count": 4,
   "id": "033b1a6f",
   "metadata": {},
   "outputs": [],
   "source": [
    "data_all = {icustay_id:dict() for icustay_id in cohort_df['icustay_id'].values}\n",
    "\n",
    "# See? empty...\n",
    "assert data_all[210989] == {}"
   ]
  },
  {
   "cell_type": "markdown",
   "id": "ca96fe5f",
   "metadata": {},
   "source": [
    "---\n",
    "\n",
    "## Timesteps of 4 Hours\n",
    "\n",
    "First, for each time interval `(window_start, window_end)` we will precompute all intermediate time steps in increments of 4 hours. Each time we add our output to `data_all`;"
   ]
  },
  {
   "cell_type": "code",
   "execution_count": 5,
   "id": "b3e051c5",
   "metadata": {},
   "outputs": [],
   "source": [
    "# Samples 4h interval from start to end\n",
    "def get_4h_intervals(start, end):\n",
    "    return pd.date_range(start=start, end=end, freq='4H').values\n",
    "    \n",
    "icustay_timesteps = {x['icustay_id']: get_4h_intervals(x['window_start'], x['window_end']) for _, x in cohort_df.iterrows()}"
   ]
  },
  {
   "cell_type": "code",
   "execution_count": 6,
   "id": "8f1d932c",
   "metadata": {},
   "outputs": [
    {
     "data": {
      "text/plain": [
       "array(['2144-07-10T17:57:00.000000000', '2144-07-10T21:57:00.000000000',\n",
       "       '2144-07-11T01:57:00.000000000', '2144-07-11T05:57:00.000000000',\n",
       "       '2144-07-11T09:57:00.000000000', '2144-07-11T13:57:00.000000000',\n",
       "       '2144-07-11T17:57:00.000000000', '2144-07-11T21:57:00.000000000',\n",
       "       '2144-07-12T01:57:00.000000000', '2144-07-12T05:57:00.000000000',\n",
       "       '2144-07-12T09:57:00.000000000', '2144-07-12T13:57:00.000000000',\n",
       "       '2144-07-12T17:57:00.000000000', '2144-07-12T21:57:00.000000000',\n",
       "       '2144-07-13T01:57:00.000000000', '2144-07-13T05:57:00.000000000',\n",
       "       '2144-07-13T09:57:00.000000000', '2144-07-13T13:57:00.000000000',\n",
       "       '2144-07-13T17:57:00.000000000'], dtype='datetime64[ns]')"
      ]
     },
     "execution_count": 6,
     "metadata": {},
     "output_type": "execute_result"
    }
   ],
   "source": [
    "# Add to `data_all`\n",
    "for icustay_id, timesteps in icustay_timesteps.items():\n",
    "    data_all[icustay_id]['Timesteps'] = timesteps\n",
    "    \n",
    "data_all[210989]['Timesteps']"
   ]
  },
  {
   "cell_type": "markdown",
   "id": "1ecf07ce",
   "metadata": {},
   "source": [
    "---\n",
    "## Vasopressors\n",
    "\n",
    "### 1. MetaVision (MV)\n",
    "\n",
    "**TODO: Process CareVue data**"
   ]
  },
  {
   "cell_type": "code",
   "execution_count": 7,
   "id": "d7a02578",
   "metadata": {},
   "outputs": [
    {
     "data": {
      "text/html": [
       "<div>\n",
       "<style scoped>\n",
       "    .dataframe tbody tr th:only-of-type {\n",
       "        vertical-align: middle;\n",
       "    }\n",
       "\n",
       "    .dataframe tbody tr th {\n",
       "        vertical-align: top;\n",
       "    }\n",
       "\n",
       "    .dataframe thead th {\n",
       "        text-align: right;\n",
       "    }\n",
       "</style>\n",
       "<table border=\"1\" class=\"dataframe\">\n",
       "  <thead>\n",
       "    <tr style=\"text-align: right;\">\n",
       "      <th></th>\n",
       "      <th>icustay_id</th>\n",
       "      <th>starttime</th>\n",
       "      <th>endtime</th>\n",
       "      <th>rate</th>\n",
       "      <th>rateuom</th>\n",
       "      <th>patientweight</th>\n",
       "      <th>vasoactive_drug</th>\n",
       "      <th>mcgkgmin</th>\n",
       "      <th>mcgmin</th>\n",
       "    </tr>\n",
       "  </thead>\n",
       "  <tbody>\n",
       "    <tr>\n",
       "      <th>0</th>\n",
       "      <td>210989</td>\n",
       "      <td>2144-07-13 11:15:00</td>\n",
       "      <td>2144-07-13 11:30:00</td>\n",
       "      <td>8.013029</td>\n",
       "      <td>mcg/kg/min</td>\n",
       "      <td>81.7</td>\n",
       "      <td>dopamine</td>\n",
       "      <td>0.080130</td>\n",
       "      <td>6.546645</td>\n",
       "    </tr>\n",
       "    <tr>\n",
       "      <th>1</th>\n",
       "      <td>210989</td>\n",
       "      <td>2144-07-13 11:30:00</td>\n",
       "      <td>2144-07-13 11:50:00</td>\n",
       "      <td>0.502150</td>\n",
       "      <td>mcg/kg/min</td>\n",
       "      <td>81.7</td>\n",
       "      <td>norepinephrine</td>\n",
       "      <td>0.502150</td>\n",
       "      <td>41.025643</td>\n",
       "    </tr>\n",
       "    <tr>\n",
       "      <th>2</th>\n",
       "      <td>210989</td>\n",
       "      <td>2144-07-13 11:30:00</td>\n",
       "      <td>2144-07-13 11:50:00</td>\n",
       "      <td>10.012087</td>\n",
       "      <td>mcg/kg/min</td>\n",
       "      <td>81.7</td>\n",
       "      <td>dopamine</td>\n",
       "      <td>0.100121</td>\n",
       "      <td>8.179875</td>\n",
       "    </tr>\n",
       "    <tr>\n",
       "      <th>3</th>\n",
       "      <td>210989</td>\n",
       "      <td>2144-07-13 11:50:00</td>\n",
       "      <td>2144-07-13 11:55:00</td>\n",
       "      <td>0.251075</td>\n",
       "      <td>mcg/kg/min</td>\n",
       "      <td>81.7</td>\n",
       "      <td>norepinephrine</td>\n",
       "      <td>0.251075</td>\n",
       "      <td>20.512822</td>\n",
       "    </tr>\n",
       "    <tr>\n",
       "      <th>4</th>\n",
       "      <td>210989</td>\n",
       "      <td>2144-07-13 11:55:00</td>\n",
       "      <td>2144-07-13 19:06:00</td>\n",
       "      <td>0.200979</td>\n",
       "      <td>mcg/kg/min</td>\n",
       "      <td>81.7</td>\n",
       "      <td>norepinephrine</td>\n",
       "      <td>0.200979</td>\n",
       "      <td>16.419956</td>\n",
       "    </tr>\n",
       "  </tbody>\n",
       "</table>\n",
       "</div>"
      ],
      "text/plain": [
       "   icustay_id           starttime             endtime       rate     rateuom  \\\n",
       "0      210989 2144-07-13 11:15:00 2144-07-13 11:30:00   8.013029  mcg/kg/min   \n",
       "1      210989 2144-07-13 11:30:00 2144-07-13 11:50:00   0.502150  mcg/kg/min   \n",
       "2      210989 2144-07-13 11:30:00 2144-07-13 11:50:00  10.012087  mcg/kg/min   \n",
       "3      210989 2144-07-13 11:50:00 2144-07-13 11:55:00   0.251075  mcg/kg/min   \n",
       "4      210989 2144-07-13 11:55:00 2144-07-13 19:06:00   0.200979  mcg/kg/min   \n",
       "\n",
       "   patientweight vasoactive_drug  mcgkgmin     mcgmin  \n",
       "0           81.7        dopamine  0.080130   6.546645  \n",
       "1           81.7  norepinephrine  0.502150  41.025643  \n",
       "2           81.7        dopamine  0.100121   8.179875  \n",
       "3           81.7  norepinephrine  0.251075  20.512822  \n",
       "4           81.7  norepinephrine  0.200979  16.419956  "
      ]
     },
     "execution_count": 7,
     "metadata": {},
     "output_type": "execute_result"
    }
   ],
   "source": [
    "# MetaVision\n",
    "vaso_mv_df = pd.read_csv(DATA_DIR + 'vassopressors_mv_cohort.csv')\n",
    "vaso_mv_df['starttime'] = pd.to_datetime(vaso_mv_df['starttime']) # conversion to datetime\n",
    "vaso_mv_df['endtime'] = pd.to_datetime(vaso_mv_df['endtime'])\n",
    "\n",
    "vaso_mv_df.head()"
   ]
  },
  {
   "cell_type": "code",
   "execution_count": 8,
   "id": "42df6b93",
   "metadata": {},
   "outputs": [
    {
     "name": "stderr",
     "output_type": "stream",
     "text": [
      "100%|██████████████████████████████████████████████████████████████████████████████████| 11/11 [00:00<00:00, 57.96it/s]\n"
     ]
    }
   ],
   "source": [
    "# Consider ICU stays one-by-one\n",
    "for icustay_id, treatment_data in tqdm(vaso_mv_df.groupby('icustay_id')):\n",
    "    \n",
    "    # Is icustay part of cohort?\n",
    "    if icustay_id not in icustay_timesteps:\n",
    "        continue\n",
    "        \n",
    "    timesteps = icustay_timesteps[icustay_id]\n",
    "    max_vaso = np.zeros(len(timesteps), dtype=np.float64)\n",
    "    \n",
    "    # Which medications were administered in the last 4 hours (window)?\n",
    "    for i, window_end in enumerate(timesteps):\n",
    "        window_start = window_end - np.timedelta64(4,'h')\n",
    "        \n",
    "        # Inclusion test: vaso administration ends in last 4h interval or after.\n",
    "        # NOTE: original R-code erroneously used 'endtime < window_end'\n",
    "        condition = (treatment_data['starttime'] <= window_end) & (treatment_data['endtime'] > window_start)\n",
    "        interval_vaso_df = treatment_data.loc[condition]\n",
    "        \n",
    "        # Compute max vaso (norepinephrine-equivalent)\n",
    "        max_vaso[i] = interval_vaso_df['mcgkgmin'].max() # (Question: Shouldn't it be sum to be closer to IRL?)\n",
    "        \n",
    "    # Fill NaNs with zero (=> no treatment)\n",
    "    max_vaso = np.nan_to_num(max_vaso, nan=0)\n",
    "    \n",
    "    data_all[icustay_id]['MaxVaso'] = max_vaso"
   ]
  },
  {
   "cell_type": "code",
   "execution_count": 9,
   "id": "84a2c96c",
   "metadata": {},
   "outputs": [
    {
     "data": {
      "text/plain": [
       "array([0.        , 0.        , 0.        , 0.        , 0.        ,\n",
       "       0.        , 0.08002962, 0.12003111, 0.13990203, 0.10297638,\n",
       "       0.10297638, 0.20046026, 0.2491954 , 0.2491954 , 0.25149818,\n",
       "       0.25146934, 0.22162817, 0.24435711, 0.24435711])"
      ]
     },
     "execution_count": 9,
     "metadata": {},
     "output_type": "execute_result"
    }
   ],
   "source": [
    "data_all[239396]['MaxVaso']"
   ]
  },
  {
   "cell_type": "markdown",
   "id": "8edc95a1",
   "metadata": {},
   "source": [
    "---\n",
    "## Fluids\n",
    "\n",
    "### 1. MetaVision"
   ]
  },
  {
   "cell_type": "code",
   "execution_count": 10,
   "id": "fa96d597",
   "metadata": {},
   "outputs": [
    {
     "data": {
      "text/html": [
       "<div>\n",
       "<style scoped>\n",
       "    .dataframe tbody tr th:only-of-type {\n",
       "        vertical-align: middle;\n",
       "    }\n",
       "\n",
       "    .dataframe tbody tr th {\n",
       "        vertical-align: top;\n",
       "    }\n",
       "\n",
       "    .dataframe thead th {\n",
       "        text-align: right;\n",
       "    }\n",
       "</style>\n",
       "<table border=\"1\" class=\"dataframe\">\n",
       "  <thead>\n",
       "    <tr style=\"text-align: right;\">\n",
       "      <th></th>\n",
       "      <th>subject_id</th>\n",
       "      <th>hadm_id</th>\n",
       "      <th>icustay_id</th>\n",
       "      <th>starttime</th>\n",
       "      <th>endtime</th>\n",
       "      <th>amount</th>\n",
       "      <th>duration</th>\n",
       "    </tr>\n",
       "  </thead>\n",
       "  <tbody>\n",
       "    <tr>\n",
       "      <th>1</th>\n",
       "      <td>40124</td>\n",
       "      <td>126179</td>\n",
       "      <td>279554</td>\n",
       "      <td>2130-02-04 20:21:00</td>\n",
       "      <td>2130-02-05 04:07:00</td>\n",
       "      <td>999.999978</td>\n",
       "      <td>7.766667</td>\n",
       "    </tr>\n",
       "    <tr>\n",
       "      <th>2</th>\n",
       "      <td>40124</td>\n",
       "      <td>126179</td>\n",
       "      <td>279554</td>\n",
       "      <td>2130-02-04 12:36:00</td>\n",
       "      <td>2130-02-04 18:39:00</td>\n",
       "      <td>907.500000</td>\n",
       "      <td>6.050000</td>\n",
       "    </tr>\n",
       "    <tr>\n",
       "      <th>4</th>\n",
       "      <td>40124</td>\n",
       "      <td>126179</td>\n",
       "      <td>279554</td>\n",
       "      <td>2130-02-04 14:46:00</td>\n",
       "      <td>2130-02-05 09:01:00</td>\n",
       "      <td>164.299998</td>\n",
       "      <td>18.250000</td>\n",
       "    </tr>\n",
       "    <tr>\n",
       "      <th>5</th>\n",
       "      <td>40124</td>\n",
       "      <td>126179</td>\n",
       "      <td>279554</td>\n",
       "      <td>2130-02-05 11:06:00</td>\n",
       "      <td>2130-02-05 15:06:00</td>\n",
       "      <td>499.999992</td>\n",
       "      <td>4.000000</td>\n",
       "    </tr>\n",
       "    <tr>\n",
       "      <th>7</th>\n",
       "      <td>40124</td>\n",
       "      <td>126179</td>\n",
       "      <td>279554</td>\n",
       "      <td>2130-02-04 20:21:00</td>\n",
       "      <td>2130-02-05 04:21:00</td>\n",
       "      <td>999.999984</td>\n",
       "      <td>8.000000</td>\n",
       "    </tr>\n",
       "  </tbody>\n",
       "</table>\n",
       "</div>"
      ],
      "text/plain": [
       "   subject_id  hadm_id  icustay_id           starttime             endtime  \\\n",
       "1       40124   126179      279554 2130-02-04 20:21:00 2130-02-05 04:07:00   \n",
       "2       40124   126179      279554 2130-02-04 12:36:00 2130-02-04 18:39:00   \n",
       "4       40124   126179      279554 2130-02-04 14:46:00 2130-02-05 09:01:00   \n",
       "5       40124   126179      279554 2130-02-05 11:06:00 2130-02-05 15:06:00   \n",
       "7       40124   126179      279554 2130-02-04 20:21:00 2130-02-05 04:21:00   \n",
       "\n",
       "       amount   duration  \n",
       "1  999.999978   7.766667  \n",
       "2  907.500000   6.050000  \n",
       "4  164.299998  18.250000  \n",
       "5  499.999992   4.000000  \n",
       "7  999.999984   8.000000  "
      ]
     },
     "execution_count": 10,
     "metadata": {},
     "output_type": "execute_result"
    }
   ],
   "source": [
    "# Load data\n",
    "ivfluid_mv_df = pd.read_csv(DATA_DIR + 'inputevents_mv_cohort.csv')\n",
    "ivfluid_mv_df['starttime'] = pd.to_datetime(ivfluid_mv_df['starttime'])\n",
    "ivfluid_mv_df['endtime'] = pd.to_datetime(ivfluid_mv_df['endtime'])\n",
    "\n",
    "# Drop 14-Oral/Gastric Intake (i.e. having a glass of water)\n",
    "condition = (ivfluid_mv_df['ordercategoryname'] != '14-Oral/Gastric Intake') & (ivfluid_mv_df['amountuom'] == 'ml')\n",
    "ivfluid_mv_df = ivfluid_mv_df.loc[condition]\n",
    "\n",
    "# Remove amount outside (0, 5000) range\n",
    "condition = (ivfluid_mv_df['amount'] > 0) & (ivfluid_mv_df['amount'] < 5000)\n",
    "ivfluid_mv_df = ivfluid_mv_df.loc[condition]\n",
    "\n",
    "# Compute duration in hours\n",
    "# NOTE: original erroneously measured time in minutes\n",
    "ivfluid_mv_df['duration'] = (ivfluid_mv_df['endtime'] - ivfluid_mv_df['starttime']).astype('timedelta64[s]').astype(int) / 3600\n",
    "\n",
    "# Drop many useless columns\n",
    "ivfluid_mv_df = ivfluid_mv_df[['subject_id', 'hadm_id', 'icustay_id', 'starttime', 'endtime', 'amount', 'duration']]\n",
    "\n",
    "ivfluid_mv_df.head()"
   ]
  },
  {
   "cell_type": "code",
   "execution_count": 11,
   "id": "0d5be83f",
   "metadata": {},
   "outputs": [
    {
     "name": "stdout",
     "output_type": "stream",
     "text": [
      "Grab some coffee!\n"
     ]
    },
    {
     "name": "stderr",
     "output_type": "stream",
     "text": [
      "100%|██████████████████████████████████████████████████████████████████████████████████| 52/52 [00:02<00:00, 18.05it/s]\n"
     ]
    }
   ],
   "source": [
    "# Computes how much of each treatment was administered between window_start and window_end\n",
    "def total_administration_in_window(window_start, window_end, fluid_df):\n",
    "    dose_start = fluid_df['starttime']\n",
    "    dose_end = fluid_df['endtime']\n",
    "    amount = fluid_df['amount']\n",
    "    duration = fluid_df['duration']\n",
    "    rate = amount / duration\n",
    "    \n",
    "    # Durations in hours\n",
    "    window_duration = (window_end - window_start).astype('timedelta64[s]').astype(int) / 3600\n",
    "    rear_overlap = (dose_end - window_start).astype('timedelta64[s]').astype(int) / 3600\n",
    "    front_overlap = (window_end - dose_start).astype('timedelta64[s]').astype(int) / 3600\n",
    "    \n",
    "    # Option1: Does started before window and ended after window\n",
    "    c1 = (dose_start < window_start) & (dose_end > window_end)\n",
    "    total1 = (window_duration * rate[c1]).sum()\n",
    "    \n",
    "    # Option2: Dose started before and ended within window\n",
    "    c2 = (dose_start < window_start) & (dose_end > window_start) & (dose_end <= window_end)\n",
    "    total2 = (rear_overlap * rate[c2]).sum()\n",
    "    \n",
    "    # Option3: Dose started and ended in window\n",
    "    c3 = (dose_start >= window_start) & (dose_start < window_end) & (dose_end <= window_end) & (dose_end > window_start)\n",
    "    total3 = amount[c3].sum()\n",
    "    \n",
    "    # Option4: Window started before and ended within dose\n",
    "    c4 = (window_start < dose_start) & (window_end > dose_start) & (window_end < dose_end)\n",
    "    total4 = (front_overlap * rate[c4]).sum()\n",
    "            \n",
    "    return total1 + total2 + total3 + total4\n",
    "    \n",
    "    \n",
    "# Consider ICU stays one-by-one\n",
    "print('Grab some coffee!')\n",
    "for icustay_id, treatment_data in tqdm(ivfluid_mv_df.groupby('icustay_id')):\n",
    "    try:\n",
    "        timesteps = icustay_timesteps[icustay_id]\n",
    "    except:\n",
    "        continue\n",
    "    \n",
    "    # To store total fluid intake.\n",
    "    icustay_total_ivfluid = np.zeros(len(timesteps), dtype=np.float64)\n",
    "    \n",
    "    # Which fluids were administered in the last 4 hours?\n",
    "    for i, window_end in enumerate(timesteps):\n",
    "        window_start = window_end - np.timedelta64(4, 'h')\n",
    "        \n",
    "        # Compute total IV fluid\n",
    "        icustay_total_ivfluid[i] = total_administration_in_window(window_start, window_end, treatment_data)\n",
    "        \n",
    "    # Fill NaNs (with no fluid) should there be any\n",
    "    icustay_total_ivfluid = np.nan_to_num(icustay_total_ivfluid, nan=0)\n",
    "        \n",
    "    # Save!\n",
    "    data_all[icustay_id]['TotalFluid'] = icustay_total_ivfluid"
   ]
  },
  {
   "cell_type": "code",
   "execution_count": 12,
   "id": "8342541b",
   "metadata": {},
   "outputs": [
    {
     "data": {
      "text/plain": [
       "array([   0.        ,    0.        ,    0.        ,    0.        ,\n",
       "          0.        ,    0.        ,    8.55091395, 1225.27569371,\n",
       "        860.8409346 ,  725.24996289,  820.48022881, 1938.17992514,\n",
       "       1613.47511671,  992.37863358, 1046.19694227, 1359.03226716,\n",
       "       1405.51168499, 2085.61893275, 1143.43710779])"
      ]
     },
     "execution_count": 12,
     "metadata": {},
     "output_type": "execute_result"
    }
   ],
   "source": [
    "data_all[239396]['TotalFluid']"
   ]
  },
  {
   "cell_type": "markdown",
   "id": "e68ee18e",
   "metadata": {},
   "source": [
    "---\n",
    "## Vitals"
   ]
  },
  {
   "cell_type": "code",
   "execution_count": 13,
   "id": "8a531810",
   "metadata": {},
   "outputs": [
    {
     "data": {
      "text/html": [
       "<div>\n",
       "<style scoped>\n",
       "    .dataframe tbody tr th:only-of-type {\n",
       "        vertical-align: middle;\n",
       "    }\n",
       "\n",
       "    .dataframe tbody tr th {\n",
       "        vertical-align: top;\n",
       "    }\n",
       "\n",
       "    .dataframe thead th {\n",
       "        text-align: right;\n",
       "    }\n",
       "</style>\n",
       "<table border=\"1\" class=\"dataframe\">\n",
       "  <thead>\n",
       "    <tr style=\"text-align: right;\">\n",
       "      <th></th>\n",
       "      <th>subject_id</th>\n",
       "      <th>hadm_id</th>\n",
       "      <th>icustay_id</th>\n",
       "      <th>window_start</th>\n",
       "      <th>window_end</th>\n",
       "      <th>intime</th>\n",
       "      <th>outtime</th>\n",
       "      <th>charttime</th>\n",
       "      <th>vital_id</th>\n",
       "      <th>valuenum</th>\n",
       "    </tr>\n",
       "  </thead>\n",
       "  <tbody>\n",
       "    <tr>\n",
       "      <th>0</th>\n",
       "      <td>10006</td>\n",
       "      <td>142345</td>\n",
       "      <td>206504</td>\n",
       "      <td>2164-10-22 15:30:00</td>\n",
       "      <td>2164-10-25 15:30:00</td>\n",
       "      <td>2164-10-23 21:10:15</td>\n",
       "      <td>2164-10-25 12:21:07</td>\n",
       "      <td>2164-10-23 22:40:00</td>\n",
       "      <td>DiasBP</td>\n",
       "      <td>50.000000</td>\n",
       "    </tr>\n",
       "    <tr>\n",
       "      <th>1</th>\n",
       "      <td>10006</td>\n",
       "      <td>142345</td>\n",
       "      <td>206504</td>\n",
       "      <td>2164-10-22 15:30:00</td>\n",
       "      <td>2164-10-25 15:30:00</td>\n",
       "      <td>2164-10-23 21:10:15</td>\n",
       "      <td>2164-10-25 12:21:07</td>\n",
       "      <td>2164-10-23 22:40:00</td>\n",
       "      <td>HeartRate</td>\n",
       "      <td>104.000000</td>\n",
       "    </tr>\n",
       "    <tr>\n",
       "      <th>2</th>\n",
       "      <td>10006</td>\n",
       "      <td>142345</td>\n",
       "      <td>206504</td>\n",
       "      <td>2164-10-22 15:30:00</td>\n",
       "      <td>2164-10-25 15:30:00</td>\n",
       "      <td>2164-10-23 21:10:15</td>\n",
       "      <td>2164-10-25 12:21:07</td>\n",
       "      <td>2164-10-23 22:40:00</td>\n",
       "      <td>MeanBP</td>\n",
       "      <td>63.666698</td>\n",
       "    </tr>\n",
       "    <tr>\n",
       "      <th>3</th>\n",
       "      <td>10006</td>\n",
       "      <td>142345</td>\n",
       "      <td>206504</td>\n",
       "      <td>2164-10-22 15:30:00</td>\n",
       "      <td>2164-10-25 15:30:00</td>\n",
       "      <td>2164-10-23 21:10:15</td>\n",
       "      <td>2164-10-25 12:21:07</td>\n",
       "      <td>2164-10-23 22:40:00</td>\n",
       "      <td>RespRate</td>\n",
       "      <td>25.000000</td>\n",
       "    </tr>\n",
       "    <tr>\n",
       "      <th>4</th>\n",
       "      <td>10006</td>\n",
       "      <td>142345</td>\n",
       "      <td>206504</td>\n",
       "      <td>2164-10-22 15:30:00</td>\n",
       "      <td>2164-10-25 15:30:00</td>\n",
       "      <td>2164-10-23 21:10:15</td>\n",
       "      <td>2164-10-25 12:21:07</td>\n",
       "      <td>2164-10-23 22:40:00</td>\n",
       "      <td>SpO2</td>\n",
       "      <td>98.000000</td>\n",
       "    </tr>\n",
       "  </tbody>\n",
       "</table>\n",
       "</div>"
      ],
      "text/plain": [
       "   subject_id  hadm_id  icustay_id        window_start          window_end  \\\n",
       "0       10006   142345      206504 2164-10-22 15:30:00 2164-10-25 15:30:00   \n",
       "1       10006   142345      206504 2164-10-22 15:30:00 2164-10-25 15:30:00   \n",
       "2       10006   142345      206504 2164-10-22 15:30:00 2164-10-25 15:30:00   \n",
       "3       10006   142345      206504 2164-10-22 15:30:00 2164-10-25 15:30:00   \n",
       "4       10006   142345      206504 2164-10-22 15:30:00 2164-10-25 15:30:00   \n",
       "\n",
       "               intime             outtime           charttime   vital_id  \\\n",
       "0 2164-10-23 21:10:15 2164-10-25 12:21:07 2164-10-23 22:40:00     DiasBP   \n",
       "1 2164-10-23 21:10:15 2164-10-25 12:21:07 2164-10-23 22:40:00  HeartRate   \n",
       "2 2164-10-23 21:10:15 2164-10-25 12:21:07 2164-10-23 22:40:00     MeanBP   \n",
       "3 2164-10-23 21:10:15 2164-10-25 12:21:07 2164-10-23 22:40:00   RespRate   \n",
       "4 2164-10-23 21:10:15 2164-10-25 12:21:07 2164-10-23 22:40:00       SpO2   \n",
       "\n",
       "     valuenum  \n",
       "0   50.000000  \n",
       "1  104.000000  \n",
       "2   63.666698  \n",
       "3   25.000000  \n",
       "4   98.000000  "
      ]
     },
     "execution_count": 13,
     "metadata": {},
     "output_type": "execute_result"
    }
   ],
   "source": [
    "# Load data\n",
    "vitals_df = pd.read_csv(DATA_DIR + 'vitals_cohort.csv')\n",
    "vitals_df['window_start'] = pd.to_datetime(vitals_df['window_start'])\n",
    "vitals_df['window_end'] = pd.to_datetime(vitals_df['window_end'])\n",
    "vitals_df['intime'] = pd.to_datetime(vitals_df['intime'])\n",
    "vitals_df['outtime'] = pd.to_datetime(vitals_df['outtime'])\n",
    "vitals_df['charttime'] = pd.to_datetime(vitals_df['charttime'])\n",
    "vitals_df.head()"
   ]
  },
  {
   "cell_type": "code",
   "execution_count": 14,
   "id": "9b0fdbfb",
   "metadata": {},
   "outputs": [
    {
     "data": {
      "text/plain": [
       "['Glucose',\n",
       " 'SysBP',\n",
       " 'TempC',\n",
       " 'HeartRate',\n",
       " 'RespRate',\n",
       " 'SpO2',\n",
       " 'MeanBP',\n",
       " 'DiasBP']"
      ]
     },
     "execution_count": 14,
     "metadata": {},
     "output_type": "execute_result"
    }
   ],
   "source": [
    "# Which vitals are included?\n",
    "ALL_VITAL_IDS = list(set(vitals_df['vital_id']))\n",
    "ALL_VITAL_IDS"
   ]
  },
  {
   "cell_type": "code",
   "execution_count": 15,
   "id": "b53a3b70",
   "metadata": {},
   "outputs": [
    {
     "name": "stderr",
     "output_type": "stream",
     "text": [
      "100%|██████████████████████████████████████████████████████████████████████████████████| 55/55 [00:01<00:00, 34.24it/s]\n"
     ]
    }
   ],
   "source": [
    "# Process ICU stays one-by-one\n",
    "for icustay_id, treatment_data in tqdm(vitals_df.groupby('icustay_id')):\n",
    "    try:\n",
    "        timesteps = icustay_timesteps[icustay_id]\n",
    "    except:\n",
    "        continue\n",
    "        \n",
    "    # Add dict to `data_all` to store aggregated vital measurements\n",
    "    for vital_id in ALL_VITAL_IDS:\n",
    "        data_all[icustay_id][vital_id] = np.zeros(len(timesteps), dtype=np.float32)\n",
    "            \n",
    "    # Which vitals were monitored in the last 4 hours?\n",
    "    for i, window_end in enumerate(timesteps):\n",
    "        \n",
    "        # Inclusion test: Measurement charttime in (window_start, window_end)\n",
    "        window_start = window_end - np.timedelta64(4, 'h')\n",
    "        condition = (treatment_data['charttime'] > window_start) & (treatment_data['charttime'] < window_end)  \n",
    "        \n",
    "        # Compute average value of each vital_id\n",
    "        vital_averages = treatment_data[condition].groupby('vital_id')['valuenum'].mean()\n",
    "        \n",
    "        for vital_id, value in vital_averages.iteritems():\n",
    "            data_all[icustay_id][vital_id][i] = value"
   ]
  },
  {
   "cell_type": "code",
   "execution_count": 16,
   "id": "7f2af786",
   "metadata": {},
   "outputs": [
    {
     "data": {
      "text/plain": [
       "array([ 0.      ,  0.      ,  0.      ,  0.      ,  0.      ,  0.      ,\n",
       "       60.333332, 71.      , 70.      , 67.25    , 69.75    , 77.111115,\n",
       "       61.42857 , 71.28571 , 69.25    , 68.75    , 72.      , 66.      ,\n",
       "       65.5     ], dtype=float32)"
      ]
     },
     "execution_count": 16,
     "metadata": {},
     "output_type": "execute_result"
    }
   ],
   "source": [
    "data_all[239396]['MeanBP']"
   ]
  },
  {
   "cell_type": "markdown",
   "id": "430a94af",
   "metadata": {},
   "source": [
    "---\n",
    "## Labs"
   ]
  },
  {
   "cell_type": "code",
   "execution_count": 17,
   "id": "281d57c2",
   "metadata": {},
   "outputs": [
    {
     "data": {
      "text/html": [
       "<div>\n",
       "<style scoped>\n",
       "    .dataframe tbody tr th:only-of-type {\n",
       "        vertical-align: middle;\n",
       "    }\n",
       "\n",
       "    .dataframe tbody tr th {\n",
       "        vertical-align: top;\n",
       "    }\n",
       "\n",
       "    .dataframe thead th {\n",
       "        text-align: right;\n",
       "    }\n",
       "</style>\n",
       "<table border=\"1\" class=\"dataframe\">\n",
       "  <thead>\n",
       "    <tr style=\"text-align: right;\">\n",
       "      <th></th>\n",
       "      <th>subject_id</th>\n",
       "      <th>hadm_id</th>\n",
       "      <th>icustay_id</th>\n",
       "      <th>window_start</th>\n",
       "      <th>window_end</th>\n",
       "      <th>intime</th>\n",
       "      <th>outtime</th>\n",
       "      <th>charttime</th>\n",
       "      <th>lab_id</th>\n",
       "      <th>valuenum</th>\n",
       "    </tr>\n",
       "  </thead>\n",
       "  <tbody>\n",
       "    <tr>\n",
       "      <th>0</th>\n",
       "      <td>10006</td>\n",
       "      <td>142345</td>\n",
       "      <td>206504</td>\n",
       "      <td>2164-10-22 15:30:00</td>\n",
       "      <td>2164-10-25 15:30:00</td>\n",
       "      <td>2164-10-23 21:10:15</td>\n",
       "      <td>2164-10-25 12:21:07</td>\n",
       "      <td>2164-10-23 17:33:00</td>\n",
       "      <td>LACTATE</td>\n",
       "      <td>4.4</td>\n",
       "    </tr>\n",
       "    <tr>\n",
       "      <th>1</th>\n",
       "      <td>10006</td>\n",
       "      <td>142345</td>\n",
       "      <td>206504</td>\n",
       "      <td>2164-10-22 15:30:00</td>\n",
       "      <td>2164-10-25 15:30:00</td>\n",
       "      <td>2164-10-23 21:10:15</td>\n",
       "      <td>2164-10-25 12:21:07</td>\n",
       "      <td>2164-10-23 17:38:00</td>\n",
       "      <td>ALAT</td>\n",
       "      <td>9.0</td>\n",
       "    </tr>\n",
       "    <tr>\n",
       "      <th>2</th>\n",
       "      <td>10006</td>\n",
       "      <td>142345</td>\n",
       "      <td>206504</td>\n",
       "      <td>2164-10-22 15:30:00</td>\n",
       "      <td>2164-10-25 15:30:00</td>\n",
       "      <td>2164-10-23 21:10:15</td>\n",
       "      <td>2164-10-25 12:21:07</td>\n",
       "      <td>2164-10-23 17:38:00</td>\n",
       "      <td>ALBUMIN</td>\n",
       "      <td>3.4</td>\n",
       "    </tr>\n",
       "    <tr>\n",
       "      <th>3</th>\n",
       "      <td>10006</td>\n",
       "      <td>142345</td>\n",
       "      <td>206504</td>\n",
       "      <td>2164-10-22 15:30:00</td>\n",
       "      <td>2164-10-25 15:30:00</td>\n",
       "      <td>2164-10-23 21:10:15</td>\n",
       "      <td>2164-10-25 12:21:07</td>\n",
       "      <td>2164-10-23 17:38:00</td>\n",
       "      <td>ANION GAP</td>\n",
       "      <td>20.0</td>\n",
       "    </tr>\n",
       "    <tr>\n",
       "      <th>4</th>\n",
       "      <td>10006</td>\n",
       "      <td>142345</td>\n",
       "      <td>206504</td>\n",
       "      <td>2164-10-22 15:30:00</td>\n",
       "      <td>2164-10-25 15:30:00</td>\n",
       "      <td>2164-10-23 21:10:15</td>\n",
       "      <td>2164-10-25 12:21:07</td>\n",
       "      <td>2164-10-23 17:38:00</td>\n",
       "      <td>ASAT</td>\n",
       "      <td>40.0</td>\n",
       "    </tr>\n",
       "  </tbody>\n",
       "</table>\n",
       "</div>"
      ],
      "text/plain": [
       "   subject_id  hadm_id  icustay_id        window_start          window_end  \\\n",
       "0       10006   142345      206504 2164-10-22 15:30:00 2164-10-25 15:30:00   \n",
       "1       10006   142345      206504 2164-10-22 15:30:00 2164-10-25 15:30:00   \n",
       "2       10006   142345      206504 2164-10-22 15:30:00 2164-10-25 15:30:00   \n",
       "3       10006   142345      206504 2164-10-22 15:30:00 2164-10-25 15:30:00   \n",
       "4       10006   142345      206504 2164-10-22 15:30:00 2164-10-25 15:30:00   \n",
       "\n",
       "               intime             outtime           charttime     lab_id  \\\n",
       "0 2164-10-23 21:10:15 2164-10-25 12:21:07 2164-10-23 17:33:00    LACTATE   \n",
       "1 2164-10-23 21:10:15 2164-10-25 12:21:07 2164-10-23 17:38:00       ALAT   \n",
       "2 2164-10-23 21:10:15 2164-10-25 12:21:07 2164-10-23 17:38:00    ALBUMIN   \n",
       "3 2164-10-23 21:10:15 2164-10-25 12:21:07 2164-10-23 17:38:00  ANION GAP   \n",
       "4 2164-10-23 21:10:15 2164-10-25 12:21:07 2164-10-23 17:38:00       ASAT   \n",
       "\n",
       "   valuenum  \n",
       "0       4.4  \n",
       "1       9.0  \n",
       "2       3.4  \n",
       "3      20.0  \n",
       "4      40.0  "
      ]
     },
     "execution_count": 17,
     "metadata": {},
     "output_type": "execute_result"
    }
   ],
   "source": [
    "# Load data\n",
    "lab_df = pd.read_csv(DATA_DIR + 'labs_cohort.csv')\n",
    "lab_df['window_start'] = pd.to_datetime(lab_df['window_start'])\n",
    "lab_df['window_end'] = pd.to_datetime(lab_df['window_end'])\n",
    "lab_df['intime'] = pd.to_datetime(lab_df['intime'])\n",
    "lab_df['outtime'] = pd.to_datetime(lab_df['outtime'])\n",
    "lab_df['charttime'] = pd.to_datetime(lab_df['charttime'])\n",
    "\n",
    "# Drop rows with NaNs\n",
    "lab_df = lab_df.dropna(axis=0)\n",
    "\n",
    "lab_df.head()"
   ]
  },
  {
   "cell_type": "code",
   "execution_count": 18,
   "id": "cb46b8b6",
   "metadata": {},
   "outputs": [
    {
     "data": {
      "text/plain": [
       "['SODIUM',\n",
       " 'WBC',\n",
       " 'ANION GAP',\n",
       " 'CHLORIDE',\n",
       " 'BANDS',\n",
       " 'HEMOGLOBIN',\n",
       " 'BICARBONATE',\n",
       " 'PT',\n",
       " 'PTT',\n",
       " 'PAO2',\n",
       " 'LACTATE',\n",
       " 'ALBUMIN',\n",
       " 'ION_CALCIUM',\n",
       " 'CALCIUM',\n",
       " 'PLATELET',\n",
       " 'BaseExcess',\n",
       " 'PH',\n",
       " 'BILIRUBIN',\n",
       " 'ASAT',\n",
       " 'GLUCOSE',\n",
       " 'ALAT',\n",
       " 'POTASSIUM',\n",
       " 'MAGNESIUM',\n",
       " 'PACO2',\n",
       " 'BUN',\n",
       " 'CREATININE']"
      ]
     },
     "execution_count": 18,
     "metadata": {},
     "output_type": "execute_result"
    }
   ],
   "source": [
    "# Which lab measurements were made?\n",
    "ALL_LAB_IDS = list(set(lab_df['lab_id'].values))\n",
    "ALL_LAB_IDS"
   ]
  },
  {
   "cell_type": "code",
   "execution_count": 19,
   "id": "fa057eb0",
   "metadata": {},
   "outputs": [
    {
     "name": "stderr",
     "output_type": "stream",
     "text": [
      "100%|██████████████████████████████████████████████████████████████████████████████████| 58/58 [00:02<00:00, 25.55it/s]\n"
     ]
    }
   ],
   "source": [
    "# Process ICU stays one-by-one\n",
    "for icustay_id, treatment_data in tqdm(lab_df.groupby('icustay_id')):\n",
    "    try:\n",
    "        timesteps = icustay_timesteps[icustay_id]\n",
    "    except:\n",
    "        continue\n",
    "        \n",
    "    # Add lab_ids to `data_all` to store aggregated lab measurements\n",
    "    for lab_id in ALL_LAB_IDS:\n",
    "        data_all[icustay_id][lab_id] = np.zeros(len(timesteps), dtype=np.float32)\n",
    "            \n",
    "    # Which vitals were monitored in the last 4 hours?\n",
    "    for i, window_end in enumerate(timesteps):\n",
    "        \n",
    "        # Inclusion test: Measurement charttime in (window_start, window_end)\n",
    "        window_start = window_end - np.timedelta64(4, 'h')\n",
    "        condition = (treatment_data['charttime'] > window_start) & (treatment_data['charttime'] <= window_end)  \n",
    "        \n",
    "        # Compute average value of each vital_id\n",
    "        lab_averages = treatment_data[condition].groupby('lab_id')['valuenum'].mean()\n",
    "        \n",
    "        for lab_id, value in lab_averages.iteritems():\n",
    "            data_all[icustay_id][lab_id][i] = value"
   ]
  },
  {
   "cell_type": "code",
   "execution_count": 20,
   "id": "6d0fbd71",
   "metadata": {},
   "outputs": [
    {
     "data": {
      "text/plain": [
       "array([ 0.,  0.,  0.,  0.,  0.,  0.,  0.,  0.,  0.,  0., 37.,  0.,  0.,\n",
       "        0.,  0.,  0.,  0.,  0.,  0.], dtype=float32)"
      ]
     },
     "execution_count": 20,
     "metadata": {},
     "output_type": "execute_result"
    }
   ],
   "source": [
    "data_all[201006]['ALAT']"
   ]
  },
  {
   "cell_type": "markdown",
   "id": "0a0d4be4",
   "metadata": {},
   "source": [
    "---\n",
    "## Urine Output"
   ]
  },
  {
   "cell_type": "code",
   "execution_count": 21,
   "id": "081d5c58",
   "metadata": {},
   "outputs": [
    {
     "data": {
      "text/html": [
       "<div>\n",
       "<style scoped>\n",
       "    .dataframe tbody tr th:only-of-type {\n",
       "        vertical-align: middle;\n",
       "    }\n",
       "\n",
       "    .dataframe tbody tr th {\n",
       "        vertical-align: top;\n",
       "    }\n",
       "\n",
       "    .dataframe thead th {\n",
       "        text-align: right;\n",
       "    }\n",
       "</style>\n",
       "<table border=\"1\" class=\"dataframe\">\n",
       "  <thead>\n",
       "    <tr style=\"text-align: right;\">\n",
       "      <th></th>\n",
       "      <th>subject_id</th>\n",
       "      <th>hadm_id</th>\n",
       "      <th>icustay_id</th>\n",
       "      <th>charttime</th>\n",
       "      <th>value</th>\n",
       "    </tr>\n",
       "  </thead>\n",
       "  <tbody>\n",
       "    <tr>\n",
       "      <th>0</th>\n",
       "      <td>10045</td>\n",
       "      <td>126949</td>\n",
       "      <td>203766</td>\n",
       "      <td>2129-11-26 08:00:00</td>\n",
       "      <td>6</td>\n",
       "    </tr>\n",
       "    <tr>\n",
       "      <th>1</th>\n",
       "      <td>40310</td>\n",
       "      <td>186361</td>\n",
       "      <td>210989</td>\n",
       "      <td>2144-07-13 06:00:00</td>\n",
       "      <td>10</td>\n",
       "    </tr>\n",
       "    <tr>\n",
       "      <th>2</th>\n",
       "      <td>42075</td>\n",
       "      <td>151323</td>\n",
       "      <td>298685</td>\n",
       "      <td>2166-02-13 01:00:00</td>\n",
       "      <td>15</td>\n",
       "    </tr>\n",
       "    <tr>\n",
       "      <th>3</th>\n",
       "      <td>10032</td>\n",
       "      <td>140372</td>\n",
       "      <td>267090</td>\n",
       "      <td>2138-04-09 10:00:00</td>\n",
       "      <td>40</td>\n",
       "    </tr>\n",
       "    <tr>\n",
       "      <th>4</th>\n",
       "      <td>10044</td>\n",
       "      <td>124073</td>\n",
       "      <td>270154</td>\n",
       "      <td>2152-10-03 11:00:00</td>\n",
       "      <td>200</td>\n",
       "    </tr>\n",
       "  </tbody>\n",
       "</table>\n",
       "</div>"
      ],
      "text/plain": [
       "   subject_id  hadm_id  icustay_id           charttime  value\n",
       "0       10045   126949      203766 2129-11-26 08:00:00      6\n",
       "1       40310   186361      210989 2144-07-13 06:00:00     10\n",
       "2       42075   151323      298685 2166-02-13 01:00:00     15\n",
       "3       10032   140372      267090 2138-04-09 10:00:00     40\n",
       "4       10044   124073      270154 2152-10-03 11:00:00    200"
      ]
     },
     "execution_count": 21,
     "metadata": {},
     "output_type": "execute_result"
    }
   ],
   "source": [
    "urine_df = pd.read_csv(DATA_DIR + 'urineoutput_cohort.csv')\n",
    "urine_df['charttime'] = pd.to_datetime(urine_df['charttime'])\n",
    "\n",
    "# Drop values exceeding 5000 (just in case)\n",
    "urine_df = urine_df[(urine_df['value'] > 0) & urine_df['value'] < 5000]\n",
    "\n",
    "urine_df.head()"
   ]
  },
  {
   "cell_type": "code",
   "execution_count": 22,
   "id": "c9941b89",
   "metadata": {},
   "outputs": [
    {
     "name": "stderr",
     "output_type": "stream",
     "text": [
      "100%|██████████████████████████████████████████████████████████████████████████████████| 55/55 [00:00<00:00, 66.58it/s]\n"
     ]
    }
   ],
   "source": [
    "# Process ICU stays one-by-one\n",
    "for icustay_id, treatment_data in tqdm(urine_df.groupby('icustay_id')):\n",
    "    try:\n",
    "        timesteps = icustay_timesteps[icustay_id]\n",
    "    except:\n",
    "        continue\n",
    "        \n",
    "    # Add lab_ids to `data_all` to store aggregated lab measurements\n",
    "    data_all[icustay_id]['UrineOutput'] = np.zeros(len(timesteps), dtype=np.float32)\n",
    "            \n",
    "    # Which vitals were monitored in the last 4 hours?\n",
    "    for i, window_end in enumerate(timesteps):\n",
    "        \n",
    "        # Inclusion test: Measurement charttime in (window_start, window_end)\n",
    "        window_start = window_end - np.timedelta64(4, 'h')\n",
    "        condition = (treatment_data['charttime'] > window_start) & (treatment_data['charttime'] <= window_end)  \n",
    "        \n",
    "        # Compute average value of each vital_id\n",
    "        data_all[icustay_id]['UrineOutput'][i] = treatment_data[condition]['value'].sum()"
   ]
  },
  {
   "cell_type": "code",
   "execution_count": 23,
   "id": "3afb1640",
   "metadata": {},
   "outputs": [
    {
     "data": {
      "text/plain": [
       "array([  0.,   0.,   0.,   0.,   0.,   0.,   0.,   0., 435., 110., 295.,\n",
       "       640., 930., 700., 845., 835., 640., 655., 760.], dtype=float32)"
      ]
     },
     "execution_count": 23,
     "metadata": {},
     "output_type": "execute_result"
    }
   ],
   "source": [
    "data_all[279554]['UrineOutput']"
   ]
  },
  {
   "cell_type": "markdown",
   "id": "c8f9318c",
   "metadata": {},
   "source": [
    "---\n",
    "## FiO2 (Fraction of Inspired Oxygen)"
   ]
  },
  {
   "cell_type": "code",
   "execution_count": 24,
   "id": "6cf6179b",
   "metadata": {},
   "outputs": [
    {
     "data": {
      "text/html": [
       "<div>\n",
       "<style scoped>\n",
       "    .dataframe tbody tr th:only-of-type {\n",
       "        vertical-align: middle;\n",
       "    }\n",
       "\n",
       "    .dataframe tbody tr th {\n",
       "        vertical-align: top;\n",
       "    }\n",
       "\n",
       "    .dataframe thead th {\n",
       "        text-align: right;\n",
       "    }\n",
       "</style>\n",
       "<table border=\"1\" class=\"dataframe\">\n",
       "  <thead>\n",
       "    <tr style=\"text-align: right;\">\n",
       "      <th></th>\n",
       "      <th>subject_id</th>\n",
       "      <th>hadm_id</th>\n",
       "      <th>icustay_id</th>\n",
       "      <th>charttime</th>\n",
       "      <th>fio2</th>\n",
       "    </tr>\n",
       "  </thead>\n",
       "  <tbody>\n",
       "    <tr>\n",
       "      <th>0</th>\n",
       "      <td>10013</td>\n",
       "      <td>165520</td>\n",
       "      <td>264446</td>\n",
       "      <td>2125-10-05 00:00:00</td>\n",
       "      <td>60.000002</td>\n",
       "    </tr>\n",
       "    <tr>\n",
       "      <th>1</th>\n",
       "      <td>10013</td>\n",
       "      <td>165520</td>\n",
       "      <td>264446</td>\n",
       "      <td>2125-10-05 01:00:00</td>\n",
       "      <td>40.000001</td>\n",
       "    </tr>\n",
       "    <tr>\n",
       "      <th>2</th>\n",
       "      <td>10013</td>\n",
       "      <td>165520</td>\n",
       "      <td>264446</td>\n",
       "      <td>2125-10-05 03:00:00</td>\n",
       "      <td>40.000001</td>\n",
       "    </tr>\n",
       "    <tr>\n",
       "      <th>3</th>\n",
       "      <td>10013</td>\n",
       "      <td>165520</td>\n",
       "      <td>264446</td>\n",
       "      <td>2125-10-05 07:00:00</td>\n",
       "      <td>69.999999</td>\n",
       "    </tr>\n",
       "    <tr>\n",
       "      <th>4</th>\n",
       "      <td>10013</td>\n",
       "      <td>165520</td>\n",
       "      <td>264446</td>\n",
       "      <td>2125-10-05 10:00:00</td>\n",
       "      <td>69.999999</td>\n",
       "    </tr>\n",
       "  </tbody>\n",
       "</table>\n",
       "</div>"
      ],
      "text/plain": [
       "   subject_id  hadm_id  icustay_id           charttime       fio2\n",
       "0       10013   165520      264446 2125-10-05 00:00:00  60.000002\n",
       "1       10013   165520      264446 2125-10-05 01:00:00  40.000001\n",
       "2       10013   165520      264446 2125-10-05 03:00:00  40.000001\n",
       "3       10013   165520      264446 2125-10-05 07:00:00  69.999999\n",
       "4       10013   165520      264446 2125-10-05 10:00:00  69.999999"
      ]
     },
     "execution_count": 24,
     "metadata": {},
     "output_type": "execute_result"
    }
   ],
   "source": [
    "fio2_df = pd.read_csv(DATA_DIR + 'fio2_cohort.csv')\n",
    "fio2_df['charttime'] = pd.to_datetime(fio2_df['charttime'])\n",
    "\n",
    "fio2_df.head()"
   ]
  },
  {
   "cell_type": "code",
   "execution_count": 25,
   "id": "bc4f35f0",
   "metadata": {},
   "outputs": [
    {
     "name": "stderr",
     "output_type": "stream",
     "text": [
      "100%|██████████████████████████████████████████████████████████████████████████████████| 31/31 [00:00<00:00, 48.71it/s]\n"
     ]
    }
   ],
   "source": [
    "# Process ICU stays one-by-one\n",
    "for icustay_id, treatment_data in tqdm(fio2_df.groupby('icustay_id')):\n",
    "    try:\n",
    "        timesteps = icustay_timesteps[icustay_id]\n",
    "    except:\n",
    "        continue\n",
    "        \n",
    "    # Add lab_ids to `data_all` to store aggregated lab measurements\n",
    "    data_all[icustay_id]['FiO2'] = np.zeros(len(timesteps), dtype=np.float32)\n",
    "            \n",
    "    # Which vitals were monitored in the last 4 hours?\n",
    "    for i, window_end in enumerate(timesteps):\n",
    "        \n",
    "        # Inclusion test: Measurement charttime in (window_start, window_end)\n",
    "        window_start = window_end - np.timedelta64(4, 'h')\n",
    "        condition = (treatment_data['charttime'] > window_start) & (treatment_data['charttime'] <= window_end)  \n",
    "        \n",
    "        # Compute average value of each vital_id\n",
    "        data_all[icustay_id]['FiO2'][i] = treatment_data[condition]['fio2'].sum()"
   ]
  },
  {
   "cell_type": "code",
   "execution_count": 26,
   "id": "51410524",
   "metadata": {},
   "outputs": [
    {
     "data": {
      "text/plain": [
       "array([ 0.,  0.,  0.,  0.,  0.,  0.,  0.,  0., 40., 35.,  0.,  0.,  0.,\n",
       "        0.,  0.,  0.,  0.,  0.,  0.], dtype=float32)"
      ]
     },
     "execution_count": 26,
     "metadata": {},
     "output_type": "execute_result"
    }
   ],
   "source": [
    "data_all[279554]['FiO2']"
   ]
  },
  {
   "cell_type": "markdown",
   "id": "d83e59a7",
   "metadata": {},
   "source": [
    "---\n",
    "# Final Processing\n",
    "\n",
    "## Shift Actions in Time by One Timestep"
   ]
  },
  {
   "cell_type": "code",
   "execution_count": 27,
   "id": "85dfc7ca",
   "metadata": {},
   "outputs": [],
   "source": [
    "for icustay_id, icustay_data in data_all.items():\n",
    "    \n",
    "    # Shift each sequence accordingly\n",
    "    for feature_name, feature_data in icustay_data.items():\n",
    "        if feature_name == 'TotalFluid' or feature_name == 'MaxVaso':\n",
    "            data_all[icustay_id][feature_name] = feature_data[1:] # Move actions forward\n",
    "        else:\n",
    "            data_all[icustay_id][feature_name] = feature_data[:-1] # Cut of last feature (no prediction is made here)"
   ]
  },
  {
   "cell_type": "markdown",
   "id": "5c59090d",
   "metadata": {},
   "source": [
    "## Convert to DataFrame!"
   ]
  },
  {
   "cell_type": "code",
   "execution_count": 28,
   "id": "31f830ca",
   "metadata": {},
   "outputs": [
    {
     "data": {
      "text/html": [
       "<div>\n",
       "<style scoped>\n",
       "    .dataframe tbody tr th:only-of-type {\n",
       "        vertical-align: middle;\n",
       "    }\n",
       "\n",
       "    .dataframe tbody tr th {\n",
       "        vertical-align: top;\n",
       "    }\n",
       "\n",
       "    .dataframe thead th {\n",
       "        text-align: right;\n",
       "    }\n",
       "</style>\n",
       "<table border=\"1\" class=\"dataframe\">\n",
       "  <thead>\n",
       "    <tr style=\"text-align: right;\">\n",
       "      <th></th>\n",
       "      <th>index</th>\n",
       "      <th>Timesteps</th>\n",
       "      <th>Glucose</th>\n",
       "      <th>SysBP</th>\n",
       "      <th>TempC</th>\n",
       "      <th>HeartRate</th>\n",
       "      <th>RespRate</th>\n",
       "      <th>SpO2</th>\n",
       "      <th>MeanBP</th>\n",
       "      <th>DiasBP</th>\n",
       "      <th>...</th>\n",
       "      <th>POTASSIUM</th>\n",
       "      <th>MAGNESIUM</th>\n",
       "      <th>PACO2</th>\n",
       "      <th>BUN</th>\n",
       "      <th>CREATININE</th>\n",
       "      <th>UrineOutput</th>\n",
       "      <th>icustay_id</th>\n",
       "      <th>FiO2</th>\n",
       "      <th>TotalFluid</th>\n",
       "      <th>MaxVaso</th>\n",
       "    </tr>\n",
       "  </thead>\n",
       "  <tbody>\n",
       "    <tr>\n",
       "      <th>0</th>\n",
       "      <td>0</td>\n",
       "      <td>2164-10-22 15:30:00</td>\n",
       "      <td>0.0</td>\n",
       "      <td>0.0</td>\n",
       "      <td>0.0</td>\n",
       "      <td>0.0</td>\n",
       "      <td>0.0</td>\n",
       "      <td>0.0</td>\n",
       "      <td>0.0</td>\n",
       "      <td>0.0</td>\n",
       "      <td>...</td>\n",
       "      <td>0.0</td>\n",
       "      <td>0.0</td>\n",
       "      <td>0.0</td>\n",
       "      <td>0.0</td>\n",
       "      <td>0.0</td>\n",
       "      <td>0.0</td>\n",
       "      <td>206504</td>\n",
       "      <td>NaN</td>\n",
       "      <td>NaN</td>\n",
       "      <td>NaN</td>\n",
       "    </tr>\n",
       "    <tr>\n",
       "      <th>1</th>\n",
       "      <td>1</td>\n",
       "      <td>2164-10-22 19:30:00</td>\n",
       "      <td>0.0</td>\n",
       "      <td>0.0</td>\n",
       "      <td>0.0</td>\n",
       "      <td>0.0</td>\n",
       "      <td>0.0</td>\n",
       "      <td>0.0</td>\n",
       "      <td>0.0</td>\n",
       "      <td>0.0</td>\n",
       "      <td>...</td>\n",
       "      <td>0.0</td>\n",
       "      <td>0.0</td>\n",
       "      <td>0.0</td>\n",
       "      <td>0.0</td>\n",
       "      <td>0.0</td>\n",
       "      <td>0.0</td>\n",
       "      <td>206504</td>\n",
       "      <td>NaN</td>\n",
       "      <td>NaN</td>\n",
       "      <td>NaN</td>\n",
       "    </tr>\n",
       "    <tr>\n",
       "      <th>2</th>\n",
       "      <td>2</td>\n",
       "      <td>2164-10-22 23:30:00</td>\n",
       "      <td>0.0</td>\n",
       "      <td>0.0</td>\n",
       "      <td>0.0</td>\n",
       "      <td>0.0</td>\n",
       "      <td>0.0</td>\n",
       "      <td>0.0</td>\n",
       "      <td>0.0</td>\n",
       "      <td>0.0</td>\n",
       "      <td>...</td>\n",
       "      <td>0.0</td>\n",
       "      <td>0.0</td>\n",
       "      <td>0.0</td>\n",
       "      <td>0.0</td>\n",
       "      <td>0.0</td>\n",
       "      <td>0.0</td>\n",
       "      <td>206504</td>\n",
       "      <td>NaN</td>\n",
       "      <td>NaN</td>\n",
       "      <td>NaN</td>\n",
       "    </tr>\n",
       "    <tr>\n",
       "      <th>3</th>\n",
       "      <td>3</td>\n",
       "      <td>2164-10-23 03:30:00</td>\n",
       "      <td>0.0</td>\n",
       "      <td>0.0</td>\n",
       "      <td>0.0</td>\n",
       "      <td>0.0</td>\n",
       "      <td>0.0</td>\n",
       "      <td>0.0</td>\n",
       "      <td>0.0</td>\n",
       "      <td>0.0</td>\n",
       "      <td>...</td>\n",
       "      <td>0.0</td>\n",
       "      <td>0.0</td>\n",
       "      <td>0.0</td>\n",
       "      <td>0.0</td>\n",
       "      <td>0.0</td>\n",
       "      <td>0.0</td>\n",
       "      <td>206504</td>\n",
       "      <td>NaN</td>\n",
       "      <td>NaN</td>\n",
       "      <td>NaN</td>\n",
       "    </tr>\n",
       "    <tr>\n",
       "      <th>4</th>\n",
       "      <td>4</td>\n",
       "      <td>2164-10-23 07:30:00</td>\n",
       "      <td>0.0</td>\n",
       "      <td>0.0</td>\n",
       "      <td>0.0</td>\n",
       "      <td>0.0</td>\n",
       "      <td>0.0</td>\n",
       "      <td>0.0</td>\n",
       "      <td>0.0</td>\n",
       "      <td>0.0</td>\n",
       "      <td>...</td>\n",
       "      <td>0.0</td>\n",
       "      <td>0.0</td>\n",
       "      <td>0.0</td>\n",
       "      <td>0.0</td>\n",
       "      <td>0.0</td>\n",
       "      <td>0.0</td>\n",
       "      <td>206504</td>\n",
       "      <td>NaN</td>\n",
       "      <td>NaN</td>\n",
       "      <td>NaN</td>\n",
       "    </tr>\n",
       "  </tbody>\n",
       "</table>\n",
       "<p>5 rows × 41 columns</p>\n",
       "</div>"
      ],
      "text/plain": [
       "   index           Timesteps  Glucose  SysBP  TempC  HeartRate  RespRate  \\\n",
       "0      0 2164-10-22 15:30:00      0.0    0.0    0.0        0.0       0.0   \n",
       "1      1 2164-10-22 19:30:00      0.0    0.0    0.0        0.0       0.0   \n",
       "2      2 2164-10-22 23:30:00      0.0    0.0    0.0        0.0       0.0   \n",
       "3      3 2164-10-23 03:30:00      0.0    0.0    0.0        0.0       0.0   \n",
       "4      4 2164-10-23 07:30:00      0.0    0.0    0.0        0.0       0.0   \n",
       "\n",
       "   SpO2  MeanBP  DiasBP  ...  POTASSIUM  MAGNESIUM  PACO2  BUN  CREATININE  \\\n",
       "0   0.0     0.0     0.0  ...        0.0        0.0    0.0  0.0         0.0   \n",
       "1   0.0     0.0     0.0  ...        0.0        0.0    0.0  0.0         0.0   \n",
       "2   0.0     0.0     0.0  ...        0.0        0.0    0.0  0.0         0.0   \n",
       "3   0.0     0.0     0.0  ...        0.0        0.0    0.0  0.0         0.0   \n",
       "4   0.0     0.0     0.0  ...        0.0        0.0    0.0  0.0         0.0   \n",
       "\n",
       "   UrineOutput  icustay_id  FiO2  TotalFluid  MaxVaso  \n",
       "0          0.0      206504   NaN         NaN      NaN  \n",
       "1          0.0      206504   NaN         NaN      NaN  \n",
       "2          0.0      206504   NaN         NaN      NaN  \n",
       "3          0.0      206504   NaN         NaN      NaN  \n",
       "4          0.0      206504   NaN         NaN      NaN  \n",
       "\n",
       "[5 rows x 41 columns]"
      ]
     },
     "execution_count": 28,
     "metadata": {},
     "output_type": "execute_result"
    }
   ],
   "source": [
    "# Convert subdicts to DataFrames\n",
    "data_all_df = {icustay_id: pd.DataFrame.from_dict(icustay_data) for icustay_id, icustay_data in data_all.items()}\n",
    "\n",
    "# Add icustay_id as identifier\n",
    "for icustay_id in data_all_df.keys():\n",
    "    data_all_df[icustay_id]['icustay_id'] = icustay_id\n",
    "    \n",
    "# Merge into one large DataFrame\n",
    "data_all_df = pd.concat(data_all_df.values()).reset_index()\n",
    "data_all_df.head(10)\n",
    "\n",
    "# Don't forget to save\n",
    "data_all_df.to_csv('data_all_handcrafted.csv')\n",
    "data_all_df.head()"
   ]
  },
  {
   "cell_type": "markdown",
   "id": "a158e1cb",
   "metadata": {},
   "source": [
    "---\n",
    "\n",
    "## Done! Let's Visualize!"
   ]
  },
  {
   "cell_type": "code",
   "execution_count": 31,
   "id": "3c627372",
   "metadata": {
    "scrolled": false
   },
   "outputs": [
    {
     "data": {
      "image/png": "[encoded data removed]",
      "text/plain": [
       "<Figure size 864x576 with 1 Axes>"
      ]
     },
     "metadata": {
      "needs_background": "light"
     },
     "output_type": "display_data"
    }
   ],
   "source": [
    "import matplotlib.pyplot as plt\n",
    "\n",
    "data = data_all[279554] # Without MaxVaso/TotalFluid offset!\n",
    "\n",
    "x = data['Timesteps']\n",
    "\n",
    "plt.figure(figsize=(12, 8))\n",
    "\n",
    "# Suspected time of infection\n",
    "plt.plot([x[6], x[6]], [-50, 2650], color='k', linestyle='--')\n",
    "\n",
    "# Plots data\n",
    "for key, y in data.items():\n",
    "    if key != 'Timesteps':\n",
    "        plt.plot(x, y, label=key.title() if key.isupper() else key)\n",
    "\n",
    "plt.ylim(-100, 2700)\n",
    "plt.xlabel('Timestep')\n",
    "plt.ylabel('A.U.')\n",
    "plt.legend(ncol=2)\n",
    "plt.show()"
   ]
  }
 ],
 "metadata": {
  "kernelspec": {
   "display_name": "Python 3 (ipykernel)",
   "language": "python",
   "name": "python3"
  },
  "language_info": {
   "codemirror_mode": {
    "name": "ipython",
    "version": 3
   },
   "file_extension": ".py",
   "mimetype": "text/x-python",
   "name": "python",
   "nbconvert_exporter": "python",
   "pygments_lexer": "ipython3",
   "version": "3.8.10"
  }
 },
 "nbformat": 4,
 "nbformat_minor": 5
}
