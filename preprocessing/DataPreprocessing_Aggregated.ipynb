{
 "cells": [
  {
   "cell_type": "markdown",
   "id": "126b6815",
   "metadata": {},
   "source": [
    "# Preprocessing AmsterdamUMCdb and MIMIC-III v1.4 Data Files\n",
    "\n",
    "In this notebook we will preprocess the [AmsterdamUMCdb](https://github.com/AmsterdamUMC) and [MIMIC-III](https://physionet.org/content/mimiciii/1.4/) v1.4 data files as extracted by our data extraction pipeline (see `data/mimic-iii` and `data/amsterdam-umc-db`). Here, we implement a preprocessing pipeline similar to [Roggeveen et al.](https://www.sciencedirect.com/science/article/pii/S0933365720312689), by aggregating measurements into bins of 1-hour (as opposed to 4 hours used by Roggeveen et al.) starting from admission up to 72 hours in.\n",
    "\n",
    "The [original notebook](https://github.com/LucaMD/SRL/blob/master/SEPSIS/MIMIC_src/MIMIC_R_DataPreprocessing.ipynb) used to preprocess the data files was written in R; I have reimplemented the preprocessing in Python and validated this reimplementation with the original."
   ]
  },
  {
   "cell_type": "code",
   "execution_count": 1,
   "id": "b2081bae",
   "metadata": {},
   "outputs": [],
   "source": [
    "## Dependencies\n",
    "# I/O\n",
    "import os\n",
    "import re\n",
    "import pickle\n",
    "import pandas as pd\n",
    "import numpy as np\n",
    "\n",
    "# Plotting\n",
    "import random\n",
    "import matplotlib.pyplot as plt\n",
    "\n",
    "# Timing\n",
    "from datetime import timedelta\n",
    "from tqdm import tqdm\n",
    "\n",
    "# Imputation\n",
    "from fancyimpute import KNN\n",
    "\n",
    "# Suppress scientific notation\n",
    "np.set_printoptions(suppress=True)"
   ]
  },
  {
   "cell_type": "code",
   "execution_count": 2,
   "id": "4906e8f3-8716-4e6a-890e-7a24e6eb3c76",
   "metadata": {},
   "outputs": [],
   "source": [
    "# Settings\n",
    "INTERVAL_TIME = '1h'\n",
    "DATA_DIR = 'D:/amsterdam-umc-db/final/'                          # Where mimic-iii/amsterdamumcdb is kept\n",
    "OUTPUT_DIR = 'datasets/amsterdam-umc-db/aggregated_full_cohort'  # Where preprocessed data will be stored"
   ]
  },
  {
   "cell_type": "markdown",
   "id": "81657ac1-1f08-408a-8756-b36810d6ba06",
   "metadata": {},
   "source": [
    " "
   ]
  },
  {
   "cell_type": "code",
   "execution_count": 3,
   "id": "ec795852-dddc-4b6d-be2b-275005153e56",
   "metadata": {},
   "outputs": [],
   "source": [
    "# Check if mimic-iii folder exists\n",
    "if not os.path.exists(DATA_DIR):\n",
    "    raise Exception('Dataset directory %s does not exist!' % DATA_DIR)\n",
    "\n",
    "# Create OUTPUT_DIR\n",
    "OUTPUT_DIR = OUTPUT_DIR + '_%s' % INTERVAL_TIME\n",
    "if not os.path.exists(OUTPUT_DIR):\n",
    "    os.makedirs(OUTPUT_DIR)\n",
    "    "
   ]
  },
  {
   "cell_type": "markdown",
   "id": "03484cf6",
   "metadata": {},
   "source": [
    "<br>\n",
    "\n",
    "**Convenience functions**<br>\n",
    "For simplicity, we define a number of convenience functions we can reuse throughout the notebook (for loading data, plotting, unit conversions, etc.);"
   ]
  },
  {
   "cell_type": "code",
   "execution_count": 4,
   "id": "0734dee8",
   "metadata": {},
   "outputs": [],
   "source": [
    "# make explicit as parse_dates=True fails to cast starttime and endtime as timestamps ¯\\_(ツ)_/¯\n",
    "PARSABLE_DATES = ['intime', 'outtime', 'starttime', 'endtime', 'window_start', \n",
    "                  'window_end', 'charttime', 'suspected_infection_time_poe']\n",
    "    \n",
    "# reads a .csv file and parses datetime columns using pd.to_datetime()\n",
    "def read_csv(fname, usecols=None):\n",
    "    df = pd.read_csv(fname, usecols=None)    \n",
    "    for col in PARSABLE_DATES:\n",
    "        if col in df.columns:\n",
    "            df[col] = pd.to_datetime(df[col])\n",
    "    return df"
   ]
  },
  {
   "cell_type": "code",
   "execution_count": 5,
   "id": "b7251ff6-01e3-41c8-be1d-37b8b01a6983",
   "metadata": {},
   "outputs": [],
   "source": [
    "# Plots for a (random) admission the values of one feature\n",
    "def plot_df(df, feature, icustay_id=None):\n",
    "    if icustay_id is None:\n",
    "        icustay_id = random.choice(df.icustay_id.unique())\n",
    "        \n",
    "    icustay = df[df.icustay_id == icustay_id]\n",
    "    \n",
    "    plt.figure(figsize=(10, 3))\n",
    "    plt.plot(icustay.timestep, icustay[feature], color='C0', linestyle='-')\n",
    "    plt.plot(icustay.timestep, icustay[feature], color='C0', marker='.')\n",
    "    plt.plot()\n",
    "    return icustay_id\n"
   ]
  },
  {
   "cell_type": "code",
   "execution_count": 6,
   "id": "170e95e3-1af8-4f9e-b382-ec7cb74a1da3",
   "metadata": {},
   "outputs": [],
   "source": [
    "# plots values of under `feature` over time\n",
    "def plot_dct(dct, feature, title='', xlabel='Timestep', ylabel='Value', style='-'):\n",
    "    icustay_id = None\n",
    "    x = None\n",
    "    y = None\n",
    "    \n",
    "    icustay_ids = list(dct.keys())\n",
    "    while x is None:\n",
    "        # Pick a random ICU stay from dct\n",
    "        icustay_id = random.choice(icustay_ids)\n",
    "        \n",
    "        # Continue if no data logged for key\n",
    "        if feature not in dct[icustay_id]:\n",
    "            continue\n",
    "        \n",
    "        # Continue if values are all zeros/NaNs (e.g. to mark no fluids were administered)\n",
    "        data = np.nan_to_num(dct[icustay_id][feature])\n",
    "        if np.mean(data) != 0:\n",
    "            x = dct[icustay_id]['timestep']\n",
    "            y = dct[icustay_id][feature]\n",
    "            \n",
    "    if len(x) > len(y):\n",
    "        x = x[:len(y)]\n",
    "                            \n",
    "    plt.figure(figsize=(8, 3))\n",
    "    plt.plot(x, y, style, label=str(icustay_id))\n",
    "    plt.title(title)\n",
    "    plt.xlabel(xlabel)\n",
    "    plt.ylabel(ylabel)\n",
    "    plt.legend()\n",
    "    plt.show()\n",
    "    "
   ]
  },
  {
   "cell_type": "code",
   "execution_count": 7,
   "id": "a0b56178-6f9a-4056-aa88-81489963375d",
   "metadata": {},
   "outputs": [],
   "source": [
    "# Converts a series of deltatime objects into hours\n",
    "def to_hours(x):\n",
    "    return x.astype('timedelta64[s]').astype(int) / 3600\n"
   ]
  },
  {
   "cell_type": "code",
   "execution_count": 8,
   "id": "ca7224ce-085f-4147-b128-7a38f58c2ec1",
   "metadata": {},
   "outputs": [
    {
     "name": "stdout",
     "output_type": "stream",
     "text": [
      "HeartRate => heart_rate\n",
      "ALBUMIN   => albumin\n",
      "MeanBP    => mean_bp\n"
     ]
    }
   ],
   "source": [
    "# Converts upper- or camelcase to snake-case (lowercase with '_' separators)\n",
    "def to_snakecase(string):\n",
    "    if string.islower():\n",
    "        return string\n",
    "    elif string.isupper():\n",
    "        return string.lower()\n",
    "    else:\n",
    "        string = re.sub('(.)([A-Z][a-z]+)', r'\\1_\\2', string)\n",
    "        return re.sub('([a-z0-9])([A-Z])', r'\\1_\\2', string).lower()\n",
    "    \n",
    "print('HeartRate => %s' % to_snakecase('HeartRate'))\n",
    "print('ALBUMIN   => %s' % to_snakecase('ALBUMIN'))\n",
    "print('MeanBP    => %s' % to_snakecase('MeanBP'))"
   ]
  },
  {
   "cell_type": "markdown",
   "id": "00965527",
   "metadata": {},
   "source": [
    "---\n",
    "## Patient Cohort\n",
    "\n",
    "Using MIMIC-Code we have extracted a *sepsis-3* cohort (i.e. a list of patients satisfying the sepsis-3 criteria (Singer et al., 2016)) along with information regarding the suspected time of infection and in-hospital mortality. Let's first import these data;"
   ]
  },
  {
   "cell_type": "code",
   "execution_count": null,
   "id": "265855f8",
   "metadata": {},
   "outputs": [],
   "source": [
    "cohort_df = read_csv(DATA_DIR + 'cohort_all_admissions.csv')\n",
    "print('Number of admissions: %s\\n' % len(cohort_df))\n",
    "cohort_df.head()"
   ]
  },
  {
   "cell_type": "markdown",
   "id": "c299a861",
   "metadata": {},
   "source": [
    "<br>\n",
    "\n",
    "**Collecting the data**<br>\n",
    "For convenience, we will collect features in a dict, mapping from each admission (`icustay_id`) to the corresponding data of features (`heart_rate`, `sys_bp`, `wbc`) or actions (e.g. `max_vaso`);"
   ]
  },
  {
   "cell_type": "code",
   "execution_count": null,
   "id": "033b1a6f",
   "metadata": {},
   "outputs": [],
   "source": [
    "# We will store our results in this dict\n",
    "data = {icustay_id: dict() for icustay_id in cohort_df.icustay_id.unique()}"
   ]
  },
  {
   "cell_type": "markdown",
   "id": "ca96fe5f",
   "metadata": {},
   "source": [
    "---\n",
    "\n",
    "## $x$-Hour Time Intervals\n",
    "\n",
    "For each 72-hour time window (spanning 72 hours from admission) we will compute all intermediate timesteps in increments of $\\Delta t=1$ hours (defined by `INTERVAL_TIME`). Each time we add our output to `data`;"
   ]
  },
  {
   "cell_type": "code",
   "execution_count": 15,
   "id": "b3e051c5",
   "metadata": {},
   "outputs": [],
   "source": [
    "def date_range(icustay, freq):\n",
    "    starttime = icustay['window_start']\n",
    "    endtime = icustay['window_end']\n",
    "    return pd.date_range(start=starttime, end=endtime, freq=freq).values\n",
    "    \n",
    "icustay_timesteps = {icustay['icustay_id']: date_range(icustay, freq=INTERVAL_TIME) for _, icustay in cohort_df.iterrows()}"
   ]
  },
  {
   "cell_type": "code",
   "execution_count": 16,
   "id": "8f1d932c",
   "metadata": {},
   "outputs": [],
   "source": [
    "for icustay_id, timesteps in icustay_timesteps.items():\n",
    "    data[icustay_id]['timestep'] = timesteps"
   ]
  },
  {
   "cell_type": "markdown",
   "id": "d4927b3a-1512-4c80-8cd5-1a66c8729512",
   "metadata": {},
   "source": [
    " "
   ]
  },
  {
   "cell_type": "code",
   "execution_count": 17,
   "id": "7db13a29",
   "metadata": {},
   "outputs": [
    {
     "data": {
      "text/plain": [
       "array(['2022-11-23T15:04:54.935704000', '2022-11-23T16:04:54.935704000',\n",
       "       '2022-11-23T17:04:54.935704000', '2022-11-23T18:04:54.935704000',\n",
       "       '2022-11-23T19:04:54.935704000'], dtype='datetime64[ns]')"
      ]
     },
     "execution_count": 17,
     "metadata": {},
     "output_type": "execute_result"
    }
   ],
   "source": [
    "# Plot timesteps of random admission\n",
    "icustay_id = random.choice(cohort_df.icustay_id.unique())\n",
    "data[icustay_id]['timestep'][:5]"
   ]
  },
  {
   "cell_type": "markdown",
   "id": "1ecf07ce",
   "metadata": {},
   "source": [
    "---\n",
    "## Vasopressors\n",
    "\n",
    "### 1. MetaVision Records"
   ]
  },
  {
   "cell_type": "code",
   "execution_count": 18,
   "id": "d7a02578",
   "metadata": {},
   "outputs": [
    {
     "name": "stdout",
     "output_type": "stream",
     "text": [
      "Number of admissions: 13243\n"
     ]
    },
    {
     "data": {
      "text/html": [
       "<div>\n",
       "<style scoped>\n",
       "    .dataframe tbody tr th:only-of-type {\n",
       "        vertical-align: middle;\n",
       "    }\n",
       "\n",
       "    .dataframe tbody tr th {\n",
       "        vertical-align: top;\n",
       "    }\n",
       "\n",
       "    .dataframe thead th {\n",
       "        text-align: right;\n",
       "    }\n",
       "</style>\n",
       "<table border=\"1\" class=\"dataframe\">\n",
       "  <thead>\n",
       "    <tr style=\"text-align: right;\">\n",
       "      <th></th>\n",
       "      <th>icustay_id</th>\n",
       "      <th>starttime</th>\n",
       "      <th>endtime</th>\n",
       "      <th>mcgkgmin</th>\n",
       "    </tr>\n",
       "  </thead>\n",
       "  <tbody>\n",
       "    <tr>\n",
       "      <th>0</th>\n",
       "      <td>1</td>\n",
       "      <td>2022-11-23 15:54:54.935704</td>\n",
       "      <td>2022-11-23 20:55:54.935704</td>\n",
       "      <td>0.080000</td>\n",
       "    </tr>\n",
       "    <tr>\n",
       "      <th>1</th>\n",
       "      <td>2</td>\n",
       "      <td>2022-11-23 15:26:54.935704</td>\n",
       "      <td>2022-11-23 16:02:54.935704</td>\n",
       "      <td>0.006667</td>\n",
       "    </tr>\n",
       "    <tr>\n",
       "      <th>2</th>\n",
       "      <td>2</td>\n",
       "      <td>2022-11-23 16:02:54.935704</td>\n",
       "      <td>2022-11-23 16:22:54.935704</td>\n",
       "      <td>0.010000</td>\n",
       "    </tr>\n",
       "    <tr>\n",
       "      <th>3</th>\n",
       "      <td>2</td>\n",
       "      <td>2022-11-23 16:22:54.935704</td>\n",
       "      <td>2022-11-23 16:37:54.935704</td>\n",
       "      <td>0.006667</td>\n",
       "    </tr>\n",
       "    <tr>\n",
       "      <th>4</th>\n",
       "      <td>2</td>\n",
       "      <td>2022-11-23 16:37:54.935704</td>\n",
       "      <td>2022-11-23 16:55:54.935704</td>\n",
       "      <td>0.003333</td>\n",
       "    </tr>\n",
       "  </tbody>\n",
       "</table>\n",
       "</div>"
      ],
      "text/plain": [
       "   icustay_id                  starttime                    endtime  mcgkgmin\n",
       "0           1 2022-11-23 15:54:54.935704 2022-11-23 20:55:54.935704  0.080000\n",
       "1           2 2022-11-23 15:26:54.935704 2022-11-23 16:02:54.935704  0.006667\n",
       "2           2 2022-11-23 16:02:54.935704 2022-11-23 16:22:54.935704  0.010000\n",
       "3           2 2022-11-23 16:22:54.935704 2022-11-23 16:37:54.935704  0.006667\n",
       "4           2 2022-11-23 16:37:54.935704 2022-11-23 16:55:54.935704  0.003333"
      ]
     },
     "execution_count": 18,
     "metadata": {},
     "output_type": "execute_result"
    }
   ],
   "source": [
    "# Load data file from MIMIC-Code\n",
    "vaso_df = read_csv(DATA_DIR + 'vasopressors_mv_cohort.csv')\n",
    "print('Number of admissions:', len(vaso_df.icustay_id.unique()))\n",
    "vaso_df.head()"
   ]
  },
  {
   "cell_type": "markdown",
   "id": "b6e07d7d-42f0-46ff-88bb-313ab1fcdd68",
   "metadata": {},
   "source": [
    "**Computing maximum vasopressor dose**<br>\n",
    "\n",
    "For each admission (i.e. ICU stay), we iterate over timesteps $t$ and determine which treatments overlap with its 1-hour history (i.e. which treatments occurred between $x$ hours ago and now). We then record the maximum rate of these treatments."
   ]
  },
  {
   "cell_type": "code",
   "execution_count": 19,
   "id": "42df6b93",
   "metadata": {},
   "outputs": [
    {
     "name": "stderr",
     "output_type": "stream",
     "text": [
      "100%|████████████████████████████████████████████████████████████████████████████| 13243/13243 [12:46<00:00, 17.28it/s]\n"
     ]
    }
   ],
   "source": [
    "# Consider ICU stays one-by-one\n",
    "for icustay_id, treatments in tqdm(vaso_df.groupby('icustay_id')):\n",
    "        \n",
    "    # To store vasopressor doses into\n",
    "    timesteps = icustay_timesteps[icustay_id]\n",
    "    max_vaso = np.zeros(len(timesteps) - 1, dtype=np.float32)\n",
    "    \n",
    "    for i, interval_start in enumerate(timesteps[:-1]):\n",
    "        interval_end = timesteps[i + 1]\n",
    "        \n",
    "        # Inclusion test: treatment time overlaps with current interval.\n",
    "        # Remark: original R-code erroneously used 'treatment[endtime] <= interval_end' as first term\n",
    "        condition = (treatments.starttime <= interval_end) & (treatments.endtime > interval_start)\n",
    "        \n",
    "        # Compute max vasopressor intake in mcg/kg/min (norepinephrine-equivalent)\n",
    "        max_vaso[i] = treatments[condition].mcgkgmin.max()\n",
    "        max_vaso[i] = np.nan_to_num(max_vaso[i], nan=0.0)\n",
    "        \n",
    "    data[icustay_id]['max_vaso'] = max_vaso\n",
    "    \n",
    "del vaso_df"
   ]
  },
  {
   "cell_type": "code",
   "execution_count": 58,
   "id": "84a2c96c",
   "metadata": {},
   "outputs": [
    {
     "data": {
      "image/png": "[encoded data removed]",
      "text/plain": [
       "<Figure size 576x216 with 1 Axes>"
      ]
     },
     "metadata": {
      "needs_background": "light"
     },
     "output_type": "display_data"
    }
   ],
   "source": [
    "# Plot vasopressors of random admission\n",
    "plot_dct(\n",
    "    dct=data, \n",
    "    feature='max_vaso', \n",
    "    title='Max. VP dosage (%s)' % INTERVAL_TIME, \n",
    "    ylabel='Max. VP ($\\mu$g/kg/min)', \n",
    "    style='-'\n",
    ")"
   ]
  },
  {
   "cell_type": "markdown",
   "id": "cf150544-7650-449d-97a8-e0048b37d0cd",
   "metadata": {},
   "source": [
    "**Sanity checks**"
   ]
  },
  {
   "cell_type": "code",
   "execution_count": 21,
   "id": "04e5dd42-5897-4d48-a01d-2a58ba491d8a",
   "metadata": {},
   "outputs": [
    {
     "data": {
      "text/plain": [
       "array([    0.0002,     0.0067,     0.0167,     0.0667, 10000.    ])"
      ]
     },
     "execution_count": 21,
     "metadata": {},
     "output_type": "execute_result"
    }
   ],
   "source": [
    "# Does the action space look like Roggeveen et al.?\n",
    "max_vasos = np.row_stack([x['max_vaso'] for x in data.values() if 'max_vaso' in x]).flatten()\n",
    "\n",
    "# Exclude overrepresented zero doses for now\n",
    "max_vasos = max_vasos[max_vasos > 0]\n",
    "\n",
    "np.quantile(max_vasos, np.linspace(0, 1, 5)).round(4) # Approved!"
   ]
  },
  {
   "cell_type": "markdown",
   "id": "950d423e-5ee0-4111-8d56-cd754357d0c6",
   "metadata": {},
   "source": [
    "Compare with quartiles from (Roggeveen et al., 2021):\n",
    "<style type=\"text/css\">\n",
    ".tg  {border-collapse:collapse;border-spacing:0;}\n",
    ".tg td{border-color:black;border-style:solid;border-width:1px;font-family:Arial, sans-serif;font-size:14px;\n",
    "  overflow:hidden;padding:10px 5px;word-break:normal;}\n",
    ".tg th{border-color:black;border-style:solid;border-width:1px;font-family:Arial, sans-serif;font-size:14px;\n",
    "  font-weight:normal;overflow:hidden;padding:10px 5px;word-break:normal;}\n",
    ".tg .tg-8jgo{border-color:#ffffff;text-align:center;vertical-align:top}\n",
    "</style>\n",
    "<table class=\"tg\" align=\"left\">\n",
    "<thead>\n",
    "  <tr>\n",
    "    <th class=\"tg-8jgo\">0%</th>\n",
    "    <th class=\"tg-8jgo\">25%</th>\n",
    "    <th class=\"tg-8jgo\">50%</th>\n",
    "    <th class=\"tg-8jgo\">75%</th>\n",
    "    <th class=\"tg-8jgo\">100%</th>\n",
    "  </tr>\n",
    "</thead>\n",
    "<tbody>\n",
    "  <tr>\n",
    "    <td class=\"tg-8jgo\">0.002</td>\n",
    "    <td class=\"tg-8jgo\">0.11016</td>\n",
    "    <td class=\"tg-8jgo\">0.22509</td>\n",
    "    <td class=\"tg-8jgo\">0.45035</td>\n",
    "    <td class=\"tg-8jgo\">222.73125</td>\n",
    "  </tr>\n",
    "</tbody>\n",
    "</table>\n",
    "\n",
    "<br><br><br>\n",
    "\n",
    "Do note, these relate to sepsis patients only and may hence differ slightly from those obtained here."
   ]
  },
  {
   "cell_type": "markdown",
   "id": "8edc95a1",
   "metadata": {},
   "source": [
    "---\n",
    "## IV Fluids\n",
    "\n",
    "### 1. MetaVision Records\n",
    "\n",
    "Source: Komorowski et al. [[link]](https://github.com/matthieukomorowski/AI_Clinician/blob/master/AIClinician_Data_extract_MIMIC3_140219.ipynb)"
   ]
  },
  {
   "cell_type": "code",
   "execution_count": 59,
   "id": "2a02c11f-bfbf-4491-ab3d-4fb45016c1d3",
   "metadata": {},
   "outputs": [],
   "source": [
    "TONICITY_FACTORS = {\n",
    "    30176: 0.25,\n",
    "    30315: 0.25,\n",
    "    30161: 0.3,\n",
    "    30020: 0.5,\n",
    "    30015: 0.5,\n",
    "    225823: 0.5,\n",
    "    30321: 0.5,\n",
    "    30186: 0.5,\n",
    "    30211: 0.5, \n",
    "    30353: 0.5,\n",
    "    42742: 0.5,\n",
    "    42244: 0.5,\n",
    "    225159: 0.5,\n",
    "    227531: 2.75,\n",
    "    30143: 3,\n",
    "    225161: 3,\n",
    "    30009: 5,\n",
    "    220862: 5,\n",
    "    30030: 6.66,\n",
    "    220995: 6.66,\n",
    "    227533: 6.66,\n",
    "    228341: 8\n",
    "}\n",
    "\n",
    "# Remark: Komorowski et al. missed 220949, 'Dextrose 5%' (isotonic), amounting to 40% of IV fluids!\n",
    "IV_FLUID_ITEMIDS = {225158,225943,226089,225168,225828,225823,220862,220970,220864,225159,220995,225170,\n",
    "                    225825,227533,225161,227531,225171,225827,225941,225823,225825,225941,225825,228341,\n",
    "                    225827,30018,30021,30015,30296,30020,30066,30001,30030,30060,30005,30321,30006,30061,\n",
    "                    30009,30179,30190,30143,30160,30008,30168,30186,30211,30353,30159,30007,30185,30063,\n",
    "                    30094,30352,30014,30011,30210,46493,45399,46516,40850,30176,30161,30381,30315,42742,\n",
    "                    30180,46087,41491,30004,42698,42244,220949,225944,227523,-1} # -1 = AmsterdamUMCdb\n",
    "\n",
    "NON_IV_CATEGORIES = ['14-Oral/Gastric Intake', \n",
    "                     '09-Antibiotics (Non IV)',\n",
    "                     '13-Enteral Nutrition',\n",
    "                     '06-Insulin (Non IV)',\n",
    "                     '08-Antibiotics (IV)',\n",
    "                     '11-Prophylaxis (Non IV)',\n",
    "                     '16-Pre Admission',\n",
    "                     '09-Antibiotics (Non IV)']"
   ]
  },
  {
   "cell_type": "markdown",
   "id": "527d3999-5452-4608-93b1-17a3291b5000",
   "metadata": {},
   "source": [
    "**Drop non-IV fluid events**"
   ]
  },
  {
   "cell_type": "code",
   "execution_count": 60,
   "id": "fa96d597",
   "metadata": {},
   "outputs": [
    {
     "data": {
      "text/html": [
       "<div>\n",
       "<style scoped>\n",
       "    .dataframe tbody tr th:only-of-type {\n",
       "        vertical-align: middle;\n",
       "    }\n",
       "\n",
       "    .dataframe tbody tr th {\n",
       "        vertical-align: top;\n",
       "    }\n",
       "\n",
       "    .dataframe thead th {\n",
       "        text-align: right;\n",
       "    }\n",
       "</style>\n",
       "<table border=\"1\" class=\"dataframe\">\n",
       "  <thead>\n",
       "    <tr style=\"text-align: right;\">\n",
       "      <th></th>\n",
       "      <th>icustay_id</th>\n",
       "      <th>itemid</th>\n",
       "      <th>starttime</th>\n",
       "      <th>endtime</th>\n",
       "      <th>amount</th>\n",
       "      <th>duration</th>\n",
       "      <th>ordercategoryname</th>\n",
       "    </tr>\n",
       "  </thead>\n",
       "  <tbody>\n",
       "    <tr>\n",
       "      <th>0</th>\n",
       "      <td>0</td>\n",
       "      <td>-1</td>\n",
       "      <td>2022-11-23 23:33:54.935704</td>\n",
       "      <td>2022-11-24 00:33:54.935704</td>\n",
       "      <td>500.0</td>\n",
       "      <td>1.000000</td>\n",
       "      <td>Infuus - Colloid</td>\n",
       "    </tr>\n",
       "    <tr>\n",
       "      <th>1</th>\n",
       "      <td>0</td>\n",
       "      <td>-1</td>\n",
       "      <td>2022-11-24 03:47:54.935704</td>\n",
       "      <td>2022-11-24 04:47:54.935704</td>\n",
       "      <td>500.0</td>\n",
       "      <td>1.000000</td>\n",
       "      <td>Infuus - Colloid</td>\n",
       "    </tr>\n",
       "    <tr>\n",
       "      <th>2</th>\n",
       "      <td>0</td>\n",
       "      <td>-1</td>\n",
       "      <td>2022-11-24 15:33:54.935704</td>\n",
       "      <td>2022-11-24 16:03:54.935704</td>\n",
       "      <td>500.0</td>\n",
       "      <td>0.500000</td>\n",
       "      <td>Infuus - Colloid</td>\n",
       "    </tr>\n",
       "    <tr>\n",
       "      <th>3</th>\n",
       "      <td>0</td>\n",
       "      <td>-1</td>\n",
       "      <td>2022-11-25 01:40:54.935704</td>\n",
       "      <td>2022-11-25 02:40:54.935704</td>\n",
       "      <td>500.0</td>\n",
       "      <td>1.000000</td>\n",
       "      <td>Infuus - Colloid</td>\n",
       "    </tr>\n",
       "    <tr>\n",
       "      <th>4</th>\n",
       "      <td>0</td>\n",
       "      <td>-1</td>\n",
       "      <td>2022-11-23 20:46:54.935704</td>\n",
       "      <td>2022-11-24 04:27:54.935704</td>\n",
       "      <td>500.0</td>\n",
       "      <td>7.683333</td>\n",
       "      <td>Infuus - Crystalloid</td>\n",
       "    </tr>\n",
       "  </tbody>\n",
       "</table>\n",
       "</div>"
      ],
      "text/plain": [
       "   icustay_id  itemid                  starttime                    endtime  \\\n",
       "0           0      -1 2022-11-23 23:33:54.935704 2022-11-24 00:33:54.935704   \n",
       "1           0      -1 2022-11-24 03:47:54.935704 2022-11-24 04:47:54.935704   \n",
       "2           0      -1 2022-11-24 15:33:54.935704 2022-11-24 16:03:54.935704   \n",
       "3           0      -1 2022-11-25 01:40:54.935704 2022-11-25 02:40:54.935704   \n",
       "4           0      -1 2022-11-23 20:46:54.935704 2022-11-24 04:27:54.935704   \n",
       "\n",
       "   amount  duration     ordercategoryname  \n",
       "0   500.0  1.000000      Infuus - Colloid  \n",
       "1   500.0  1.000000      Infuus - Colloid  \n",
       "2   500.0  0.500000      Infuus - Colloid  \n",
       "3   500.0  1.000000      Infuus - Colloid  \n",
       "4   500.0  7.683333  Infuus - Crystalloid  "
      ]
     },
     "execution_count": 60,
     "metadata": {},
     "output_type": "execute_result"
    }
   ],
   "source": [
    "ivfluid_df = read_csv(DATA_DIR + 'inputevents_mv_cohort.csv')\n",
    "\n",
    "# Drop 14-Oral/Gastric Intake (i.e. having a glass of water) and other Non-IV input events\n",
    "# Remark: In (Roggeveen et al., 2021) only '14-Oral/Gastric Intake' was dropped causing\n",
    "# various Non-IV treatments (such as '13-Enteral Nutrition') to become part of IV fluids\n",
    "ivfluid_df = ivfluid_df.loc[~ivfluid_df.ordercategoryname.isin(NON_IV_CATEGORIES) & (ivfluid_df.amountuom == 'ml')]\n",
    "\n",
    "# Sanity check: remove amounts outside (0, 5000) range\n",
    "ivfluid_df = ivfluid_df[(ivfluid_df.amount > 0) & (ivfluid_df.amount < 5000) & ivfluid_df.amount.notna()]\n",
    "\n",
    "# Compute duration in hours\n",
    "# Remark: original erroneously measured time in a mix of hours and minutes (due to unit='auto')\n",
    "ivfluid_df['duration'] = to_hours(ivfluid_df.endtime - ivfluid_df.starttime)\n",
    "\n",
    "# Drop unused columns\n",
    "ivfluid_df = ivfluid_df[['icustay_id', 'itemid', 'starttime', 'endtime', 'amount', 'duration', 'ordercategoryname']]\n",
    "ivfluid_df.head()"
   ]
  },
  {
   "cell_type": "markdown",
   "id": "8c2915de-34e2-4e03-bf4e-2db8d3e70b4e",
   "metadata": {},
   "source": [
    "**Correct for tonicity**"
   ]
  },
  {
   "cell_type": "code",
   "execution_count": 61,
   "id": "6e142903-37dc-404d-a21b-4d62c94a9e5f",
   "metadata": {},
   "outputs": [
    {
     "name": "stdout",
     "output_type": "stream",
     "text": [
      "%-known IV solutions: 1.0\n"
     ]
    }
   ],
   "source": [
    "perc_iv_fluids = np.sum(ivfluid_df.itemid.isin(IV_FLUID_ITEMIDS)) / len(ivfluid_df)\n",
    "print('%-known IV solutions:', perc_iv_fluids)"
   ]
  },
  {
   "cell_type": "code",
   "execution_count": 62,
   "id": "b562a7c2-d3ec-4929-85c5-956215e1fb6f",
   "metadata": {},
   "outputs": [
    {
     "data": {
      "text/html": [
       "<div>\n",
       "<style scoped>\n",
       "    .dataframe tbody tr th:only-of-type {\n",
       "        vertical-align: middle;\n",
       "    }\n",
       "\n",
       "    .dataframe tbody tr th {\n",
       "        vertical-align: top;\n",
       "    }\n",
       "\n",
       "    .dataframe thead th {\n",
       "        text-align: right;\n",
       "    }\n",
       "</style>\n",
       "<table border=\"1\" class=\"dataframe\">\n",
       "  <thead>\n",
       "    <tr style=\"text-align: right;\">\n",
       "      <th></th>\n",
       "      <th>icustay_id</th>\n",
       "      <th>itemid</th>\n",
       "      <th>starttime</th>\n",
       "      <th>endtime</th>\n",
       "      <th>amount</th>\n",
       "      <th>duration</th>\n",
       "      <th>ordercategoryname</th>\n",
       "    </tr>\n",
       "  </thead>\n",
       "  <tbody>\n",
       "    <tr>\n",
       "      <th>0</th>\n",
       "      <td>0</td>\n",
       "      <td>-1</td>\n",
       "      <td>2022-11-23 23:33:54.935704</td>\n",
       "      <td>2022-11-24 00:33:54.935704</td>\n",
       "      <td>500.0</td>\n",
       "      <td>1.000000</td>\n",
       "      <td>Infuus - Colloid</td>\n",
       "    </tr>\n",
       "    <tr>\n",
       "      <th>1</th>\n",
       "      <td>0</td>\n",
       "      <td>-1</td>\n",
       "      <td>2022-11-24 03:47:54.935704</td>\n",
       "      <td>2022-11-24 04:47:54.935704</td>\n",
       "      <td>500.0</td>\n",
       "      <td>1.000000</td>\n",
       "      <td>Infuus - Colloid</td>\n",
       "    </tr>\n",
       "    <tr>\n",
       "      <th>2</th>\n",
       "      <td>0</td>\n",
       "      <td>-1</td>\n",
       "      <td>2022-11-24 15:33:54.935704</td>\n",
       "      <td>2022-11-24 16:03:54.935704</td>\n",
       "      <td>500.0</td>\n",
       "      <td>0.500000</td>\n",
       "      <td>Infuus - Colloid</td>\n",
       "    </tr>\n",
       "    <tr>\n",
       "      <th>3</th>\n",
       "      <td>0</td>\n",
       "      <td>-1</td>\n",
       "      <td>2022-11-25 01:40:54.935704</td>\n",
       "      <td>2022-11-25 02:40:54.935704</td>\n",
       "      <td>500.0</td>\n",
       "      <td>1.000000</td>\n",
       "      <td>Infuus - Colloid</td>\n",
       "    </tr>\n",
       "    <tr>\n",
       "      <th>4</th>\n",
       "      <td>0</td>\n",
       "      <td>-1</td>\n",
       "      <td>2022-11-23 20:46:54.935704</td>\n",
       "      <td>2022-11-24 04:27:54.935704</td>\n",
       "      <td>500.0</td>\n",
       "      <td>7.683333</td>\n",
       "      <td>Infuus - Crystalloid</td>\n",
       "    </tr>\n",
       "  </tbody>\n",
       "</table>\n",
       "</div>"
      ],
      "text/plain": [
       "   icustay_id  itemid                  starttime                    endtime  \\\n",
       "0           0      -1 2022-11-23 23:33:54.935704 2022-11-24 00:33:54.935704   \n",
       "1           0      -1 2022-11-24 03:47:54.935704 2022-11-24 04:47:54.935704   \n",
       "2           0      -1 2022-11-24 15:33:54.935704 2022-11-24 16:03:54.935704   \n",
       "3           0      -1 2022-11-25 01:40:54.935704 2022-11-25 02:40:54.935704   \n",
       "4           0      -1 2022-11-23 20:46:54.935704 2022-11-24 04:27:54.935704   \n",
       "\n",
       "   amount  duration     ordercategoryname  \n",
       "0   500.0  1.000000      Infuus - Colloid  \n",
       "1   500.0  1.000000      Infuus - Colloid  \n",
       "2   500.0  0.500000      Infuus - Colloid  \n",
       "3   500.0  1.000000      Infuus - Colloid  \n",
       "4   500.0  7.683333  Infuus - Crystalloid  "
      ]
     },
     "execution_count": 62,
     "metadata": {},
     "output_type": "execute_result"
    }
   ],
   "source": [
    "def correct_for_tonicity(df):\n",
    "    df = df[df.itemid.isin(IV_FLUID_ITEMIDS)].copy()\n",
    "    for item_id, factor in TONICITY_FACTORS.items():\n",
    "        df.loc[df.itemid == item_id, 'amount'] = factor * df.amount[df.itemid == item_id]\n",
    "    return df\n",
    "\n",
    "# Remark: Tonicity correction was not done in (Roggeveen et al., 2021) although standard practice\n",
    "ivfluid_df = correct_for_tonicity(ivfluid_df)\n",
    "ivfluid_df.head()"
   ]
  },
  {
   "cell_type": "markdown",
   "id": "879bea88",
   "metadata": {},
   "source": [
    "**Computing total intake of IV fluids**<br>\n",
    "\n",
    "In order to determine the total amount of IV fluid administered within a 4 hour interval, we need to calculate how long a treatment was administered for during an interval; multiplied by the rate (i.e. `amount / duration`) we can infer the total amount administered by each treatment during the current interval. For this we use the `total_admin_in_interval` function below:"
   ]
  },
  {
   "cell_type": "code",
   "execution_count": 63,
   "id": "50b2e875",
   "metadata": {},
   "outputs": [],
   "source": [
    "# Computes how much of each dose was administered between interval_start and interval_end\n",
    "def total_admin_in_interval(interval_start, interval_end, treatments):\n",
    "    dose_start = treatments.starttime\n",
    "    dose_end = treatments.endtime\n",
    "    amount = treatments.amount\n",
    "    duration = treatments.duration\n",
    "    rate = amount / duration # in ml/hour!   \n",
    "    \n",
    "    total_ml = 0\n",
    "    \n",
    "    # Option 1: Dose started before interval and ended after interval\n",
    "    c1 = (dose_start < interval_start) & (dose_end > interval_end)\n",
    "    if c1.any():\n",
    "        total_ml += (to_hours(interval_end - interval_start) * rate[c1]).sum()\n",
    "    \n",
    "    # Option 2: Dose started before and ended within interval\n",
    "    c2 = (dose_start < interval_start) & (dose_end > interval_start) & (dose_end <= interval_end)\n",
    "    if c2.any():\n",
    "        total_ml += (to_hours(dose_end - interval_start) * rate[c2]).sum()\n",
    "\n",
    "    # Option 3: Dose started and ended in interval\n",
    "    c3 = (dose_start >= interval_start) & (dose_start < interval_end) & (dose_end <= interval_end) & (dose_end > interval_start)\n",
    "    if c3.any():\n",
    "        total_ml += amount[c3].sum()\n",
    "    \n",
    "    # Option 4: dose started in interval and ended after interval\n",
    "    # Remark: Extra division by duration in original notebook\n",
    "    # Remark: In original notebook, > in first term causes treatments to be skipped starting exactly at interval start\n",
    "    c4 = (dose_start >= interval_start) & (dose_start < interval_end) & (dose_end > interval_end)\n",
    "    if c4.any():\n",
    "        total_ml += (to_hours(interval_end - dose_start) * rate[c4]).sum()\n",
    "            \n",
    "    return total_ml"
   ]
  },
  {
   "cell_type": "markdown",
   "id": "01ef1eb3",
   "metadata": {},
   "source": [
    "We can now use `total_admin_in_interval()` on each interval `(interval_start, interval_end)` and treatment in `ivfluid_mv_df` to compute the total IV fluid administration:"
   ]
  },
  {
   "cell_type": "code",
   "execution_count": 64,
   "id": "0d5be83f",
   "metadata": {},
   "outputs": [
    {
     "name": "stderr",
     "output_type": "stream",
     "text": [
      "Grab some coffee: 100%|████████████████████████████████████████████████████████| 22883/22883 [1:15:05<00:00,  5.08it/s]\n"
     ]
    }
   ],
   "source": [
    "for icustay_id, treatments in tqdm(ivfluid_df.groupby('icustay_id'), desc='Grab some coffee'):\n",
    "    \n",
    "    # Is icustay part of cohort?\n",
    "    if icustay_id not in data:\n",
    "        continue\n",
    "    \n",
    "    # Store fluid intake in vector\n",
    "    timesteps = icustay_timesteps[icustay_id]\n",
    "    total_ivfluid = np.zeros(len(timesteps) - 1, dtype=np.float32)\n",
    "    \n",
    "    # Compute total IV fluid within each interval\n",
    "    for i, interval_start in enumerate(timesteps[:-1]):\n",
    "        interval_end = timesteps[i + 1]\n",
    "        total_ivfluid[i] = total_admin_in_interval(interval_start, interval_end, treatments)\n",
    "        \n",
    "    # Save!\n",
    "    data[icustay_id]['total_iv_fluid'] = total_ivfluid\n",
    "    \n",
    "del ivfluid_df"
   ]
  },
  {
   "cell_type": "code",
   "execution_count": 76,
   "id": "8342541b",
   "metadata": {},
   "outputs": [
    {
     "data": {
      "image/png": "[encoded data removed]",
      "text/plain": [
       "<Figure size 576x216 with 1 Axes>"
      ]
     },
     "metadata": {
      "needs_background": "light"
     },
     "output_type": "display_data"
    }
   ],
   "source": [
    "# Show IV fluids from random admission\n",
    "plot_dct(\n",
    "    dct=data, \n",
    "    feature='total_iv_fluid', \n",
    "    title='Total IV Fluids (%s)' % INTERVAL_TIME, \n",
    "    ylabel='Total IV fluid (ml)', \n",
    "    style='-'\n",
    ")"
   ]
  },
  {
   "cell_type": "markdown",
   "id": "162f9cce-958b-4d2e-b779-7722e4cf5517",
   "metadata": {},
   "source": [
    "**Sanity checks**"
   ]
  },
  {
   "cell_type": "code",
   "execution_count": 66,
   "id": "380ba912-e362-41e1-abb0-aa11fc1398d4",
   "metadata": {},
   "outputs": [
    {
     "data": {
      "text/plain": [
       "array([   0.05 ,   45.976,   79.025,   97.034, 6437.917])"
      ]
     },
     "execution_count": 66,
     "metadata": {},
     "output_type": "execute_result"
    }
   ],
   "source": [
    "# Does the action space look like Roggeveen et al.?\n",
    "iv_fluids = np.column_stack([x['total_iv_fluid'] for x in data.values() if 'total_iv_fluid' in x]).flatten()\n",
    "iv_fluids = iv_fluids[iv_fluids >= 0.005]\n",
    "np.nanquantile(iv_fluids, np.linspace(0, 1, 5)).round(3)"
   ]
  },
  {
   "cell_type": "markdown",
   "id": "86d5a564-f647-4bb5-a3e4-e4351d1e2abe",
   "metadata": {},
   "source": [
    "<br>\n",
    "\n",
    "Quartiles from (Roggeveen et al., 2021) are different, likely due to additional division by `duration` (see see `#remark`), difference in aggregation interval and tonicity correction:\n",
    "<style type=\"text/css\">\n",
    ".tg  {border-collapse:collapse;border-spacing:0;}\n",
    ".tg td{border-color:black;border-style:solid;border-width:1px;font-family:Arial, sans-serif;font-size:14px;\n",
    "  overflow:hidden;padding:10px 5px;word-break:normal;}\n",
    ".tg th{border-color:black;border-style:solid;border-width:1px;font-family:Arial, sans-serif;font-size:14px;\n",
    "  font-weight:normal;overflow:hidden;padding:10px 5px;word-break:normal;}\n",
    ".tg .tg-8jgo{border-color:#ffffff;text-align:center;vertical-align:top}\n",
    "</style>\n",
    "<table class=\"tg\" align=\"left\">\n",
    "<thead>\n",
    "  <tr>\n",
    "    <th class=\"tg-c3ow\">0%</th>\n",
    "    <th class=\"tg-c3ow\">25%</th>\n",
    "    <th class=\"tg-c3ow\">50%</th>\n",
    "    <th class=\"tg-c3ow\">75%</th>\n",
    "    <th class=\"tg-c3ow\">100%</th>\n",
    "  </tr>\n",
    "</thead>\n",
    "<tbody>\n",
    "  <tr>\n",
    "    <td class=\"tg-c3ow\">0.000</td>\n",
    "    <td class=\"tg-c3ow\">39.834</td>\n",
    "    <td class=\"tg-c3ow\">204.403</td>\n",
    "    <td class=\"tg-c3ow\">635.205</td>\n",
    "    <td class=\"tg-c3ow\">24852.551</td>\n",
    "  </tr>\n",
    "</tbody>\n",
    "</table>"
   ]
  },
  {
   "cell_type": "markdown",
   "id": "0358279d-f45e-4e1b-9f1d-ec07752a8fe7",
   "metadata": {},
   "source": [
    "### IV Fluid Running Total \n",
    "\n",
    "In Roggeveen et al. an additional feature is incorporated which measures the total IV fluid administered up to the current timestep. We implement this here using `np.cumsum` over the previously computed IV fluid balances;"
   ]
  },
  {
   "cell_type": "code",
   "execution_count": 67,
   "id": "45caa603-4b2b-45a7-9e82-03f7a261a1b7",
   "metadata": {},
   "outputs": [],
   "source": [
    "for icustay_id, icustay_data in data.items():\n",
    "    if 'total_iv_fluid' in icustay_data.keys():\n",
    "        data[icustay_id]['running_total_iv_fluid'] = np.cumsum(np.nan_to_num(icustay_data['total_iv_fluid'], nan=0.0))"
   ]
  },
  {
   "cell_type": "code",
   "execution_count": 78,
   "id": "93201d0f-c072-4ffa-b5b5-671e1fdf1211",
   "metadata": {},
   "outputs": [
    {
     "data": {
      "image/png": "[encoded data removed]",
      "text/plain": [
       "<Figure size 576x216 with 1 Axes>"
      ]
     },
     "metadata": {
      "needs_background": "light"
     },
     "output_type": "display_data"
    }
   ],
   "source": [
    "# Grab IV fluids from random patient\n",
    "plot_dct(\n",
    "    dct=data, \n",
    "    feature='running_total_iv_fluid', \n",
    "    title='Total IV Fluids (cumulative - %s)' % INTERVAL_TIME, \n",
    "    ylabel='Total IV fluid (ml)', \n",
    "    style='-'\n",
    ")"
   ]
  },
  {
   "cell_type": "markdown",
   "id": "e68ee18e",
   "metadata": {},
   "source": [
    "---\n",
    "## Vital functions"
   ]
  },
  {
   "cell_type": "code",
   "execution_count": 79,
   "id": "8a531810",
   "metadata": {},
   "outputs": [
    {
     "data": {
      "text/html": [
       "<div>\n",
       "<style scoped>\n",
       "    .dataframe tbody tr th:only-of-type {\n",
       "        vertical-align: middle;\n",
       "    }\n",
       "\n",
       "    .dataframe tbody tr th {\n",
       "        vertical-align: top;\n",
       "    }\n",
       "\n",
       "    .dataframe thead th {\n",
       "        text-align: right;\n",
       "    }\n",
       "</style>\n",
       "<table border=\"1\" class=\"dataframe\">\n",
       "  <thead>\n",
       "    <tr style=\"text-align: right;\">\n",
       "      <th></th>\n",
       "      <th>icustay_id</th>\n",
       "      <th>charttime</th>\n",
       "      <th>vital_id</th>\n",
       "      <th>valuenum</th>\n",
       "    </tr>\n",
       "  </thead>\n",
       "  <tbody>\n",
       "    <tr>\n",
       "      <th>0</th>\n",
       "      <td>0</td>\n",
       "      <td>2022-11-23 19:15:00</td>\n",
       "      <td>Glucose</td>\n",
       "      <td>11.4</td>\n",
       "    </tr>\n",
       "    <tr>\n",
       "      <th>1</th>\n",
       "      <td>0</td>\n",
       "      <td>2022-11-23 19:45:00</td>\n",
       "      <td>DiasBP</td>\n",
       "      <td>49.0</td>\n",
       "    </tr>\n",
       "    <tr>\n",
       "      <th>2</th>\n",
       "      <td>0</td>\n",
       "      <td>2022-11-23 19:45:00</td>\n",
       "      <td>HeartRate</td>\n",
       "      <td>83.0</td>\n",
       "    </tr>\n",
       "    <tr>\n",
       "      <th>3</th>\n",
       "      <td>0</td>\n",
       "      <td>2022-11-23 19:45:00</td>\n",
       "      <td>MeanBP</td>\n",
       "      <td>68.0</td>\n",
       "    </tr>\n",
       "    <tr>\n",
       "      <th>4</th>\n",
       "      <td>0</td>\n",
       "      <td>2022-11-23 19:45:00</td>\n",
       "      <td>RespRate</td>\n",
       "      <td>13.0</td>\n",
       "    </tr>\n",
       "  </tbody>\n",
       "</table>\n",
       "</div>"
      ],
      "text/plain": [
       "   icustay_id           charttime   vital_id  valuenum\n",
       "0           0 2022-11-23 19:15:00    Glucose      11.4\n",
       "1           0 2022-11-23 19:45:00     DiasBP      49.0\n",
       "2           0 2022-11-23 19:45:00  HeartRate      83.0\n",
       "3           0 2022-11-23 19:45:00     MeanBP      68.0\n",
       "4           0 2022-11-23 19:45:00   RespRate      13.0"
      ]
     },
     "execution_count": 79,
     "metadata": {},
     "output_type": "execute_result"
    }
   ],
   "source": [
    "vitals_df = read_csv(DATA_DIR + 'vitals_cohort.csv')\n",
    "vitals_df.head()"
   ]
  },
  {
   "cell_type": "code",
   "execution_count": 80,
   "id": "9b0fdbfb",
   "metadata": {},
   "outputs": [
    {
     "name": "stdout",
     "output_type": "stream",
     "text": [
      "['Glucose', 'DiasBP', 'HeartRate', 'MeanBP', 'RespRate', 'SpO2', 'SvO2', 'SysBP', 'TempC']\n"
     ]
    }
   ],
   "source": [
    "# List vitals recorded\n",
    "ALL_VITALS = list(vitals_df['vital_id'].unique())\n",
    "print(ALL_VITALS)"
   ]
  },
  {
   "cell_type": "code",
   "execution_count": 81,
   "id": "b53a3b70",
   "metadata": {},
   "outputs": [
    {
     "name": "stderr",
     "output_type": "stream",
     "text": [
      "100%|████████████████████████████████████████████████████████████████████████████| 23093/23093 [35:09<00:00, 10.95it/s]\n"
     ]
    }
   ],
   "source": [
    "for icustay_id, measurements in tqdm(vitals_df.groupby('icustay_id')):\n",
    "    \n",
    "    # Is icustay part of cohort?\n",
    "    if icustay_id not in icustay_timesteps:\n",
    "        continue\n",
    "        \n",
    "    # Add keys for each vital_id to data with empty measurements vector\n",
    "    timesteps = icustay_timesteps[icustay_id]\n",
    "    for vital_id in ALL_VITALS:\n",
    "        data[icustay_id][to_snakecase(vital_id)] = np.full(len(timesteps) - 1, np.nan)\n",
    "            \n",
    "    for i, interval_start in enumerate(timesteps[:-1]):\n",
    "        interval_end = timesteps[i + 1]\n",
    "        \n",
    "        # Inclusion test: charttime in (interval_start, interval_end)\n",
    "        condition = (measurements.charttime > interval_start) & (measurements.charttime <= interval_end)  \n",
    "        \n",
    "        # Compute average value of each vital_id\n",
    "        vital_means = measurements[condition].groupby('vital_id').valuenum.mean()\n",
    "        \n",
    "        for vital_id, value in vital_means.items():\n",
    "            data[icustay_id][to_snakecase(vital_id)][i] = value\n",
    "            \n",
    "del vitals_df"
   ]
  },
  {
   "cell_type": "code",
   "execution_count": 91,
   "id": "7f2af786",
   "metadata": {},
   "outputs": [
    {
     "data": {
      "image/png": "[encoded data removed]",
      "text/plain": [
       "<Figure size 576x216 with 1 Axes>"
      ]
     },
     "metadata": {
      "needs_background": "light"
     },
     "output_type": "display_data"
    }
   ],
   "source": [
    "# Show SysBP from random patient\n",
    "plot_dct(\n",
    "    dct=data, \n",
    "    feature='sys_bp', \n",
    "    title='Systolic Blood Pressure (%s)' % INTERVAL_TIME, \n",
    "    ylabel='Pressure (mmHg)',\n",
    "    style='-'\n",
    ")"
   ]
  },
  {
   "cell_type": "markdown",
   "id": "430a94af",
   "metadata": {},
   "source": [
    "---\n",
    "## Lab Results"
   ]
  },
  {
   "cell_type": "code",
   "execution_count": 92,
   "id": "281d57c2",
   "metadata": {},
   "outputs": [
    {
     "data": {
      "text/html": [
       "<div>\n",
       "<style scoped>\n",
       "    .dataframe tbody tr th:only-of-type {\n",
       "        vertical-align: middle;\n",
       "    }\n",
       "\n",
       "    .dataframe tbody tr th {\n",
       "        vertical-align: top;\n",
       "    }\n",
       "\n",
       "    .dataframe thead th {\n",
       "        text-align: right;\n",
       "    }\n",
       "</style>\n",
       "<table border=\"1\" class=\"dataframe\">\n",
       "  <thead>\n",
       "    <tr style=\"text-align: right;\">\n",
       "      <th></th>\n",
       "      <th>icustay_id</th>\n",
       "      <th>charttime</th>\n",
       "      <th>lab_id</th>\n",
       "      <th>valuenum</th>\n",
       "    </tr>\n",
       "  </thead>\n",
       "  <tbody>\n",
       "    <tr>\n",
       "      <th>0</th>\n",
       "      <td>0</td>\n",
       "      <td>2022-11-23 21:10:54.935704</td>\n",
       "      <td>CALCIUM</td>\n",
       "      <td>2.28</td>\n",
       "    </tr>\n",
       "    <tr>\n",
       "      <th>1</th>\n",
       "      <td>0</td>\n",
       "      <td>2022-11-24 03:45:54.935704</td>\n",
       "      <td>CALCIUM</td>\n",
       "      <td>2.10</td>\n",
       "    </tr>\n",
       "    <tr>\n",
       "      <th>2</th>\n",
       "      <td>1</td>\n",
       "      <td>2022-11-23 15:29:54.935704</td>\n",
       "      <td>CALCIUM</td>\n",
       "      <td>2.01</td>\n",
       "    </tr>\n",
       "    <tr>\n",
       "      <th>3</th>\n",
       "      <td>1</td>\n",
       "      <td>2022-11-23 17:59:54.935704</td>\n",
       "      <td>CALCIUM</td>\n",
       "      <td>2.08</td>\n",
       "    </tr>\n",
       "    <tr>\n",
       "      <th>4</th>\n",
       "      <td>2</td>\n",
       "      <td>2022-11-23 15:25:54.935704</td>\n",
       "      <td>CALCIUM</td>\n",
       "      <td>2.02</td>\n",
       "    </tr>\n",
       "  </tbody>\n",
       "</table>\n",
       "</div>"
      ],
      "text/plain": [
       "   icustay_id                  charttime   lab_id  valuenum\n",
       "0           0 2022-11-23 21:10:54.935704  CALCIUM      2.28\n",
       "1           0 2022-11-24 03:45:54.935704  CALCIUM      2.10\n",
       "2           1 2022-11-23 15:29:54.935704  CALCIUM      2.01\n",
       "3           1 2022-11-23 17:59:54.935704  CALCIUM      2.08\n",
       "4           2 2022-11-23 15:25:54.935704  CALCIUM      2.02"
      ]
     },
     "execution_count": 92,
     "metadata": {},
     "output_type": "execute_result"
    }
   ],
   "source": [
    "# load lab results (only necessary columns)\n",
    "lab_df = read_csv(DATA_DIR + 'labs_cohort.csv', usecols=['icustay_id', 'charttime', 'lab_id', 'valuenum'])\n",
    "\n",
    "# if exists, add additional file with hemotocrite, D-Dimer, etc.\n",
    "# In AmsterdamUMCdb, it is included in vitals/lab results\n",
    "# In MIMIC-III it is stored separately, therefore must be appended explicitly\n",
    "if os.path.exists(DATA_DIR + 'hematocrit_d-dimer_cvo2.csv'):\n",
    "    print('Including hematocrit, D-dimer, etc.')\n",
    "    hema_df = read_csv(DATA_DIR + 'hematocrit_d-dimer_cvo2.csv')\n",
    "    lab_df = pd.concat([lab_df, hema_df], axis=0)\n",
    "\n",
    "# Drop rows with NaNs\n",
    "lab_df = lab_df[~(lab_df.valuenum.isna() | lab_df.lab_id.isna())]\n",
    "\n",
    "lab_df.head()"
   ]
  },
  {
   "cell_type": "code",
   "execution_count": 93,
   "id": "cb46b8b6",
   "metadata": {},
   "outputs": [
    {
     "name": "stdout",
     "output_type": "stream",
     "text": [
      "['CALCIUM', 'ION_CALCIUM', 'PTT', 'POTASSIUM', 'PLATELET', 'ANION GAP', 'PAO2', 'WBC', 'SODIUM', 'CHLORIDE', 'MAGNESIUM', 'PACO2', 'GLUCOSE', 'CREATININE', 'BICARBONATE', 'PH', 'ALBUMIN', 'HEMOGLOBIN', 'BaseExcess', 'HEMATOCRIT', 'BILIRUBIN', 'LACTATE', 'BUN', 'ASAT', 'ALAT', 'BANDS', 'D-DIMER']\n"
     ]
    }
   ],
   "source": [
    "# List hormones / fluids measured\n",
    "ALL_LAB_IDS = list(lab_df['lab_id'].unique())\n",
    "print(ALL_LAB_IDS) "
   ]
  },
  {
   "cell_type": "code",
   "execution_count": 94,
   "id": "fa057eb0",
   "metadata": {},
   "outputs": [
    {
     "name": "stderr",
     "output_type": "stream",
     "text": [
      "100%|████████████████████████████████████████████████████████████████████████████| 22817/22817 [33:07<00:00, 11.48it/s]\n"
     ]
    }
   ],
   "source": [
    "# Bin lab results into intervals\n",
    "for icustay_id, lab_results in tqdm(lab_df.groupby('icustay_id')):\n",
    "    \n",
    "    # Is icustay part of cohort?\n",
    "    if icustay_id not in icustay_timesteps:\n",
    "        continue\n",
    "        \n",
    "    # Add lab IDs to `data` to store aggregated lab measurements\n",
    "    timesteps = icustay_timesteps[icustay_id]\n",
    "    for lab_id in ALL_LAB_IDS:\n",
    "        if lab_id not in data: # glucose is also measured more frequently as a vital\n",
    "            data[icustay_id][to_snakecase(lab_id)] = np.full(len(timesteps) - 1, np.nan)\n",
    "            \n",
    "    for i, interval_start in enumerate(timesteps[:-1]):\n",
    "        interval_end = timesteps[i + 1]\n",
    "        \n",
    "        # Inclusion test: charttime in (interval_start, interval_end)\n",
    "        condition = (lab_results.charttime > interval_start) & (lab_results.charttime <= interval_end)  \n",
    "        \n",
    "        # Compute average value of each lab ID\n",
    "        lab_means = lab_results[condition].groupby('lab_id').valuenum.mean()\n",
    "        \n",
    "        for item_id, value in lab_means.items():\n",
    "            data[icustay_id][to_snakecase(item_id)][i] = value\n",
    "            \n",
    "del lab_df"
   ]
  },
  {
   "cell_type": "code",
   "execution_count": 95,
   "id": "6d0fbd71",
   "metadata": {},
   "outputs": [
    {
     "data": {
      "image/png": "[encoded data removed]",
      "text/plain": [
       "<Figure size 576x216 with 1 Axes>"
      ]
     },
     "metadata": {
      "needs_background": "light"
     },
     "output_type": "display_data"
    }
   ],
   "source": [
    "# Show hematocrit levels from random patient\n",
    "plot_dct(\n",
    "    dct=data, \n",
    "    feature='hematocrit', \n",
    "    title='Hematocrit levels (%s)' % INTERVAL_TIME, \n",
    "    ylabel='Level (%)', \n",
    "    style='.'\n",
    ")"
   ]
  },
  {
   "cell_type": "markdown",
   "id": "6636ef46-219b-42c7-8db1-a5c351072f10",
   "metadata": {},
   "source": [
    "---\n",
    "\n",
    "## Mechanical Ventilation\n",
    "\n",
    "The way mechanical ventilation is extracted using MIMIC-Code is slightly different from the AmsterdamUMCdb; from AmsterdamUMCdb we determine use of mechanical ventilation through changes in the settings (which are recorded at specific times and thus have a `charttime`). With MIMIC-Code these settings are already aggregated into intervals of consecutive setting changes with a `starttime` and an `endtime`. In the code below we thus check for the format used and process them accordingly."
   ]
  },
  {
   "cell_type": "code",
   "execution_count": 96,
   "id": "16701f97-6820-4afa-8400-7d2d9f2c6554",
   "metadata": {},
   "outputs": [],
   "source": [
    "vent_df = read_csv(DATA_DIR + 'vent_cohort.csv')\n",
    "vent_df.head()\n",
    "\n",
    "# Uses charttime as in AmsterdamUMCdb or intervals as in MIMIC\n",
    "is_umcdb = 'charttime' in vent_df.columns"
   ]
  },
  {
   "cell_type": "code",
   "execution_count": 97,
   "id": "42634ac8-be66-4c2b-b33d-48f5799fef2a",
   "metadata": {},
   "outputs": [
    {
     "name": "stderr",
     "output_type": "stream",
     "text": [
      "100%|████████████████████████████████████████████████████████████████████████████| 16569/16569 [07:30<00:00, 36.74it/s]\n"
     ]
    }
   ],
   "source": [
    "for icustay_id, settings in tqdm(vent_df.groupby('icustay_id')):\n",
    "    \n",
    "    # Is icustay part of cohort?\n",
    "    if icustay_id not in data:\n",
    "        continue\n",
    "        \n",
    "    # Add urine output to `data` to store aggregated urine measurements\n",
    "    timesteps = icustay_timesteps[icustay_id]\n",
    "    data[icustay_id]['mech_vent'] = np.full(len(timesteps) - 1, np.nan)\n",
    "            \n",
    "    for i, interval_start in enumerate(timesteps[:-1]):\n",
    "        interval_end = timesteps[i + 1]\n",
    "        \n",
    "        # AmsterdamUMCdb: charttime in current interval?\n",
    "        if is_umcdb:\n",
    "            condition = (settings.charttime > interval_start) & (settings.charttime <= interval_end)    \n",
    "        else: \n",
    "            # MIMIC-III: does ventilation time overlap with current interval?\n",
    "            condition = (treatments.starttime <= interval_end) & (treatments.endtime > interval_start)\n",
    "        \n",
    "        # Were there any settings indicating ventilation?\n",
    "        data[icustay_id]['mech_vent'][i] = condition.any()\n",
    "        \n",
    "del vent_df"
   ]
  },
  {
   "cell_type": "code",
   "execution_count": 115,
   "id": "508056d3-0941-423b-9ced-80f94602b644",
   "metadata": {},
   "outputs": [
    {
     "data": {
      "image/png": "[encoded data removed]",
      "text/plain": [
       "<Figure size 576x216 with 1 Axes>"
      ]
     },
     "metadata": {
      "needs_background": "light"
     },
     "output_type": "display_data"
    }
   ],
   "source": [
    "# Show mechanical ventilation over time from random patient\n",
    "plot_dct(\n",
    "    dct=data, \n",
    "    feature='mech_vent', \n",
    "    title='Ventilator (On/Off)', \n",
    "    ylabel='used', \n",
    "    style='-'\n",
    ")"
   ]
  },
  {
   "cell_type": "markdown",
   "id": "0df32463-51d9-4b4b-8bce-b66c7c3073de",
   "metadata": {},
   "source": [
    "---\n",
    "\n",
    "## Antibiotics"
   ]
  },
  {
   "cell_type": "code",
   "execution_count": 116,
   "id": "5a31ad83-3015-40af-b817-3de8b3e0330d",
   "metadata": {},
   "outputs": [
    {
     "data": {
      "text/html": [
       "<div>\n",
       "<style scoped>\n",
       "    .dataframe tbody tr th:only-of-type {\n",
       "        vertical-align: middle;\n",
       "    }\n",
       "\n",
       "    .dataframe tbody tr th {\n",
       "        vertical-align: top;\n",
       "    }\n",
       "\n",
       "    .dataframe thead th {\n",
       "        text-align: right;\n",
       "    }\n",
       "</style>\n",
       "<table border=\"1\" class=\"dataframe\">\n",
       "  <thead>\n",
       "    <tr style=\"text-align: right;\">\n",
       "      <th></th>\n",
       "      <th>icustay_id</th>\n",
       "      <th>starttime</th>\n",
       "      <th>endtime</th>\n",
       "      <th>sepsis_antibiotics</th>\n",
       "      <th>profyl_antibiotics</th>\n",
       "      <th>profyl_other</th>\n",
       "    </tr>\n",
       "  </thead>\n",
       "  <tbody>\n",
       "    <tr>\n",
       "      <th>0</th>\n",
       "      <td>0</td>\n",
       "      <td>2022-11-23 19:36:34.839286</td>\n",
       "      <td>2022-11-23 19:37:34.839286</td>\n",
       "      <td>0</td>\n",
       "      <td>1</td>\n",
       "      <td>0</td>\n",
       "    </tr>\n",
       "    <tr>\n",
       "      <th>1</th>\n",
       "      <td>0</td>\n",
       "      <td>2022-11-24 04:36:34.839286</td>\n",
       "      <td>2022-11-24 04:37:34.839286</td>\n",
       "      <td>0</td>\n",
       "      <td>1</td>\n",
       "      <td>0</td>\n",
       "    </tr>\n",
       "    <tr>\n",
       "      <th>2</th>\n",
       "      <td>0</td>\n",
       "      <td>2022-11-24 13:36:34.839286</td>\n",
       "      <td>2022-11-24 13:37:34.839286</td>\n",
       "      <td>0</td>\n",
       "      <td>1</td>\n",
       "      <td>0</td>\n",
       "    </tr>\n",
       "    <tr>\n",
       "      <th>3</th>\n",
       "      <td>0</td>\n",
       "      <td>2022-11-23 22:30:34.839286</td>\n",
       "      <td>2022-11-23 23:30:34.839286</td>\n",
       "      <td>0</td>\n",
       "      <td>0</td>\n",
       "      <td>0</td>\n",
       "    </tr>\n",
       "    <tr>\n",
       "      <th>4</th>\n",
       "      <td>0</td>\n",
       "      <td>2022-11-24 02:44:34.839286</td>\n",
       "      <td>2022-11-24 03:44:34.839286</td>\n",
       "      <td>0</td>\n",
       "      <td>0</td>\n",
       "      <td>0</td>\n",
       "    </tr>\n",
       "  </tbody>\n",
       "</table>\n",
       "</div>"
      ],
      "text/plain": [
       "   icustay_id                  starttime                    endtime  \\\n",
       "0           0 2022-11-23 19:36:34.839286 2022-11-23 19:37:34.839286   \n",
       "1           0 2022-11-24 04:36:34.839286 2022-11-24 04:37:34.839286   \n",
       "2           0 2022-11-24 13:36:34.839286 2022-11-24 13:37:34.839286   \n",
       "3           0 2022-11-23 22:30:34.839286 2022-11-23 23:30:34.839286   \n",
       "4           0 2022-11-24 02:44:34.839286 2022-11-24 03:44:34.839286   \n",
       "\n",
       "   sepsis_antibiotics  profyl_antibiotics  profyl_other  \n",
       "0                   0                   1             0  \n",
       "1                   0                   1             0  \n",
       "2                   0                   1             0  \n",
       "3                   0                   0             0  \n",
       "4                   0                   0             0  "
      ]
     },
     "execution_count": 116,
     "metadata": {},
     "output_type": "execute_result"
    }
   ],
   "source": [
    "antibiotics_df = read_csv(DATA_DIR + 'antibiotics_cohort.csv')\n",
    "antibiotics_df.head()"
   ]
  },
  {
   "cell_type": "code",
   "execution_count": 118,
   "id": "e2347bab-041a-484e-8fff-d1e70580bcc7",
   "metadata": {},
   "outputs": [
    {
     "name": "stderr",
     "output_type": "stream",
     "text": [
      "100%|████████████████████████████████████████████████████████████████████████████| 22968/22968 [38:55<00:00,  9.83it/s]\n"
     ]
    }
   ],
   "source": [
    "# Consider ICU stays one-by-one\n",
    "for icustay_id, treatments in tqdm(antibiotics_df.groupby('icustay_id')):\n",
    "    \n",
    "    # Is icustay part of cohort?\n",
    "    if icustay_id not in data:\n",
    "        continue\n",
    "        \n",
    "    # To store antibiotics markers into\n",
    "    timesteps = icustay_timesteps[icustay_id]\n",
    "    sepsis_antibiotics = np.zeros(len(timesteps) - 1, dtype=np.float32)\n",
    "    profyl_antibiotics = np.zeros(len(timesteps) - 1, dtype=np.float32)\n",
    "    other_antibiotics = np.zeros(len(timesteps) - 1, dtype=np.float32)\n",
    "    \n",
    "    for i, interval_start in enumerate(timesteps[:-1]):\n",
    "        interval_end = timesteps[i + 1]\n",
    "        \n",
    "        # Inclusion test: treatment time overlaps with current interval.\n",
    "        # Remark: original R-code erroneously used 'treatment[endtime] <= interval_end' as first term\n",
    "        condition = (treatments.starttime <= interval_end) & (treatments.endtime > interval_start)\n",
    "        \n",
    "        # Compute whether any form of sepsis-rlated/profylactic anitbiotics was administered\n",
    "        sepsis_antibiotics[i] = np.nan_to_num(treatments[condition].sepsis_antibiotics.max(), nan=0.0)\n",
    "        profyl_antibiotics[i] = np.nan_to_num(treatments[condition].profyl_antibiotics.max(), nan=0.0)\n",
    "        other_antibiotics[i] = np.nan_to_num(treatments[condition].profyl_other.max(), nan=0.0)\n",
    "        \n",
    "    data[icustay_id]['sepsis_antibiotics'] = sepsis_antibiotics\n",
    "    data[icustay_id]['profyl_antibiotics'] = profyl_antibiotics\n",
    "    data[icustay_id]['other_antibiotics'] = other_antibiotics\n",
    "    \n",
    "del antibiotics_df"
   ]
  },
  {
   "cell_type": "markdown",
   "id": "0a0d4be4",
   "metadata": {},
   "source": [
    "---\n",
    "## Urine Output"
   ]
  },
  {
   "cell_type": "code",
   "execution_count": 119,
   "id": "081d5c58",
   "metadata": {},
   "outputs": [
    {
     "data": {
      "text/html": [
       "<div>\n",
       "<style scoped>\n",
       "    .dataframe tbody tr th:only-of-type {\n",
       "        vertical-align: middle;\n",
       "    }\n",
       "\n",
       "    .dataframe tbody tr th {\n",
       "        vertical-align: top;\n",
       "    }\n",
       "\n",
       "    .dataframe thead th {\n",
       "        text-align: right;\n",
       "    }\n",
       "</style>\n",
       "<table border=\"1\" class=\"dataframe\">\n",
       "  <thead>\n",
       "    <tr style=\"text-align: right;\">\n",
       "      <th></th>\n",
       "      <th>icustay_id</th>\n",
       "      <th>charttime</th>\n",
       "      <th>value</th>\n",
       "    </tr>\n",
       "  </thead>\n",
       "  <tbody>\n",
       "    <tr>\n",
       "      <th>0</th>\n",
       "      <td>0</td>\n",
       "      <td>2022-11-23 20:46:54.935704</td>\n",
       "      <td>90.0</td>\n",
       "    </tr>\n",
       "    <tr>\n",
       "      <th>1</th>\n",
       "      <td>0</td>\n",
       "      <td>2022-11-23 21:16:54.935704</td>\n",
       "      <td>310.0</td>\n",
       "    </tr>\n",
       "    <tr>\n",
       "      <th>2</th>\n",
       "      <td>0</td>\n",
       "      <td>2022-11-23 22:16:54.935704</td>\n",
       "      <td>360.0</td>\n",
       "    </tr>\n",
       "    <tr>\n",
       "      <th>3</th>\n",
       "      <td>0</td>\n",
       "      <td>2022-11-23 23:16:54.935704</td>\n",
       "      <td>180.0</td>\n",
       "    </tr>\n",
       "    <tr>\n",
       "      <th>4</th>\n",
       "      <td>0</td>\n",
       "      <td>2022-11-24 00:16:54.935704</td>\n",
       "      <td>120.0</td>\n",
       "    </tr>\n",
       "  </tbody>\n",
       "</table>\n",
       "</div>"
      ],
      "text/plain": [
       "   icustay_id                  charttime  value\n",
       "0           0 2022-11-23 20:46:54.935704   90.0\n",
       "1           0 2022-11-23 21:16:54.935704  310.0\n",
       "2           0 2022-11-23 22:16:54.935704  360.0\n",
       "3           0 2022-11-23 23:16:54.935704  180.0\n",
       "4           0 2022-11-24 00:16:54.935704  120.0"
      ]
     },
     "execution_count": 119,
     "metadata": {},
     "output_type": "execute_result"
    }
   ],
   "source": [
    "urine_df = read_csv(DATA_DIR + 'urineoutput_cohort.csv')\n",
    "\n",
    "# Sanity check: drop values outside of expected range\n",
    "urine_df = urine_df[(urine_df['value'] > 0) & (urine_df['value'] < 5000)]\n",
    "\n",
    "urine_df.head()"
   ]
  },
  {
   "cell_type": "code",
   "execution_count": 120,
   "id": "c9941b89",
   "metadata": {},
   "outputs": [
    {
     "name": "stderr",
     "output_type": "stream",
     "text": [
      "100%|████████████████████████████████████████████████████████████████████████████| 22665/22665 [23:08<00:00, 16.32it/s]\n"
     ]
    }
   ],
   "source": [
    "for icustay_id, measurements in tqdm(urine_df.groupby('icustay_id')):\n",
    "    \n",
    "    # Is icustay part of cohort?\n",
    "    if icustay_id not in data:\n",
    "        continue\n",
    "        \n",
    "    # Add urine output to `data` to store aggregated urine measurements\n",
    "    timesteps = icustay_timesteps[icustay_id]\n",
    "    data[icustay_id]['total_urine_output'] = np.full(len(timesteps) - 1, np.nan)\n",
    "            \n",
    "    for i, interval_start in enumerate(timesteps[:-1]):\n",
    "        interval_end = timesteps[i + 1]\n",
    "        \n",
    "        # Inclusion test: charttime in (interval_start, interval_end)\n",
    "        condition = (measurements.charttime > interval_start) & (measurements.charttime <= interval_end)    \n",
    "        \n",
    "        # Compute total value within timestep\n",
    "        data[icustay_id]['total_urine_output'][i] = measurements[condition].value.sum()\n",
    "        \n",
    "del urine_df"
   ]
  },
  {
   "cell_type": "code",
   "execution_count": 121,
   "id": "3afb1640",
   "metadata": {},
   "outputs": [
    {
     "data": {
      "image/png": "[encoded data removed]",
      "text/plain": [
       "<Figure size 576x216 with 1 Axes>"
      ]
     },
     "metadata": {
      "needs_background": "light"
     },
     "output_type": "display_data"
    }
   ],
   "source": [
    "# Grab urine output from random patient\n",
    "plot_dct(\n",
    "    dct=data, \n",
    "    feature='total_urine_output', \n",
    "    title='Urine Output (%s)' % INTERVAL_TIME, \n",
    "    ylabel='Output (mL)', \n",
    "    style='.'\n",
    ")"
   ]
  },
  {
   "cell_type": "markdown",
   "id": "71309861-8d64-4822-acb5-549b254dbcb9",
   "metadata": {},
   "source": [
    "### Urine Output Running Total \n",
    "\n",
    "In Roggeveen et al. an additional feature `running_total_urine_output` is included in the feature set;"
   ]
  },
  {
   "cell_type": "code",
   "execution_count": 122,
   "id": "d2276570-53b8-45ee-a4b4-044d9e258d83",
   "metadata": {},
   "outputs": [],
   "source": [
    "for icustay_id, icustay_data in data.items():\n",
    "    if 'total_urine_output' in icustay_data.keys():\n",
    "        data[icustay_id]['running_total_urine_output'] = np.cumsum(icustay_data['total_urine_output'])"
   ]
  },
  {
   "cell_type": "code",
   "execution_count": 123,
   "id": "90e08312-5d76-49f2-9c34-f754f7a109b9",
   "metadata": {},
   "outputs": [
    {
     "data": {
      "image/png": "[encoded data removed]",
      "text/plain": [
       "<Figure size 576x216 with 1 Axes>"
      ]
     },
     "metadata": {
      "needs_background": "light"
     },
     "output_type": "display_data"
    }
   ],
   "source": [
    "# Grab urine output from random patient\n",
    "plot_dct(\n",
    "    dct=data, \n",
    "    feature='running_total_urine_output', \n",
    "    title='Urine Output (cumulative) (%s)' % INTERVAL_TIME, \n",
    "    ylabel='Output (mL)', \n",
    "    style='-'\n",
    ")"
   ]
  },
  {
   "cell_type": "markdown",
   "id": "c8f9318c",
   "metadata": {},
   "source": [
    "---\n",
    "## FiO2 (Fraction of Inspired Oxygen)"
   ]
  },
  {
   "cell_type": "code",
   "execution_count": 124,
   "id": "6cf6179b",
   "metadata": {},
   "outputs": [
    {
     "data": {
      "text/html": [
       "<div>\n",
       "<style scoped>\n",
       "    .dataframe tbody tr th:only-of-type {\n",
       "        vertical-align: middle;\n",
       "    }\n",
       "\n",
       "    .dataframe tbody tr th {\n",
       "        vertical-align: top;\n",
       "    }\n",
       "\n",
       "    .dataframe thead th {\n",
       "        text-align: right;\n",
       "    }\n",
       "</style>\n",
       "<table border=\"1\" class=\"dataframe\">\n",
       "  <thead>\n",
       "    <tr style=\"text-align: right;\">\n",
       "      <th></th>\n",
       "      <th>Unnamed: 0</th>\n",
       "      <th>icustayid</th>\n",
       "      <th>charttime</th>\n",
       "      <th>fio2</th>\n",
       "    </tr>\n",
       "  </thead>\n",
       "  <tbody>\n",
       "    <tr>\n",
       "      <th>0</th>\n",
       "      <td>0</td>\n",
       "      <td>0</td>\n",
       "      <td>2022-11-24 06:53:34.839286</td>\n",
       "      <td>0.35</td>\n",
       "    </tr>\n",
       "    <tr>\n",
       "      <th>1</th>\n",
       "      <td>1</td>\n",
       "      <td>0</td>\n",
       "      <td>2022-11-24 08:13:34.839286</td>\n",
       "      <td>0.35</td>\n",
       "    </tr>\n",
       "    <tr>\n",
       "      <th>2</th>\n",
       "      <td>2</td>\n",
       "      <td>0</td>\n",
       "      <td>2022-11-24 09:13:34.839286</td>\n",
       "      <td>0.50</td>\n",
       "    </tr>\n",
       "    <tr>\n",
       "      <th>3</th>\n",
       "      <td>3</td>\n",
       "      <td>0</td>\n",
       "      <td>2022-11-24 09:14:34.839286</td>\n",
       "      <td>0.90</td>\n",
       "    </tr>\n",
       "    <tr>\n",
       "      <th>4</th>\n",
       "      <td>4</td>\n",
       "      <td>0</td>\n",
       "      <td>2022-11-24 10:13:34.839286</td>\n",
       "      <td>0.90</td>\n",
       "    </tr>\n",
       "  </tbody>\n",
       "</table>\n",
       "</div>"
      ],
      "text/plain": [
       "   Unnamed: 0  icustayid                  charttime  fio2\n",
       "0           0          0 2022-11-24 06:53:34.839286  0.35\n",
       "1           1          0 2022-11-24 08:13:34.839286  0.35\n",
       "2           2          0 2022-11-24 09:13:34.839286  0.50\n",
       "3           3          0 2022-11-24 09:14:34.839286  0.90\n",
       "4           4          0 2022-11-24 10:13:34.839286  0.90"
      ]
     },
     "execution_count": 124,
     "metadata": {},
     "output_type": "execute_result"
    }
   ],
   "source": [
    "fio2_df = read_csv(DATA_DIR + 'fio2_cohort.csv')\n",
    "fio2_df.head()"
   ]
  },
  {
   "cell_type": "code",
   "execution_count": 126,
   "id": "bc4f35f0",
   "metadata": {},
   "outputs": [
    {
     "name": "stderr",
     "output_type": "stream",
     "text": [
      "100%|████████████████████████████████████████████████████████████████████████████| 20399/20399 [27:00<00:00, 12.59it/s]\n"
     ]
    }
   ],
   "source": [
    "# Process ICU stays one-by-one\n",
    "for icustay_id, measurements in tqdm(fio2_df.groupby('icustay_id')):\n",
    "    \n",
    "    # Is icustay part of cohort?\n",
    "    if icustay_id not in icustay_timesteps:\n",
    "        continue\n",
    "        \n",
    "    # Add FiO2 ID to `data` to store aggregated measurements\n",
    "    timesteps = icustay_timesteps[icustay_id]\n",
    "    data[icustay_id]['fi_o2'] = np.full(len(timesteps) - 1, np.nan)\n",
    "            \n",
    "    for i, interval_start in enumerate(timesteps[:-1]):\n",
    "        interval_end = timesteps[i + 1]\n",
    "        \n",
    "        # Inclusion test: charttime in (interval_start, interval_end)\n",
    "        condition = (measurements.charttime > interval_start) & (measurements.charttime <= interval_end)  \n",
    "        \n",
    "        # Compute average value within timestep\n",
    "        data[icustay_id]['fi_o2'][i] = measurements[condition].fio2.mean()\n",
    "        \n",
    "del fio2_df"
   ]
  },
  {
   "cell_type": "code",
   "execution_count": 131,
   "id": "51410524",
   "metadata": {},
   "outputs": [
    {
     "data": {
      "image/png": "[encoded data removed]",
      "text/plain": [
       "<Figure size 576x216 with 1 Axes>"
      ]
     },
     "metadata": {
      "needs_background": "light"
     },
     "output_type": "display_data"
    }
   ],
   "source": [
    "# Grab FiO2 from random patient\n",
    "plot_dct(\n",
    "    dct=data, \n",
    "    feature='fi_o2', \n",
    "    title='Fraction of Inspired Oxygen (%s)' % INTERVAL_TIME, \n",
    "    ylabel='Inspired oxygen (%)',\n",
    "    style='.'\n",
    ")"
   ]
  },
  {
   "cell_type": "markdown",
   "id": "3005efc6",
   "metadata": {},
   "source": [
    "---\n",
    "## Demographics"
   ]
  },
  {
   "cell_type": "code",
   "execution_count": 132,
   "id": "72e100bc-eee0-4c67-aa51-e1692ed3a00e",
   "metadata": {},
   "outputs": [
    {
     "data": {
      "text/html": [
       "<div>\n",
       "<style scoped>\n",
       "    .dataframe tbody tr th:only-of-type {\n",
       "        vertical-align: middle;\n",
       "    }\n",
       "\n",
       "    .dataframe tbody tr th {\n",
       "        vertical-align: top;\n",
       "    }\n",
       "\n",
       "    .dataframe thead th {\n",
       "        text-align: right;\n",
       "    }\n",
       "</style>\n",
       "<table border=\"1\" class=\"dataframe\">\n",
       "  <thead>\n",
       "    <tr style=\"text-align: right;\">\n",
       "      <th></th>\n",
       "      <th>icustay_id</th>\n",
       "      <th>age</th>\n",
       "      <th>is_male</th>\n",
       "      <th>height</th>\n",
       "      <th>weight</th>\n",
       "      <th>vent</th>\n",
       "      <th>sirs</th>\n",
       "      <th>sofa</th>\n",
       "      <th>elective</th>\n",
       "      <th>is_sepsis</th>\n",
       "    </tr>\n",
       "  </thead>\n",
       "  <tbody>\n",
       "    <tr>\n",
       "      <th>0</th>\n",
       "      <td>0</td>\n",
       "      <td>85</td>\n",
       "      <td>0</td>\n",
       "      <td>165.0</td>\n",
       "      <td>65.0</td>\n",
       "      <td>1</td>\n",
       "      <td>2.0</td>\n",
       "      <td>NaN</td>\n",
       "      <td>1</td>\n",
       "      <td>0</td>\n",
       "    </tr>\n",
       "    <tr>\n",
       "      <th>1</th>\n",
       "      <td>1</td>\n",
       "      <td>65</td>\n",
       "      <td>1</td>\n",
       "      <td>175.0</td>\n",
       "      <td>75.0</td>\n",
       "      <td>1</td>\n",
       "      <td>1.0</td>\n",
       "      <td>NaN</td>\n",
       "      <td>1</td>\n",
       "      <td>0</td>\n",
       "    </tr>\n",
       "    <tr>\n",
       "      <th>2</th>\n",
       "      <td>2</td>\n",
       "      <td>65</td>\n",
       "      <td>1</td>\n",
       "      <td>185.0</td>\n",
       "      <td>95.0</td>\n",
       "      <td>1</td>\n",
       "      <td>1.0</td>\n",
       "      <td>NaN</td>\n",
       "      <td>1</td>\n",
       "      <td>0</td>\n",
       "    </tr>\n",
       "    <tr>\n",
       "      <th>3</th>\n",
       "      <td>3</td>\n",
       "      <td>55</td>\n",
       "      <td>1</td>\n",
       "      <td>185.0</td>\n",
       "      <td>95.0</td>\n",
       "      <td>1</td>\n",
       "      <td>2.0</td>\n",
       "      <td>NaN</td>\n",
       "      <td>0</td>\n",
       "      <td>0</td>\n",
       "    </tr>\n",
       "    <tr>\n",
       "      <th>4</th>\n",
       "      <td>4</td>\n",
       "      <td>75</td>\n",
       "      <td>1</td>\n",
       "      <td>175.0</td>\n",
       "      <td>75.0</td>\n",
       "      <td>1</td>\n",
       "      <td>NaN</td>\n",
       "      <td>NaN</td>\n",
       "      <td>1</td>\n",
       "      <td>0</td>\n",
       "    </tr>\n",
       "  </tbody>\n",
       "</table>\n",
       "</div>"
      ],
      "text/plain": [
       "   icustay_id  age  is_male  height  weight  vent  sirs  sofa  elective  \\\n",
       "0           0   85        0   165.0    65.0     1   2.0   NaN         1   \n",
       "1           1   65        1   175.0    75.0     1   1.0   NaN         1   \n",
       "2           2   65        1   185.0    95.0     1   1.0   NaN         1   \n",
       "3           3   55        1   185.0    95.0     1   2.0   NaN         0   \n",
       "4           4   75        1   175.0    75.0     1   NaN   NaN         1   \n",
       "\n",
       "   is_sepsis  \n",
       "0          0  \n",
       "1          0  \n",
       "2          0  \n",
       "3          0  \n",
       "4          0  "
      ]
     },
     "execution_count": 132,
     "metadata": {},
     "output_type": "execute_result"
    }
   ],
   "source": [
    "demo_df = pd.read_csv(DATA_DIR + 'demographics_cohort.csv')\n",
    "demo_df.head()"
   ]
  },
  {
   "cell_type": "code",
   "execution_count": 136,
   "id": "071d7519",
   "metadata": {},
   "outputs": [],
   "source": [
    "# Define demographics and disease severity scores of interest (on admission)\n",
    "DEMOGRAPHICS_COLS = ['age', 'height', 'is_male', 'weight', 'vent', 'sofa', 'sirs', 'elective', 'is_sepsis']\n",
    "assert all([c in demo_df.columns for c in DEMOGRAPHICS_COLS])"
   ]
  },
  {
   "cell_type": "code",
   "execution_count": 137,
   "id": "18f77d0f",
   "metadata": {},
   "outputs": [
    {
     "name": "stderr",
     "output_type": "stream",
     "text": [
      "100%|██████████████████████████████████████████████████████████████████████████| 23106/23106 [00:10<00:00, 2233.61it/s]\n"
     ]
    }
   ],
   "source": [
    "for icustay_id, demographics in tqdm(demo_df.groupby('icustay_id')):\n",
    "    \n",
    "    # Is icustay part of cohort?\n",
    "    if icustay_id not in icustay_timesteps:\n",
    "        continue\n",
    "        \n",
    "    timesteps = icustay_timesteps[icustay_id]\n",
    "    N = len(timesteps) - 1\n",
    "    \n",
    "    # Repeat demographics at each timestep\n",
    "    for feature in DEMOGRAPHICS_COLS:\n",
    "        data[icustay_id][feature] = np.ones(N) * demographics[feature].values[0]\n",
    "        \n",
    "del demo_df"
   ]
  },
  {
   "cell_type": "code",
   "execution_count": 138,
   "id": "283f3187",
   "metadata": {},
   "outputs": [
    {
     "data": {
      "image/png": "[encoded data removed]",
      "text/plain": [
       "<Figure size 576x216 with 1 Axes>"
      ]
     },
     "metadata": {
      "needs_background": "light"
     },
     "output_type": "display_data"
    }
   ],
   "source": [
    "plot_dct(\n",
    "    dct=data, \n",
    "    feature='age', \n",
    "    title='Age', \n",
    "    ylabel='Age (years)'\n",
    ")"
   ]
  },
  {
   "cell_type": "markdown",
   "id": "b1d16016",
   "metadata": {},
   "source": [
    "---\n",
    "# Putting It All Together!"
   ]
  },
  {
   "cell_type": "markdown",
   "id": "b542b664",
   "metadata": {},
   "source": [
    "## Add Reward\n",
    "We define positive terminal reward (R=100) for successful discharge of a patient (survival beyond hospital stay) and negative reward (R=-100) when the patient does not survive. No intermediate rewards are issued."
   ]
  },
  {
   "cell_type": "code",
   "execution_count": 263,
   "id": "051a362e",
   "metadata": {},
   "outputs": [
    {
     "name": "stderr",
     "output_type": "stream",
     "text": [
      "100%|█████████████████████████████████████████████████████████████████████████| 23106/23106 [00:00<00:00, 36824.32it/s]\n"
     ]
    }
   ],
   "source": [
    "# Mapping from admissions to 30-day mortality labels\n",
    "mortality_dct = {row['icustay_id']: row['hospital_expire_flag'] for _, row in cohort_df.iterrows()}\n",
    "\n",
    "for icustay_id, patient in tqdm(cohort_df.groupby('icustay_id')):\n",
    "    \n",
    "    if icustay_id not in icustay_timesteps:\n",
    "        continue\n",
    "        \n",
    "    # Determine whether person passed away in hospital\n",
    "    deceased = mortality_dct[icustay_id]\n",
    "    \n",
    "    # Define sparse end-of-episode rewards as +15 on survival; -15 on death\n",
    "    timesteps = icustay_timesteps[icustay_id]\n",
    "    rewards = np.zeros(len(timesteps) - 1)\n",
    "    rewards[-1] = -100 if deceased else 100\n",
    "    \n",
    "    data[icustay_id]['reward'] = rewards"
   ]
  },
  {
   "cell_type": "code",
   "execution_count": 346,
   "id": "6a8a8f0d",
   "metadata": {},
   "outputs": [
    {
     "data": {
      "image/png": "[encoded data removed]",
      "text/plain": [
       "<Figure size 576x216 with 1 Axes>"
      ]
     },
     "metadata": {
      "needs_background": "light"
     },
     "output_type": "display_data"
    }
   ],
   "source": [
    "# Grab Reward trajectory from random patient\n",
    "plot_dct(\n",
    "    dct=data, \n",
    "    feature='reward', \n",
    "    title='Reward over time (%s)' % INTERVAL_TIME, \n",
    "    ylabel='Reward'\n",
    ")"
   ]
  },
  {
   "cell_type": "code",
   "execution_count": 348,
   "id": "39bf3876-3aed-4506-94a0-857c4462752b",
   "metadata": {},
   "outputs": [
    {
     "name": "stdout",
     "output_type": "stream",
     "text": [
      "mortality rate: 0.09902189907383363\n"
     ]
    }
   ],
   "source": [
    "# Compute mortality rate\n",
    "survival = np.mean([1 if np.max(data[icustay_id]['reward']) > 0 else 0 for icustay_id in data])\n",
    "     \n",
    "print('mortality rate:', 1 - survival)"
   ]
  },
  {
   "cell_type": "markdown",
   "id": "d83e59a7",
   "metadata": {},
   "source": [
    "## Shift IV/VP Forward\n",
    "By dropping the last VP/IV value (and prepending a `NaN`) we effectively shift the actions, vasopressor doses and IV fluid intakes, one time-step forward (giving us a state representation containing the *previous* vasopressor/IV dose along with the current non-shifted IV/VP and the associated reward);"
   ]
  },
  {
   "cell_type": "code",
   "execution_count": 349,
   "id": "85dfc7ca",
   "metadata": {},
   "outputs": [
    {
     "name": "stdout",
     "output_type": "stream",
     "text": [
      "Done!\n"
     ]
    }
   ],
   "source": [
    "for icustay_id, icustay_data in data.items():\n",
    "    \n",
    "    # Shift actions sequence forward by one\n",
    "    if 'total_iv_fluid' in data[icustay_id]:\n",
    "        data[icustay_id]['total_iv_fluid_prev'] = [np.NaN] + list(data[icustay_id]['total_iv_fluid'][:-1])\n",
    "        \n",
    "    # Don't forget for running total!\n",
    "    # Remark: original notebook did not shift running total IV (only total_iv_fluid) \n",
    "    # therefore the model was able to relate the current IV level as running_total_iv_fluid - total_iv_fluid_prev!\n",
    "    if 'running_total_iv_fluid' in data[icustay_id]:\n",
    "        data[icustay_id]['running_total_iv_fluid_prev'] = [np.NaN] + list(data[icustay_id]['running_total_iv_fluid'][:-1])\n",
    "        \n",
    "    if 'max_vaso' in data[icustay_id]:\n",
    "        data[icustay_id]['max_vaso_prev'] = [np.NaN] + list(data[icustay_id]['max_vaso'][:-1])\n",
    "        \n",
    "print('Done!')"
   ]
  },
  {
   "cell_type": "markdown",
   "id": "5c59090d",
   "metadata": {},
   "source": [
    "## Convert to DataFrame!"
   ]
  },
  {
   "cell_type": "code",
   "execution_count": 350,
   "id": "31f830ca",
   "metadata": {},
   "outputs": [
    {
     "data": {
      "text/html": [
       "<div>\n",
       "<style scoped>\n",
       "    .dataframe tbody tr th:only-of-type {\n",
       "        vertical-align: middle;\n",
       "    }\n",
       "\n",
       "    .dataframe tbody tr th {\n",
       "        vertical-align: top;\n",
       "    }\n",
       "\n",
       "    .dataframe thead th {\n",
       "        text-align: right;\n",
       "    }\n",
       "</style>\n",
       "<table border=\"1\" class=\"dataframe\">\n",
       "  <thead>\n",
       "    <tr style=\"text-align: right;\">\n",
       "      <th></th>\n",
       "      <th>timestep</th>\n",
       "      <th>total_iv_fluid</th>\n",
       "      <th>running_total_iv_fluid</th>\n",
       "      <th>glucose</th>\n",
       "      <th>dias_bp</th>\n",
       "      <th>heart_rate</th>\n",
       "      <th>mean_bp</th>\n",
       "      <th>resp_rate</th>\n",
       "      <th>sp_o2</th>\n",
       "      <th>sv_o2</th>\n",
       "      <th>...</th>\n",
       "      <th>sofa</th>\n",
       "      <th>sirs</th>\n",
       "      <th>elective</th>\n",
       "      <th>is_sepsis</th>\n",
       "      <th>reward</th>\n",
       "      <th>total_iv_fluid_prev</th>\n",
       "      <th>running_total_iv_fluid_prev</th>\n",
       "      <th>icustay_id</th>\n",
       "      <th>max_vaso</th>\n",
       "      <th>max_vaso_prev</th>\n",
       "    </tr>\n",
       "  </thead>\n",
       "  <tbody>\n",
       "    <tr>\n",
       "      <th>0</th>\n",
       "      <td>2022-11-23 16:04:54.935704</td>\n",
       "      <td>0.0</td>\n",
       "      <td>0.0</td>\n",
       "      <td>NaN</td>\n",
       "      <td>NaN</td>\n",
       "      <td>NaN</td>\n",
       "      <td>NaN</td>\n",
       "      <td>NaN</td>\n",
       "      <td>NaN</td>\n",
       "      <td>NaN</td>\n",
       "      <td>...</td>\n",
       "      <td>0.0</td>\n",
       "      <td>2.0</td>\n",
       "      <td>1.0</td>\n",
       "      <td>0.0</td>\n",
       "      <td>0.0</td>\n",
       "      <td>NaN</td>\n",
       "      <td>NaN</td>\n",
       "      <td>0</td>\n",
       "      <td>NaN</td>\n",
       "      <td>NaN</td>\n",
       "    </tr>\n",
       "    <tr>\n",
       "      <th>1</th>\n",
       "      <td>2022-11-23 17:04:54.935704</td>\n",
       "      <td>0.0</td>\n",
       "      <td>0.0</td>\n",
       "      <td>NaN</td>\n",
       "      <td>NaN</td>\n",
       "      <td>NaN</td>\n",
       "      <td>NaN</td>\n",
       "      <td>NaN</td>\n",
       "      <td>NaN</td>\n",
       "      <td>NaN</td>\n",
       "      <td>...</td>\n",
       "      <td>0.0</td>\n",
       "      <td>2.0</td>\n",
       "      <td>1.0</td>\n",
       "      <td>0.0</td>\n",
       "      <td>0.0</td>\n",
       "      <td>0.0</td>\n",
       "      <td>0.0</td>\n",
       "      <td>0</td>\n",
       "      <td>NaN</td>\n",
       "      <td>NaN</td>\n",
       "    </tr>\n",
       "    <tr>\n",
       "      <th>2</th>\n",
       "      <td>2022-11-23 18:04:54.935704</td>\n",
       "      <td>0.0</td>\n",
       "      <td>0.0</td>\n",
       "      <td>NaN</td>\n",
       "      <td>NaN</td>\n",
       "      <td>NaN</td>\n",
       "      <td>NaN</td>\n",
       "      <td>NaN</td>\n",
       "      <td>NaN</td>\n",
       "      <td>NaN</td>\n",
       "      <td>...</td>\n",
       "      <td>0.0</td>\n",
       "      <td>2.0</td>\n",
       "      <td>1.0</td>\n",
       "      <td>0.0</td>\n",
       "      <td>0.0</td>\n",
       "      <td>0.0</td>\n",
       "      <td>0.0</td>\n",
       "      <td>0</td>\n",
       "      <td>NaN</td>\n",
       "      <td>NaN</td>\n",
       "    </tr>\n",
       "    <tr>\n",
       "      <th>3</th>\n",
       "      <td>2022-11-23 19:04:54.935704</td>\n",
       "      <td>0.0</td>\n",
       "      <td>0.0</td>\n",
       "      <td>NaN</td>\n",
       "      <td>NaN</td>\n",
       "      <td>NaN</td>\n",
       "      <td>NaN</td>\n",
       "      <td>NaN</td>\n",
       "      <td>NaN</td>\n",
       "      <td>NaN</td>\n",
       "      <td>...</td>\n",
       "      <td>0.0</td>\n",
       "      <td>2.0</td>\n",
       "      <td>1.0</td>\n",
       "      <td>0.0</td>\n",
       "      <td>0.0</td>\n",
       "      <td>0.0</td>\n",
       "      <td>0.0</td>\n",
       "      <td>0</td>\n",
       "      <td>NaN</td>\n",
       "      <td>NaN</td>\n",
       "    </tr>\n",
       "    <tr>\n",
       "      <th>4</th>\n",
       "      <td>2022-11-23 20:04:54.935704</td>\n",
       "      <td>0.0</td>\n",
       "      <td>0.0</td>\n",
       "      <td>NaN</td>\n",
       "      <td>49.0</td>\n",
       "      <td>83.0</td>\n",
       "      <td>68.0</td>\n",
       "      <td>13.0</td>\n",
       "      <td>48.495</td>\n",
       "      <td>0.99</td>\n",
       "      <td>...</td>\n",
       "      <td>0.0</td>\n",
       "      <td>2.0</td>\n",
       "      <td>1.0</td>\n",
       "      <td>0.0</td>\n",
       "      <td>0.0</td>\n",
       "      <td>0.0</td>\n",
       "      <td>0.0</td>\n",
       "      <td>0</td>\n",
       "      <td>NaN</td>\n",
       "      <td>NaN</td>\n",
       "    </tr>\n",
       "  </tbody>\n",
       "</table>\n",
       "<p>5 rows × 60 columns</p>\n",
       "</div>"
      ],
      "text/plain": [
       "                    timestep  total_iv_fluid  running_total_iv_fluid  glucose  \\\n",
       "0 2022-11-23 16:04:54.935704             0.0                     0.0      NaN   \n",
       "1 2022-11-23 17:04:54.935704             0.0                     0.0      NaN   \n",
       "2 2022-11-23 18:04:54.935704             0.0                     0.0      NaN   \n",
       "3 2022-11-23 19:04:54.935704             0.0                     0.0      NaN   \n",
       "4 2022-11-23 20:04:54.935704             0.0                     0.0      NaN   \n",
       "\n",
       "   dias_bp  heart_rate  mean_bp  resp_rate   sp_o2  sv_o2  ...  sofa  sirs  \\\n",
       "0      NaN         NaN      NaN        NaN     NaN    NaN  ...   0.0   2.0   \n",
       "1      NaN         NaN      NaN        NaN     NaN    NaN  ...   0.0   2.0   \n",
       "2      NaN         NaN      NaN        NaN     NaN    NaN  ...   0.0   2.0   \n",
       "3      NaN         NaN      NaN        NaN     NaN    NaN  ...   0.0   2.0   \n",
       "4     49.0        83.0     68.0       13.0  48.495   0.99  ...   0.0   2.0   \n",
       "\n",
       "   elective  is_sepsis  reward  total_iv_fluid_prev  \\\n",
       "0       1.0        0.0     0.0                  NaN   \n",
       "1       1.0        0.0     0.0                  0.0   \n",
       "2       1.0        0.0     0.0                  0.0   \n",
       "3       1.0        0.0     0.0                  0.0   \n",
       "4       1.0        0.0     0.0                  0.0   \n",
       "\n",
       "   running_total_iv_fluid_prev  icustay_id  max_vaso  max_vaso_prev  \n",
       "0                          NaN           0       NaN            NaN  \n",
       "1                          0.0           0       NaN            NaN  \n",
       "2                          0.0           0       NaN            NaN  \n",
       "3                          0.0           0       NaN            NaN  \n",
       "4                          0.0           0       NaN            NaN  \n",
       "\n",
       "[5 rows x 60 columns]"
      ]
     },
     "execution_count": 350,
     "metadata": {},
     "output_type": "execute_result"
    }
   ],
   "source": [
    "# Mark measurement by decision time `interval_end` (i.e. drop interval_start)\n",
    "# Note this is slightly different from what the non-aggregated dataset contains\n",
    "for icustay_id in data.keys():\n",
    "    data[icustay_id]['timestep'] = data[icustay_id]['timestep'][1:]\n",
    "\n",
    "# Convert individual icustay dicts into DataFrames\n",
    "data_df = {icustay_id: pd.DataFrame.from_dict(icustay_data) for icustay_id, icustay_data in data.items()}\n",
    "\n",
    "# Add icustay_id as identifier\n",
    "for icustay_id in data_df.keys():\n",
    "    data_df[icustay_id]['icustay_id'] = icustay_id\n",
    "    \n",
    "# Merge into one large DataFrame\n",
    "data_df = pd.concat(data_df.values()).reset_index(drop=True)\n",
    "data_df.head()"
   ]
  },
  {
   "cell_type": "code",
   "execution_count": 355,
   "id": "86f55026-6f84-48a9-a4ca-daa73d2dc7da",
   "metadata": {},
   "outputs": [],
   "source": [
    "# For conversion rates see https://github.com/LucaMD/SRL/blob/master/SEPSIS/MIMIC_src/MIMIC_R_DataPreprocessing.ipynb\n",
    "data_final_df = pd.DataFrame({'icustay_id': data_df['icustay_id'], \n",
    "                              'timestep': data_df['timestep'], \n",
    "                              # actions and rewards\n",
    "                              'max_vaso': data_df['max_vaso'],\n",
    "                              'total_iv_fluid': data_df['total_iv_fluid'],\n",
    "                              'reward': data_df['reward'],\n",
    "                              # previous treatments\n",
    "                              'max_vaso_prev': data_df['max_vaso_prev'],\n",
    "                              'total_iv_fluid_prev': data_df['total_iv_fluid_prev'],\n",
    "                              'sepsis_antibiotics': data_df['sepsis_antibiotics'],\n",
    "                              'profyl_antibiotics': data_df['profyl_antibiotics'],\n",
    "                              'profyl_other': data_df['other_antibiotics'],\n",
    "                              'ventilator': data_df['mech_vent'], # ventilation over time - not static!\n",
    "                              # demographics\n",
    "                              'sirs_score': data_df['sirs'],\n",
    "                              'sofa_score': data_df['sofa'],\n",
    "                              'weight': data_df['weight'],\n",
    "                              'height': data_df['height'],\n",
    "                              'age': data_df['age'],\n",
    "                              'gender': data_df['is_male'],\n",
    "                              'elective': data_df['elective'],\n",
    "                              'is_sepsis': data_df['is_sepsis'],\n",
    "                              # vitals\n",
    "                              'heart_rate': data_df['heart_rate'],\n",
    "                              'temp': data_df['temp_c'],\n",
    "                              'mean_bp': data_df['mean_bp'],\n",
    "                              'dias_bp': data_df['dias_bp'],\n",
    "                              'sys_bp': data_df['sys_bp'],\n",
    "                              'resp_rate': data_df['resp_rate'],\n",
    "                              'spo2': data_df['sp_o2'],\n",
    "                              # lab results\n",
    "                              'natrium': data_df['sodium'],\n",
    "                              'chloride': data_df['chloride'],\n",
    "                              'kalium': data_df['potassium'],\n",
    "                              'trombo': data_df['platelet'],\n",
    "                              'leu': data_df['wbc'],\n",
    "                              'anion_gap': data_df['anion gap'],\n",
    "                              'aptt': data_df['ptt'],\n",
    "                              'art_ph': data_df['ph'],\n",
    "                              'asat': data_df['asat'],\n",
    "                              'alat': data_df['alat'],\n",
    "                              'bicarbonaat': data_df['bicarbonate'],\n",
    "                              'art_be': data_df['base_excess'],\n",
    "                              'ion_ca': data_df['ion_calcium'],\n",
    "                              'lactate': data_df['lactate'],\n",
    "                              'paco2': data_df['paco2'],\n",
    "                              'pao2': data_df['pao2'],\n",
    "                              'fio2': data_df['fi_o2'],\n",
    "                              'sirs_bands': data_df['bands'], # Not part of feature space\n",
    "                              'shock_index': data_df['heart_rate'] / data_df['sys_bp'],\n",
    "                              'hb': data_df['hemoglobin'] * 0.6206, # Conversion rates (see original notebook)\n",
    "                              'bilirubin': data_df['bilirubin'] * (1 / 0.05847953),\n",
    "                              'creatinine': data_df['creatinine'] * (1 / 0.01131222),\n",
    "                              #'inr': data_df['pt'] / 12,\n",
    "                              'ureum': data_df['bun'] * 0.3571,\n",
    "                              'albumin': data_df['albumin'] * 10,\n",
    "                              'magnesium': data_df['magnesium'] * 0.411,\n",
    "                              'calcium': data_df['calcium'] * 0.25,\n",
    "                              'pf_ratio': data_df['paco2'] / data_df['fi_o2'],\n",
    "                              'glucose': data_df['glucose'] * 0.0555,\n",
    "                              #'cvo2': data_df['cvo2'],\n",
    "                              'svo2': data_df['sv_o2'],\n",
    "                              'd-dimer': data_df['d-dimer'],\n",
    "                              'hematocrit': data_df['hematocrit'],\n",
    "                              # other\n",
    "                              'running_total_urine_output': data_df['running_total_urine_output'],\n",
    "                              'total_urine_output': data_df['total_urine_output'],\n",
    "                              'running_total_iv_fluid_prev': data_df['running_total_iv_fluid_prev'],})"
   ]
  },
  {
   "cell_type": "code",
   "execution_count": 357,
   "id": "40897db9-2202-4629-86aa-ff829c836460",
   "metadata": {},
   "outputs": [
    {
     "data": {
      "text/html": [
       "<div>\n",
       "<style scoped>\n",
       "    .dataframe tbody tr th:only-of-type {\n",
       "        vertical-align: middle;\n",
       "    }\n",
       "\n",
       "    .dataframe tbody tr th {\n",
       "        vertical-align: top;\n",
       "    }\n",
       "\n",
       "    .dataframe thead th {\n",
       "        text-align: right;\n",
       "    }\n",
       "</style>\n",
       "<table border=\"1\" class=\"dataframe\">\n",
       "  <thead>\n",
       "    <tr style=\"text-align: right;\">\n",
       "      <th></th>\n",
       "      <th>icustay_id</th>\n",
       "      <th>timestep</th>\n",
       "      <th>max_vaso</th>\n",
       "      <th>total_iv_fluid</th>\n",
       "      <th>reward</th>\n",
       "      <th>max_vaso_prev</th>\n",
       "      <th>total_iv_fluid_prev</th>\n",
       "      <th>sepsis_antibiotics</th>\n",
       "      <th>profyl_antibiotics</th>\n",
       "      <th>profyl_other</th>\n",
       "      <th>...</th>\n",
       "      <th>magnesium</th>\n",
       "      <th>calcium</th>\n",
       "      <th>pf_ratio</th>\n",
       "      <th>glucose</th>\n",
       "      <th>svo2</th>\n",
       "      <th>d-dimer</th>\n",
       "      <th>hematocrit</th>\n",
       "      <th>running_total_urine_output</th>\n",
       "      <th>total_urine_output</th>\n",
       "      <th>running_total_iv_fluid_prev</th>\n",
       "    </tr>\n",
       "  </thead>\n",
       "  <tbody>\n",
       "    <tr>\n",
       "      <th>1800</th>\n",
       "      <td>25</td>\n",
       "      <td>2022-11-23 16:04:54.935704</td>\n",
       "      <td>0.000000</td>\n",
       "      <td>0.000000</td>\n",
       "      <td>0.0</td>\n",
       "      <td>NaN</td>\n",
       "      <td>NaN</td>\n",
       "      <td>0.0</td>\n",
       "      <td>0.0</td>\n",
       "      <td>0.0</td>\n",
       "      <td>...</td>\n",
       "      <td>NaN</td>\n",
       "      <td>NaN</td>\n",
       "      <td>NaN</td>\n",
       "      <td>NaN</td>\n",
       "      <td>0.98</td>\n",
       "      <td>NaN</td>\n",
       "      <td>NaN</td>\n",
       "      <td>100.0</td>\n",
       "      <td>100.0</td>\n",
       "      <td>NaN</td>\n",
       "    </tr>\n",
       "    <tr>\n",
       "      <th>1801</th>\n",
       "      <td>25</td>\n",
       "      <td>2022-11-23 17:04:54.935704</td>\n",
       "      <td>0.006667</td>\n",
       "      <td>0.250000</td>\n",
       "      <td>0.0</td>\n",
       "      <td>0.000000</td>\n",
       "      <td>0.000000</td>\n",
       "      <td>1.0</td>\n",
       "      <td>0.0</td>\n",
       "      <td>0.0</td>\n",
       "      <td>...</td>\n",
       "      <td>0.54663</td>\n",
       "      <td>0.5525</td>\n",
       "      <td>44.444444</td>\n",
       "      <td>0.75480</td>\n",
       "      <td>0.99</td>\n",
       "      <td>NaN</td>\n",
       "      <td>0.32</td>\n",
       "      <td>100.0</td>\n",
       "      <td>0.0</td>\n",
       "      <td>0.000000</td>\n",
       "    </tr>\n",
       "    <tr>\n",
       "      <th>1802</th>\n",
       "      <td>25</td>\n",
       "      <td>2022-11-23 18:04:54.935704</td>\n",
       "      <td>0.006667</td>\n",
       "      <td>63.233334</td>\n",
       "      <td>0.0</td>\n",
       "      <td>0.006667</td>\n",
       "      <td>0.250000</td>\n",
       "      <td>0.0</td>\n",
       "      <td>0.0</td>\n",
       "      <td>0.0</td>\n",
       "      <td>...</td>\n",
       "      <td>NaN</td>\n",
       "      <td>NaN</td>\n",
       "      <td>NaN</td>\n",
       "      <td>0.62715</td>\n",
       "      <td>NaN</td>\n",
       "      <td>NaN</td>\n",
       "      <td>0.32</td>\n",
       "      <td>150.0</td>\n",
       "      <td>50.0</td>\n",
       "      <td>0.250000</td>\n",
       "    </tr>\n",
       "    <tr>\n",
       "      <th>1803</th>\n",
       "      <td>25</td>\n",
       "      <td>2022-11-23 19:04:54.935704</td>\n",
       "      <td>0.006667</td>\n",
       "      <td>58.018684</td>\n",
       "      <td>0.0</td>\n",
       "      <td>0.006667</td>\n",
       "      <td>63.233334</td>\n",
       "      <td>0.0</td>\n",
       "      <td>0.0</td>\n",
       "      <td>0.0</td>\n",
       "      <td>...</td>\n",
       "      <td>NaN</td>\n",
       "      <td>NaN</td>\n",
       "      <td>NaN</td>\n",
       "      <td>NaN</td>\n",
       "      <td>NaN</td>\n",
       "      <td>NaN</td>\n",
       "      <td>NaN</td>\n",
       "      <td>150.0</td>\n",
       "      <td>0.0</td>\n",
       "      <td>63.483334</td>\n",
       "    </tr>\n",
       "    <tr>\n",
       "      <th>1804</th>\n",
       "      <td>25</td>\n",
       "      <td>2022-11-23 20:04:54.935704</td>\n",
       "      <td>0.006667</td>\n",
       "      <td>91.732224</td>\n",
       "      <td>0.0</td>\n",
       "      <td>0.006667</td>\n",
       "      <td>58.018684</td>\n",
       "      <td>0.0</td>\n",
       "      <td>0.0</td>\n",
       "      <td>0.0</td>\n",
       "      <td>...</td>\n",
       "      <td>NaN</td>\n",
       "      <td>NaN</td>\n",
       "      <td>NaN</td>\n",
       "      <td>NaN</td>\n",
       "      <td>NaN</td>\n",
       "      <td>NaN</td>\n",
       "      <td>NaN</td>\n",
       "      <td>260.0</td>\n",
       "      <td>110.0</td>\n",
       "      <td>121.502014</td>\n",
       "    </tr>\n",
       "  </tbody>\n",
       "</table>\n",
       "<p>5 rows × 60 columns</p>\n",
       "</div>"
      ],
      "text/plain": [
       "      icustay_id                   timestep  max_vaso  total_iv_fluid  reward  \\\n",
       "1800          25 2022-11-23 16:04:54.935704  0.000000        0.000000     0.0   \n",
       "1801          25 2022-11-23 17:04:54.935704  0.006667        0.250000     0.0   \n",
       "1802          25 2022-11-23 18:04:54.935704  0.006667       63.233334     0.0   \n",
       "1803          25 2022-11-23 19:04:54.935704  0.006667       58.018684     0.0   \n",
       "1804          25 2022-11-23 20:04:54.935704  0.006667       91.732224     0.0   \n",
       "\n",
       "      max_vaso_prev  total_iv_fluid_prev  sepsis_antibiotics  \\\n",
       "1800            NaN                  NaN                 0.0   \n",
       "1801       0.000000             0.000000                 1.0   \n",
       "1802       0.006667             0.250000                 0.0   \n",
       "1803       0.006667            63.233334                 0.0   \n",
       "1804       0.006667            58.018684                 0.0   \n",
       "\n",
       "      profyl_antibiotics  profyl_other  ...  magnesium  calcium   pf_ratio  \\\n",
       "1800                 0.0           0.0  ...        NaN      NaN        NaN   \n",
       "1801                 0.0           0.0  ...    0.54663   0.5525  44.444444   \n",
       "1802                 0.0           0.0  ...        NaN      NaN        NaN   \n",
       "1803                 0.0           0.0  ...        NaN      NaN        NaN   \n",
       "1804                 0.0           0.0  ...        NaN      NaN        NaN   \n",
       "\n",
       "      glucose  svo2  d-dimer  hematocrit  running_total_urine_output  \\\n",
       "1800      NaN  0.98      NaN         NaN                       100.0   \n",
       "1801  0.75480  0.99      NaN        0.32                       100.0   \n",
       "1802  0.62715   NaN      NaN        0.32                       150.0   \n",
       "1803      NaN   NaN      NaN         NaN                       150.0   \n",
       "1804      NaN   NaN      NaN         NaN                       260.0   \n",
       "\n",
       "      total_urine_output  running_total_iv_fluid_prev  \n",
       "1800               100.0                          NaN  \n",
       "1801                 0.0                     0.000000  \n",
       "1802                50.0                     0.250000  \n",
       "1803                 0.0                    63.483334  \n",
       "1804               110.0                   121.502014  \n",
       "\n",
       "[5 rows x 60 columns]"
      ]
     },
     "execution_count": 357,
     "metadata": {},
     "output_type": "execute_result"
    }
   ],
   "source": [
    "# Show data for random patient\n",
    "icustay_id = random.choice(data_final_df.icustay_id.unique())\n",
    "data_final_df[data_final_df['icustay_id'] == icustay_id].head()"
   ]
  },
  {
   "cell_type": "markdown",
   "id": "c78cc896-5a2d-4b76-b2db-cd1e9e25b36c",
   "metadata": {},
   "source": [
    "### Checkpoint"
   ]
  },
  {
   "cell_type": "code",
   "execution_count": 358,
   "id": "0c15e554-0fb3-4f17-8109-06edc1b08e44",
   "metadata": {},
   "outputs": [],
   "source": [
    "# save checkpoint before further processing just in case we want to change preprocesing\n",
    "data_final_df.to_csv(OUTPUT_DIR + '/checkpoint_df.csv', index=False)"
   ]
  },
  {
   "cell_type": "code",
   "execution_count": 9,
   "id": "2f54f649-901e-401f-93d9-9edf647b9c83",
   "metadata": {},
   "outputs": [],
   "source": [
    "# data_final_df = read_csv(OUTPUT_DIR + '/checkpoint_df.csv')\n",
    "# assert len(data_final_df) > 0"
   ]
  },
  {
   "cell_type": "markdown",
   "id": "1284373f-d1c5-40af-9d24-bcf1a2dd6ba7",
   "metadata": {},
   "source": [
    " "
   ]
  },
  {
   "cell_type": "markdown",
   "id": "210df0f5",
   "metadata": {},
   "source": [
    "## Discretize Action Space\n",
    "\n",
    "### Calculate Bins"
   ]
  },
  {
   "cell_type": "code",
   "execution_count": 10,
   "id": "74872866",
   "metadata": {},
   "outputs": [
    {
     "name": "stdout",
     "output_type": "stream",
     "text": [
      "Max VP bins:   [-inf, 0, 0.006666667, 0.016666668, 0.06666667, inf]\n",
      "IV fluid bins: [-inf, 0, 45.975662, 79.02521, 97.033615, inf]\n"
     ]
    }
   ],
   "source": [
    "# Compute 5-bin histogram to obtain discrete intervals\n",
    "def get_quantile_intervals(vals, N=5, max_inf=True, min_inf=True):\n",
    "    # Drop NaNs and zero doses (they get their own action)\n",
    "    vals = vals[(vals > 0) & ~np.isnan(vals)].values\n",
    "        \n",
    "    # Compute quantiles with special zero bin\n",
    "    quantiles = [0] + list(np.quantile(vals, np.linspace(0, 1, N)))\n",
    "    quantiles[0] = -np.inf\n",
    "    quantiles[1] = 0\n",
    "    quantiles[-1] = np.inf\n",
    "    return quantiles\n",
    "    \n",
    "max_vp_bins = get_quantile_intervals(data_final_df['max_vaso'])\n",
    "tot_iv_bins = get_quantile_intervals(data_final_df['total_iv_fluid'])\n",
    "\n",
    "print('Max VP bins:  ', max_vp_bins)\n",
    "print('IV fluid bins:', tot_iv_bins)"
   ]
  },
  {
   "cell_type": "markdown",
   "id": "5c01973e-d2f2-4758-8a76-1c8ee14e4a7b",
   "metadata": {},
   "source": [
    "<br>\n",
    "\n",
    "Each bin should have a good number of samples (with exception of the 'zero-bin'):"
   ]
  },
  {
   "cell_type": "code",
   "execution_count": 11,
   "id": "6b22da30-a5d5-43dc-ba3f-ac41a73f9717",
   "metadata": {},
   "outputs": [
    {
     "data": {
      "text/html": [
       "<div>\n",
       "<style scoped>\n",
       "    .dataframe tbody tr th:only-of-type {\n",
       "        vertical-align: middle;\n",
       "    }\n",
       "\n",
       "    .dataframe tbody tr th {\n",
       "        vertical-align: top;\n",
       "    }\n",
       "\n",
       "    .dataframe thead th {\n",
       "        text-align: right;\n",
       "    }\n",
       "</style>\n",
       "<table border=\"1\" class=\"dataframe\">\n",
       "  <thead>\n",
       "    <tr style=\"text-align: right;\">\n",
       "      <th></th>\n",
       "      <th>0</th>\n",
       "      <th>1</th>\n",
       "      <th>2</th>\n",
       "      <th>3</th>\n",
       "      <th>4</th>\n",
       "    </tr>\n",
       "  </thead>\n",
       "  <tbody>\n",
       "    <tr>\n",
       "      <th>Max VP</th>\n",
       "      <td>1315794</td>\n",
       "      <td>98035</td>\n",
       "      <td>77856</td>\n",
       "      <td>87160</td>\n",
       "      <td>84787</td>\n",
       "    </tr>\n",
       "    <tr>\n",
       "      <th>IV Fluid</th>\n",
       "      <td>769987</td>\n",
       "      <td>223412</td>\n",
       "      <td>228388</td>\n",
       "      <td>223215</td>\n",
       "      <td>218630</td>\n",
       "    </tr>\n",
       "  </tbody>\n",
       "</table>\n",
       "</div>"
      ],
      "text/plain": [
       "                0       1       2       3       4\n",
       "Max VP    1315794   98035   77856   87160   84787\n",
       "IV Fluid   769987  223412  228388  223215  218630"
      ]
     },
     "execution_count": 11,
     "metadata": {},
     "output_type": "execute_result"
    }
   ],
   "source": [
    "max_vp_binned = pd.cut(\n",
    "    data_final_df.max_vaso.fillna(0), \n",
    "    right=True, \n",
    "    bins=max_vp_bins, \n",
    "    labels=[0, 1, 2, 3, 4]\n",
    ").value_counts()\n",
    "\n",
    "iv_fluid_shifted_binned = pd.cut(\n",
    "    data_final_df.total_iv_fluid.fillna(0), \n",
    "    right=True, \n",
    "    bins=tot_iv_bins, \n",
    "    labels=[0, 1, 2, 3, 4]\n",
    ").value_counts()\n",
    "\n",
    "pd.DataFrame({'Max VP': max_vp_binned,\n",
    "              'IV Fluid': iv_fluid_shifted_binned}).transpose()"
   ]
  },
  {
   "cell_type": "markdown",
   "id": "cd0bddd5-3234-40a0-b706-af57da213e49",
   "metadata": {},
   "source": [
    "### Convert Continuous Actions to 5x5 Action Space"
   ]
  },
  {
   "cell_type": "code",
   "execution_count": 12,
   "id": "d189cfd2",
   "metadata": {},
   "outputs": [
    {
     "data": {
      "image/png": "[encoded data removed]",
      "text/plain": [
       "<Figure size 432x288 with 1 Axes>"
      ]
     },
     "metadata": {
      "needs_background": "light"
     },
     "output_type": "display_data"
    }
   ],
   "source": [
    "# Replace NaNs by zero (no vasopressor or IV fluid treatment, so dose = zero)\n",
    "data_final_df['max_vaso'] = data_final_df.max_vaso.fillna(0)\n",
    "data_final_df['total_iv_fluid'] = data_final_df.total_iv_fluid.fillna(0)\n",
    "data_final_df['max_vaso_prev'] = data_final_df.max_vaso_prev.fillna(0)\n",
    "data_final_df['total_iv_fluid_prev'] = data_final_df.total_iv_fluid_prev.fillna(0)\n",
    "\n",
    "# Use pd.cut to discretize actions\n",
    "max_vp_discrete = pd.cut(\n",
    "    data_final_df.max_vaso,\n",
    "    right=True,\n",
    "    bins=max_vp_bins, \n",
    "    labels=[0, 1, 2, 3, 4]\n",
    ").astype(float)\n",
    "\n",
    "total_iv_discrete = pd.cut(\n",
    "    data_final_df.total_iv_fluid,\n",
    "    right=True,\n",
    "    bins=tot_iv_bins, \n",
    "    labels=[0, 1, 2, 3, 4]\n",
    ").astype(float)\n",
    "\n",
    "# Compute action as 5 * total_iv_fluid + max_vaso\n",
    "data_final_df['action'] = 5 * total_iv_discrete + max_vp_discrete\n",
    "data_final_df.action.hist(bins=25);"
   ]
  },
  {
   "cell_type": "markdown",
   "id": "e8baf939-4aac-4b25-b024-bcb979a48200",
   "metadata": {},
   "source": [
    "### Export Action Bins and Action-IV/VP Table"
   ]
  },
  {
   "cell_type": "code",
   "execution_count": 13,
   "id": "a2b81140-80c9-4e2f-9132-fd7b185da70f",
   "metadata": {},
   "outputs": [
    {
     "name": "stdout",
     "output_type": "stream",
     "text": [
      "Done!\n"
     ]
    }
   ],
   "source": [
    "# Save bin edges of max_vaso and total_iv_fluid as .npy files for later reference\n",
    "with open(OUTPUT_DIR + '/max_vaso_bins.npy', 'w') as file:\n",
    "    np.savetxt(file, max_vp_bins)\n",
    "    \n",
    "with open(OUTPUT_DIR + '/total_iv_fluid_bins.npy', 'w') as file:\n",
    "    np.savetxt(file, tot_iv_bins)\n",
    "    \n",
    "print('Done!')"
   ]
  },
  {
   "cell_type": "code",
   "execution_count": 14,
   "id": "7f48ccba-a0f3-4c12-b4a4-c72540a8b0e8",
   "metadata": {},
   "outputs": [
    {
     "name": "stdout",
     "output_type": "stream",
     "text": [
      "Done!\n"
     ]
    }
   ],
   "source": [
    "# Save mapping from action indices (0 to 24) to bin indices (0 to 4)\n",
    "action_id_to_bins = dict()\n",
    "for max_vaso in range(5):\n",
    "    for total_iv_fluid in range(5):\n",
    "        action_id_to_bins[5 * total_iv_fluid + max_vaso] = (total_iv_fluid, max_vaso)\n",
    "\n",
    "with open(OUTPUT_DIR + '/action_to_vaso_fluid_bins.pkl', 'wb') as file:\n",
    "    pickle.dump(action_id_to_bins, file)\n",
    "    \n",
    "print('Done!')"
   ]
  },
  {
   "cell_type": "markdown",
   "id": "fc41fa04-61a6-48af-8b5d-616f50a1aeba",
   "metadata": {},
   "source": [
    "## Cap Outlying Measurements\n",
    "\n",
    "During exploratory data analysis it was found that the data was riddled with measurement errors, whereby treatment and vital parameters would take values orders in magnitude higher than would be possible (or safe practice). To ensure feature normalization will not too much be affected by these values, we will cap values to their respective minimum or maximum when outside of their clinically possible range.\n",
    "\n",
    "However, slight modifications are made to the capping values used in (Roggeveen et al., 2021)\n",
    "1. Max. `anion_gap`: 12 $\\rightarrow$ 40 (as 12 can be considered an acceptable value for even healthy patients depending on the lab and how the test was performed, see [Wikipedia's entry for Anion Gap](https://en.wikipedia.org/wiki/Anion_gap))\n",
    "2. Min. `shock_index`: 0.5 $\\rightarrow$ 0.4 (a value of 0.5 was very often measured (>22.000) and thus the range was slightly relaxed compared to Roggeveen et al.)\n",
    "\n",
    "**Important**: Note that many values for `age` are capped; these are largely for age 17.999, which in turn is mapped to 18."
   ]
  },
  {
   "cell_type": "code",
   "execution_count": 15,
   "id": "e29f04a8-2d74-4dd9-a2b2-e9cb5fe2d3c3",
   "metadata": {},
   "outputs": [
    {
     "name": "stdout",
     "output_type": "stream",
     "text": [
      "Numbers capped:\n",
      "aptt 1274\n",
      "bilirubin 2022\n",
      "calcium 62507\n",
      "creatinine 68708\n",
      "dias_bp 1920\n",
      "fio2 255058\n",
      "magnesium 41084\n",
      "mean_bp 1157\n",
      "paco2 4789\n",
      "pao2 2071\n",
      "pf_ratio 57263\n",
      "resp_rate 7871\n",
      "shock_index 4938\n",
      "spo2 9395\n",
      "sys_bp 1051\n",
      "temp 8557\n"
     ]
    }
   ],
   "source": [
    "# Load capping values (roggeveen et al., 2021)\n",
    "min_max_values = pd.read_csv('capping_values.csv').set_index('parameter').to_dict('index')\n",
    "\n",
    "print('Numbers capped:')\n",
    "for feature, rng in min_max_values.items():\n",
    "    \n",
    "    if feature not in data_final_df.columns:\n",
    "        continue\n",
    "        \n",
    "    # Cap values with bounds specific to feature\n",
    "    capped_values = data_final_df[feature].clip(lower=rng['minval'], upper=rng['maxval'])\n",
    "        \n",
    "    # Count non-NaN measurements capped\n",
    "    num_capped = ((capped_values != data_final_df[feature]) * capped_values.notna()).sum()\n",
    "    \n",
    "    # Print features for which many values were capped\n",
    "    if num_capped > 500:\n",
    "        print(feature, num_capped)    \n",
    "    \n",
    "    data_final_df[feature] = capped_values"
   ]
  },
  {
   "cell_type": "markdown",
   "id": "9f4d64e4-6c6d-4c32-bf1d-04b396ec6483",
   "metadata": {},
   "source": [
    "## Outlier Removal\n",
    "\n",
    "From the EDA it was found that many features, if not all, exhibit some form of outliers. As this may affect the feature standardization and scaling, we will cap all measurements above (below) the 99th (1st) percentile."
   ]
  },
  {
   "cell_type": "code",
   "execution_count": 16,
   "id": "4be368b1-25f0-4ba7-912e-b29ff157028e",
   "metadata": {},
   "outputs": [],
   "source": [
    "# columns corresponding to features\n",
    "metadata = ['icustay_id', 'timestep', 'max_vaso', 'total_iv_fluid', 'reward', 'action']\n",
    "feature_cols = data_final_df.columns.difference(metadata)\n",
    "\n",
    "# min and max values in middle 99% of data\n",
    "min_val = data_final_df[feature_cols].quantile(0.01)\n",
    "max_val = data_final_df[feature_cols].quantile(0.99)\n",
    "\n",
    "# replace with 99th/1st quantile upper and lower bounds\n",
    "for f in feature_cols:\n",
    "    f_min = min_val[f]\n",
    "    f_max = max_val[f]\n",
    "    data_final_df.loc[data_final_df[f] < f_min, f] = f_min\n",
    "    data_final_df.loc[data_final_df[f] > f_max, f] = f_max"
   ]
  },
  {
   "cell_type": "markdown",
   "id": "1c0758a0-ae99-4b17-a9c3-a504e6157b50",
   "metadata": {},
   "source": [
    "## Exclude Zero-Drug Trajectories\n",
    "\n",
    "In the dataset there are many patient trajectories in which no treatment is given. Although reasonable to include from a clinical perspective such *zero-drug* trajectories cause major action imbalance, making it difficult for our agent to learn. As such, we will discard any such trajectories from the dataset (and keep some separate for evaluation if need be)"
   ]
  },
  {
   "cell_type": "code",
   "execution_count": 17,
   "id": "a3165d33-b03e-4857-862f-f6f83836d2a0",
   "metadata": {},
   "outputs": [
    {
     "name": "stdout",
     "output_type": "stream",
     "text": [
      "Admissions without treatment: 211 (0.9%)\n",
      "Admissions with treatment:    22895\n"
     ]
    }
   ],
   "source": [
    "# estimate zero-drug episodes over training set\n",
    "zerodrug_episodes = (data_final_df.groupby('icustay_id').action.max() == 0).sum()\n",
    "perc_zerodrug = 100 * (data_final_df.groupby('icustay_id').action.max() == 0).mean()\n",
    "print('Admissions without treatment: %d (%.1f%%)' % (zerodrug_episodes, perc_zerodrug))\n",
    "print('Admissions with treatment:    %d' % ((100 - perc_zerodrug) * zerodrug_episodes / perc_zerodrug))"
   ]
  },
  {
   "cell_type": "code",
   "execution_count": 18,
   "id": "125ab119-f5bb-4039-8b11-177080969942",
   "metadata": {},
   "outputs": [],
   "source": [
    "# list episodes where treatments are prescribed (i.e. some action > 0)\n",
    "has_treatment = data_final_df.groupby('icustay_id').action.max() > 0\n",
    "treatment_episodes = has_treatment.index[has_treatment]\n",
    "\n",
    "# limit dataset to these non-zero-drug episodes\n",
    "data_final_df = data_final_df[data_final_df.icustay_id.isin(treatment_episodes)].copy()"
   ]
  },
  {
   "cell_type": "code",
   "execution_count": 19,
   "id": "8324e619-a236-4a72-b875-41a23f180432",
   "metadata": {},
   "outputs": [
    {
     "name": "stdout",
     "output_type": "stream",
     "text": [
      "22895\n"
     ]
    }
   ],
   "source": [
    "print(len(data_final_df.icustay_id.unique()))"
   ]
  },
  {
   "cell_type": "code",
   "execution_count": 20,
   "id": "ba0dfb19-82cc-4c57-93ba-ec7c87baa90a",
   "metadata": {},
   "outputs": [
    {
     "data": {
      "image/png": "[encoded data removed]",
      "text/plain": [
       "<Figure size 432x288 with 1 Axes>"
      ]
     },
     "metadata": {
      "needs_background": "light"
     },
     "output_type": "display_data"
    }
   ],
   "source": [
    "data_final_df.action.hist(bins=25);"
   ]
  },
  {
   "cell_type": "markdown",
   "id": "658a4c77-0d72-468d-8684-f21b2be99937",
   "metadata": {},
   "source": [
    "## Exclude Admissions with insufficient chart data\n",
    "\n",
    "There are many admissions where no vital parameters of lab results were charted, nor any treatments were prescribed; We will filter out these admissions when the number of missing values exceeds 35% as our model relies on the existence of (at least some) data to base a decision on;"
   ]
  },
  {
   "cell_type": "code",
   "execution_count": 21,
   "id": "938eb061-86c1-4929-8726-ca15d2b80357",
   "metadata": {},
   "outputs": [
    {
     "name": "stdout",
     "output_type": "stream",
     "text": [
      "Number of admissions pre-filtering: 22895\n"
     ]
    }
   ],
   "source": [
    "print('Number of admissions pre-filtering:', len(data_final_df.icustay_id.unique()))"
   ]
  },
  {
   "cell_type": "code",
   "execution_count": 22,
   "id": "8966fbce-29b5-4cf0-8afc-646b77637436",
   "metadata": {},
   "outputs": [
    {
     "data": {
      "image/png": "[encoded data removed]",
      "text/plain": [
       "<Figure size 432x288 with 1 Axes>"
      ]
     },
     "metadata": {
      "needs_background": "light"
     },
     "output_type": "display_data"
    }
   ],
   "source": [
    "# Count for each admission the % of values missing values in features\n",
    "data_final_df['perc_missing'] = data_final_df[feature_cols].isnull().mean(axis=1)\n",
    "\n",
    "# for each admission, determine the minimum number of values missing over trajectory\n",
    "min_missing = data_final_df.groupby('icustay_id').perc_missing.min()\n",
    "\n",
    "# plot!\n",
    "min_missing.hist(bins=50)\n",
    "plt.plot([0.35, 0.35], [0, 2000], c='r', linestyle='--')\n",
    "plt.xlabel('Proportion missing')\n",
    "plt.ylabel('Frequency');"
   ]
  },
  {
   "cell_type": "code",
   "execution_count": 23,
   "id": "0beeb528-b727-4dc1-8207-80c3d32693b1",
   "metadata": {},
   "outputs": [],
   "source": [
    "# limit to admissions where the minimum number missing at at at least one timestep < 25%\n",
    "# i.e. is there an hour where we have at least 65% of the measurements measured?\n",
    "filtered_icustays = min_missing.index[min_missing < 0.35]\n",
    "\n",
    "data_final_df = data_final_df[data_final_df.icustay_id.isin(filtered_icustays)]"
   ]
  },
  {
   "cell_type": "code",
   "execution_count": 24,
   "id": "ea3a981f-67c7-463f-928d-515b7aaf40dd",
   "metadata": {},
   "outputs": [
    {
     "name": "stdout",
     "output_type": "stream",
     "text": [
      "Number of admissions after filtering: 16018\n"
     ]
    }
   ],
   "source": [
    "# How many admissions do we have left?\n",
    "print('Number of admissions after filtering:', len(filtered_icustays))"
   ]
  },
  {
   "cell_type": "markdown",
   "id": "947c1588-5893-4733-8ae1-62878fecf7fd",
   "metadata": {},
   "source": [
    "## Training, Validation and Test\n",
    "\n",
    "To train and test the model we need dedicated training, validation (e.g. for hyperparameter tuning) and test sets. We perform the splitting below;"
   ]
  },
  {
   "cell_type": "code",
   "execution_count": 25,
   "id": "4788ab65-e15b-4aa3-b122-beb97d13182d",
   "metadata": {},
   "outputs": [],
   "source": [
    "# For reproduction sake!\n",
    "random.seed(10)"
   ]
  },
  {
   "cell_type": "code",
   "execution_count": 26,
   "id": "3bede28a-7f14-42ad-aaf5-41a316ac24a1",
   "metadata": {},
   "outputs": [
    {
     "name": "stdout",
     "output_type": "stream",
     "text": [
      "Dataset instances:\n",
      "Train  11212\n",
      "Valid  1601\n",
      "Test   3205\n"
     ]
    }
   ],
   "source": [
    "# Specify fraction of ICU-stays for training, validation and testing\n",
    "frac_train = 0.7\n",
    "frac_valid = 0.1\n",
    "\n",
    "# Randomly assign icustay_ids to train, val and test\n",
    "icustay_ids = list(data_final_df['icustay_id'].unique())\n",
    "random.shuffle(icustay_ids)\n",
    "\n",
    "num_train = int(len(icustay_ids) * frac_train)\n",
    "num_valid = int(len(icustay_ids) * frac_valid)\n",
    "\n",
    "train_icustays = icustay_ids[:num_train]\n",
    "valid_icustays = icustay_ids[num_train:num_train + num_valid]\n",
    "test_icustays = icustay_ids[num_train + num_valid:]\n",
    "\n",
    "# Store train/valid/test icustay_ids\n",
    "np.savetxt(OUTPUT_DIR + '/icustay_ids_train.npy', train_icustays)\n",
    "np.savetxt(OUTPUT_DIR + '/icustay_ids_valid.npy', valid_icustays)\n",
    "np.savetxt(OUTPUT_DIR + '/icustay_ids_test.npy', test_icustays)\n",
    "\n",
    "print('Dataset instances:')\n",
    "print('Train  %s' % len(train_icustays))\n",
    "print('Valid  %s' % len(valid_icustays))\n",
    "print('Test   %s' % len(test_icustays))"
   ]
  },
  {
   "cell_type": "code",
   "execution_count": 27,
   "id": "76e4ec9a-c135-4bea-ba3e-95338a8e9a19",
   "metadata": {},
   "outputs": [
    {
     "name": "stdout",
     "output_type": "stream",
     "text": [
      "Done!\n"
     ]
    }
   ],
   "source": [
    "data_train_df = data_final_df[data_final_df['icustay_id'].isin(train_icustays)].reset_index(drop=True)\n",
    "data_valid_df = data_final_df[data_final_df['icustay_id'].isin(valid_icustays)].reset_index(drop=True)\n",
    "data_test_df = data_final_df[data_final_df['icustay_id'].isin(test_icustays)].reset_index(drop=True)\n",
    "print('Done!')"
   ]
  },
  {
   "cell_type": "markdown",
   "id": "f25910e7-1159-466b-b81b-dc0dc4b8d780",
   "metadata": {},
   "source": [
    "## Imputation\n",
    "\n",
    "### Forward-Filling Imputation\n",
    "\n",
    "Lab results are made very infrequently, therefore most timesteps will miss these values. We follow (Roggeveen et al., 2021) and use forward-filling (or Last-Value Carried Forward Imputations) to impute these missing values:"
   ]
  },
  {
   "cell_type": "code",
   "execution_count": 31,
   "id": "80d5eca3-a322-4fd4-a4e4-ed6afc1b614e",
   "metadata": {},
   "outputs": [
    {
     "data": {
      "image/png": "[encoded data removed]",
      "text/plain": [
       "<Figure size 720x216 with 1 Axes>"
      ]
     },
     "metadata": {
      "needs_background": "light"
     },
     "output_type": "display_data"
    }
   ],
   "source": [
    "icustay_id = plot_df(data_train_df, feature='ion_ca')"
   ]
  },
  {
   "cell_type": "markdown",
   "id": "79e4b6fa-ce3e-44a7-a7a2-17be2cdb1bb2",
   "metadata": {},
   "source": [
    " "
   ]
  },
  {
   "cell_type": "code",
   "execution_count": 34,
   "id": "ffc8c4ba-9013-4ba3-83b4-a122b290a68b",
   "metadata": {},
   "outputs": [],
   "source": [
    "# Columns corresponding to lab measurements\n",
    "FFILL_COLS = ['heart_rate', 'temp', 'mean_bp', 'dias_bp', 'sys_bp', 'resp_rate', 'spo2', 'natrium', 'chloride', 'kalium', 'trombo', \n",
    "              'leu', 'anion_gap', 'aptt', 'art_ph', 'asat', 'alat', 'bicarbonaat', 'art_be', 'ion_ca', 'lactate', 'paco2', 'pao2', \n",
    "              'fio2', 'sirs_bands', 'shock_index', 'hb', 'bilirubin', 'creatinine', 'ureum', 'albumin', 'magnesium', 'calcium', # 'inr'\n",
    "              'pf_ratio', 'glucose', 'svo2', 'd-dimer', 'hematocrit', 'running_total_urine_output', 'total_urine_output']\n",
    "\n",
    "assert all([c in data_train_df.columns for c in FFILL_COLS])"
   ]
  },
  {
   "cell_type": "code",
   "execution_count": 35,
   "id": "681707cc-b9a4-40ca-90fe-4b9022f33ec7",
   "metadata": {},
   "outputs": [],
   "source": [
    "for dataset in [data_train_df, data_valid_df, data_test_df]:\n",
    "    for col in FFILL_COLS:\n",
    "        dataset.loc[:, col] = dataset.groupby('icustay_id', sort=False)[col].ffill()"
   ]
  },
  {
   "cell_type": "markdown",
   "id": "fc798950-245b-42a1-b90f-c0584c869b8f",
   "metadata": {},
   "source": [
    " "
   ]
  },
  {
   "cell_type": "code",
   "execution_count": 36,
   "id": "7def56e7-f2ac-47cd-998f-0f14175ca375",
   "metadata": {},
   "outputs": [
    {
     "data": {
      "image/png": "[encoded data removed]",
      "text/plain": [
       "<Figure size 720x216 with 1 Axes>"
      ]
     },
     "metadata": {
      "needs_background": "light"
     },
     "output_type": "display_data"
    }
   ],
   "source": [
    "plot_df(data_train_df, feature='ion_ca', icustay_id=icustay_id);"
   ]
  },
  {
   "cell_type": "markdown",
   "id": "b7745e73-3758-4af0-a54d-c40dbdd7d32a",
   "metadata": {},
   "source": [
    " "
   ]
  },
  {
   "cell_type": "markdown",
   "id": "83ec124e-9ca2-437e-91a3-dcd7368fe5d7",
   "metadata": {},
   "source": [
    "### KNN Imputation\n",
    "Some points that are missing lie 'outside' of the recorded set of measurements (i.e. there is no point to the left or right) or multiple-adjacent values are missing -- to resolve these we need extrapolation. To this end, we use a kNN-based imputation with k=3 nearest neighbors within episode."
   ]
  },
  {
   "cell_type": "code",
   "execution_count": 37,
   "id": "35c29a56-0ead-4b65-ad48-cdedda7c14aa",
   "metadata": {},
   "outputs": [
    {
     "name": "stdout",
     "output_type": "stream",
     "text": [
      "Admission with all NaN columns: 0\n",
      "Missing: ['chloride', 'asat', 'alat', 'lactate', 'sirs_bands', 'bilirubin', 'ureum', 'd-dimer']\n"
     ]
    }
   ],
   "source": [
    "# Example of admissions with all NaNs in one column\n",
    "for icustay_id, example in data_train_df.groupby('icustay_id', sort=False):\n",
    "    if np.any(example.isna().all(axis=0)):\n",
    "        break\n",
    "        \n",
    "all_missing = example.isna().all(axis=0)\n",
    "print('Admission with all NaN columns:', icustay_id)\n",
    "print('Missing:', all_missing.index[all_missing].to_list())"
   ]
  },
  {
   "cell_type": "markdown",
   "id": "0bcfd871-87b5-451e-baff-c9a15e046aa1",
   "metadata": {},
   "source": [
    " "
   ]
  },
  {
   "cell_type": "code",
   "execution_count": 38,
   "id": "03398b4b-498c-4bd8-951f-32db42661c08",
   "metadata": {},
   "outputs": [],
   "source": [
    "# We define the field to be KNN imputed as the combined set of lab results and vitals\n",
    "IMPUTING_FIELDS = FFILL_COLS + ['running_total_iv_fluid_prev']"
   ]
  },
  {
   "cell_type": "code",
   "execution_count": 39,
   "id": "678b52a1-6449-4364-9d42-8073863480e6",
   "metadata": {},
   "outputs": [
    {
     "name": "stderr",
     "output_type": "stream",
     "text": [
      "100%|████████████████████████████████████████████████████████████████████████████| 11212/11212 [01:59<00:00, 94.10it/s]\n",
      "100%|██████████████████████████████████████████████████████████████████████████████| 1601/1601 [00:16<00:00, 95.14it/s]\n",
      "100%|██████████████████████████████████████████████████████████████████████████████| 3205/3205 [00:33<00:00, 95.34it/s]\n"
     ]
    },
    {
     "data": {
      "text/html": [
       "<div>\n",
       "<style scoped>\n",
       "    .dataframe tbody tr th:only-of-type {\n",
       "        vertical-align: middle;\n",
       "    }\n",
       "\n",
       "    .dataframe tbody tr th {\n",
       "        vertical-align: top;\n",
       "    }\n",
       "\n",
       "    .dataframe thead th {\n",
       "        text-align: right;\n",
       "    }\n",
       "</style>\n",
       "<table border=\"1\" class=\"dataframe\">\n",
       "  <thead>\n",
       "    <tr style=\"text-align: right;\">\n",
       "      <th></th>\n",
       "      <th>icustay_id</th>\n",
       "      <th>timestep</th>\n",
       "      <th>max_vaso</th>\n",
       "      <th>total_iv_fluid</th>\n",
       "      <th>reward</th>\n",
       "      <th>max_vaso_prev</th>\n",
       "      <th>total_iv_fluid_prev</th>\n",
       "      <th>sepsis_antibiotics</th>\n",
       "      <th>profyl_antibiotics</th>\n",
       "      <th>profyl_other</th>\n",
       "      <th>...</th>\n",
       "      <th>pf_ratio</th>\n",
       "      <th>glucose</th>\n",
       "      <th>svo2</th>\n",
       "      <th>d-dimer</th>\n",
       "      <th>hematocrit</th>\n",
       "      <th>running_total_urine_output</th>\n",
       "      <th>total_urine_output</th>\n",
       "      <th>running_total_iv_fluid_prev</th>\n",
       "      <th>action</th>\n",
       "      <th>perc_missing</th>\n",
       "    </tr>\n",
       "  </thead>\n",
       "  <tbody>\n",
       "    <tr>\n",
       "      <th>0</th>\n",
       "      <td>8</td>\n",
       "      <td>2022-11-23 16:04:54.935704</td>\n",
       "      <td>0.0</td>\n",
       "      <td>0.000000</td>\n",
       "      <td>0.0</td>\n",
       "      <td>0.0</td>\n",
       "      <td>0.0</td>\n",
       "      <td>0.0</td>\n",
       "      <td>0.0</td>\n",
       "      <td>0.0</td>\n",
       "      <td>...</td>\n",
       "      <td>122.857142</td>\n",
       "      <td>0.505050</td>\n",
       "      <td>0.99</td>\n",
       "      <td>NaN</td>\n",
       "      <td>0.28</td>\n",
       "      <td>0.0</td>\n",
       "      <td>0.0</td>\n",
       "      <td>0.0</td>\n",
       "      <td>0.0</td>\n",
       "      <td>0.709091</td>\n",
       "    </tr>\n",
       "    <tr>\n",
       "      <th>1</th>\n",
       "      <td>8</td>\n",
       "      <td>2022-11-23 17:04:54.935704</td>\n",
       "      <td>0.0</td>\n",
       "      <td>0.000000</td>\n",
       "      <td>0.0</td>\n",
       "      <td>0.0</td>\n",
       "      <td>0.0</td>\n",
       "      <td>0.0</td>\n",
       "      <td>0.0</td>\n",
       "      <td>0.0</td>\n",
       "      <td>...</td>\n",
       "      <td>122.857142</td>\n",
       "      <td>0.505050</td>\n",
       "      <td>0.99</td>\n",
       "      <td>NaN</td>\n",
       "      <td>0.28</td>\n",
       "      <td>0.0</td>\n",
       "      <td>0.0</td>\n",
       "      <td>0.0</td>\n",
       "      <td>0.0</td>\n",
       "      <td>0.690909</td>\n",
       "    </tr>\n",
       "    <tr>\n",
       "      <th>2</th>\n",
       "      <td>8</td>\n",
       "      <td>2022-11-23 18:04:54.935704</td>\n",
       "      <td>0.0</td>\n",
       "      <td>0.000000</td>\n",
       "      <td>0.0</td>\n",
       "      <td>0.0</td>\n",
       "      <td>0.0</td>\n",
       "      <td>0.0</td>\n",
       "      <td>0.0</td>\n",
       "      <td>0.0</td>\n",
       "      <td>...</td>\n",
       "      <td>122.857145</td>\n",
       "      <td>0.505511</td>\n",
       "      <td>0.99</td>\n",
       "      <td>NaN</td>\n",
       "      <td>0.28</td>\n",
       "      <td>0.0</td>\n",
       "      <td>0.0</td>\n",
       "      <td>0.0</td>\n",
       "      <td>0.0</td>\n",
       "      <td>0.672727</td>\n",
       "    </tr>\n",
       "    <tr>\n",
       "      <th>3</th>\n",
       "      <td>8</td>\n",
       "      <td>2022-11-23 19:04:54.935704</td>\n",
       "      <td>0.0</td>\n",
       "      <td>0.000000</td>\n",
       "      <td>0.0</td>\n",
       "      <td>0.0</td>\n",
       "      <td>0.0</td>\n",
       "      <td>0.0</td>\n",
       "      <td>1.0</td>\n",
       "      <td>0.0</td>\n",
       "      <td>...</td>\n",
       "      <td>122.857147</td>\n",
       "      <td>0.506441</td>\n",
       "      <td>0.99</td>\n",
       "      <td>NaN</td>\n",
       "      <td>0.28</td>\n",
       "      <td>0.0</td>\n",
       "      <td>0.0</td>\n",
       "      <td>0.0</td>\n",
       "      <td>0.0</td>\n",
       "      <td>0.509091</td>\n",
       "    </tr>\n",
       "    <tr>\n",
       "      <th>4</th>\n",
       "      <td>8</td>\n",
       "      <td>2022-11-23 20:04:54.935704</td>\n",
       "      <td>0.0</td>\n",
       "      <td>48.210953</td>\n",
       "      <td>0.0</td>\n",
       "      <td>0.0</td>\n",
       "      <td>0.0</td>\n",
       "      <td>0.0</td>\n",
       "      <td>0.0</td>\n",
       "      <td>0.0</td>\n",
       "      <td>...</td>\n",
       "      <td>122.857137</td>\n",
       "      <td>0.505050</td>\n",
       "      <td>0.99</td>\n",
       "      <td>NaN</td>\n",
       "      <td>0.28</td>\n",
       "      <td>0.0</td>\n",
       "      <td>0.0</td>\n",
       "      <td>0.0</td>\n",
       "      <td>10.0</td>\n",
       "      <td>0.236364</td>\n",
       "    </tr>\n",
       "  </tbody>\n",
       "</table>\n",
       "<p>5 rows × 62 columns</p>\n",
       "</div>"
      ],
      "text/plain": [
       "   icustay_id                    timestep  max_vaso  total_iv_fluid  reward  \\\n",
       "0           8  2022-11-23 16:04:54.935704       0.0        0.000000     0.0   \n",
       "1           8  2022-11-23 17:04:54.935704       0.0        0.000000     0.0   \n",
       "2           8  2022-11-23 18:04:54.935704       0.0        0.000000     0.0   \n",
       "3           8  2022-11-23 19:04:54.935704       0.0        0.000000     0.0   \n",
       "4           8  2022-11-23 20:04:54.935704       0.0       48.210953     0.0   \n",
       "\n",
       "   max_vaso_prev  total_iv_fluid_prev  sepsis_antibiotics  profyl_antibiotics  \\\n",
       "0            0.0                  0.0                 0.0                 0.0   \n",
       "1            0.0                  0.0                 0.0                 0.0   \n",
       "2            0.0                  0.0                 0.0                 0.0   \n",
       "3            0.0                  0.0                 0.0                 1.0   \n",
       "4            0.0                  0.0                 0.0                 0.0   \n",
       "\n",
       "   profyl_other  ...    pf_ratio   glucose  svo2  d-dimer  hematocrit  \\\n",
       "0           0.0  ...  122.857142  0.505050  0.99      NaN        0.28   \n",
       "1           0.0  ...  122.857142  0.505050  0.99      NaN        0.28   \n",
       "2           0.0  ...  122.857145  0.505511  0.99      NaN        0.28   \n",
       "3           0.0  ...  122.857147  0.506441  0.99      NaN        0.28   \n",
       "4           0.0  ...  122.857137  0.505050  0.99      NaN        0.28   \n",
       "\n",
       "   running_total_urine_output  total_urine_output  \\\n",
       "0                         0.0                 0.0   \n",
       "1                         0.0                 0.0   \n",
       "2                         0.0                 0.0   \n",
       "3                         0.0                 0.0   \n",
       "4                         0.0                 0.0   \n",
       "\n",
       "   running_total_iv_fluid_prev  action  perc_missing  \n",
       "0                          0.0     0.0      0.709091  \n",
       "1                          0.0     0.0      0.690909  \n",
       "2                          0.0     0.0      0.672727  \n",
       "3                          0.0     0.0      0.509091  \n",
       "4                          0.0    10.0      0.236364  \n",
       "\n",
       "[5 rows x 62 columns]"
      ]
     },
     "execution_count": 39,
     "metadata": {},
     "output_type": "execute_result"
    }
   ],
   "source": [
    "def impute_with_knn(dataset, imputing_fields):\n",
    "    X_result = []\n",
    "    for icustay_id, group_data in tqdm(dataset.groupby('icustay_id', sort=False), position=0, leave=True):\n",
    "        # Impute features using KNN\n",
    "        X_incomplete = group_data[imputing_fields]       \n",
    "        X_imputed = KNN(k=3, verbose=False).fit_transform(X_incomplete)\n",
    "        \n",
    "        # If the column is all NaNs, the KNN imputer sets these values to zeroes\n",
    "        # As median imputation is preferred in this case, we put back the NaNs for now\n",
    "        all_missing = X_incomplete.isna().all(axis=0).values\n",
    "        X_imputed[:, all_missing] = np.NaN\n",
    "        \n",
    "        X_result.append(X_imputed)\n",
    "                \n",
    "    # Concatenate into large ndarray\n",
    "    X_result = np.concatenate(X_result, axis=0)\n",
    "    \n",
    "    # Fill in DataFrame feature-by-feature\n",
    "    for i, f in enumerate(imputing_fields):\n",
    "        dataset.loc[:, f] = X_result[:, i]\n",
    "    return dataset\n",
    "\n",
    "data_train_df = impute_with_knn(data_train_df, IMPUTING_FIELDS)\n",
    "data_valid_df = impute_with_knn(data_valid_df, IMPUTING_FIELDS)\n",
    "data_test_df = impute_with_knn(data_test_df, IMPUTING_FIELDS)\n",
    "\n",
    "data_valid_df.head()"
   ]
  },
  {
   "cell_type": "markdown",
   "id": "1f60d9ae-ced2-47d7-a592-a7957c8bd27b",
   "metadata": {},
   "source": [
    "### Median Imputation\n",
    "\n",
    "If for a given admission no data was charted at all for a certain feature within an admission, we fall back on imputation using the median of respective feature in the training set (we use the median, not the mean, as the data has some positive or negative skew, see histograms below);"
   ]
  },
  {
   "cell_type": "code",
   "execution_count": 40,
   "id": "3dc98956-8edf-4752-b3d3-d4b287bd24ce",
   "metadata": {},
   "outputs": [
    {
     "data": {
      "text/html": [
       "<div>\n",
       "<style scoped>\n",
       "    .dataframe tbody tr th:only-of-type {\n",
       "        vertical-align: middle;\n",
       "    }\n",
       "\n",
       "    .dataframe tbody tr th {\n",
       "        vertical-align: top;\n",
       "    }\n",
       "\n",
       "    .dataframe thead th {\n",
       "        text-align: right;\n",
       "    }\n",
       "</style>\n",
       "<table border=\"1\" class=\"dataframe\">\n",
       "  <thead>\n",
       "    <tr style=\"text-align: right;\">\n",
       "      <th></th>\n",
       "      <th>icustay_id</th>\n",
       "      <th>timestep</th>\n",
       "      <th>max_vaso</th>\n",
       "      <th>total_iv_fluid</th>\n",
       "      <th>reward</th>\n",
       "      <th>max_vaso_prev</th>\n",
       "      <th>total_iv_fluid_prev</th>\n",
       "      <th>sepsis_antibiotics</th>\n",
       "      <th>profyl_antibiotics</th>\n",
       "      <th>profyl_other</th>\n",
       "      <th>...</th>\n",
       "      <th>pf_ratio</th>\n",
       "      <th>glucose</th>\n",
       "      <th>svo2</th>\n",
       "      <th>d-dimer</th>\n",
       "      <th>hematocrit</th>\n",
       "      <th>running_total_urine_output</th>\n",
       "      <th>total_urine_output</th>\n",
       "      <th>running_total_iv_fluid_prev</th>\n",
       "      <th>action</th>\n",
       "      <th>perc_missing</th>\n",
       "    </tr>\n",
       "  </thead>\n",
       "  <tbody>\n",
       "    <tr>\n",
       "      <th>0</th>\n",
       "      <td>8</td>\n",
       "      <td>2022-11-23 16:04:54.935704</td>\n",
       "      <td>0.0</td>\n",
       "      <td>0.000000</td>\n",
       "      <td>0.0</td>\n",
       "      <td>0.0</td>\n",
       "      <td>0.0</td>\n",
       "      <td>0.0</td>\n",
       "      <td>0.0</td>\n",
       "      <td>0.0</td>\n",
       "      <td>...</td>\n",
       "      <td>122.857142</td>\n",
       "      <td>0.505050</td>\n",
       "      <td>0.99</td>\n",
       "      <td>3.07</td>\n",
       "      <td>0.28</td>\n",
       "      <td>0.0</td>\n",
       "      <td>0.0</td>\n",
       "      <td>0.0</td>\n",
       "      <td>0.0</td>\n",
       "      <td>0.709091</td>\n",
       "    </tr>\n",
       "    <tr>\n",
       "      <th>1</th>\n",
       "      <td>8</td>\n",
       "      <td>2022-11-23 17:04:54.935704</td>\n",
       "      <td>0.0</td>\n",
       "      <td>0.000000</td>\n",
       "      <td>0.0</td>\n",
       "      <td>0.0</td>\n",
       "      <td>0.0</td>\n",
       "      <td>0.0</td>\n",
       "      <td>0.0</td>\n",
       "      <td>0.0</td>\n",
       "      <td>...</td>\n",
       "      <td>122.857142</td>\n",
       "      <td>0.505050</td>\n",
       "      <td>0.99</td>\n",
       "      <td>3.07</td>\n",
       "      <td>0.28</td>\n",
       "      <td>0.0</td>\n",
       "      <td>0.0</td>\n",
       "      <td>0.0</td>\n",
       "      <td>0.0</td>\n",
       "      <td>0.690909</td>\n",
       "    </tr>\n",
       "    <tr>\n",
       "      <th>2</th>\n",
       "      <td>8</td>\n",
       "      <td>2022-11-23 18:04:54.935704</td>\n",
       "      <td>0.0</td>\n",
       "      <td>0.000000</td>\n",
       "      <td>0.0</td>\n",
       "      <td>0.0</td>\n",
       "      <td>0.0</td>\n",
       "      <td>0.0</td>\n",
       "      <td>0.0</td>\n",
       "      <td>0.0</td>\n",
       "      <td>...</td>\n",
       "      <td>122.857145</td>\n",
       "      <td>0.505511</td>\n",
       "      <td>0.99</td>\n",
       "      <td>3.07</td>\n",
       "      <td>0.28</td>\n",
       "      <td>0.0</td>\n",
       "      <td>0.0</td>\n",
       "      <td>0.0</td>\n",
       "      <td>0.0</td>\n",
       "      <td>0.672727</td>\n",
       "    </tr>\n",
       "    <tr>\n",
       "      <th>3</th>\n",
       "      <td>8</td>\n",
       "      <td>2022-11-23 19:04:54.935704</td>\n",
       "      <td>0.0</td>\n",
       "      <td>0.000000</td>\n",
       "      <td>0.0</td>\n",
       "      <td>0.0</td>\n",
       "      <td>0.0</td>\n",
       "      <td>0.0</td>\n",
       "      <td>1.0</td>\n",
       "      <td>0.0</td>\n",
       "      <td>...</td>\n",
       "      <td>122.857147</td>\n",
       "      <td>0.506441</td>\n",
       "      <td>0.99</td>\n",
       "      <td>3.07</td>\n",
       "      <td>0.28</td>\n",
       "      <td>0.0</td>\n",
       "      <td>0.0</td>\n",
       "      <td>0.0</td>\n",
       "      <td>0.0</td>\n",
       "      <td>0.509091</td>\n",
       "    </tr>\n",
       "    <tr>\n",
       "      <th>4</th>\n",
       "      <td>8</td>\n",
       "      <td>2022-11-23 20:04:54.935704</td>\n",
       "      <td>0.0</td>\n",
       "      <td>48.210953</td>\n",
       "      <td>0.0</td>\n",
       "      <td>0.0</td>\n",
       "      <td>0.0</td>\n",
       "      <td>0.0</td>\n",
       "      <td>0.0</td>\n",
       "      <td>0.0</td>\n",
       "      <td>...</td>\n",
       "      <td>122.857137</td>\n",
       "      <td>0.505050</td>\n",
       "      <td>0.99</td>\n",
       "      <td>3.07</td>\n",
       "      <td>0.28</td>\n",
       "      <td>0.0</td>\n",
       "      <td>0.0</td>\n",
       "      <td>0.0</td>\n",
       "      <td>10.0</td>\n",
       "      <td>0.236364</td>\n",
       "    </tr>\n",
       "  </tbody>\n",
       "</table>\n",
       "<p>5 rows × 62 columns</p>\n",
       "</div>"
      ],
      "text/plain": [
       "   icustay_id                    timestep  max_vaso  total_iv_fluid  reward  \\\n",
       "0           8  2022-11-23 16:04:54.935704       0.0        0.000000     0.0   \n",
       "1           8  2022-11-23 17:04:54.935704       0.0        0.000000     0.0   \n",
       "2           8  2022-11-23 18:04:54.935704       0.0        0.000000     0.0   \n",
       "3           8  2022-11-23 19:04:54.935704       0.0        0.000000     0.0   \n",
       "4           8  2022-11-23 20:04:54.935704       0.0       48.210953     0.0   \n",
       "\n",
       "   max_vaso_prev  total_iv_fluid_prev  sepsis_antibiotics  profyl_antibiotics  \\\n",
       "0            0.0                  0.0                 0.0                 0.0   \n",
       "1            0.0                  0.0                 0.0                 0.0   \n",
       "2            0.0                  0.0                 0.0                 0.0   \n",
       "3            0.0                  0.0                 0.0                 1.0   \n",
       "4            0.0                  0.0                 0.0                 0.0   \n",
       "\n",
       "   profyl_other  ...    pf_ratio   glucose  svo2  d-dimer  hematocrit  \\\n",
       "0           0.0  ...  122.857142  0.505050  0.99     3.07        0.28   \n",
       "1           0.0  ...  122.857142  0.505050  0.99     3.07        0.28   \n",
       "2           0.0  ...  122.857145  0.505511  0.99     3.07        0.28   \n",
       "3           0.0  ...  122.857147  0.506441  0.99     3.07        0.28   \n",
       "4           0.0  ...  122.857137  0.505050  0.99     3.07        0.28   \n",
       "\n",
       "   running_total_urine_output  total_urine_output  \\\n",
       "0                         0.0                 0.0   \n",
       "1                         0.0                 0.0   \n",
       "2                         0.0                 0.0   \n",
       "3                         0.0                 0.0   \n",
       "4                         0.0                 0.0   \n",
       "\n",
       "   running_total_iv_fluid_prev  action  perc_missing  \n",
       "0                          0.0     0.0      0.709091  \n",
       "1                          0.0     0.0      0.690909  \n",
       "2                          0.0     0.0      0.672727  \n",
       "3                          0.0     0.0      0.509091  \n",
       "4                          0.0    10.0      0.236364  \n",
       "\n",
       "[5 rows x 62 columns]"
      ]
     },
     "execution_count": 40,
     "metadata": {},
     "output_type": "execute_result"
    }
   ],
   "source": [
    "data_train_df = data_train_df.fillna(data_train_df.median(numeric_only=True))\n",
    "data_valid_df = data_valid_df.fillna(data_train_df.median(numeric_only=True))\n",
    "data_test_df = data_test_df.fillna(data_train_df.median(numeric_only=True))\n",
    "\n",
    "data_valid_df.head()"
   ]
  },
  {
   "cell_type": "code",
   "execution_count": 41,
   "id": "92794727-e7c8-4e6f-b4e2-c1a79b509c1d",
   "metadata": {},
   "outputs": [],
   "source": [
    "# sanity check\n",
    "assert np.all(data_train_df.notna())"
   ]
  },
  {
   "cell_type": "markdown",
   "id": "2eb8bf87-deb2-4171-86d7-addded5a5ff2",
   "metadata": {},
   "source": [
    " "
   ]
  },
  {
   "cell_type": "markdown",
   "id": "e6d5088c-19d2-4da1-978c-46412b91a218",
   "metadata": {},
   "source": [
    "## Feature Standardization\n",
    "To satisfy the input assumptions of neural networks, we standardize the input features to be centered and approximately (unit) normal. To this end, we perform various transformations (e.g. log/exp transformations) to standardize the data. These transformations are guided by the value distributions seen in the [exploratory data analysis](https://github.com/thomas097/Haemodynamic-Optimization-Reinforcement-Learning/tree/main/exploratory_analysis) (EDA); for completeness, we plot the distribution of our features here again."
   ]
  },
  {
   "cell_type": "code",
   "execution_count": 42,
   "id": "60e7cc9c-772a-4545-8283-4235e210515d",
   "metadata": {},
   "outputs": [
    {
     "data": {
      "image/png": "[encoded data removed]",
      "text/plain": [
       "<Figure size 1440x1440 with 56 Axes>"
      ]
     },
     "metadata": {
      "needs_background": "light"
     },
     "output_type": "display_data"
    }
   ],
   "source": [
    "data_train_df[feature_cols].hist(figsize=(20, 20), bins=40);"
   ]
  },
  {
   "cell_type": "code",
   "execution_count": 43,
   "id": "22ed9e47-d2be-4f5f-ab87-bb6ec91b5b13",
   "metadata": {},
   "outputs": [],
   "source": [
    "BINARY_FIELDS = ['ventilator', 'gender', 'elective', 'is_sepsis', 'sepsis_antibiotics', 'profyl_antibiotics', 'profyl_others']\n",
    "\n",
    "# features with positive/right skew\n",
    "LOG_FIELDS = ['alat', 'asat', 'aptt', 'bilirubin', 'creatinine', 'lactate', 'max_vaso_prev', 'total_iv_fluid_prev', \n",
    "              'total_urine_output', 'running_total_iv_fluid_prev', 'running_total_urine_output', 'ureum', 'sirs_bands'] # 'inr'\n",
    "\n",
    "# features with negative/left skew\n",
    "EXP_FIELDS = ['art_ph', 'spo2', 'svo2']\n",
    "\n",
    "# we scale inputs to exp to prevent exponential blow-up\n",
    "# the parameters below were found empirically\n",
    "EXP_SCALE = {\n",
    "    'art_ph': 0.75,\n",
    "    'spo2': 6,\n",
    "    'svo2': 0.25,\n",
    "}\n",
    "\n",
    "EXCLUDE = ['icustay_id', 'timestep', 'reward', 'action', 'max_vaso', 'total_iv_fluid']"
   ]
  },
  {
   "cell_type": "markdown",
   "id": "33cce673-0875-44c8-b12a-7c529f122659",
   "metadata": {},
   "source": [
    "### Z-scoring and Log-Transformation"
   ]
  },
  {
   "cell_type": "code",
   "execution_count": 44,
   "id": "9d0203cc-6594-4682-8da0-efea2dc1a655",
   "metadata": {},
   "outputs": [],
   "source": [
    "def log_transform(x):\n",
    "    return np.log(x + 1)\n",
    "\n",
    "def exp_transform(x, scale):\n",
    "    return np.exp(x / scale)\n",
    "\n",
    "def zscore(x, mean, stdev):\n",
    "    return (x - mean) / stdev"
   ]
  },
  {
   "cell_type": "code",
   "execution_count": 45,
   "id": "ef8cfe43-db9d-48b9-84dd-da6f865d2424",
   "metadata": {},
   "outputs": [
    {
     "name": "stderr",
     "output_type": "stream",
     "text": [
      "100%|██████████████████████████████████████████████████████████████████████████████████| 55/55 [00:00<00:00, 61.79it/s]\n",
      "100%|█████████████████████████████████████████████████████████████████████████████████| 55/55 [00:00<00:00, 452.47it/s]\n",
      "100%|█████████████████████████████████████████████████████████████████████████████████| 55/55 [00:00<00:00, 195.35it/s]"
     ]
    },
    {
     "name": "stdout",
     "output_type": "stream",
     "text": [
      "Done!\n"
     ]
    },
    {
     "name": "stderr",
     "output_type": "stream",
     "text": [
      "\n"
     ]
    }
   ],
   "source": [
    "# Estimate feature means & stdevs from training set\n",
    "# taking into account subsequent transformation with log/exp\n",
    "params = dict()\n",
    "for f in feature_cols:\n",
    "    if f in EXP_FIELDS:\n",
    "        # exp transform\n",
    "        x = exp_transform(data_train_df[f], scale=EXP_SCALE[f])\n",
    "    elif f in LOG_FIELDS:\n",
    "        # log transform\n",
    "        x = log_transform(data_train_df[f])\n",
    "    else:\n",
    "        x = data_train_df[f]\n",
    "        \n",
    "    params[f] = (x.mean(), x.std())\n",
    "\n",
    "# Perform stndardization with values from data_train_df\n",
    "for df in [data_train_df, data_valid_df, data_test_df]:\n",
    "    for f in tqdm(feature_cols):\n",
    "        if f in BINARY_FIELDS:\n",
    "            # Centering\n",
    "            df.loc[:, f] = df[f] - 0.5  \n",
    "        elif f in EXP_FIELDS:\n",
    "            # Exp-transform + z-scoring\n",
    "            factor = EXP_SCALE[f]\n",
    "            df.loc[:, f] = zscore(exp_transform(df[f], scale=factor), *params[f])\n",
    "        elif f in LOG_FIELDS:\n",
    "            # Log-transform + z-scoring\n",
    "            df.loc[:, f] = zscore(log_transform(df[f]), *params[f])\n",
    "        else:\n",
    "            # Z-scoring\n",
    "            df.loc[:, f] = zscore(df[f], *params[f])\n",
    "                \n",
    "print('Done!')"
   ]
  },
  {
   "cell_type": "code",
   "execution_count": 46,
   "id": "df05d370-7475-440a-8f19-3923935f9941",
   "metadata": {},
   "outputs": [
    {
     "data": {
      "image/png": "[encoded data removed]",
      "text/plain": [
       "<Figure size 1440x1440 with 56 Axes>"
      ]
     },
     "metadata": {
      "needs_background": "light"
     },
     "output_type": "display_data"
    }
   ],
   "source": [
    "data_train_df[feature_cols].hist(figsize=(20, 20), bins=40);"
   ]
  },
  {
   "cell_type": "markdown",
   "id": "235207c5-a906-4bf0-881b-413a5878614c",
   "metadata": {},
   "source": [
    "## Rename Columns to `X*`\n",
    "\n",
    "In the source code we may wish to refer to the list of features without defining the names of the features each time, i.e. `['heart_rate', 'albumin', 'leu', 'resp_rate', 'fio2', ...]` etc. Much easier is to simply refer to the columns as `x0` to `x49` which we can create procedurally. Below we will define a mapping from state-space features to their `x*`equivalents;"
   ]
  },
  {
   "cell_type": "code",
   "execution_count": 47,
   "id": "581b334f-f869-42ea-b041-28522337de58",
   "metadata": {},
   "outputs": [],
   "source": [
    "STATE_SPACE_COLUMNS = ['max_vaso_prev', 'total_iv_fluid_prev', 'sepsis_antibiotics', 'profyl_antibiotics', 'profyl_other', \n",
    "                       'ventilator', 'sirs_score', 'sofa_score', 'weight', 'height', 'age', 'gender', 'elective', 'is_sepsis', \n",
    "                       'heart_rate', 'temp', 'mean_bp', 'dias_bp', 'sys_bp', 'resp_rate', 'spo2', 'natrium', 'chloride', \n",
    "                       'kalium', 'trombo', 'leu', 'anion_gap', 'aptt', 'art_ph', 'asat', 'alat', 'bicarbonaat', 'art_be',\n",
    "                       'ion_ca', 'lactate', 'paco2', 'pao2', 'fio2', 'sirs_bands', 'shock_index', 'hb', 'bilirubin', # 'inr'\n",
    "                       'creatinine', 'ureum', 'albumin', 'magnesium', 'calcium', 'pf_ratio', 'glucose', 'svo2', 'd-dimer',\n",
    "                       'hematocrit', 'running_total_urine_output', 'total_urine_output', 'running_total_iv_fluid_prev']\n",
    "\n",
    "# Check if all features in `data_train_df`\n",
    "for col in STATE_SPACE_COLUMNS:\n",
    "    if col not in data_train_df:\n",
    "        raise Exception('%s not in data_train_df' % col)\n",
    "\n",
    "# Write out file for later reference\n",
    "with open(OUTPUT_DIR + '/state_space_features.txt', 'w') as f:\n",
    "    for col in STATE_SPACE_COLUMNS:\n",
    "        f.write(\"%s\\n\" % col)"
   ]
  },
  {
   "cell_type": "code",
   "execution_count": 48,
   "id": "4069132a-63d3-479e-a685-eee1343f9101",
   "metadata": {},
   "outputs": [],
   "source": [
    "# Create x* name for each column\n",
    "new_state_space_columns = {feat:'x%s' % i for i, feat in enumerate(STATE_SPACE_COLUMNS)}\n",
    "\n",
    "# Replace 'icustay_id' by 'episode'\n",
    "new_state_space_columns['icustay_id'] = 'episode'\n",
    "\n",
    "# Rename columns\n",
    "data_train_df = data_train_df.rename(columns=new_state_space_columns)\n",
    "data_valid_df = data_valid_df.rename(columns=new_state_space_columns)\n",
    "data_test_df = data_test_df.rename(columns=new_state_space_columns)"
   ]
  },
  {
   "cell_type": "code",
   "execution_count": 49,
   "id": "ce03d4e5-31e1-4304-b04a-e818f8d0c52d",
   "metadata": {},
   "outputs": [
    {
     "data": {
      "text/plain": [
       "Index(['episode', 'timestep', 'max_vaso', 'total_iv_fluid', 'reward', 'x0',\n",
       "       'x1', 'x2', 'x3', 'x4', 'x5', 'x6', 'x7', 'x8', 'x9', 'x10', 'x11',\n",
       "       'x12', 'x13', 'x14', 'x15', 'x16', 'x17', 'x18', 'x19', 'x20', 'x21',\n",
       "       'x22', 'x23', 'x24', 'x25', 'x26', 'x27', 'x28', 'x29', 'x30', 'x31',\n",
       "       'x32', 'x33', 'x34', 'x35', 'x36', 'x37', 'x38', 'x39', 'x40', 'x41',\n",
       "       'x42', 'x43', 'x44', 'x45', 'x46', 'x47', 'x48', 'x49', 'x50', 'x51',\n",
       "       'x52', 'x53', 'x54', 'action', 'perc_missing'],\n",
       "      dtype='object')"
      ]
     },
     "execution_count": 49,
     "metadata": {},
     "output_type": "execute_result"
    }
   ],
   "source": [
    "data_train_df.columns"
   ]
  },
  {
   "cell_type": "markdown",
   "id": "7f57697e-3fe8-4d12-bdda-537619a98b6f",
   "metadata": {},
   "source": [
    "## Exclude Impossible Actions\n",
    "\n",
    "Just in case there are any, drop instances where no IV fluids are given but vasopressor is administered (actions 0-4). This should not be possible as vasopressors are, in fact, fluids themselves!"
   ]
  },
  {
   "cell_type": "code",
   "execution_count": 50,
   "id": "2fc514fe-9119-4edc-9d84-09811dd7dec8",
   "metadata": {},
   "outputs": [],
   "source": [
    "DISALLOWED_ACTIONS = [1, 2, 3, 4]"
   ]
  },
  {
   "cell_type": "code",
   "execution_count": 51,
   "id": "492725ee-66e6-4850-ad3e-f2893e2d0cba",
   "metadata": {},
   "outputs": [
    {
     "name": "stdout",
     "output_type": "stream",
     "text": [
      "Dropping 674\n",
      "Dropping 98\n",
      "Dropping 221\n"
     ]
    }
   ],
   "source": [
    "for dataset in [data_train_df, data_valid_df, data_test_df]:\n",
    "    not_allowed = dataset.action.isin(DISALLOWED_ACTIONS)\n",
    "    print('Dropping', np.sum(not_allowed))\n",
    "    dataset.loc[not_allowed, 'action'] = 0"
   ]
  },
  {
   "cell_type": "code",
   "execution_count": 52,
   "id": "0043112b-17e1-496d-bd72-48e8c30c2ec6",
   "metadata": {},
   "outputs": [
    {
     "data": {
      "text/plain": [
       "0"
      ]
     },
     "execution_count": 52,
     "metadata": {},
     "output_type": "execute_result"
    }
   ],
   "source": [
    "# How many 1's are still in the training dataset?\n",
    "np.sum(data_train_df.action == 1)"
   ]
  },
  {
   "cell_type": "markdown",
   "id": "b4c2345f-fa7c-4f0c-a608-cd2d8c7b7fd7",
   "metadata": {},
   "source": [
    "## Drop Excess States\n",
    "\n",
    "In the dataset we try to include as much of the patient trajectory within the first 72 hours of an admission. However, admissions are often (but not always) shorter than 72 hours, causing empty states to occur where no data was recorded (i.e. the patient was likely already transferred to another ward or at home). As these states offer little use for training and evaluation we drop these states from our dataset indicating states that span beyond the admission."
   ]
  },
  {
   "cell_type": "code",
   "execution_count": 53,
   "id": "cf04bb16-730c-46c6-918c-6dece7215dce",
   "metadata": {},
   "outputs": [
    {
     "data": {
      "text/html": [
       "<div>\n",
       "<style scoped>\n",
       "    .dataframe tbody tr th:only-of-type {\n",
       "        vertical-align: middle;\n",
       "    }\n",
       "\n",
       "    .dataframe tbody tr th {\n",
       "        vertical-align: top;\n",
       "    }\n",
       "\n",
       "    .dataframe thead th {\n",
       "        text-align: right;\n",
       "    }\n",
       "</style>\n",
       "<table border=\"1\" class=\"dataframe\">\n",
       "  <thead>\n",
       "    <tr style=\"text-align: right;\">\n",
       "      <th></th>\n",
       "      <th>episode</th>\n",
       "      <th>timestep</th>\n",
       "      <th>max_vaso</th>\n",
       "      <th>total_iv_fluid</th>\n",
       "      <th>reward</th>\n",
       "      <th>x0</th>\n",
       "      <th>x1</th>\n",
       "      <th>x2</th>\n",
       "      <th>x3</th>\n",
       "      <th>x4</th>\n",
       "      <th>...</th>\n",
       "      <th>x47</th>\n",
       "      <th>x48</th>\n",
       "      <th>x49</th>\n",
       "      <th>x50</th>\n",
       "      <th>x51</th>\n",
       "      <th>x52</th>\n",
       "      <th>x53</th>\n",
       "      <th>x54</th>\n",
       "      <th>action</th>\n",
       "      <th>perc_missing</th>\n",
       "    </tr>\n",
       "  </thead>\n",
       "  <tbody>\n",
       "    <tr>\n",
       "      <th>0</th>\n",
       "      <td>8</td>\n",
       "      <td>2022-11-23 16:04:54.935704</td>\n",
       "      <td>0.0</td>\n",
       "      <td>0.000000</td>\n",
       "      <td>0.0</td>\n",
       "      <td>-0.330376</td>\n",
       "      <td>-1.142876</td>\n",
       "      <td>-0.5</td>\n",
       "      <td>-0.5</td>\n",
       "      <td>-0.160893</td>\n",
       "      <td>...</td>\n",
       "      <td>0.063486</td>\n",
       "      <td>0.553154</td>\n",
       "      <td>0.659963</td>\n",
       "      <td>-0.041252</td>\n",
       "      <td>-0.192647</td>\n",
       "      <td>-4.689616</td>\n",
       "      <td>-0.814239</td>\n",
       "      <td>-5.219881</td>\n",
       "      <td>0.0</td>\n",
       "      <td>0.709091</td>\n",
       "    </tr>\n",
       "    <tr>\n",
       "      <th>1</th>\n",
       "      <td>8</td>\n",
       "      <td>2022-11-23 17:04:54.935704</td>\n",
       "      <td>0.0</td>\n",
       "      <td>0.000000</td>\n",
       "      <td>0.0</td>\n",
       "      <td>-0.330376</td>\n",
       "      <td>-1.142876</td>\n",
       "      <td>-0.5</td>\n",
       "      <td>-0.5</td>\n",
       "      <td>-0.160893</td>\n",
       "      <td>...</td>\n",
       "      <td>0.063486</td>\n",
       "      <td>0.553154</td>\n",
       "      <td>0.659963</td>\n",
       "      <td>-0.041252</td>\n",
       "      <td>-0.192647</td>\n",
       "      <td>-4.689616</td>\n",
       "      <td>-0.814239</td>\n",
       "      <td>-5.219881</td>\n",
       "      <td>0.0</td>\n",
       "      <td>0.690909</td>\n",
       "    </tr>\n",
       "    <tr>\n",
       "      <th>2</th>\n",
       "      <td>8</td>\n",
       "      <td>2022-11-23 18:04:54.935704</td>\n",
       "      <td>0.0</td>\n",
       "      <td>0.000000</td>\n",
       "      <td>0.0</td>\n",
       "      <td>-0.330376</td>\n",
       "      <td>-1.142876</td>\n",
       "      <td>-0.5</td>\n",
       "      <td>-0.5</td>\n",
       "      <td>-0.160893</td>\n",
       "      <td>...</td>\n",
       "      <td>0.063486</td>\n",
       "      <td>0.556971</td>\n",
       "      <td>0.659964</td>\n",
       "      <td>-0.041252</td>\n",
       "      <td>-0.192647</td>\n",
       "      <td>-4.689616</td>\n",
       "      <td>-0.814239</td>\n",
       "      <td>-5.219881</td>\n",
       "      <td>0.0</td>\n",
       "      <td>0.672727</td>\n",
       "    </tr>\n",
       "    <tr>\n",
       "      <th>3</th>\n",
       "      <td>8</td>\n",
       "      <td>2022-11-23 19:04:54.935704</td>\n",
       "      <td>0.0</td>\n",
       "      <td>0.000000</td>\n",
       "      <td>0.0</td>\n",
       "      <td>-0.330376</td>\n",
       "      <td>-1.142876</td>\n",
       "      <td>-0.5</td>\n",
       "      <td>0.5</td>\n",
       "      <td>-0.160893</td>\n",
       "      <td>...</td>\n",
       "      <td>0.063486</td>\n",
       "      <td>0.564664</td>\n",
       "      <td>0.659963</td>\n",
       "      <td>-0.041252</td>\n",
       "      <td>-0.192647</td>\n",
       "      <td>-4.689616</td>\n",
       "      <td>-0.814239</td>\n",
       "      <td>-5.219881</td>\n",
       "      <td>0.0</td>\n",
       "      <td>0.509091</td>\n",
       "    </tr>\n",
       "    <tr>\n",
       "      <th>4</th>\n",
       "      <td>8</td>\n",
       "      <td>2022-11-23 20:04:54.935704</td>\n",
       "      <td>0.0</td>\n",
       "      <td>48.210953</td>\n",
       "      <td>0.0</td>\n",
       "      <td>-0.330376</td>\n",
       "      <td>-1.142876</td>\n",
       "      <td>-0.5</td>\n",
       "      <td>-0.5</td>\n",
       "      <td>-0.160893</td>\n",
       "      <td>...</td>\n",
       "      <td>0.063486</td>\n",
       "      <td>0.553154</td>\n",
       "      <td>0.659963</td>\n",
       "      <td>-0.041252</td>\n",
       "      <td>-0.192647</td>\n",
       "      <td>-4.689616</td>\n",
       "      <td>-0.814239</td>\n",
       "      <td>-5.219881</td>\n",
       "      <td>10.0</td>\n",
       "      <td>0.236364</td>\n",
       "    </tr>\n",
       "  </tbody>\n",
       "</table>\n",
       "<p>5 rows × 62 columns</p>\n",
       "</div>"
      ],
      "text/plain": [
       "   episode                    timestep  max_vaso  total_iv_fluid  reward  \\\n",
       "0        8  2022-11-23 16:04:54.935704       0.0        0.000000     0.0   \n",
       "1        8  2022-11-23 17:04:54.935704       0.0        0.000000     0.0   \n",
       "2        8  2022-11-23 18:04:54.935704       0.0        0.000000     0.0   \n",
       "3        8  2022-11-23 19:04:54.935704       0.0        0.000000     0.0   \n",
       "4        8  2022-11-23 20:04:54.935704       0.0       48.210953     0.0   \n",
       "\n",
       "         x0        x1   x2   x3        x4  ...       x47       x48       x49  \\\n",
       "0 -0.330376 -1.142876 -0.5 -0.5 -0.160893  ...  0.063486  0.553154  0.659963   \n",
       "1 -0.330376 -1.142876 -0.5 -0.5 -0.160893  ...  0.063486  0.553154  0.659963   \n",
       "2 -0.330376 -1.142876 -0.5 -0.5 -0.160893  ...  0.063486  0.556971  0.659964   \n",
       "3 -0.330376 -1.142876 -0.5  0.5 -0.160893  ...  0.063486  0.564664  0.659963   \n",
       "4 -0.330376 -1.142876 -0.5 -0.5 -0.160893  ...  0.063486  0.553154  0.659963   \n",
       "\n",
       "        x50       x51       x52       x53       x54  action  perc_missing  \n",
       "0 -0.041252 -0.192647 -4.689616 -0.814239 -5.219881     0.0      0.709091  \n",
       "1 -0.041252 -0.192647 -4.689616 -0.814239 -5.219881     0.0      0.690909  \n",
       "2 -0.041252 -0.192647 -4.689616 -0.814239 -5.219881     0.0      0.672727  \n",
       "3 -0.041252 -0.192647 -4.689616 -0.814239 -5.219881     0.0      0.509091  \n",
       "4 -0.041252 -0.192647 -4.689616 -0.814239 -5.219881    10.0      0.236364  \n",
       "\n",
       "[5 rows x 62 columns]"
      ]
     },
     "execution_count": 53,
     "metadata": {},
     "output_type": "execute_result"
    }
   ],
   "source": [
    "data_valid_df.head()"
   ]
  },
  {
   "cell_type": "code",
   "execution_count": 54,
   "id": "42ca9ddc-3d15-4d90-9b85-327ce08d06d1",
   "metadata": {},
   "outputs": [
    {
     "name": "stderr",
     "output_type": "stream",
     "text": [
      "100%|███████████████████████████████████████████████████████████████████████████| 11212/11212 [00:19<00:00, 571.69it/s]\n",
      "100%|█████████████████████████████████████████████████████████████████████████████| 1601/1601 [00:02<00:00, 599.31it/s]\n",
      "100%|█████████████████████████████████████████████████████████████████████████████| 3205/3205 [00:05<00:00, 582.72it/s]\n"
     ]
    }
   ],
   "source": [
    "def drop_excess_states(df):\n",
    "    episodes = []\n",
    "    for _, episode_df in tqdm(df.groupby('episode')):\n",
    "        # is there any treatment?\n",
    "        has_iv = episode_df.total_iv_fluid > 0\n",
    "        has_vp = episode_df.max_vaso > 0\n",
    "        \n",
    "        # are there changes in states?\n",
    "        diffs = episode_df.filter(regex='x\\d+').diff().values\n",
    "        diffs[0] = diffs[1] # replace NaNs with 2nd time step\n",
    "        has_data = np.sum(np.absolute(diffs), axis=1) > 0\n",
    "        \n",
    "        # what was the terminal reward of episode?\n",
    "        reward = episode_df.reward.values[-1]\n",
    "        \n",
    "        # drop artificial trailing states (when no treatment, nor vitals)\n",
    "        episode_df = episode_df[has_iv | has_vp | has_data].copy()\n",
    "        \n",
    "        # put back reward at *new* terminal state\n",
    "        episode_df.iloc[-1, episode_df.columns.get_loc('reward')] = reward\n",
    "        episodes.append(episode_df)\n",
    "        \n",
    "    return pd.concat(episodes, axis=0)\n",
    "    \n",
    "\n",
    "data_train_df = drop_excess_states(data_train_df)\n",
    "data_valid_df = drop_excess_states(data_valid_df)\n",
    "data_test_df = drop_excess_states(data_test_df)"
   ]
  },
  {
   "cell_type": "markdown",
   "id": "b0c2590f-52b4-4221-b0a1-d7991300f69a",
   "metadata": {},
   "source": [
    "## Export Datasets"
   ]
  },
  {
   "cell_type": "code",
   "execution_count": 76,
   "id": "af45f1fd-6589-4289-b7a4-97f56e7d2eba",
   "metadata": {},
   "outputs": [],
   "source": [
    "# Sort by timestep and episode\n",
    "data_train_df = data_train_df.sort_values(['episode', 'timestep'])\n",
    "data_valid_df = data_valid_df.sort_values(['episode', 'timestep'])\n",
    "data_test_df = data_test_df.sort_values(['episode', 'timestep'])"
   ]
  },
  {
   "cell_type": "code",
   "execution_count": 77,
   "id": "b7145e3d",
   "metadata": {},
   "outputs": [
    {
     "name": "stdout",
     "output_type": "stream",
     "text": [
      "Done!\n"
     ]
    }
   ],
   "source": [
    "# Don't forget to save!!\n",
    "data_train_df.to_csv(OUTPUT_DIR + '/train.csv', index=False)\n",
    "data_valid_df.to_csv(OUTPUT_DIR + '/valid.csv', index=False)\n",
    "data_test_df.to_csv(OUTPUT_DIR + '/test.csv', index=False)\n",
    "print('Done!')"
   ]
  },
  {
   "cell_type": "markdown",
   "id": "0055db50",
   "metadata": {},
   "source": [
    "### Memory Usage"
   ]
  },
  {
   "cell_type": "code",
   "execution_count": 78,
   "id": "ff06c2d5",
   "metadata": {},
   "outputs": [
    {
     "name": "stdout",
     "output_type": "stream",
     "text": [
      "Number of ICU-stay ids: 16018\n",
      "Expected memory usage of dataset: 0.62GB\n"
     ]
    }
   ],
   "source": [
    "# Size of whole dataset (train + valid + test) including all admissions\n",
    "num_icustay_ids = len(data_final_df['icustay_id'].unique())\n",
    "print('Number of ICU-stay ids:', num_icustay_ids)\n",
    "\n",
    "full_df_gigs = data_final_df.memory_usage(deep=True).sum() / (1 << 30)\n",
    "print('Expected memory usage of dataset: %sGB' % round(full_df_gigs, 2)) "
   ]
  },
  {
   "cell_type": "markdown",
   "id": "a158e1cb",
   "metadata": {},
   "source": [
    "---\n",
    "\n",
    "## Sanity Checks"
   ]
  },
  {
   "cell_type": "code",
   "execution_count": 86,
   "id": "3c627372",
   "metadata": {},
   "outputs": [
    {
     "data": {
      "image/png": "[encoded data removed]",
      "text/plain": [
       "<Figure size 864x576 with 1 Axes>"
      ]
     },
     "metadata": {
      "needs_background": "light"
     },
     "output_type": "display_data"
    }
   ],
   "source": [
    "# Limit plot to one ICU stay\n",
    "icustay_id = random.choice(list(data_train_df['episode'].unique()))\n",
    "icustay_df = data_train_df[data_train_df['episode'] == icustay_id]\n",
    "\n",
    "# change this to visualize other feature\n",
    "FEATURES = ['heart_rate', 'fio2', 'pao2', 'lactate', 'anion_gap', 'bicarbonaat', 'mean_bp', 'natrium', 'alat']\n",
    "\n",
    "plt.figure(figsize=(12, 8))\n",
    "for f in FEATURES:\n",
    "    x_name = 'x%d' % STATE_SPACE_COLUMNS.index(f)\n",
    "    plt.plot(icustay_df['timestep'], icustay_df[x_name], label=f, marker='.')\n",
    "        \n",
    "plt.title('Final dataset for ICUSTAY = %s' % icustay_id)\n",
    "plt.legend(ncol=3, prop={'size': 8})\n",
    "plt.show()"
   ]
  },
  {
   "cell_type": "code",
   "execution_count": 80,
   "id": "774dcce3-ef1c-4dc4-a915-11587d9870b1",
   "metadata": {},
   "outputs": [
    {
     "data": {
      "image/png": "[encoded data removed]",
      "text/plain": [
       "<Figure size 1152x432 with 3 Axes>"
      ]
     },
     "metadata": {
      "needs_background": "light"
     },
     "output_type": "display_data"
    }
   ],
   "source": [
    "# Limit plot to one ICU stay\n",
    "icustay_id = random.choice(list(data_train_df['episode'].unique()))\n",
    "icustay_df = data_train_df[data_train_df['episode'] == icustay_id]\n",
    "\n",
    "# Plot interesting columns\n",
    "plt.figure(figsize=(16, 6))\n",
    "plt.subplot(1, 3, 1)\n",
    "plt.title('action')\n",
    "plt.plot(icustay_df['timestep'], icustay_df['action'], marker='.')\n",
    "\n",
    "plt.subplot(1, 3, 2)\n",
    "plt.title('max_vaso')\n",
    "plt.plot(icustay_df['timestep'], icustay_df['max_vaso'], marker='.')\n",
    "\n",
    "plt.subplot(1, 3, 3)\n",
    "plt.title('total_iv_fluid')\n",
    "plt.plot(icustay_df['timestep'], icustay_df['total_iv_fluid'], marker='.')\n",
    "        \n",
    "plt.suptitle('Actions for ICUSTAY = %s' % icustay_id)\n",
    "plt.show()"
   ]
  },
  {
   "cell_type": "markdown",
   "id": "c375e039-eacb-457e-95cf-45242c4bd72c",
   "metadata": {},
   "source": [
    "### General Statistics"
   ]
  },
  {
   "cell_type": "code",
   "execution_count": 81,
   "id": "c307b31a-61d3-4a80-92ab-eefbc185b9c8",
   "metadata": {},
   "outputs": [
    {
     "name": "stdout",
     "output_type": "stream",
     "text": [
      "Admissions:\n",
      "Train: 11212\n",
      "Valid: 1601\n",
      "Test:  3205\n"
     ]
    }
   ],
   "source": [
    "print('Admissions:')\n",
    "print('Train:', len(data_train_df['episode'].unique()))\n",
    "print('Valid:', len(data_valid_df['episode'].unique()))\n",
    "print('Test: ', len(data_test_df['episode'].unique()))"
   ]
  },
  {
   "cell_type": "code",
   "execution_count": 87,
   "id": "17b847f6-ff80-46f8-a777-013f979cec86",
   "metadata": {},
   "outputs": [
    {
     "name": "stdout",
     "output_type": "stream",
     "text": [
      "Training admissions with non-zero actions: 11208\n"
     ]
    }
   ],
   "source": [
    "actionable_episodes = (data_train_df.groupby('episode').action.max() > 0).sum()\n",
    "print('Training admissions with non-zero actions:', actionable_episodes)"
   ]
  },
  {
   "cell_type": "code",
   "execution_count": 89,
   "id": "3c5aa5db-80d7-4620-9768-131cd5022579",
   "metadata": {},
   "outputs": [
    {
     "name": "stdout",
     "output_type": "stream",
     "text": [
      "% Training episodes with IV fluids:    99.96432393863718\n",
      "% Training episodes with vasopressors: 70.19265073135925\n"
     ]
    }
   ],
   "source": [
    "data_train_df['has_IV'] = data_train_df.action >= 5\n",
    "data_train_df['has_VP'] = data_train_df.action % 5 != 0\n",
    "episodes_with_iv = (data_train_df.groupby('episode').has_IV.max()).sum()\n",
    "episodes_with_vp = (data_train_df.groupby('episode').has_VP.max()).sum()\n",
    "total_episodes = len(data_train_df.episode.unique())\n",
    "\n",
    "print('% Training episodes with IV fluids:   ', 100 * episodes_with_iv / total_episodes)\n",
    "print('% Training episodes with vasopressors:', 100 * episodes_with_vp / total_episodes)"
   ]
  },
  {
   "cell_type": "code",
   "execution_count": null,
   "id": "3cef70cf-5131-47cd-a627-6c6d4b1ac155",
   "metadata": {},
   "outputs": [],
   "source": []
  }
 ],
 "metadata": {
  "kernelspec": {
   "display_name": "Python 3 (ipykernel)",
   "language": "python",
   "name": "python3"
  },
  "language_info": {
   "codemirror_mode": {
    "name": "ipython",
    "version": 3
   },
   "file_extension": ".py",
   "mimetype": "text/x-python",
   "name": "python",
   "nbconvert_exporter": "python",
   "pygments_lexer": "ipython3",
   "version": "3.8.10"
  },
  "toc-showmarkdowntxt": false
 },
 "nbformat": 4,
 "nbformat_minor": 5
}
