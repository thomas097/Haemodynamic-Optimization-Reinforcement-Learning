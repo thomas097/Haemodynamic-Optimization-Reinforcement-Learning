{
 "cells": [
  {
   "cell_type": "markdown",
   "id": "126b6815",
   "metadata": {},
   "source": [
    "# Notebook to Preprocess MIMIC-III v1.4 Data Files\n",
    "\n",
    "In this notebook we will preprocess the [MIMIC-III](https://physionet.org/content/mimiciii/1.4/) v1.4 data files as extracted by [MIMIC-Code](https://github.com/MIT-LCP/mimic-code).\n",
    "\n",
    "The output of this notebook will be a pandas `DataFrame` (stored as a CSV file) with six columns:\n",
    "- `episode`: An identifier for each ICU admission\n",
    "- `timestep`: A `DateTime` object specifying the exact time a point measurement was made (e.g. `heart_rate`) or an interval was sampled (e.g. `max_vaso`)\n",
    "- `x0`\\*: An integer identifier specifying the type of measurement recorded at this timestep, e.g., a `heart_rate` measurement (`5`) or a lab result, such as `trombo` levels (`32`).\n",
    "- `x1`\\*: The value of the actual measurement in the appropriate unit (e.g. ml, bmp, mmHg)\n",
    "- `x2`\\*: `timestep` converted to hours relative to the start of treatment phase (set to 24h prior to sepsis onset)\n",
    "- `reward`: Reward accrued at each decision point (`NaN` for non-decision points)\n",
    "- `action`: Action taken at each decision point (`NaN` for non-decision points)\n",
    "\n",
    "\\* we use the `x*` notation for this state space to allow us to use the exact same training scripts for Q-learning also for the transformer encoder.\n",
    "\n",
    "Measurements in the dataset are primarily timestamped point measurements (see EDA), that is *values recorded at specific times*; however, **vasopressor** and **IV fluid intake** are recorded in terms of `(starttime, endtime)` intervals. As these treatments are actions in our **action space**, we sample them every 4 hours much like Roggeveen et al., allowing direct comparison of actions taken at the same points in time.\n",
    "\n",
    "**Important**: Make sure to run the `MIMIC-III_preprocessing_roggeveen.ipynb` notebook first, as the trainval/test split is made there and reused to create an identical dataset split here."
   ]
  },
  {
   "cell_type": "code",
   "execution_count": 1,
   "id": "b2081bae",
   "metadata": {},
   "outputs": [],
   "source": [
    "# Dependencies\n",
    "import os\n",
    "import re\n",
    "import random\n",
    "import pandas as pd\n",
    "import numpy as np\n",
    "import matplotlib.pyplot as plt\n",
    "from tqdm import tqdm\n",
    "\n",
    "# Settings\n",
    "INTERVAL_TIME = '4h'\n",
    "USE_CAREVUE = False\n",
    "DATA_DIR = '../data/mimic-iii/final/'                     # Where dataset is stored\n",
    "OUTPUT_DIR_ROGGEVEEN = 'datasets/mimic-iii/roggeveen_4h'  # We will be reusing the train/valid/test split and action space made previously\n",
    "OUTPUT_DIR = 'datasets/mimic-iii/attention'               # Where preprocessed data will be stored"
   ]
  },
  {
   "cell_type": "markdown",
   "id": "f3530a90-6433-439b-8479-e6554e07e71a",
   "metadata": {},
   "source": [
    " "
   ]
  },
  {
   "cell_type": "code",
   "execution_count": 2,
   "id": "f2b10cc9-3d0b-4647-9426-ff033773096f",
   "metadata": {},
   "outputs": [
    {
     "name": "stdout",
     "output_type": "stream",
     "text": [
      "Good to go!\n"
     ]
    }
   ],
   "source": [
    "# Check whether previous notbooks have been executed and data is in the right location\n",
    "if not os.path.exists(OUTPUT_DIR_ROGGEVEEN):\n",
    "    raise Exception('Cannot find %s. Please run `MIMIC-III_preprocessing_roggeveen.ipynb`.' % OUTPUT_DIR_ROGGEVEEN)\n",
    "\n",
    "if not os.path.exists(DATA_DIR):\n",
    "    raise Exception('Dataset directory %s does not exist!' % DATA_DIR)\n",
    "\n",
    "# Create output_dir if not yet created\n",
    "OUTPUT_DIR = OUTPUT_DIR + '_%s%s/' % (INTERVAL_TIME, '_with_cv' if USE_CAREVUE else '')\n",
    "if not os.path.exists(OUTPUT_DIR):\n",
    "    os.makedirs(OUTPUT_DIR)\n",
    "    \n",
    "print('Good to go!')"
   ]
  },
  {
   "cell_type": "markdown",
   "id": "a191f725",
   "metadata": {},
   "source": [
    "### Convenience functions\n",
    "\n",
    "We define some convenience funxtions which we can reuse throughout the notebook (e.g. for data loading, plotting, unit conversions, etc.)"
   ]
  },
  {
   "cell_type": "code",
   "execution_count": 3,
   "id": "ba389ff8",
   "metadata": {},
   "outputs": [
    {
     "name": "stdout",
     "output_type": "stream",
     "text": [
      "HeartRate => heart_rate\n",
      "ALBUMIN   => albumin\n",
      "MeanBP    => mean_bp\n"
     ]
    }
   ],
   "source": [
    "# Read CSV from file and parse dates using pd.to_datetime()\n",
    "def read_csv(fname):\n",
    "    df = pd.read_csv(fname)\n",
    "    \n",
    "    # Explicit as parse_dates param of pd.read_csv fails to identify starttime and endtime\n",
    "    parse_dates = ['intime', 'outtime', 'starttime', 'endtime', 'window_start', \n",
    "                   'window_end', 'charttime', 'suspected_infection_time_poe']\n",
    "    \n",
    "    for col in parse_dates:\n",
    "        if col in df.columns:\n",
    "            df[col] = pd.to_datetime(df[col])\n",
    "    return df\n",
    "\n",
    "# Plots values of under `key` over time\n",
    "def plot_single(df, item_id, title='', xlabel='Timestep', ylabel='Value', style='.-'):\n",
    "    # Randomly choose icustay_id with data for item_id\n",
    "    icustay_id = None\n",
    "    while icustay_id is None:\n",
    "        icustay_id = random.choice(list(set(df['episode'])))\n",
    "        num_values = (df[(df['type'] == item_id) & (df['episode'] == icustay_id)]['value'] != 0).sum()\n",
    "        icustay_id = None if num_values == 0 else icustay_id\n",
    "        \n",
    "    # Limit to item_id and chosen icustay_id\n",
    "    df = df[(df['type'] == item_id) & (df['episode'] == icustay_id)]\n",
    "        \n",
    "    plt.figure(figsize=(8, 3))\n",
    "    plt.plot(df['timestep'], df['value'], style)\n",
    "    plt.title('%s (icustay_id=%d)' % (title, icustay_id))\n",
    "    plt.xlabel(xlabel)\n",
    "    plt.ylabel(ylabel)\n",
    "    plt.show()\n",
    "\n",
    "# Converts TimeDelta objects into hours\n",
    "def to_hours(x):\n",
    "    # pd.Timedelta does not have astype method\n",
    "    if isinstance(x, pd.Timedelta):\n",
    "        return x.total_seconds() / 3600\n",
    "    return x.astype('timedelta64[s]').astype(int) / 3600\n",
    "\n",
    "# Converts upper- or camelcase to snake-case (lowercase with '_' separators)\n",
    "def to_snakecase(string):\n",
    "    if string.islower():\n",
    "        return string\n",
    "    elif string.isupper():\n",
    "        return string.lower()\n",
    "    else:\n",
    "        string = re.sub('(.)([A-Z][a-z]+)', r'\\1_\\2', string)\n",
    "        return re.sub('([a-z0-9])([A-Z])', r'\\1_\\2', string).lower()\n",
    "    \n",
    "print('HeartRate => %s' % to_snakecase('HeartRate'))\n",
    "print('ALBUMIN   => %s' % to_snakecase('ALBUMIN'))\n",
    "print('MeanBP    => %s' % to_snakecase('MeanBP'))"
   ]
  },
  {
   "cell_type": "markdown",
   "id": "e41cfe15-8a2a-48d1-93dc-5d813d615bfa",
   "metadata": {},
   "source": [
    "---\n",
    "## Patient Cohort\n",
    "\n",
    "Using MIMIC-Code we have extracted a *sepsis-3* cohort (i.e. a list of patients satisfying the sepsis-3 criteria (Singer et al., 2016)) along with information regarding the suspected time of infection and in-hospital mortality, `hospital_expire_flag`. Let's first import these data;"
   ]
  },
  {
   "cell_type": "code",
   "execution_count": 4,
   "id": "3b1771e7-38a2-4fb2-ad9d-3ac32b980b24",
   "metadata": {},
   "outputs": [
    {
     "name": "stdout",
     "output_type": "stream",
     "text": [
      "Number of admissions: 18346\n",
      "\n"
     ]
    },
    {
     "data": {
      "text/html": [
       "<div>\n",
       "<style scoped>\n",
       "    .dataframe tbody tr th:only-of-type {\n",
       "        vertical-align: middle;\n",
       "    }\n",
       "\n",
       "    .dataframe tbody tr th {\n",
       "        vertical-align: top;\n",
       "    }\n",
       "\n",
       "    .dataframe thead th {\n",
       "        text-align: right;\n",
       "    }\n",
       "</style>\n",
       "<table border=\"1\" class=\"dataframe\">\n",
       "  <thead>\n",
       "    <tr style=\"text-align: right;\">\n",
       "      <th></th>\n",
       "      <th>subject_id</th>\n",
       "      <th>hadm_id</th>\n",
       "      <th>icustay_id</th>\n",
       "      <th>intime</th>\n",
       "      <th>outtime</th>\n",
       "      <th>suspected_infection_time_poe</th>\n",
       "      <th>window_start</th>\n",
       "      <th>window_end</th>\n",
       "      <th>hospital_expire_flag</th>\n",
       "    </tr>\n",
       "  </thead>\n",
       "  <tbody>\n",
       "    <tr>\n",
       "      <th>0</th>\n",
       "      <td>55597</td>\n",
       "      <td>189080</td>\n",
       "      <td>226090</td>\n",
       "      <td>2122-04-13 22:38:32</td>\n",
       "      <td>2122-04-14 18:26:03</td>\n",
       "      <td>2122-04-13 21:35:00</td>\n",
       "      <td>2122-04-12 21:35:00</td>\n",
       "      <td>2122-04-15 21:35:00</td>\n",
       "      <td>0</td>\n",
       "    </tr>\n",
       "    <tr>\n",
       "      <th>1</th>\n",
       "      <td>6645</td>\n",
       "      <td>177907</td>\n",
       "      <td>205861</td>\n",
       "      <td>2105-07-11 21:28:35</td>\n",
       "      <td>2105-07-13 17:13:43</td>\n",
       "      <td>2105-07-11 00:00:00</td>\n",
       "      <td>2105-07-10 00:00:00</td>\n",
       "      <td>2105-07-13 00:00:00</td>\n",
       "      <td>0</td>\n",
       "    </tr>\n",
       "    <tr>\n",
       "      <th>2</th>\n",
       "      <td>30496</td>\n",
       "      <td>165002</td>\n",
       "      <td>281987</td>\n",
       "      <td>2194-06-18 14:03:07</td>\n",
       "      <td>2194-06-19 21:35:23</td>\n",
       "      <td>2194-06-18 00:00:00</td>\n",
       "      <td>2194-06-17 00:00:00</td>\n",
       "      <td>2194-06-20 00:00:00</td>\n",
       "      <td>0</td>\n",
       "    </tr>\n",
       "    <tr>\n",
       "      <th>3</th>\n",
       "      <td>92531</td>\n",
       "      <td>184997</td>\n",
       "      <td>218267</td>\n",
       "      <td>2171-07-10 15:10:29</td>\n",
       "      <td>2171-07-11 14:20:11</td>\n",
       "      <td>2171-07-10 11:40:00</td>\n",
       "      <td>2171-07-09 11:40:00</td>\n",
       "      <td>2171-07-12 11:40:00</td>\n",
       "      <td>0</td>\n",
       "    </tr>\n",
       "    <tr>\n",
       "      <th>4</th>\n",
       "      <td>28677</td>\n",
       "      <td>159991</td>\n",
       "      <td>282170</td>\n",
       "      <td>2122-12-31 09:28:43</td>\n",
       "      <td>2123-01-01 21:25:41</td>\n",
       "      <td>2122-12-31 18:25:00</td>\n",
       "      <td>2122-12-30 18:25:00</td>\n",
       "      <td>2123-01-02 18:25:00</td>\n",
       "      <td>0</td>\n",
       "    </tr>\n",
       "  </tbody>\n",
       "</table>\n",
       "</div>"
      ],
      "text/plain": [
       "   subject_id  hadm_id  icustay_id              intime             outtime  \\\n",
       "0       55597   189080      226090 2122-04-13 22:38:32 2122-04-14 18:26:03   \n",
       "1        6645   177907      205861 2105-07-11 21:28:35 2105-07-13 17:13:43   \n",
       "2       30496   165002      281987 2194-06-18 14:03:07 2194-06-19 21:35:23   \n",
       "3       92531   184997      218267 2171-07-10 15:10:29 2171-07-11 14:20:11   \n",
       "4       28677   159991      282170 2122-12-31 09:28:43 2123-01-01 21:25:41   \n",
       "\n",
       "  suspected_infection_time_poe        window_start          window_end  \\\n",
       "0          2122-04-13 21:35:00 2122-04-12 21:35:00 2122-04-15 21:35:00   \n",
       "1          2105-07-11 00:00:00 2105-07-10 00:00:00 2105-07-13 00:00:00   \n",
       "2          2194-06-18 00:00:00 2194-06-17 00:00:00 2194-06-20 00:00:00   \n",
       "3          2171-07-10 11:40:00 2171-07-09 11:40:00 2171-07-12 11:40:00   \n",
       "4          2122-12-31 18:25:00 2122-12-30 18:25:00 2123-01-02 18:25:00   \n",
       "\n",
       "   hospital_expire_flag  \n",
       "0                     0  \n",
       "1                     0  \n",
       "2                     0  \n",
       "3                     0  \n",
       "4                     0  "
      ]
     },
     "execution_count": 4,
     "metadata": {},
     "output_type": "execute_result"
    }
   ],
   "source": [
    "cohort_df = read_csv(DATA_DIR + 'cohort.csv')\n",
    "\n",
    "print('Number of admissions: %s\\n' % len(cohort_df))\n",
    "cohort_df.head()"
   ]
  },
  {
   "cell_type": "markdown",
   "id": "f8ff4642-493f-4cad-bad2-47311a974684",
   "metadata": {},
   "source": [
    "**Sanity check: limit admissions to SOFA $\\geq$ 2**"
   ]
  },
  {
   "cell_type": "code",
   "execution_count": 5,
   "id": "1f27fa60-83b1-42d9-b398-3bb97268d84d",
   "metadata": {},
   "outputs": [],
   "source": [
    "# Remark: The original notebook uses SOFA>3, yet the paper mentions the standard SOFA>=2 as the selection criterion\n",
    "demo_df = read_csv(DATA_DIR + 'demographics_cohort.csv')\n",
    "sofa2_icustays = set([row['icustay_id'] for _, row in demo_df.iterrows() if row['sofa'] >= 2])\n",
    "\n",
    "# Filter cohort\n",
    "cohort_df = cohort_df[cohort_df['icustay_id'].isin(sofa2_icustays)]"
   ]
  },
  {
   "cell_type": "code",
   "execution_count": 6,
   "id": "e668c29d-ecd9-4cb1-99ca-97ed2b485272",
   "metadata": {},
   "outputs": [
    {
     "name": "stdout",
     "output_type": "stream",
     "text": [
      "Total number of admissions: 18091\n"
     ]
    }
   ],
   "source": [
    "icustay_ids = cohort_df['icustay_id'].values\n",
    "print('Total number of admissions: %s' % icustay_ids.size) # few are dropped still"
   ]
  },
  {
   "cell_type": "markdown",
   "id": "0784d1c1",
   "metadata": {},
   "source": [
    "---\n",
    "## $x$-Hour Intervals for Sampling of Vasopressor/Fluid Intake"
   ]
  },
  {
   "cell_type": "code",
   "execution_count": 7,
   "id": "f4abb35d",
   "metadata": {},
   "outputs": [],
   "source": [
    "def get_time_intervals(starttime, endtime):\n",
    "    timesteps = pd.date_range(start=starttime, end=endtime, freq=INTERVAL_TIME)\n",
    "    return list(zip(timesteps[:-1], timesteps[1:]))\n",
    "\n",
    "# For each interval `(window_start, window_end)` generate list of (start, end) sub-intervals of each 1 hour\n",
    "interval_times = {x['icustay_id']:get_time_intervals(x['window_start'], x['window_end']) for _, x in cohort_df.iterrows()}"
   ]
  },
  {
   "cell_type": "code",
   "execution_count": 8,
   "id": "bf89e519-a0cb-4e0e-bee1-6969893f8b4b",
   "metadata": {},
   "outputs": [
    {
     "name": "stdout",
     "output_type": "stream",
     "text": [
      "Intervals for admission 299606:\n",
      "1st Interval:  (Timestamp('2160-03-06 14:38:00', freq='4H'), Timestamp('2160-03-06 18:38:00', freq='4H'))\n",
      "Last Interval: (Timestamp('2160-03-09 10:38:00', freq='4H'), Timestamp('2160-03-09 14:38:00', freq='4H'))\n"
     ]
    }
   ],
   "source": [
    "# Sample random ICU stay\n",
    "icustay_id = random.choice(list(interval_times.keys()))\n",
    "\n",
    "print('Intervals for admission %s:' % icustay_id)\n",
    "print('1st Interval: ', interval_times[icustay_id][0])\n",
    "print('Last Interval:', interval_times[icustay_id][-1])"
   ]
  },
  {
   "cell_type": "markdown",
   "id": "6cb877aa",
   "metadata": {},
   "source": [
    "---\n",
    "## Vasopressors\n",
    "\n",
    "### 1. MetaVision Records"
   ]
  },
  {
   "cell_type": "code",
   "execution_count": 9,
   "id": "da8f1a51",
   "metadata": {},
   "outputs": [
    {
     "data": {
      "text/html": [
       "<div>\n",
       "<style scoped>\n",
       "    .dataframe tbody tr th:only-of-type {\n",
       "        vertical-align: middle;\n",
       "    }\n",
       "\n",
       "    .dataframe tbody tr th {\n",
       "        vertical-align: top;\n",
       "    }\n",
       "\n",
       "    .dataframe thead th {\n",
       "        text-align: right;\n",
       "    }\n",
       "</style>\n",
       "<table border=\"1\" class=\"dataframe\">\n",
       "  <thead>\n",
       "    <tr style=\"text-align: right;\">\n",
       "      <th></th>\n",
       "      <th>icustay_id</th>\n",
       "      <th>starttime</th>\n",
       "      <th>endtime</th>\n",
       "      <th>rate</th>\n",
       "      <th>rateuom</th>\n",
       "      <th>patientweight</th>\n",
       "      <th>orderid</th>\n",
       "      <th>linkorderid</th>\n",
       "      <th>vasoactive_drug</th>\n",
       "      <th>mcgkgmin</th>\n",
       "      <th>mcgmin</th>\n",
       "    </tr>\n",
       "  </thead>\n",
       "  <tbody>\n",
       "    <tr>\n",
       "      <th>0</th>\n",
       "      <td>200063</td>\n",
       "      <td>2141-03-21 11:00:00</td>\n",
       "      <td>2141-03-21 14:14:00</td>\n",
       "      <td>0.312876</td>\n",
       "      <td>mcg/kg/min</td>\n",
       "      <td>131.8</td>\n",
       "      <td>8935976</td>\n",
       "      <td>8935976</td>\n",
       "      <td>norepinephrine</td>\n",
       "      <td>0.312876</td>\n",
       "      <td>41.237116</td>\n",
       "    </tr>\n",
       "    <tr>\n",
       "      <th>1</th>\n",
       "      <td>200063</td>\n",
       "      <td>2141-03-21 14:14:00</td>\n",
       "      <td>2141-03-21 14:41:00</td>\n",
       "      <td>0.300485</td>\n",
       "      <td>mcg/kg/min</td>\n",
       "      <td>131.8</td>\n",
       "      <td>5139193</td>\n",
       "      <td>5139193</td>\n",
       "      <td>norepinephrine</td>\n",
       "      <td>0.300485</td>\n",
       "      <td>39.603961</td>\n",
       "    </tr>\n",
       "    <tr>\n",
       "      <th>2</th>\n",
       "      <td>200063</td>\n",
       "      <td>2141-03-21 14:41:00</td>\n",
       "      <td>2141-03-21 15:00:00</td>\n",
       "      <td>0.401104</td>\n",
       "      <td>mcg/kg/min</td>\n",
       "      <td>131.8</td>\n",
       "      <td>8037665</td>\n",
       "      <td>5139193</td>\n",
       "      <td>norepinephrine</td>\n",
       "      <td>0.401104</td>\n",
       "      <td>52.865445</td>\n",
       "    </tr>\n",
       "    <tr>\n",
       "      <th>3</th>\n",
       "      <td>200063</td>\n",
       "      <td>2141-03-21 15:00:00</td>\n",
       "      <td>2141-03-21 15:27:00</td>\n",
       "      <td>0.301501</td>\n",
       "      <td>mcg/kg/min</td>\n",
       "      <td>131.8</td>\n",
       "      <td>6825847</td>\n",
       "      <td>5139193</td>\n",
       "      <td>norepinephrine</td>\n",
       "      <td>0.301501</td>\n",
       "      <td>39.737781</td>\n",
       "    </tr>\n",
       "    <tr>\n",
       "      <th>4</th>\n",
       "      <td>200063</td>\n",
       "      <td>2141-03-21 15:27:00</td>\n",
       "      <td>2141-03-21 18:27:00</td>\n",
       "      <td>0.200936</td>\n",
       "      <td>mcg/kg/min</td>\n",
       "      <td>131.8</td>\n",
       "      <td>5209279</td>\n",
       "      <td>5139193</td>\n",
       "      <td>norepinephrine</td>\n",
       "      <td>0.200936</td>\n",
       "      <td>26.483338</td>\n",
       "    </tr>\n",
       "  </tbody>\n",
       "</table>\n",
       "</div>"
      ],
      "text/plain": [
       "   icustay_id           starttime             endtime      rate     rateuom  \\\n",
       "0      200063 2141-03-21 11:00:00 2141-03-21 14:14:00  0.312876  mcg/kg/min   \n",
       "1      200063 2141-03-21 14:14:00 2141-03-21 14:41:00  0.300485  mcg/kg/min   \n",
       "2      200063 2141-03-21 14:41:00 2141-03-21 15:00:00  0.401104  mcg/kg/min   \n",
       "3      200063 2141-03-21 15:00:00 2141-03-21 15:27:00  0.301501  mcg/kg/min   \n",
       "4      200063 2141-03-21 15:27:00 2141-03-21 18:27:00  0.200936  mcg/kg/min   \n",
       "\n",
       "   patientweight  orderid  linkorderid vasoactive_drug  mcgkgmin     mcgmin  \n",
       "0          131.8  8935976      8935976  norepinephrine  0.312876  41.237116  \n",
       "1          131.8  5139193      5139193  norepinephrine  0.300485  39.603961  \n",
       "2          131.8  8037665      5139193  norepinephrine  0.401104  52.865445  \n",
       "3          131.8  6825847      5139193  norepinephrine  0.301501  39.737781  \n",
       "4          131.8  5209279      5139193  norepinephrine  0.200936  26.483338  "
      ]
     },
     "execution_count": 9,
     "metadata": {},
     "output_type": "execute_result"
    }
   ],
   "source": [
    "vaso_mv_df = read_csv(DATA_DIR + 'vassopressors_mv_cohort.csv')\n",
    "vaso_mv_df.head()"
   ]
  },
  {
   "cell_type": "code",
   "execution_count": 10,
   "id": "afdd427a",
   "metadata": {},
   "outputs": [
    {
     "name": "stderr",
     "output_type": "stream",
     "text": [
      "100%|██████████████████████████████████████████████████████████████████████████████| 4137/4137 [00:53<00:00, 76.79it/s]\n"
     ]
    },
    {
     "data": {
      "text/html": [
       "<div>\n",
       "<style scoped>\n",
       "    .dataframe tbody tr th:only-of-type {\n",
       "        vertical-align: middle;\n",
       "    }\n",
       "\n",
       "    .dataframe tbody tr th {\n",
       "        vertical-align: top;\n",
       "    }\n",
       "\n",
       "    .dataframe thead th {\n",
       "        text-align: right;\n",
       "    }\n",
       "</style>\n",
       "<table border=\"1\" class=\"dataframe\">\n",
       "  <thead>\n",
       "    <tr style=\"text-align: right;\">\n",
       "      <th></th>\n",
       "      <th>timestep</th>\n",
       "      <th>episode</th>\n",
       "      <th>type</th>\n",
       "      <th>value</th>\n",
       "    </tr>\n",
       "  </thead>\n",
       "  <tbody>\n",
       "    <tr>\n",
       "      <th>13</th>\n",
       "      <td>2132-10-11 20:15:00</td>\n",
       "      <td>299957</td>\n",
       "      <td>max_vaso</td>\n",
       "      <td>0.0</td>\n",
       "    </tr>\n",
       "    <tr>\n",
       "      <th>14</th>\n",
       "      <td>2132-10-12 00:15:00</td>\n",
       "      <td>299957</td>\n",
       "      <td>max_vaso</td>\n",
       "      <td>0.0</td>\n",
       "    </tr>\n",
       "    <tr>\n",
       "      <th>15</th>\n",
       "      <td>2132-10-12 04:15:00</td>\n",
       "      <td>299957</td>\n",
       "      <td>max_vaso</td>\n",
       "      <td>0.0</td>\n",
       "    </tr>\n",
       "    <tr>\n",
       "      <th>16</th>\n",
       "      <td>2132-10-12 08:15:00</td>\n",
       "      <td>299957</td>\n",
       "      <td>max_vaso</td>\n",
       "      <td>0.0</td>\n",
       "    </tr>\n",
       "    <tr>\n",
       "      <th>17</th>\n",
       "      <td>2132-10-12 12:15:00</td>\n",
       "      <td>299957</td>\n",
       "      <td>max_vaso</td>\n",
       "      <td>0.0</td>\n",
       "    </tr>\n",
       "  </tbody>\n",
       "</table>\n",
       "</div>"
      ],
      "text/plain": [
       "              timestep  episode      type  value\n",
       "13 2132-10-11 20:15:00   299957  max_vaso    0.0\n",
       "14 2132-10-12 00:15:00   299957  max_vaso    0.0\n",
       "15 2132-10-12 04:15:00   299957  max_vaso    0.0\n",
       "16 2132-10-12 08:15:00   299957  max_vaso    0.0\n",
       "17 2132-10-12 12:15:00   299957  max_vaso    0.0"
      ]
     },
     "execution_count": 10,
     "metadata": {},
     "output_type": "execute_result"
    }
   ],
   "source": [
    "sampled_vaso_mv_dfs = []\n",
    "\n",
    "for icustay_id, treatments in tqdm(vaso_mv_df.groupby('icustay_id')):\n",
    "    \n",
    "    # Part of sepsis-3 cohort?\n",
    "    if icustay_id not in interval_times:\n",
    "        continue\n",
    "        \n",
    "    intervals = interval_times[icustay_id]\n",
    "    max_vaso = np.zeros(len(intervals), dtype=np.float64)\n",
    "    \n",
    "    for i, (interval_start, interval_end) in enumerate(intervals):        \n",
    "        # Inclusion test: treatment timeframe overlaps with current interval\n",
    "        condition = (treatments['starttime'] <= interval_end) & (treatments['endtime'] > interval_start)\n",
    "        max_vaso[i] = treatments[condition]['mcgkgmin'].max()\n",
    "        \n",
    "    # NaN -> no treatment\n",
    "    max_vaso = np.nan_to_num(max_vaso, nan=0.0)\n",
    "        \n",
    "    # Store VP doses of admission in DataFrame\n",
    "    sampled_vaso_mv_df = pd.DataFrame({'timestep': [start for start, _ in intervals],\n",
    "                                       'episode': icustay_id,\n",
    "                                       'type': 'max_vaso',\n",
    "                                       'value': max_vaso})\n",
    "    sampled_vaso_mv_dfs.append(sampled_vaso_mv_df)\n",
    "    \n",
    "# Concat DataFrames of individual admissions\n",
    "sampled_vaso_mv_df = pd.concat(sampled_vaso_mv_dfs)\n",
    "sampled_vaso_mv_df.tail()"
   ]
  },
  {
   "cell_type": "code",
   "execution_count": 11,
   "id": "90aad345-1829-4c58-bf8d-e91a93543e4c",
   "metadata": {},
   "outputs": [],
   "source": [
    "del vaso_mv_df, sampled_vaso_mv_dfs"
   ]
  },
  {
   "cell_type": "code",
   "execution_count": 12,
   "id": "882f2966-54ed-4ea1-ada8-c9def17b3603",
   "metadata": {},
   "outputs": [
    {
     "data": {
      "image/png": "[encoded data removed]",
      "text/plain": [
       "<Figure size 576x216 with 1 Axes>"
      ]
     },
     "metadata": {
      "needs_background": "light"
     },
     "output_type": "display_data"
    }
   ],
   "source": [
    "# Example vasopressor trajectory from MV\n",
    "plot_single(sampled_vaso_mv_df, item_id='max_vaso')"
   ]
  },
  {
   "cell_type": "code",
   "execution_count": 13,
   "id": "b4d22d26-b2f3-4da5-9544-d22c22d061ee",
   "metadata": {},
   "outputs": [
    {
     "name": "stdout",
     "output_type": "stream",
     "text": [
      "MetaVision max_vaso records: 4131\n"
     ]
    }
   ],
   "source": [
    "# How many admissions were recorded in MetaVision?\n",
    "vaso_mv_episodes = sampled_vaso_mv_df['episode'].unique()\n",
    "print('MetaVision max_vaso records: %s' % len(vaso_mv_episodes))"
   ]
  },
  {
   "cell_type": "markdown",
   "id": "481635f8-35c5-433f-b433-6f68ed0a54b8",
   "metadata": {},
   "source": [
    "### 2. CareVue Records (Optional)"
   ]
  },
  {
   "cell_type": "code",
   "execution_count": 14,
   "id": "f20f003a-d71f-49fb-84d2-0728609ae48e",
   "metadata": {},
   "outputs": [],
   "source": [
    "if USE_CAREVUE:\n",
    "    # Load converted CV data\n",
    "    vaso_cv_df = read_csv(DATA_DIR + 'vassopressors_cv_cohort_v2.csv')\n",
    "\n",
    "    # Process admissions one-by-one\n",
    "    sampled_vaso_cv_dfs = []\n",
    "    for icustay_id, treatments in tqdm(vaso_cv_df.groupby('icustay_id')):\n",
    "\n",
    "        # Part of sepsis-3 cohort?\n",
    "        if icustay_id not in interval_times:\n",
    "            continue\n",
    "            \n",
    "        # Skip admission if already in MV\n",
    "        if icustay_id in vaso_mv_episodes:\n",
    "            continue\n",
    "\n",
    "        # Empty vector to store max_vaso values into\n",
    "        intervals = interval_times[icustay_id]\n",
    "        max_vaso = np.zeros(len(intervals), dtype=np.float64)\n",
    "\n",
    "        for i, (interval_start, interval_end) in enumerate(intervals):        \n",
    "            # Inclusion test: treatment timeframe overlaps with current interval.\n",
    "            condition = (treatments['starttime'] <= interval_end) & (treatments['endtime'] > interval_start)\n",
    "            max_vaso[i] = treatments[condition]['mcgkgmin'].max() # Why max?\n",
    "\n",
    "        # Create DataFrame for ICU stay\n",
    "        sampled_vaso_cv_df = pd.DataFrame({'timestep': [start for start, _ in intervals],\n",
    "                                           'episode': icustay_id,\n",
    "                                           'type': 'max_vaso',\n",
    "                                           'value': np.nan_to_num(max_vaso, nan=0.0)}) # NaN (no treatment) -> zero dose\n",
    "        sampled_vaso_cv_dfs.append(sampled_vaso_cv_df)\n",
    "\n",
    "    # Concat DataFrames of individual icustays\n",
    "    sampled_vaso_cv_df = pd.concat(sampled_vaso_cv_dfs)\n",
    "    \n",
    "    del vaso_cv_df, sampled_vaso_cv_dfs"
   ]
  },
  {
   "cell_type": "code",
   "execution_count": 15,
   "id": "bf366bce-778d-4dca-9e93-4f75d564fe2f",
   "metadata": {},
   "outputs": [],
   "source": [
    "# Plot example vasopressor trajectory from CareVue\n",
    "if USE_CAREVUE:\n",
    "    plot_single(sampled_vaso_cv_df, item_id='max_vaso')"
   ]
  },
  {
   "cell_type": "code",
   "execution_count": 16,
   "id": "220ffcd4-772b-497a-8395-97d5088dd338",
   "metadata": {},
   "outputs": [],
   "source": [
    "# How many admissions were recorded in CareVue?\n",
    "if USE_CAREVUE:\n",
    "    vaso_cv_episodes = sampled_vaso_cv_df['episode'].unique()\n",
    "    print('CareVue max_vaso records: %s' % len(vaso_cv_episodes))"
   ]
  },
  {
   "cell_type": "markdown",
   "id": "d856d090-2422-4484-84ab-358cfcdb826e",
   "metadata": {},
   "source": [
    "### Combine CareVue Records with MetaVision (Optional)"
   ]
  },
  {
   "cell_type": "code",
   "execution_count": 17,
   "id": "c4ed4eef-4e96-4e9a-858a-9d5b4c63aa6a",
   "metadata": {},
   "outputs": [],
   "source": [
    "# Merge CV and MV records if processed; otherwise just use MV\n",
    "if USE_CAREVUE:\n",
    "    sampled_vaso_df = pd.concat([sampled_vaso_mv_df, sampled_vaso_cv_df])\n",
    "else:\n",
    "    sampled_vaso_df = sampled_vaso_mv_df"
   ]
  },
  {
   "cell_type": "code",
   "execution_count": 18,
   "id": "f249739b-e5f4-4ef0-b0ca-2807a89a174d",
   "metadata": {},
   "outputs": [
    {
     "name": "stdout",
     "output_type": "stream",
     "text": [
      "Total admissions: 4131\n"
     ]
    }
   ],
   "source": [
    "num_admissions = len(sampled_vaso_df['episode'].unique())\n",
    "print('Total admissions:', num_admissions)"
   ]
  },
  {
   "cell_type": "markdown",
   "id": "7faf5cad",
   "metadata": {},
   "source": [
    "---\n",
    "## IV Fluids\n",
    "\n",
    "### 1. MetaVision Records"
   ]
  },
  {
   "cell_type": "code",
   "execution_count": 19,
   "id": "c924ef1c",
   "metadata": {},
   "outputs": [
    {
     "data": {
      "text/html": [
       "<div>\n",
       "<style scoped>\n",
       "    .dataframe tbody tr th:only-of-type {\n",
       "        vertical-align: middle;\n",
       "    }\n",
       "\n",
       "    .dataframe tbody tr th {\n",
       "        vertical-align: top;\n",
       "    }\n",
       "\n",
       "    .dataframe thead th {\n",
       "        text-align: right;\n",
       "    }\n",
       "</style>\n",
       "<table border=\"1\" class=\"dataframe\">\n",
       "  <thead>\n",
       "    <tr style=\"text-align: right;\">\n",
       "      <th></th>\n",
       "      <th>subject_id</th>\n",
       "      <th>hadm_id</th>\n",
       "      <th>icustay_id</th>\n",
       "      <th>starttime</th>\n",
       "      <th>endtime</th>\n",
       "      <th>amount</th>\n",
       "      <th>duration</th>\n",
       "    </tr>\n",
       "  </thead>\n",
       "  <tbody>\n",
       "    <tr>\n",
       "      <th>2</th>\n",
       "      <td>23</td>\n",
       "      <td>124321</td>\n",
       "      <td>234044.0</td>\n",
       "      <td>2157-10-21 15:00:00</td>\n",
       "      <td>2157-10-21 15:01:00</td>\n",
       "      <td>200.000000</td>\n",
       "      <td>0.016667</td>\n",
       "    </tr>\n",
       "    <tr>\n",
       "      <th>4</th>\n",
       "      <td>23</td>\n",
       "      <td>124321</td>\n",
       "      <td>234044.0</td>\n",
       "      <td>2157-10-21 12:15:00</td>\n",
       "      <td>2157-10-21 13:22:00</td>\n",
       "      <td>13.432238</td>\n",
       "      <td>1.116667</td>\n",
       "    </tr>\n",
       "    <tr>\n",
       "      <th>7</th>\n",
       "      <td>23</td>\n",
       "      <td>124321</td>\n",
       "      <td>234044.0</td>\n",
       "      <td>2157-10-21 17:08:00</td>\n",
       "      <td>2157-10-21 18:08:00</td>\n",
       "      <td>49.999999</td>\n",
       "      <td>1.000000</td>\n",
       "    </tr>\n",
       "    <tr>\n",
       "      <th>10</th>\n",
       "      <td>23</td>\n",
       "      <td>124321</td>\n",
       "      <td>234044.0</td>\n",
       "      <td>2157-10-22 08:00:00</td>\n",
       "      <td>2157-10-22 08:01:00</td>\n",
       "      <td>200.000000</td>\n",
       "      <td>0.016667</td>\n",
       "    </tr>\n",
       "    <tr>\n",
       "      <th>14</th>\n",
       "      <td>23</td>\n",
       "      <td>124321</td>\n",
       "      <td>234044.0</td>\n",
       "      <td>2157-10-22 09:24:00</td>\n",
       "      <td>2157-10-22 09:48:00</td>\n",
       "      <td>1.602968</td>\n",
       "      <td>0.400000</td>\n",
       "    </tr>\n",
       "  </tbody>\n",
       "</table>\n",
       "</div>"
      ],
      "text/plain": [
       "    subject_id  hadm_id  icustay_id           starttime             endtime  \\\n",
       "2           23   124321    234044.0 2157-10-21 15:00:00 2157-10-21 15:01:00   \n",
       "4           23   124321    234044.0 2157-10-21 12:15:00 2157-10-21 13:22:00   \n",
       "7           23   124321    234044.0 2157-10-21 17:08:00 2157-10-21 18:08:00   \n",
       "10          23   124321    234044.0 2157-10-22 08:00:00 2157-10-22 08:01:00   \n",
       "14          23   124321    234044.0 2157-10-22 09:24:00 2157-10-22 09:48:00   \n",
       "\n",
       "        amount  duration  \n",
       "2   200.000000  0.016667  \n",
       "4    13.432238  1.116667  \n",
       "7    49.999999  1.000000  \n",
       "10  200.000000  0.016667  \n",
       "14    1.602968  0.400000  "
      ]
     },
     "execution_count": 19,
     "metadata": {},
     "output_type": "execute_result"
    }
   ],
   "source": [
    "iv_fluid_mv_df = read_csv(DATA_DIR + 'inputevents_mv_cohort.csv')\n",
    "\n",
    "# Drop 14-Oral/Gastric Intake (i.e. having a glass of water)\n",
    "iv_fluid_mv_df = iv_fluid_mv_df.loc[(iv_fluid_mv_df['ordercategoryname'] != '14-Oral/Gastric Intake') & (iv_fluid_mv_df['amountuom'] == 'ml')]\n",
    "\n",
    "# Sanity check: remove amounts outside (0, 5000) range\n",
    "iv_fluid_mv_df = iv_fluid_mv_df.loc[(iv_fluid_mv_df['amount'] > 0) & (iv_fluid_mv_df['amount'] < 5000) & iv_fluid_mv_df['amount'].notna()]\n",
    "\n",
    "# Compute duration in hours\n",
    "# NOTE: original erroneously measured time in minutes\n",
    "iv_fluid_mv_df['duration'] = (iv_fluid_mv_df['endtime'] - iv_fluid_mv_df['starttime']).astype('timedelta64[s]').astype(int) / 3600\n",
    "\n",
    "# Drop many useless columns\n",
    "iv_fluid_mv_df = iv_fluid_mv_df[['subject_id', 'hadm_id', 'icustay_id', 'starttime', 'endtime', 'amount', 'duration']]\n",
    "iv_fluid_mv_df.head()"
   ]
  },
  {
   "cell_type": "markdown",
   "id": "92946ac0-157e-421f-ae1b-95e467edc9ec",
   "metadata": {},
   "source": [
    "**Computing IV fluid intake:**<br>\n",
    "In order to determine the total amount of IV fluid administered within a 4 hour interval, we need to calculate how long a treatment was administered for during an interval; multiplied by the rate (i.e. `amount / duration`) we can infer the total amount administered by each treatment during the current interval. For this we use the `total_admin_in_interval` function below:"
   ]
  },
  {
   "cell_type": "code",
   "execution_count": 20,
   "id": "19d77244",
   "metadata": {},
   "outputs": [],
   "source": [
    "# Computes how much of each dose was administered between interval_start and interval_end\n",
    "def total_admin_in_interval(interval_start, interval_end, treatments):\n",
    "    dose_start = treatments['starttime']\n",
    "    dose_end = treatments['endtime']\n",
    "    amount = treatments['amount']\n",
    "    duration = treatments['duration']\n",
    "    rate = amount / duration # in ml/hour!   \n",
    "    \n",
    "    total_ml = 0\n",
    "    \n",
    "    # Option 1: Dose started before interval and ended after interval\n",
    "    c1 = (dose_start < interval_start) & (dose_end > interval_end)\n",
    "    if c1.any():\n",
    "        total_ml += (to_hours(interval_end - interval_start) * rate[c1]).sum()\n",
    "    \n",
    "    # Option 2: Dose started before and ended within interval\n",
    "    c2 = (dose_start < interval_start) & (dose_end > interval_start) & (dose_end <= interval_end)\n",
    "    if c2.any():\n",
    "        total_ml += (to_hours(dose_end - interval_start) * rate[c2]).sum()\n",
    "\n",
    "    # Option 3: Dose started and ended in interval\n",
    "    c3 = (dose_start >= interval_start) & (dose_start < interval_end) & (dose_end <= interval_end) & (dose_end > interval_start)\n",
    "    if c3.any():\n",
    "        total_ml += amount[c3].sum()\n",
    "    \n",
    "    # Option 4: dose started in interval and ended after interval\n",
    "    # Remark: Extra division by duration in original notebook\n",
    "    # Remark: In original notebook, > in first term causes treatments to be skipped starting exactly at interval start\n",
    "    c4 = (dose_start >= interval_start) & (dose_start < interval_end) & (dose_end > interval_end)\n",
    "    if c4.any():\n",
    "        total_ml += (to_hours(interval_end - dose_start) * rate[c4]).sum()\n",
    "            \n",
    "    return total_ml"
   ]
  },
  {
   "cell_type": "markdown",
   "id": "a8b29ed1-c4a9-415f-b55a-d7f4e46abdc8",
   "metadata": {},
   "source": [
    "We can now use `total_admin_in_interval()` on each interval `(interval_start, interval_end)` and treatments in `ivfluid_mv_df` to compute the total IV fluid administration within each 4 hour interval:"
   ]
  },
  {
   "cell_type": "code",
   "execution_count": 21,
   "id": "87039402",
   "metadata": {},
   "outputs": [
    {
     "name": "stderr",
     "output_type": "stream",
     "text": [
      "Give me a bit: 100%|█████████████████████████████████████████████████████████████| 13593/13593 [08:58<00:00, 25.22it/s]\n"
     ]
    },
    {
     "data": {
      "text/html": [
       "<div>\n",
       "<style scoped>\n",
       "    .dataframe tbody tr th:only-of-type {\n",
       "        vertical-align: middle;\n",
       "    }\n",
       "\n",
       "    .dataframe tbody tr th {\n",
       "        vertical-align: top;\n",
       "    }\n",
       "\n",
       "    .dataframe thead th {\n",
       "        text-align: right;\n",
       "    }\n",
       "</style>\n",
       "<table border=\"1\" class=\"dataframe\">\n",
       "  <thead>\n",
       "    <tr style=\"text-align: right;\">\n",
       "      <th></th>\n",
       "      <th>episode</th>\n",
       "      <th>timestep</th>\n",
       "      <th>type</th>\n",
       "      <th>value</th>\n",
       "    </tr>\n",
       "  </thead>\n",
       "  <tbody>\n",
       "    <tr>\n",
       "      <th>13</th>\n",
       "      <td>299998.0</td>\n",
       "      <td>2181-07-06 13:12:00</td>\n",
       "      <td>total_iv_fluid</td>\n",
       "      <td>1200.00000</td>\n",
       "    </tr>\n",
       "    <tr>\n",
       "      <th>14</th>\n",
       "      <td>299998.0</td>\n",
       "      <td>2181-07-06 17:12:00</td>\n",
       "      <td>total_iv_fluid</td>\n",
       "      <td>1200.00000</td>\n",
       "    </tr>\n",
       "    <tr>\n",
       "      <th>15</th>\n",
       "      <td>299998.0</td>\n",
       "      <td>2181-07-06 21:12:00</td>\n",
       "      <td>total_iv_fluid</td>\n",
       "      <td>1324.22749</td>\n",
       "    </tr>\n",
       "    <tr>\n",
       "      <th>16</th>\n",
       "      <td>299998.0</td>\n",
       "      <td>2181-07-07 01:12:00</td>\n",
       "      <td>total_iv_fluid</td>\n",
       "      <td>1183.94160</td>\n",
       "    </tr>\n",
       "    <tr>\n",
       "      <th>17</th>\n",
       "      <td>299998.0</td>\n",
       "      <td>2181-07-07 05:12:00</td>\n",
       "      <td>total_iv_fluid</td>\n",
       "      <td>2194.33090</td>\n",
       "    </tr>\n",
       "  </tbody>\n",
       "</table>\n",
       "</div>"
      ],
      "text/plain": [
       "     episode            timestep            type       value\n",
       "13  299998.0 2181-07-06 13:12:00  total_iv_fluid  1200.00000\n",
       "14  299998.0 2181-07-06 17:12:00  total_iv_fluid  1200.00000\n",
       "15  299998.0 2181-07-06 21:12:00  total_iv_fluid  1324.22749\n",
       "16  299998.0 2181-07-07 01:12:00  total_iv_fluid  1183.94160\n",
       "17  299998.0 2181-07-07 05:12:00  total_iv_fluid  2194.33090"
      ]
     },
     "execution_count": 21,
     "metadata": {},
     "output_type": "execute_result"
    }
   ],
   "source": [
    "sampled_iv_fluid_mv_dfs = []\n",
    "\n",
    "# Process admissions one-by-one\n",
    "for icustay_id, treatments in tqdm(iv_fluid_mv_df.groupby('icustay_id'), desc='Give me a bit'):\n",
    "    \n",
    "    # Is icustay part of cohort?\n",
    "    if icustay_id not in interval_times:\n",
    "        continue\n",
    "    \n",
    "    intervals = interval_times[icustay_id]\n",
    "    total_iv_fluid = np.zeros(len(intervals), dtype=np.float64)\n",
    "    \n",
    "    # Compute total IV fluid within each interval\n",
    "    for i, (interval_start, interval_end) in enumerate(intervals):\n",
    "        total_iv_fluid[i] = total_admin_in_interval(interval_start, interval_end, treatments)\n",
    "                \n",
    "    # Convert to DataFrame\n",
    "    sampled_iv_fluid_df = pd.DataFrame({'episode': icustay_id,\n",
    "                                        'timestep': [start for start, _ in intervals],\n",
    "                                        'type': 'total_iv_fluid',\n",
    "                                        'value': total_iv_fluid})\n",
    "    sampled_iv_fluid_mv_dfs.append(sampled_iv_fluid_df)\n",
    "    \n",
    "# Concat DataFrames of individual icustays\n",
    "sampled_iv_fluid_mv_df = pd.concat(sampled_iv_fluid_mv_dfs)\n",
    "sampled_iv_fluid_mv_df.tail()"
   ]
  },
  {
   "cell_type": "code",
   "execution_count": 22,
   "id": "df6661e0-495c-4b5a-a71a-238cd89378be",
   "metadata": {},
   "outputs": [],
   "source": [
    "del iv_fluid_mv_df, sampled_iv_fluid_mv_dfs"
   ]
  },
  {
   "cell_type": "code",
   "execution_count": 23,
   "id": "b14e47fc-7b82-41f1-9c8f-fcb3c7934062",
   "metadata": {},
   "outputs": [
    {
     "data": {
      "image/png": "[encoded data removed]",
      "text/plain": [
       "<Figure size 576x216 with 1 Axes>"
      ]
     },
     "metadata": {
      "needs_background": "light"
     },
     "output_type": "display_data"
    }
   ],
   "source": [
    "# Get total IV fluid intake for one random patient\n",
    "plot_single(sampled_iv_fluid_mv_df, item_id='total_iv_fluid')"
   ]
  },
  {
   "cell_type": "code",
   "execution_count": 24,
   "id": "c3ace4ba-1eb6-4d79-a619-eaa94aa2efb8",
   "metadata": {},
   "outputs": [
    {
     "name": "stdout",
     "output_type": "stream",
     "text": [
      "MetaVision total_iv_fluid records: 9203\n"
     ]
    }
   ],
   "source": [
    "# How many admissions were recorded in MetaVision?\n",
    "iv_fluid_mv_episodes = sampled_iv_fluid_mv_df['episode'].unique()\n",
    "print('MetaVision total_iv_fluid records: %s' % len(iv_fluid_mv_episodes))"
   ]
  },
  {
   "cell_type": "markdown",
   "id": "bcb54955-7c38-450f-8d70-f2207e479946",
   "metadata": {},
   "source": [
    "### 2. CareVue Records (Optional)"
   ]
  },
  {
   "cell_type": "code",
   "execution_count": 25,
   "id": "d5d90f8a-823d-41ef-8194-3f951e52a763",
   "metadata": {},
   "outputs": [],
   "source": [
    "if USE_CAREVUE:\n",
    "    # Load data\n",
    "    iv_fluid_cv_df = read_csv(DATA_DIR + 'inputevents_cv_cohort_v2.csv')\n",
    "\n",
    "    # Sanity check: remove amounts outside (0, 5000) range\n",
    "    iv_fluid_cv_df = iv_fluid_cv_df.loc[(iv_fluid_cv_df['amount'] > 0) & (iv_fluid_cv_df['amount'] < 5000) & iv_fluid_cv_df['amount'].notna()]\n",
    "\n",
    "    # Compute duration in hours\n",
    "    iv_fluid_cv_df['duration'] = (iv_fluid_cv_df['endtime'] - iv_fluid_cv_df['starttime']).astype('timedelta64[s]').astype(int) / 3600\n",
    "\n",
    "    # Process admissions one-by-one\n",
    "    sampled_iv_fluid_cv_dfs = []\n",
    "    for icustay_id, treatments in tqdm(iv_fluid_cv_df.groupby('icustay_id'), desc='Grab another coffee!'):\n",
    "    \n",
    "        # Is icustay part of cohort?\n",
    "        if icustay_id not in interval_times:\n",
    "            continue\n",
    "            \n",
    "        # Skip if already recorded by MV\n",
    "        if icustay_id in iv_fluid_mv_episodes:\n",
    "            continue\n",
    "\n",
    "        intervals = interval_times[icustay_id]\n",
    "        total_iv_fluid = np.zeros(len(intervals), dtype=np.float64)\n",
    "\n",
    "        # Compute total IV fluid within each interval\n",
    "        for i, (interval_start, interval_end) in enumerate(intervals):\n",
    "            total_iv_fluid[i] = total_admin_in_interval(interval_start, interval_end, treatments)\n",
    "\n",
    "        # Convert to DataFrame\n",
    "        sampled_iv_fluid_df = pd.DataFrame({'episode': icustay_id,\n",
    "                                            'timestep': [start for start, _ in intervals],\n",
    "                                            'type': 'total_iv_fluid',\n",
    "                                            'value': total_iv_fluid})\n",
    "        sampled_iv_fluid_cv_dfs.append(sampled_iv_fluid_df)\n",
    "\n",
    "    # Concat DataFrames of individual admissions\n",
    "    sampled_iv_fluid_cv_df = pd.concat(sampled_iv_fluid_cv_dfs)\n",
    "    \n",
    "    del iv_fluid_cv_df"
   ]
  },
  {
   "cell_type": "code",
   "execution_count": 26,
   "id": "95110912-717e-45f5-a9c7-07442d1dec6d",
   "metadata": {},
   "outputs": [],
   "source": [
    "# Get total IV fluid intake for one random patient\n",
    "if USE_CAREVUE:\n",
    "    plot_single(sampled_iv_fluid_cv_df, item_id='total_iv_fluid')"
   ]
  },
  {
   "cell_type": "code",
   "execution_count": 27,
   "id": "c7e8e9e3-7912-4d75-915a-abdf2f81377f",
   "metadata": {},
   "outputs": [],
   "source": [
    "# How many admissions were recorded in CareVue?\n",
    "if USE_CAREVUE:\n",
    "    iv_fluid_cv_episodes = sampled_iv_fluid_cv_df['episode'].unique()\n",
    "    print('CareVue total_iv_fluid records: %s' % len(iv_fluid_cv_episodes))"
   ]
  },
  {
   "cell_type": "markdown",
   "id": "861b35fc-9517-4edb-b7ed-5b4313c5f07d",
   "metadata": {},
   "source": [
    "#### Combine CareVue Fluid Records with MetaVision"
   ]
  },
  {
   "cell_type": "code",
   "execution_count": 28,
   "id": "a440f4fb-9b30-48ef-ad53-bde29401e2cb",
   "metadata": {},
   "outputs": [],
   "source": [
    "# Merge CV and MV records if processed; otherwise just use MV\n",
    "if USE_CAREVUE:\n",
    "    sampled_iv_fluid_df = pd.concat([sampled_iv_fluid_mv_df, sampled_iv_fluid_cv_df])\n",
    "else:\n",
    "    sampled_iv_fluid_df = sampled_iv_fluid_mv_df"
   ]
  },
  {
   "cell_type": "code",
   "execution_count": 29,
   "id": "72a01213-ccd4-4745-a920-f0f3ffc27034",
   "metadata": {},
   "outputs": [
    {
     "name": "stdout",
     "output_type": "stream",
     "text": [
      "Total admissions: 9203\n"
     ]
    }
   ],
   "source": [
    "num_admissions = len(sampled_iv_fluid_df['episode'].unique())\n",
    "print('Total admissions:', num_admissions)"
   ]
  },
  {
   "cell_type": "markdown",
   "id": "74de831d",
   "metadata": {},
   "source": [
    "---\n",
    "## Vitals\n",
    "\n",
    "Vitals are already in the correct format, therefore we only need to rename the columns, drop unnecessary ones and snake-case the `vital_ids`;"
   ]
  },
  {
   "cell_type": "code",
   "execution_count": 30,
   "id": "10280cc7",
   "metadata": {},
   "outputs": [
    {
     "data": {
      "text/html": [
       "<div>\n",
       "<style scoped>\n",
       "    .dataframe tbody tr th:only-of-type {\n",
       "        vertical-align: middle;\n",
       "    }\n",
       "\n",
       "    .dataframe tbody tr th {\n",
       "        vertical-align: top;\n",
       "    }\n",
       "\n",
       "    .dataframe thead th {\n",
       "        text-align: right;\n",
       "    }\n",
       "</style>\n",
       "<table border=\"1\" class=\"dataframe\">\n",
       "  <thead>\n",
       "    <tr style=\"text-align: right;\">\n",
       "      <th></th>\n",
       "      <th>episode</th>\n",
       "      <th>timestep</th>\n",
       "      <th>type</th>\n",
       "      <th>value</th>\n",
       "    </tr>\n",
       "  </thead>\n",
       "  <tbody>\n",
       "    <tr>\n",
       "      <th>0</th>\n",
       "      <td>294638</td>\n",
       "      <td>2191-03-16 01:30:00</td>\n",
       "      <td>heart_rate</td>\n",
       "      <td>111.000000</td>\n",
       "    </tr>\n",
       "    <tr>\n",
       "      <th>1</th>\n",
       "      <td>294638</td>\n",
       "      <td>2191-03-16 01:30:00</td>\n",
       "      <td>sp_o2</td>\n",
       "      <td>98.000000</td>\n",
       "    </tr>\n",
       "    <tr>\n",
       "      <th>2</th>\n",
       "      <td>294638</td>\n",
       "      <td>2191-03-16 01:30:00</td>\n",
       "      <td>temp_c</td>\n",
       "      <td>37.444445</td>\n",
       "    </tr>\n",
       "    <tr>\n",
       "      <th>3</th>\n",
       "      <td>294638</td>\n",
       "      <td>2191-03-16 02:00:00</td>\n",
       "      <td>dias_bp</td>\n",
       "      <td>63.000000</td>\n",
       "    </tr>\n",
       "    <tr>\n",
       "      <th>4</th>\n",
       "      <td>294638</td>\n",
       "      <td>2191-03-16 02:00:00</td>\n",
       "      <td>heart_rate</td>\n",
       "      <td>100.000000</td>\n",
       "    </tr>\n",
       "  </tbody>\n",
       "</table>\n",
       "</div>"
      ],
      "text/plain": [
       "   episode            timestep        type       value\n",
       "0   294638 2191-03-16 01:30:00  heart_rate  111.000000\n",
       "1   294638 2191-03-16 01:30:00       sp_o2   98.000000\n",
       "2   294638 2191-03-16 01:30:00      temp_c   37.444445\n",
       "3   294638 2191-03-16 02:00:00     dias_bp   63.000000\n",
       "4   294638 2191-03-16 02:00:00  heart_rate  100.000000"
      ]
     },
     "execution_count": 30,
     "metadata": {},
     "output_type": "execute_result"
    }
   ],
   "source": [
    "vitals_df = read_csv(DATA_DIR + 'vitals_cohort.csv')\n",
    "\n",
    "# Simply rename columns (vitals_df is already in the right format)\n",
    "vitals_df = pd.DataFrame({'episode': vitals_df['icustay_id'],\n",
    "                          'timestep': vitals_df['charttime'],\n",
    "                          'type': vitals_df['vital_id'].apply(to_snakecase),\n",
    "                          'value': vitals_df['valuenum']})\n",
    "vitals_df.head()"
   ]
  },
  {
   "cell_type": "markdown",
   "id": "a23dd94e",
   "metadata": {},
   "source": [
    "---\n",
    "## Lab Results"
   ]
  },
  {
   "cell_type": "code",
   "execution_count": 31,
   "id": "cd098af8",
   "metadata": {},
   "outputs": [
    {
     "data": {
      "text/html": [
       "<div>\n",
       "<style scoped>\n",
       "    .dataframe tbody tr th:only-of-type {\n",
       "        vertical-align: middle;\n",
       "    }\n",
       "\n",
       "    .dataframe tbody tr th {\n",
       "        vertical-align: top;\n",
       "    }\n",
       "\n",
       "    .dataframe thead th {\n",
       "        text-align: right;\n",
       "    }\n",
       "</style>\n",
       "<table border=\"1\" class=\"dataframe\">\n",
       "  <thead>\n",
       "    <tr style=\"text-align: right;\">\n",
       "      <th></th>\n",
       "      <th>episode</th>\n",
       "      <th>timestep</th>\n",
       "      <th>type</th>\n",
       "      <th>value</th>\n",
       "    </tr>\n",
       "  </thead>\n",
       "  <tbody>\n",
       "    <tr>\n",
       "      <th>0</th>\n",
       "      <td>294638</td>\n",
       "      <td>2191-03-15 14:12:00</td>\n",
       "      <td>alat</td>\n",
       "      <td>28.0</td>\n",
       "    </tr>\n",
       "    <tr>\n",
       "      <th>1</th>\n",
       "      <td>294638</td>\n",
       "      <td>2191-03-15 14:12:00</td>\n",
       "      <td>anion gap</td>\n",
       "      <td>17.0</td>\n",
       "    </tr>\n",
       "    <tr>\n",
       "      <th>2</th>\n",
       "      <td>294638</td>\n",
       "      <td>2191-03-15 14:12:00</td>\n",
       "      <td>asat</td>\n",
       "      <td>69.0</td>\n",
       "    </tr>\n",
       "    <tr>\n",
       "      <th>3</th>\n",
       "      <td>294638</td>\n",
       "      <td>2191-03-15 14:12:00</td>\n",
       "      <td>bicarbonate</td>\n",
       "      <td>24.0</td>\n",
       "    </tr>\n",
       "    <tr>\n",
       "      <th>4</th>\n",
       "      <td>294638</td>\n",
       "      <td>2191-03-15 14:12:00</td>\n",
       "      <td>bilirubin</td>\n",
       "      <td>2.2</td>\n",
       "    </tr>\n",
       "  </tbody>\n",
       "</table>\n",
       "</div>"
      ],
      "text/plain": [
       "   episode            timestep         type  value\n",
       "0   294638 2191-03-15 14:12:00         alat   28.0\n",
       "1   294638 2191-03-15 14:12:00    anion gap   17.0\n",
       "2   294638 2191-03-15 14:12:00         asat   69.0\n",
       "3   294638 2191-03-15 14:12:00  bicarbonate   24.0\n",
       "4   294638 2191-03-15 14:12:00    bilirubin    2.2"
      ]
     },
     "execution_count": 31,
     "metadata": {},
     "output_type": "execute_result"
    }
   ],
   "source": [
    "lab_df = read_csv(DATA_DIR + 'labs_cohort.csv')\n",
    "\n",
    "# Drop NaNs in lab_id column\n",
    "lab_df = lab_df[lab_df['lab_id'].notna()]\n",
    "\n",
    "# Simply rename columns (lab_df is already in the right format)\n",
    "lab_df = pd.DataFrame({'episode': lab_df['icustay_id'],\n",
    "                       'timestep': lab_df['charttime'],\n",
    "                       'type': lab_df['lab_id'].apply(to_snakecase),\n",
    "                       'value': lab_df['valuenum']})\n",
    "lab_df.head()"
   ]
  },
  {
   "cell_type": "markdown",
   "id": "619dc87a",
   "metadata": {},
   "source": [
    "---\n",
    "## FiO2 (Fraction of Inspired Oxygen)"
   ]
  },
  {
   "cell_type": "code",
   "execution_count": 32,
   "id": "7cfb5028",
   "metadata": {},
   "outputs": [
    {
     "data": {
      "text/html": [
       "<div>\n",
       "<style scoped>\n",
       "    .dataframe tbody tr th:only-of-type {\n",
       "        vertical-align: middle;\n",
       "    }\n",
       "\n",
       "    .dataframe tbody tr th {\n",
       "        vertical-align: top;\n",
       "    }\n",
       "\n",
       "    .dataframe thead th {\n",
       "        text-align: right;\n",
       "    }\n",
       "</style>\n",
       "<table border=\"1\" class=\"dataframe\">\n",
       "  <thead>\n",
       "    <tr style=\"text-align: right;\">\n",
       "      <th></th>\n",
       "      <th>episode</th>\n",
       "      <th>timestep</th>\n",
       "      <th>type</th>\n",
       "      <th>value</th>\n",
       "    </tr>\n",
       "  </thead>\n",
       "  <tbody>\n",
       "    <tr>\n",
       "      <th>0</th>\n",
       "      <td>294638</td>\n",
       "      <td>2191-03-16 03:00:00</td>\n",
       "      <td>fi_o2</td>\n",
       "      <td>94.999999</td>\n",
       "    </tr>\n",
       "    <tr>\n",
       "      <th>1</th>\n",
       "      <td>294638</td>\n",
       "      <td>2191-03-16 08:00:00</td>\n",
       "      <td>fi_o2</td>\n",
       "      <td>50.000000</td>\n",
       "    </tr>\n",
       "    <tr>\n",
       "      <th>2</th>\n",
       "      <td>294638</td>\n",
       "      <td>2191-03-16 11:00:00</td>\n",
       "      <td>fi_o2</td>\n",
       "      <td>NaN</td>\n",
       "    </tr>\n",
       "    <tr>\n",
       "      <th>3</th>\n",
       "      <td>220597</td>\n",
       "      <td>2149-11-09 13:40:00</td>\n",
       "      <td>fi_o2</td>\n",
       "      <td>NaN</td>\n",
       "    </tr>\n",
       "    <tr>\n",
       "      <th>4</th>\n",
       "      <td>220597</td>\n",
       "      <td>2149-11-09 17:00:00</td>\n",
       "      <td>fi_o2</td>\n",
       "      <td>60.000002</td>\n",
       "    </tr>\n",
       "  </tbody>\n",
       "</table>\n",
       "</div>"
      ],
      "text/plain": [
       "   episode            timestep   type      value\n",
       "0   294638 2191-03-16 03:00:00  fi_o2  94.999999\n",
       "1   294638 2191-03-16 08:00:00  fi_o2  50.000000\n",
       "2   294638 2191-03-16 11:00:00  fi_o2        NaN\n",
       "3   220597 2149-11-09 13:40:00  fi_o2        NaN\n",
       "4   220597 2149-11-09 17:00:00  fi_o2  60.000002"
      ]
     },
     "execution_count": 32,
     "metadata": {},
     "output_type": "execute_result"
    }
   ],
   "source": [
    "fio2_df = read_csv(DATA_DIR + 'fio2_cohort.csv')\n",
    "\n",
    "fio2_df = pd.DataFrame({'episode': fio2_df['icustay_id'],\n",
    "                        'timestep': fio2_df['charttime'],\n",
    "                        'type': 'fi_o2',\n",
    "                        'value': fio2_df['fio2']})\n",
    "fio2_df.head()"
   ]
  },
  {
   "cell_type": "markdown",
   "id": "62ff7b5b",
   "metadata": {},
   "source": [
    "---\n",
    "## Urine Output"
   ]
  },
  {
   "cell_type": "code",
   "execution_count": 33,
   "id": "2c2f5e09",
   "metadata": {},
   "outputs": [
    {
     "data": {
      "text/html": [
       "<div>\n",
       "<style scoped>\n",
       "    .dataframe tbody tr th:only-of-type {\n",
       "        vertical-align: middle;\n",
       "    }\n",
       "\n",
       "    .dataframe tbody tr th {\n",
       "        vertical-align: top;\n",
       "    }\n",
       "\n",
       "    .dataframe thead th {\n",
       "        text-align: right;\n",
       "    }\n",
       "</style>\n",
       "<table border=\"1\" class=\"dataframe\">\n",
       "  <thead>\n",
       "    <tr style=\"text-align: right;\">\n",
       "      <th></th>\n",
       "      <th>episode</th>\n",
       "      <th>timestep</th>\n",
       "      <th>type</th>\n",
       "      <th>value</th>\n",
       "    </tr>\n",
       "  </thead>\n",
       "  <tbody>\n",
       "    <tr>\n",
       "      <th>0</th>\n",
       "      <td>205353</td>\n",
       "      <td>2140-12-01 02:00:00</td>\n",
       "      <td>urine_output</td>\n",
       "      <td>5.0</td>\n",
       "    </tr>\n",
       "    <tr>\n",
       "      <th>1</th>\n",
       "      <td>210804</td>\n",
       "      <td>2132-06-03 08:00:00</td>\n",
       "      <td>urine_output</td>\n",
       "      <td>100.0</td>\n",
       "    </tr>\n",
       "    <tr>\n",
       "      <th>2</th>\n",
       "      <td>236794</td>\n",
       "      <td>2100-11-01 01:00:00</td>\n",
       "      <td>urine_output</td>\n",
       "      <td>150.0</td>\n",
       "    </tr>\n",
       "    <tr>\n",
       "      <th>3</th>\n",
       "      <td>247650</td>\n",
       "      <td>2141-08-23 18:00:00</td>\n",
       "      <td>urine_output</td>\n",
       "      <td>160.0</td>\n",
       "    </tr>\n",
       "    <tr>\n",
       "      <th>4</th>\n",
       "      <td>233215</td>\n",
       "      <td>2167-07-28 07:00:00</td>\n",
       "      <td>urine_output</td>\n",
       "      <td>45.0</td>\n",
       "    </tr>\n",
       "  </tbody>\n",
       "</table>\n",
       "</div>"
      ],
      "text/plain": [
       "   episode            timestep          type  value\n",
       "0   205353 2140-12-01 02:00:00  urine_output    5.0\n",
       "1   210804 2132-06-03 08:00:00  urine_output  100.0\n",
       "2   236794 2100-11-01 01:00:00  urine_output  150.0\n",
       "3   247650 2141-08-23 18:00:00  urine_output  160.0\n",
       "4   233215 2167-07-28 07:00:00  urine_output   45.0"
      ]
     },
     "execution_count": 33,
     "metadata": {},
     "output_type": "execute_result"
    }
   ],
   "source": [
    "urineoutput_df = read_csv(DATA_DIR + 'urineoutput_cohort.csv')\n",
    "\n",
    "urineoutput_df = pd.DataFrame({'episode': urineoutput_df['icustay_id'],\n",
    "                               'timestep': urineoutput_df['charttime'],\n",
    "                               'type': 'urine_output',\n",
    "                               'value': urineoutput_df['value']})\n",
    "urineoutput_df.head()"
   ]
  },
  {
   "cell_type": "markdown",
   "id": "9d2de45c-e26e-43da-8a48-4eacb31eae01",
   "metadata": {},
   "source": [
    "---\n",
    "## Demographics\n",
    "\n",
    "We repeat demographics at every decision point as we may need to truncate the sequence when it gets too long; then demographic information stored at the beginning of the sequence may be lost (e.g. as they were measured on admission)..."
   ]
  },
  {
   "cell_type": "code",
   "execution_count": 34,
   "id": "b88cf7ec-7c00-4252-80ff-74f465298f40",
   "metadata": {},
   "outputs": [],
   "source": [
    "USED_DEMOGRAPHICS = ['age', 'height', 'is_male', 'weight', 'vent', 'sofa', 'sirs']"
   ]
  },
  {
   "cell_type": "code",
   "execution_count": 35,
   "id": "e2742442-d475-44df-9526-8968c408c591",
   "metadata": {},
   "outputs": [
    {
     "data": {
      "text/html": [
       "<div>\n",
       "<style scoped>\n",
       "    .dataframe tbody tr th:only-of-type {\n",
       "        vertical-align: middle;\n",
       "    }\n",
       "\n",
       "    .dataframe tbody tr th {\n",
       "        vertical-align: top;\n",
       "    }\n",
       "\n",
       "    .dataframe thead th {\n",
       "        text-align: right;\n",
       "    }\n",
       "</style>\n",
       "<table border=\"1\" class=\"dataframe\">\n",
       "  <thead>\n",
       "    <tr style=\"text-align: right;\">\n",
       "      <th></th>\n",
       "      <th>icustay_id</th>\n",
       "      <th>age</th>\n",
       "      <th>height</th>\n",
       "      <th>is_male</th>\n",
       "      <th>weight</th>\n",
       "      <th>vent</th>\n",
       "      <th>sofa</th>\n",
       "      <th>sirs</th>\n",
       "      <th>window_start</th>\n",
       "    </tr>\n",
       "  </thead>\n",
       "  <tbody>\n",
       "    <tr>\n",
       "      <th>0</th>\n",
       "      <td>200003</td>\n",
       "      <td>48.2940</td>\n",
       "      <td>177.80</td>\n",
       "      <td>1</td>\n",
       "      <td>77.0</td>\n",
       "      <td>1</td>\n",
       "      <td>6</td>\n",
       "      <td>4</td>\n",
       "      <td>2199-08-01 21:02:00</td>\n",
       "    </tr>\n",
       "    <tr>\n",
       "      <th>1</th>\n",
       "      <td>200014</td>\n",
       "      <td>84.7274</td>\n",
       "      <td>167.64</td>\n",
       "      <td>1</td>\n",
       "      <td>62.0</td>\n",
       "      <td>1</td>\n",
       "      <td>3</td>\n",
       "      <td>4</td>\n",
       "      <td>2105-02-16 00:00:00</td>\n",
       "    </tr>\n",
       "    <tr>\n",
       "      <th>2</th>\n",
       "      <td>200019</td>\n",
       "      <td>82.8820</td>\n",
       "      <td>NaN</td>\n",
       "      <td>0</td>\n",
       "      <td>65.0</td>\n",
       "      <td>1</td>\n",
       "      <td>5</td>\n",
       "      <td>3</td>\n",
       "      <td>2178-07-07 21:51:00</td>\n",
       "    </tr>\n",
       "    <tr>\n",
       "      <th>3</th>\n",
       "      <td>200030</td>\n",
       "      <td>54.1915</td>\n",
       "      <td>187.96</td>\n",
       "      <td>1</td>\n",
       "      <td>113.6</td>\n",
       "      <td>0</td>\n",
       "      <td>7</td>\n",
       "      <td>4</td>\n",
       "      <td>2150-11-12 00:00:00</td>\n",
       "    </tr>\n",
       "    <tr>\n",
       "      <th>4</th>\n",
       "      <td>200035</td>\n",
       "      <td>30.6591</td>\n",
       "      <td>NaN</td>\n",
       "      <td>1</td>\n",
       "      <td>95.5</td>\n",
       "      <td>0</td>\n",
       "      <td>2</td>\n",
       "      <td>3</td>\n",
       "      <td>2156-10-06 16:50:00</td>\n",
       "    </tr>\n",
       "  </tbody>\n",
       "</table>\n",
       "</div>"
      ],
      "text/plain": [
       "   icustay_id      age  height  is_male  weight  vent  sofa  sirs  \\\n",
       "0      200003  48.2940  177.80        1    77.0     1     6     4   \n",
       "1      200014  84.7274  167.64        1    62.0     1     3     4   \n",
       "2      200019  82.8820     NaN        0    65.0     1     5     3   \n",
       "3      200030  54.1915  187.96        1   113.6     0     7     4   \n",
       "4      200035  30.6591     NaN        1    95.5     0     2     3   \n",
       "\n",
       "         window_start  \n",
       "0 2199-08-01 21:02:00  \n",
       "1 2105-02-16 00:00:00  \n",
       "2 2178-07-07 21:51:00  \n",
       "3 2150-11-12 00:00:00  \n",
       "4 2156-10-06 16:50:00  "
      ]
     },
     "execution_count": 35,
     "metadata": {},
     "output_type": "execute_result"
    }
   ],
   "source": [
    "demo_df = read_csv(DATA_DIR + 'demographics_cohort.csv')[['icustay_id'] + USED_DEMOGRAPHICS]\n",
    "\n",
    "# Merge table to be able to access window_start\n",
    "demo_df = demo_df.merge(cohort_df[['icustay_id', 'window_start']], on='icustay_id', how='inner')\n",
    "demo_df.head()"
   ]
  },
  {
   "cell_type": "code",
   "execution_count": 36,
   "id": "14045449-ae83-4b30-a147-b5f7e6029bcc",
   "metadata": {},
   "outputs": [
    {
     "name": "stderr",
     "output_type": "stream",
     "text": [
      "100%|████████████████████████████████████████████████████████████████████████████| 18091/18091 [03:11<00:00, 94.65it/s]\n"
     ]
    },
    {
     "data": {
      "text/html": [
       "<div>\n",
       "<style scoped>\n",
       "    .dataframe tbody tr th:only-of-type {\n",
       "        vertical-align: middle;\n",
       "    }\n",
       "\n",
       "    .dataframe tbody tr th {\n",
       "        vertical-align: top;\n",
       "    }\n",
       "\n",
       "    .dataframe thead th {\n",
       "        text-align: right;\n",
       "    }\n",
       "</style>\n",
       "<table border=\"1\" class=\"dataframe\">\n",
       "  <thead>\n",
       "    <tr style=\"text-align: right;\">\n",
       "      <th></th>\n",
       "      <th>episode</th>\n",
       "      <th>timestep</th>\n",
       "      <th>type</th>\n",
       "      <th>value</th>\n",
       "    </tr>\n",
       "  </thead>\n",
       "  <tbody>\n",
       "    <tr>\n",
       "      <th>0</th>\n",
       "      <td>200003</td>\n",
       "      <td>2199-08-01 21:01:00</td>\n",
       "      <td>age</td>\n",
       "      <td>48.294</td>\n",
       "    </tr>\n",
       "    <tr>\n",
       "      <th>1</th>\n",
       "      <td>200003</td>\n",
       "      <td>2199-08-02 01:01:00</td>\n",
       "      <td>age</td>\n",
       "      <td>48.294</td>\n",
       "    </tr>\n",
       "    <tr>\n",
       "      <th>2</th>\n",
       "      <td>200003</td>\n",
       "      <td>2199-08-02 05:01:00</td>\n",
       "      <td>age</td>\n",
       "      <td>48.294</td>\n",
       "    </tr>\n",
       "    <tr>\n",
       "      <th>3</th>\n",
       "      <td>200003</td>\n",
       "      <td>2199-08-02 09:01:00</td>\n",
       "      <td>age</td>\n",
       "      <td>48.294</td>\n",
       "    </tr>\n",
       "    <tr>\n",
       "      <th>4</th>\n",
       "      <td>200003</td>\n",
       "      <td>2199-08-02 13:01:00</td>\n",
       "      <td>age</td>\n",
       "      <td>48.294</td>\n",
       "    </tr>\n",
       "  </tbody>\n",
       "</table>\n",
       "</div>"
      ],
      "text/plain": [
       "   episode            timestep type   value\n",
       "0   200003 2199-08-01 21:01:00  age  48.294\n",
       "1   200003 2199-08-02 01:01:00  age  48.294\n",
       "2   200003 2199-08-02 05:01:00  age  48.294\n",
       "3   200003 2199-08-02 09:01:00  age  48.294\n",
       "4   200003 2199-08-02 13:01:00  age  48.294"
      ]
     },
     "execution_count": 36,
     "metadata": {},
     "output_type": "execute_result"
    }
   ],
   "source": [
    "minute = pd.to_timedelta('1m')\n",
    "\n",
    "# Create df with demographics as measurements\n",
    "demo_dfs = []\n",
    "for icustay_id, icustay_demo_df in tqdm(demo_df.groupby('icustay_id')):\n",
    "    \n",
    "    # Repeat demographics at every decision point! \n",
    "    for feat in USED_DEMOGRAPHICS:\n",
    "        demo_df2 = pd.DataFrame({'episode': icustay_id,\n",
    "                                 'timestep': [start - minute for start, _ in interval_times[icustay_id]], # one minute before actual decision point!\n",
    "                                 'type': feat,\n",
    "                                 'value': icustay_demo_df[feat].values[0]})\n",
    "        demo_dfs.append(demo_df2)\n",
    "    \n",
    "demo_df = pd.concat(demo_dfs)\n",
    "demo_df.head()"
   ]
  },
  {
   "cell_type": "code",
   "execution_count": 37,
   "id": "a07bb19e-e39f-4b76-8530-cc11354dc827",
   "metadata": {},
   "outputs": [],
   "source": [
    "del demo_dfs"
   ]
  },
  {
   "cell_type": "markdown",
   "id": "aceefa1b-bd17-4f05-8468-787968d7ecf2",
   "metadata": {},
   "source": [
    "---\n",
    "## Putting It All Together"
   ]
  },
  {
   "cell_type": "code",
   "execution_count": 38,
   "id": "4705f0ec-cc66-4e9e-805a-1cb259cd5f9d",
   "metadata": {},
   "outputs": [],
   "source": [
    "# Merge measurement DataFrames\n",
    "full_df = pd.concat([sampled_vaso_df,\n",
    "                     demo_df,\n",
    "                     sampled_iv_fluid_df, \n",
    "                     vitals_df, \n",
    "                     lab_df, \n",
    "                     fio2_df, \n",
    "                     urineoutput_df]).dropna(axis=0).reset_index(drop=True)\n",
    "\n",
    "# Group by admissions and timestep\n",
    "full_df = full_df.sort_values(by=['episode', 'timestep']).reset_index(drop=True)"
   ]
  },
  {
   "cell_type": "code",
   "execution_count": 39,
   "id": "3306beb3-3ce8-4fa4-b854-9d5abf9a7c3f",
   "metadata": {},
   "outputs": [
    {
     "data": {
      "text/html": [
       "<div>\n",
       "<style scoped>\n",
       "    .dataframe tbody tr th:only-of-type {\n",
       "        vertical-align: middle;\n",
       "    }\n",
       "\n",
       "    .dataframe tbody tr th {\n",
       "        vertical-align: top;\n",
       "    }\n",
       "\n",
       "    .dataframe thead th {\n",
       "        text-align: right;\n",
       "    }\n",
       "</style>\n",
       "<table border=\"1\" class=\"dataframe\">\n",
       "  <thead>\n",
       "    <tr style=\"text-align: right;\">\n",
       "      <th></th>\n",
       "      <th>timestep</th>\n",
       "      <th>episode</th>\n",
       "      <th>type</th>\n",
       "      <th>value</th>\n",
       "    </tr>\n",
       "  </thead>\n",
       "  <tbody>\n",
       "    <tr>\n",
       "      <th>7644326</th>\n",
       "      <td>2128-03-02 09:00:00</td>\n",
       "      <td>278420.0</td>\n",
       "      <td>resp_rate</td>\n",
       "      <td>26.00</td>\n",
       "    </tr>\n",
       "    <tr>\n",
       "      <th>2514136</th>\n",
       "      <td>2146-07-05 04:26:00</td>\n",
       "      <td>226197.0</td>\n",
       "      <td>sirs</td>\n",
       "      <td>2.00</td>\n",
       "    </tr>\n",
       "    <tr>\n",
       "      <th>8533805</th>\n",
       "      <td>2196-03-05 14:00:00</td>\n",
       "      <td>287369.0</td>\n",
       "      <td>resp_rate</td>\n",
       "      <td>13.00</td>\n",
       "    </tr>\n",
       "    <tr>\n",
       "      <th>4573853</th>\n",
       "      <td>2163-05-23 20:04:00</td>\n",
       "      <td>247437.0</td>\n",
       "      <td>ph</td>\n",
       "      <td>7.35</td>\n",
       "    </tr>\n",
       "    <tr>\n",
       "      <th>1786650</th>\n",
       "      <td>2141-04-11 23:00:00</td>\n",
       "      <td>218595.0</td>\n",
       "      <td>mean_bp</td>\n",
       "      <td>98.00</td>\n",
       "    </tr>\n",
       "  </tbody>\n",
       "</table>\n",
       "</div>"
      ],
      "text/plain": [
       "                   timestep   episode       type  value\n",
       "7644326 2128-03-02 09:00:00  278420.0  resp_rate  26.00\n",
       "2514136 2146-07-05 04:26:00  226197.0       sirs   2.00\n",
       "8533805 2196-03-05 14:00:00  287369.0  resp_rate  13.00\n",
       "4573853 2163-05-23 20:04:00  247437.0         ph   7.35\n",
       "1786650 2141-04-11 23:00:00  218595.0    mean_bp  98.00"
      ]
     },
     "execution_count": 39,
     "metadata": {},
     "output_type": "execute_result"
    }
   ],
   "source": [
    "shuffled_full_df = full_df.sample(frac=1)\n",
    "shuffled_full_df.head()"
   ]
  },
  {
   "cell_type": "code",
   "execution_count": 40,
   "id": "4402d13e-5ac8-4fa9-94fb-15ffa8015f42",
   "metadata": {},
   "outputs": [],
   "source": [
    "del shuffled_full_df"
   ]
  },
  {
   "cell_type": "code",
   "execution_count": 41,
   "id": "ae36c0e4-d2fa-4c4d-913e-80b9f5168add",
   "metadata": {},
   "outputs": [
    {
     "name": "stdout",
     "output_type": "stream",
     "text": [
      "Total admissions: 18331\n"
     ]
    }
   ],
   "source": [
    "num_admissions = len(full_df['episode'].unique())\n",
    "print('Total admissions:', num_admissions)"
   ]
  },
  {
   "cell_type": "markdown",
   "id": "abba1b54-4696-48bf-a7e2-4a57f87ff1c1",
   "metadata": {},
   "source": [
    "---\n",
    "## Add Discretized Action Space and Rewards"
   ]
  },
  {
   "cell_type": "code",
   "execution_count": 42,
   "id": "d96632b8-ca4b-4067-88ca-8529beae9b1b",
   "metadata": {},
   "outputs": [
    {
     "name": "stdout",
     "output_type": "stream",
     "text": [
      "Max vasopressor bins:\n",
      "[  -inf 0.     0.1126 0.2251 0.4503    inf] \n",
      "\n",
      "IV fluid bins:\n",
      "[     -inf    0.      162.5273  500.     1075.           inf]\n"
     ]
    }
   ],
   "source": [
    "# Load previously-estimated action-space bins\n",
    "max_vaso_bins = np.loadtxt(OUTPUT_DIR_ROGGEVEEN + '/max_vaso_bins.npy')\n",
    "print('Max vasopressor bins:')\n",
    "print(max_vaso_bins.round(4), '\\n')\n",
    "\n",
    "total_iv_fluid_bins = np.loadtxt(OUTPUT_DIR_ROGGEVEEN + '/total_iv_fluid_bins.npy')\n",
    "print('IV fluid bins:')\n",
    "print(total_iv_fluid_bins.round(4))"
   ]
  },
  {
   "cell_type": "markdown",
   "id": "f38acaa9-5bb9-4e6a-b788-a94193265c93",
   "metadata": {},
   "source": [
    " "
   ]
  },
  {
   "cell_type": "code",
   "execution_count": 43,
   "id": "02ccba39-d9c5-4f57-b746-cf7f1832ea96",
   "metadata": {},
   "outputs": [],
   "source": [
    "def actions_and_rewards(max_vaso_df, iv_fluid_df, max_vaso_bins, iv_fluid_bins, cohort_df):    \n",
    "    # Merge vasopressor and IV fluid DataFrames\n",
    "    action_space_df = pd.concat([max_vaso_df, iv_fluid_df])\n",
    "\n",
    "    action_reward_dfs = []\n",
    "    for icustay_id, icustay_data in tqdm(action_space_df.groupby('episode')):\n",
    "        \n",
    "        # Get VP and IV records over time\n",
    "        max_vaso = icustay_data[icustay_data['type'] == 'max_vaso'].sort_values('timestep')\n",
    "        iv_fluid = icustay_data[icustay_data['type'] == 'total_iv_fluid'].sort_values('timestep')\n",
    "        \n",
    "        # If no vasopressors or IV fluids were recorded, assume zeros (no treatment)\n",
    "        timesteps = [start for start, _ in interval_times[icustay_id]]\n",
    "        max_vaso = max_vaso['value'].values if len(max_vaso) > 0 else np.zeros(len(timesteps))\n",
    "        iv_fluid = iv_fluid['value'].values if len(iv_fluid) > 0 else np.zeros(len(timesteps))\n",
    "\n",
    "        # Discretize to 5x5 action space using precomputed bins\n",
    "        max_vaso_discrete = pd.cut(x=max_vaso, \n",
    "                                   bins=max_vaso_bins, \n",
    "                                   labels=[0, 1, 2, 3, 4], \n",
    "                                   include_lowest=True).astype(float)\n",
    "\n",
    "        iv_fluid_discrete = pd.cut(x=iv_fluid, \n",
    "                                   bins=iv_fluid_bins, \n",
    "                                   labels=[0, 1, 2, 3, 4], \n",
    "                                   include_lowest=True).astype(float)\n",
    "\n",
    "        actions = 5 * iv_fluid_discrete + max_vaso_discrete\n",
    "        \n",
    "        # Determine rewards based on hospital_expire_flag in cohort.csv\n",
    "        deceased = cohort_df[cohort_df['icustay_id'] == icustay_id]['hospital_expire_flag'].values[0]\n",
    "        rewards = np.zeros(len(timesteps))\n",
    "        rewards[-1] = 15 if not deceased else -15\n",
    "\n",
    "        # Merge into DataFrame\n",
    "        action_df = pd.DataFrame({'timestep': timesteps,\n",
    "                                  'episode': icustay_id,\n",
    "                                  'type': 'action',\n",
    "                                  'value': 0,  # -> Nothing is measured\n",
    "                                  'action': actions,\n",
    "                                  'reward': rewards})\n",
    "        action_reward_dfs.append(action_df)\n",
    "\n",
    "    # Concat DataFrames of individual icustays\n",
    "    action_reward_df = pd.concat(action_reward_dfs).reset_index(drop=True)\n",
    "    return action_reward_df"
   ]
  },
  {
   "cell_type": "code",
   "execution_count": 44,
   "id": "9b2d1550-0d64-4edc-b038-f6618df1af44",
   "metadata": {},
   "outputs": [
    {
     "name": "stderr",
     "output_type": "stream",
     "text": [
      "100%|█████████████████████████████████████████████████████████████████████████████| 9203/9203 [00:43<00:00, 209.80it/s]\n"
     ]
    },
    {
     "name": "stdout",
     "output_type": "stream",
     "text": [
      "num decision times: 165654\n",
      "\n"
     ]
    },
    {
     "data": {
      "text/html": [
       "<div>\n",
       "<style scoped>\n",
       "    .dataframe tbody tr th:only-of-type {\n",
       "        vertical-align: middle;\n",
       "    }\n",
       "\n",
       "    .dataframe tbody tr th {\n",
       "        vertical-align: top;\n",
       "    }\n",
       "\n",
       "    .dataframe thead th {\n",
       "        text-align: right;\n",
       "    }\n",
       "</style>\n",
       "<table border=\"1\" class=\"dataframe\">\n",
       "  <thead>\n",
       "    <tr style=\"text-align: right;\">\n",
       "      <th></th>\n",
       "      <th>timestep</th>\n",
       "      <th>episode</th>\n",
       "      <th>type</th>\n",
       "      <th>value</th>\n",
       "      <th>action</th>\n",
       "      <th>reward</th>\n",
       "    </tr>\n",
       "  </thead>\n",
       "  <tbody>\n",
       "    <tr>\n",
       "      <th>0</th>\n",
       "      <td>2156-10-06 16:50:00</td>\n",
       "      <td>200035.0</td>\n",
       "      <td>action</td>\n",
       "      <td>0</td>\n",
       "      <td>0.0</td>\n",
       "      <td>0.0</td>\n",
       "    </tr>\n",
       "    <tr>\n",
       "      <th>1</th>\n",
       "      <td>2156-10-06 20:50:00</td>\n",
       "      <td>200035.0</td>\n",
       "      <td>action</td>\n",
       "      <td>0</td>\n",
       "      <td>0.0</td>\n",
       "      <td>0.0</td>\n",
       "    </tr>\n",
       "    <tr>\n",
       "      <th>2</th>\n",
       "      <td>2156-10-07 00:50:00</td>\n",
       "      <td>200035.0</td>\n",
       "      <td>action</td>\n",
       "      <td>0</td>\n",
       "      <td>0.0</td>\n",
       "      <td>0.0</td>\n",
       "    </tr>\n",
       "    <tr>\n",
       "      <th>3</th>\n",
       "      <td>2156-10-07 04:50:00</td>\n",
       "      <td>200035.0</td>\n",
       "      <td>action</td>\n",
       "      <td>0</td>\n",
       "      <td>0.0</td>\n",
       "      <td>0.0</td>\n",
       "    </tr>\n",
       "    <tr>\n",
       "      <th>4</th>\n",
       "      <td>2156-10-07 08:50:00</td>\n",
       "      <td>200035.0</td>\n",
       "      <td>action</td>\n",
       "      <td>0</td>\n",
       "      <td>0.0</td>\n",
       "      <td>0.0</td>\n",
       "    </tr>\n",
       "    <tr>\n",
       "      <th>5</th>\n",
       "      <td>2156-10-07 12:50:00</td>\n",
       "      <td>200035.0</td>\n",
       "      <td>action</td>\n",
       "      <td>0</td>\n",
       "      <td>0.0</td>\n",
       "      <td>0.0</td>\n",
       "    </tr>\n",
       "    <tr>\n",
       "      <th>6</th>\n",
       "      <td>2156-10-07 16:50:00</td>\n",
       "      <td>200035.0</td>\n",
       "      <td>action</td>\n",
       "      <td>0</td>\n",
       "      <td>0.0</td>\n",
       "      <td>0.0</td>\n",
       "    </tr>\n",
       "    <tr>\n",
       "      <th>7</th>\n",
       "      <td>2156-10-07 20:50:00</td>\n",
       "      <td>200035.0</td>\n",
       "      <td>action</td>\n",
       "      <td>0</td>\n",
       "      <td>0.0</td>\n",
       "      <td>0.0</td>\n",
       "    </tr>\n",
       "    <tr>\n",
       "      <th>8</th>\n",
       "      <td>2156-10-08 00:50:00</td>\n",
       "      <td>200035.0</td>\n",
       "      <td>action</td>\n",
       "      <td>0</td>\n",
       "      <td>0.0</td>\n",
       "      <td>0.0</td>\n",
       "    </tr>\n",
       "    <tr>\n",
       "      <th>9</th>\n",
       "      <td>2156-10-08 04:50:00</td>\n",
       "      <td>200035.0</td>\n",
       "      <td>action</td>\n",
       "      <td>0</td>\n",
       "      <td>0.0</td>\n",
       "      <td>0.0</td>\n",
       "    </tr>\n",
       "    <tr>\n",
       "      <th>10</th>\n",
       "      <td>2156-10-08 08:50:00</td>\n",
       "      <td>200035.0</td>\n",
       "      <td>action</td>\n",
       "      <td>0</td>\n",
       "      <td>0.0</td>\n",
       "      <td>0.0</td>\n",
       "    </tr>\n",
       "    <tr>\n",
       "      <th>11</th>\n",
       "      <td>2156-10-08 12:50:00</td>\n",
       "      <td>200035.0</td>\n",
       "      <td>action</td>\n",
       "      <td>0</td>\n",
       "      <td>0.0</td>\n",
       "      <td>0.0</td>\n",
       "    </tr>\n",
       "    <tr>\n",
       "      <th>12</th>\n",
       "      <td>2156-10-08 16:50:00</td>\n",
       "      <td>200035.0</td>\n",
       "      <td>action</td>\n",
       "      <td>0</td>\n",
       "      <td>0.0</td>\n",
       "      <td>0.0</td>\n",
       "    </tr>\n",
       "    <tr>\n",
       "      <th>13</th>\n",
       "      <td>2156-10-08 20:50:00</td>\n",
       "      <td>200035.0</td>\n",
       "      <td>action</td>\n",
       "      <td>0</td>\n",
       "      <td>0.0</td>\n",
       "      <td>0.0</td>\n",
       "    </tr>\n",
       "    <tr>\n",
       "      <th>14</th>\n",
       "      <td>2156-10-09 00:50:00</td>\n",
       "      <td>200035.0</td>\n",
       "      <td>action</td>\n",
       "      <td>0</td>\n",
       "      <td>0.0</td>\n",
       "      <td>0.0</td>\n",
       "    </tr>\n",
       "    <tr>\n",
       "      <th>15</th>\n",
       "      <td>2156-10-09 04:50:00</td>\n",
       "      <td>200035.0</td>\n",
       "      <td>action</td>\n",
       "      <td>0</td>\n",
       "      <td>0.0</td>\n",
       "      <td>0.0</td>\n",
       "    </tr>\n",
       "    <tr>\n",
       "      <th>16</th>\n",
       "      <td>2156-10-09 08:50:00</td>\n",
       "      <td>200035.0</td>\n",
       "      <td>action</td>\n",
       "      <td>0</td>\n",
       "      <td>0.0</td>\n",
       "      <td>0.0</td>\n",
       "    </tr>\n",
       "    <tr>\n",
       "      <th>17</th>\n",
       "      <td>2156-10-09 12:50:00</td>\n",
       "      <td>200035.0</td>\n",
       "      <td>action</td>\n",
       "      <td>0</td>\n",
       "      <td>20.0</td>\n",
       "      <td>-15.0</td>\n",
       "    </tr>\n",
       "  </tbody>\n",
       "</table>\n",
       "</div>"
      ],
      "text/plain": [
       "              timestep   episode    type  value  action  reward\n",
       "0  2156-10-06 16:50:00  200035.0  action      0     0.0     0.0\n",
       "1  2156-10-06 20:50:00  200035.0  action      0     0.0     0.0\n",
       "2  2156-10-07 00:50:00  200035.0  action      0     0.0     0.0\n",
       "3  2156-10-07 04:50:00  200035.0  action      0     0.0     0.0\n",
       "4  2156-10-07 08:50:00  200035.0  action      0     0.0     0.0\n",
       "5  2156-10-07 12:50:00  200035.0  action      0     0.0     0.0\n",
       "6  2156-10-07 16:50:00  200035.0  action      0     0.0     0.0\n",
       "7  2156-10-07 20:50:00  200035.0  action      0     0.0     0.0\n",
       "8  2156-10-08 00:50:00  200035.0  action      0     0.0     0.0\n",
       "9  2156-10-08 04:50:00  200035.0  action      0     0.0     0.0\n",
       "10 2156-10-08 08:50:00  200035.0  action      0     0.0     0.0\n",
       "11 2156-10-08 12:50:00  200035.0  action      0     0.0     0.0\n",
       "12 2156-10-08 16:50:00  200035.0  action      0     0.0     0.0\n",
       "13 2156-10-08 20:50:00  200035.0  action      0     0.0     0.0\n",
       "14 2156-10-09 00:50:00  200035.0  action      0     0.0     0.0\n",
       "15 2156-10-09 04:50:00  200035.0  action      0     0.0     0.0\n",
       "16 2156-10-09 08:50:00  200035.0  action      0     0.0     0.0\n",
       "17 2156-10-09 12:50:00  200035.0  action      0    20.0   -15.0"
      ]
     },
     "execution_count": 44,
     "metadata": {},
     "output_type": "execute_result"
    }
   ],
   "source": [
    "action_reward_df = actions_and_rewards(sampled_vaso_df, sampled_iv_fluid_df, max_vaso_bins, total_iv_fluid_bins, cohort_df)\n",
    "\n",
    "print('Num decision times: %s\\n' % len(action_reward_df))\n",
    "action_reward_df.head(18) # Check: Should see some non-zero rewards"
   ]
  },
  {
   "cell_type": "code",
   "execution_count": 45,
   "id": "f5cae72d-fb53-475f-9aba-d6e1701347e4",
   "metadata": {},
   "outputs": [
    {
     "data": {
      "text/html": [
       "<div>\n",
       "<style scoped>\n",
       "    .dataframe tbody tr th:only-of-type {\n",
       "        vertical-align: middle;\n",
       "    }\n",
       "\n",
       "    .dataframe tbody tr th {\n",
       "        vertical-align: top;\n",
       "    }\n",
       "\n",
       "    .dataframe thead th {\n",
       "        text-align: right;\n",
       "    }\n",
       "</style>\n",
       "<table border=\"1\" class=\"dataframe\">\n",
       "  <thead>\n",
       "    <tr style=\"text-align: right;\">\n",
       "      <th></th>\n",
       "      <th>timestep</th>\n",
       "      <th>episode</th>\n",
       "      <th>type</th>\n",
       "      <th>value</th>\n",
       "      <th>action</th>\n",
       "      <th>reward</th>\n",
       "    </tr>\n",
       "  </thead>\n",
       "  <tbody>\n",
       "    <tr>\n",
       "      <th>0</th>\n",
       "      <td>2199-08-01 21:01:00</td>\n",
       "      <td>200003.0</td>\n",
       "      <td>age</td>\n",
       "      <td>48.294</td>\n",
       "      <td>NaN</td>\n",
       "      <td>NaN</td>\n",
       "    </tr>\n",
       "    <tr>\n",
       "      <th>1</th>\n",
       "      <td>2199-08-01 21:01:00</td>\n",
       "      <td>200003.0</td>\n",
       "      <td>height</td>\n",
       "      <td>177.800</td>\n",
       "      <td>NaN</td>\n",
       "      <td>NaN</td>\n",
       "    </tr>\n",
       "    <tr>\n",
       "      <th>2</th>\n",
       "      <td>2199-08-01 21:01:00</td>\n",
       "      <td>200003.0</td>\n",
       "      <td>is_male</td>\n",
       "      <td>1.000</td>\n",
       "      <td>NaN</td>\n",
       "      <td>NaN</td>\n",
       "    </tr>\n",
       "    <tr>\n",
       "      <th>3</th>\n",
       "      <td>2199-08-01 21:01:00</td>\n",
       "      <td>200003.0</td>\n",
       "      <td>weight</td>\n",
       "      <td>77.000</td>\n",
       "      <td>NaN</td>\n",
       "      <td>NaN</td>\n",
       "    </tr>\n",
       "    <tr>\n",
       "      <th>4</th>\n",
       "      <td>2199-08-01 21:01:00</td>\n",
       "      <td>200003.0</td>\n",
       "      <td>vent</td>\n",
       "      <td>1.000</td>\n",
       "      <td>NaN</td>\n",
       "      <td>NaN</td>\n",
       "    </tr>\n",
       "  </tbody>\n",
       "</table>\n",
       "</div>"
      ],
      "text/plain": [
       "             timestep   episode     type    value  action  reward\n",
       "0 2199-08-01 21:01:00  200003.0      age   48.294     NaN     NaN\n",
       "1 2199-08-01 21:01:00  200003.0   height  177.800     NaN     NaN\n",
       "2 2199-08-01 21:01:00  200003.0  is_male    1.000     NaN     NaN\n",
       "3 2199-08-01 21:01:00  200003.0   weight   77.000     NaN     NaN\n",
       "4 2199-08-01 21:01:00  200003.0     vent    1.000     NaN     NaN"
      ]
     },
     "execution_count": 45,
     "metadata": {},
     "output_type": "execute_result"
    }
   ],
   "source": [
    "# Add (action, reward) pairs to full_df as new rows\n",
    "full_df = pd.concat([full_df, action_reward_df])\n",
    "\n",
    "# Sort to fix ordering\n",
    "full_df = full_df.sort_values(by=['episode', 'timestep']).reset_index(drop=True)\n",
    "full_df.head()"
   ]
  },
  {
   "cell_type": "markdown",
   "id": "bda7f4cf-53b8-4e08-b042-fa4666b72566",
   "metadata": {},
   "source": [
    "---\n",
    "\n",
    "## Drop Impossible Actions\n",
    "\n",
    "Actions 1 - 4 are not possible as they prescribe VP without IV injection. This is not possible as VP are administered through IV. We will drop any actions of this kind (if there are any) to action 0 (no drug)."
   ]
  },
  {
   "cell_type": "code",
   "execution_count": 46,
   "id": "c71e7a4f-4647-45a0-9748-dc13b2f30d25",
   "metadata": {},
   "outputs": [],
   "source": [
    "full_df.loc[(full_df['type'] == 'action') & full_df['action'].isin([1, 2, 3, 4]), 'action'] = 0"
   ]
  },
  {
   "cell_type": "code",
   "execution_count": 47,
   "id": "348083d7-b4fd-4137-8675-b3f6079882c4",
   "metadata": {},
   "outputs": [],
   "source": [
    "assert not full_df[full_df['type'] == 'action']['action'].isin([1, 2, 3, 4]).any()"
   ]
  },
  {
   "cell_type": "markdown",
   "id": "3c8398f6-3c16-47b0-b49a-75a6bb431954",
   "metadata": {},
   "source": [
    "---\n",
    "## Move Vasopressor and IV Fluid by `INTERVAL_TIME`\n",
    "\n",
    "By moving treatment parameters forward into the future, the model cannot peak at current actions (because it can only look at past values)."
   ]
  },
  {
   "cell_type": "code",
   "execution_count": 48,
   "id": "9deaa02b-9d2c-4528-b1b9-e012c24e218f",
   "metadata": {},
   "outputs": [],
   "source": [
    "# Vasopressor\n",
    "full_df.loc[full_df['type'] == 'max_vaso', 'timestep'] += pd.to_timedelta(INTERVAL_TIME)\n",
    "\n",
    "# IV fluids\n",
    "full_df.loc[full_df['type'] == 'total_iv_fluid', 'timestep'] += pd.to_timedelta(INTERVAL_TIME)"
   ]
  },
  {
   "cell_type": "markdown",
   "id": "b494c5a1-386e-4188-8a55-92961ecf914a",
   "metadata": {},
   "source": [
    "---\n",
    "## Map Strings of `x0` to Integer IDs\n",
    "The `x0` feature (storing string ids such as `heart_rate` and `respiratory_rate`) uses strings. To let our transformer model use these IDs for indexing of embeddings, we convert these strings to integer IDs."
   ]
  },
  {
   "cell_type": "code",
   "execution_count": 49,
   "id": "7242f7c5-603d-4300-99df-e0ed3d4875af",
   "metadata": {},
   "outputs": [
    {
     "data": {
      "text/plain": [
       "array(['age', 'height', 'is_male', 'weight', 'vent', 'sofa', 'sirs',\n",
       "       'alat', 'albumin', 'anion gap', 'asat', 'bands', 'bicarbonate',\n",
       "       'bilirubin', 'bun', 'calcium', 'chloride', 'creatinine', 'glucose',\n",
       "       'hemoglobin', 'magnesium', 'platelet', 'potassium', 'pt', 'ptt',\n",
       "       'sodium', 'wbc', 'dias_bp', 'heart_rate', 'mean_bp', 'resp_rate',\n",
       "       'sp_o2', 'sys_bp', 'urine_output', 'temp_c', 'base_excess',\n",
       "       'ion_calcium', 'lactate', 'paco2', 'pao2', 'ph', 'fi_o2',\n",
       "       'total_iv_fluid', 'max_vaso', 'action'], dtype='<U14')"
      ]
     },
     "execution_count": 49,
     "metadata": {},
     "output_type": "execute_result"
    }
   ],
   "source": [
    "measurement_types = list(full_df['type'].unique())\n",
    "\n",
    "# Make sure 'action' is last ID in 'type'!\n",
    "measurement_types.remove('action')\n",
    "measurement_types.append('action')\n",
    "measurement_types = np.array(measurement_types)\n",
    "\n",
    "measurement_types"
   ]
  },
  {
   "cell_type": "code",
   "execution_count": 50,
   "id": "3e7dd810-6c51-42b1-845b-3d48fc1fd2b3",
   "metadata": {},
   "outputs": [
    {
     "name": "stdout",
     "output_type": "stream",
     "text": [
      "Done!\n"
     ]
    }
   ],
   "source": [
    "# Create dict to map from string IDs to integer IDs (starting at 1)\n",
    "mapping = {m:i + 1 for i, m in enumerate(measurement_types)}\n",
    "\n",
    "# Convert `x0` to integer IDs\n",
    "full_df['type'] = full_df['type'].replace(mapping)\n",
    "full_df.head()\n",
    "print('Done!')"
   ]
  },
  {
   "cell_type": "code",
   "execution_count": 51,
   "id": "89bef57c-0577-4a9e-8fbc-be95a8419d42",
   "metadata": {},
   "outputs": [],
   "source": [
    "# Save mapping as file for later reference\n",
    "with open(OUTPUT_DIR + 'measurement_ids.txt', 'w') as file:\n",
    "    file.write('\\n'.join(measurement_types))"
   ]
  },
  {
   "cell_type": "markdown",
   "id": "7f3240e8-5608-4c5b-a08b-a887b405968c",
   "metadata": {},
   "source": [
    "---\n",
    "## Exclude No-Treatment Admissions\n",
    "There are some admissions in which no hemodynamic treatments are prescribed; we will filter out these treatments as done in Roggeveen et al.;"
   ]
  },
  {
   "cell_type": "code",
   "execution_count": 52,
   "id": "8589c5f1-b339-4ef3-9bb2-5d84ba623144",
   "metadata": {},
   "outputs": [],
   "source": [
    "# Identify admissions where treatments were registered (at least one action > 0)\n",
    "admission_has_treatment = full_df.groupby('episode', sort=False)['action'].max() > 0\n",
    "icustay_ids = admission_has_treatment.index[admission_has_treatment.values]\n",
    "\n",
    "# Drop all non-treatment admissions\n",
    "full_df = full_df[full_df['episode'].isin(icustay_ids)]"
   ]
  },
  {
   "cell_type": "code",
   "execution_count": 53,
   "id": "1c0eac9e-3589-49be-a6e4-ca0241a166d8",
   "metadata": {},
   "outputs": [
    {
     "name": "stdout",
     "output_type": "stream",
     "text": [
      "Number of admissions after filtering: 7976\n"
     ]
    }
   ],
   "source": [
    "# How many admissions do we have left?\n",
    "print('Number of admissions after filtering:', len(icustay_ids))"
   ]
  },
  {
   "cell_type": "markdown",
   "id": "21472a39-b9b7-4f6f-bbd1-014d243c18f3",
   "metadata": {},
   "source": [
    "---\n",
    "## Train/Valid/Test Split\n",
    "We will use the dataset split created in `MIMIC-III_preprocessing_roggeveen.ipynb` to allow a fair comparison between models;"
   ]
  },
  {
   "cell_type": "code",
   "execution_count": 54,
   "id": "8bb89ecb-4b47-4a29-9490-04dd45496cdc",
   "metadata": {},
   "outputs": [
    {
     "name": "stdout",
     "output_type": "stream",
     "text": [
      "Done!\n"
     ]
    }
   ],
   "source": [
    "train_icustay_ids = np.loadtxt(OUTPUT_DIR_ROGGEVEEN + '/mimic-iii_icustay_ids_train.npy')\n",
    "valid_icustay_ids = np.loadtxt(OUTPUT_DIR_ROGGEVEEN + '/mimic-iii_icustay_ids_valid.npy')\n",
    "test_icustay_ids = np.loadtxt(OUTPUT_DIR_ROGGEVEEN + '/mimic-iii_icustay_ids_test.npy')\n",
    "\n",
    "# Timestamped measurements, e.g. vitals, lab results, vasopressor/IV-fluid doses, etc.\n",
    "train_df = full_df[full_df['episode'].isin(train_icustay_ids)].copy() # to prevent warnings\n",
    "valid_df = full_df[full_df['episode'].isin(valid_icustay_ids)].copy()\n",
    "test_df = full_df[full_df['episode'].isin(test_icustay_ids)].copy()\n",
    "\n",
    "assert set(train_df.episode.unique()) == set(train_icustay_ids)\n",
    "assert set(valid_df.episode.unique()) == set(valid_icustay_ids)\n",
    "assert set(test_df.episode.unique()) == set(test_icustay_ids)\n",
    "print('Done!')"
   ]
  },
  {
   "cell_type": "markdown",
   "id": "8f5bf36c-d7bb-40ab-8c6e-ad1ab6176972",
   "metadata": {},
   "source": [
    "---\n",
    "## Feature scaling: zero mean 'n unit variance"
   ]
  },
  {
   "cell_type": "code",
   "execution_count": 55,
   "id": "4811fba7-4f90-4d0f-ab97-7d12b32f3d75",
   "metadata": {},
   "outputs": [],
   "source": [
    "# Compute averages and stdevs over measurements in training set with same item_id (e.g. 'heart_rate')\n",
    "item_avg = train_df.groupby('type')['value'].mean().to_dict()\n",
    "item_std = train_df.groupby('type')['value'].std().to_dict()\n",
    "\n",
    "# Prevents action (x0=43) from being scaled (causing divide by zero)\n",
    "item_avg[mapping['action']] = 0\n",
    "item_std[mapping['action']] = 1"
   ]
  },
  {
   "cell_type": "code",
   "execution_count": 56,
   "id": "7f1f7103-5383-4b91-af9c-46455a8a987d",
   "metadata": {},
   "outputs": [
    {
     "name": "stdout",
     "output_type": "stream",
     "text": [
      "Done!\n"
     ]
    }
   ],
   "source": [
    "def scale_features_by_item(values):\n",
    "    item_id = values.name\n",
    "    return (values - item_avg[item_id]) / item_std[item_id]\n",
    "\n",
    "# Standardize measurements\n",
    "train_df['value'] = train_df.groupby('type')['value'].transform(scale_features_by_item)\n",
    "valid_df['value'] = valid_df.groupby('type')['value'].transform(scale_features_by_item)\n",
    "test_df['value'] = test_df.groupby('type')['value'].transform(scale_features_by_item)\n",
    "print('Done!')"
   ]
  },
  {
   "cell_type": "markdown",
   "id": "a557d158-373d-40bb-987c-84a725eff34d",
   "metadata": {},
   "source": [
    "#### Sanity check"
   ]
  },
  {
   "cell_type": "code",
   "execution_count": 57,
   "id": "e09904f6-619a-4397-a9f4-ce349fae45d4",
   "metadata": {},
   "outputs": [
    {
     "data": {
      "text/html": [
       "<div>\n",
       "<style scoped>\n",
       "    .dataframe tbody tr th:only-of-type {\n",
       "        vertical-align: middle;\n",
       "    }\n",
       "\n",
       "    .dataframe tbody tr th {\n",
       "        vertical-align: top;\n",
       "    }\n",
       "\n",
       "    .dataframe thead th {\n",
       "        text-align: right;\n",
       "    }\n",
       "</style>\n",
       "<table border=\"1\" class=\"dataframe\">\n",
       "  <thead>\n",
       "    <tr style=\"text-align: right;\">\n",
       "      <th>type</th>\n",
       "      <th>1</th>\n",
       "      <th>2</th>\n",
       "      <th>3</th>\n",
       "      <th>4</th>\n",
       "      <th>5</th>\n",
       "      <th>6</th>\n",
       "      <th>7</th>\n",
       "      <th>8</th>\n",
       "      <th>9</th>\n",
       "      <th>10</th>\n",
       "      <th>...</th>\n",
       "      <th>36</th>\n",
       "      <th>37</th>\n",
       "      <th>38</th>\n",
       "      <th>39</th>\n",
       "      <th>40</th>\n",
       "      <th>41</th>\n",
       "      <th>42</th>\n",
       "      <th>43</th>\n",
       "      <th>44</th>\n",
       "      <th>45</th>\n",
       "    </tr>\n",
       "  </thead>\n",
       "  <tbody>\n",
       "    <tr>\n",
       "      <th>avg.</th>\n",
       "      <td>-0.0</td>\n",
       "      <td>0.0</td>\n",
       "      <td>0.0</td>\n",
       "      <td>0.0</td>\n",
       "      <td>-0.0</td>\n",
       "      <td>-0.0</td>\n",
       "      <td>-0.0</td>\n",
       "      <td>0.0</td>\n",
       "      <td>0.0</td>\n",
       "      <td>0.0</td>\n",
       "      <td>...</td>\n",
       "      <td>-0.0</td>\n",
       "      <td>0.0</td>\n",
       "      <td>-0.0</td>\n",
       "      <td>-0.0</td>\n",
       "      <td>-0.0</td>\n",
       "      <td>0.0</td>\n",
       "      <td>0.0</td>\n",
       "      <td>0.0</td>\n",
       "      <td>0.0</td>\n",
       "      <td>0.0</td>\n",
       "    </tr>\n",
       "    <tr>\n",
       "      <th>std.</th>\n",
       "      <td>1.0</td>\n",
       "      <td>1.0</td>\n",
       "      <td>1.0</td>\n",
       "      <td>1.0</td>\n",
       "      <td>1.0</td>\n",
       "      <td>1.0</td>\n",
       "      <td>1.0</td>\n",
       "      <td>1.0</td>\n",
       "      <td>1.0</td>\n",
       "      <td>1.0</td>\n",
       "      <td>...</td>\n",
       "      <td>1.0</td>\n",
       "      <td>1.0</td>\n",
       "      <td>1.0</td>\n",
       "      <td>1.0</td>\n",
       "      <td>1.0</td>\n",
       "      <td>1.0</td>\n",
       "      <td>1.0</td>\n",
       "      <td>1.0</td>\n",
       "      <td>1.0</td>\n",
       "      <td>0.0</td>\n",
       "    </tr>\n",
       "  </tbody>\n",
       "</table>\n",
       "<p>2 rows × 45 columns</p>\n",
       "</div>"
      ],
      "text/plain": [
       "type   1    2    3    4    5    6    7    8    9    10  ...   36   37   38  \\\n",
       "avg. -0.0  0.0  0.0  0.0 -0.0 -0.0 -0.0  0.0  0.0  0.0  ... -0.0  0.0 -0.0   \n",
       "std.  1.0  1.0  1.0  1.0  1.0  1.0  1.0  1.0  1.0  1.0  ...  1.0  1.0  1.0   \n",
       "\n",
       "type   39   40   41   42   43   44   45  \n",
       "avg. -0.0 -0.0  0.0  0.0  0.0  0.0  0.0  \n",
       "std.  1.0  1.0  1.0  1.0  1.0  1.0  0.0  \n",
       "\n",
       "[2 rows x 45 columns]"
      ]
     },
     "execution_count": 57,
     "metadata": {},
     "output_type": "execute_result"
    }
   ],
   "source": [
    "# Note: `action` should have std. = 0, everything else std. = 1 with zero mean\n",
    "pd.DataFrame({'avg.': train_df.groupby('type')['value'].mean().round(3), \n",
    "              'std.': train_df.groupby('type')['value'].std().round(3)}).T"
   ]
  },
  {
   "cell_type": "markdown",
   "id": "873e6a4f-ef85-4d8a-8d43-66b208aef59f",
   "metadata": {},
   "source": [
    "---\n",
    "## Add Timestep as Feature (in hours from `window_start`)"
   ]
  },
  {
   "cell_type": "code",
   "execution_count": 58,
   "id": "893c7edc-28c9-45c4-a172-bd123ab81199",
   "metadata": {},
   "outputs": [
    {
     "data": {
      "text/html": [
       "<div>\n",
       "<style scoped>\n",
       "    .dataframe tbody tr th:only-of-type {\n",
       "        vertical-align: middle;\n",
       "    }\n",
       "\n",
       "    .dataframe tbody tr th {\n",
       "        vertical-align: top;\n",
       "    }\n",
       "\n",
       "    .dataframe thead th {\n",
       "        text-align: right;\n",
       "    }\n",
       "</style>\n",
       "<table border=\"1\" class=\"dataframe\">\n",
       "  <thead>\n",
       "    <tr style=\"text-align: right;\">\n",
       "      <th></th>\n",
       "      <th>timestep</th>\n",
       "      <th>episode</th>\n",
       "      <th>type</th>\n",
       "      <th>value</th>\n",
       "      <th>action</th>\n",
       "      <th>reward</th>\n",
       "      <th>time_hours</th>\n",
       "    </tr>\n",
       "  </thead>\n",
       "  <tbody>\n",
       "    <tr>\n",
       "      <th>5064</th>\n",
       "      <td>2141-03-09 07:35:00</td>\n",
       "      <td>200063.0</td>\n",
       "      <td>1</td>\n",
       "      <td>-1.722668</td>\n",
       "      <td>NaN</td>\n",
       "      <td>NaN</td>\n",
       "      <td>0.000000</td>\n",
       "    </tr>\n",
       "    <tr>\n",
       "      <th>5065</th>\n",
       "      <td>2141-03-09 07:35:00</td>\n",
       "      <td>200063.0</td>\n",
       "      <td>3</td>\n",
       "      <td>0.842273</td>\n",
       "      <td>NaN</td>\n",
       "      <td>NaN</td>\n",
       "      <td>0.000000</td>\n",
       "    </tr>\n",
       "    <tr>\n",
       "      <th>5066</th>\n",
       "      <td>2141-03-09 07:35:00</td>\n",
       "      <td>200063.0</td>\n",
       "      <td>5</td>\n",
       "      <td>0.859479</td>\n",
       "      <td>NaN</td>\n",
       "      <td>NaN</td>\n",
       "      <td>0.000000</td>\n",
       "    </tr>\n",
       "    <tr>\n",
       "      <th>5067</th>\n",
       "      <td>2141-03-09 07:35:00</td>\n",
       "      <td>200063.0</td>\n",
       "      <td>6</td>\n",
       "      <td>0.521621</td>\n",
       "      <td>NaN</td>\n",
       "      <td>NaN</td>\n",
       "      <td>0.000000</td>\n",
       "    </tr>\n",
       "    <tr>\n",
       "      <th>5068</th>\n",
       "      <td>2141-03-09 07:35:00</td>\n",
       "      <td>200063.0</td>\n",
       "      <td>7</td>\n",
       "      <td>-0.985954</td>\n",
       "      <td>NaN</td>\n",
       "      <td>NaN</td>\n",
       "      <td>0.000000</td>\n",
       "    </tr>\n",
       "    <tr>\n",
       "      <th>5069</th>\n",
       "      <td>2141-03-09 11:36:00</td>\n",
       "      <td>200063.0</td>\n",
       "      <td>44</td>\n",
       "      <td>-0.101575</td>\n",
       "      <td>NaN</td>\n",
       "      <td>NaN</td>\n",
       "      <td>4.016667</td>\n",
       "    </tr>\n",
       "    <tr>\n",
       "      <th>5070</th>\n",
       "      <td>2141-03-09 11:36:00</td>\n",
       "      <td>200063.0</td>\n",
       "      <td>43</td>\n",
       "      <td>-0.468559</td>\n",
       "      <td>NaN</td>\n",
       "      <td>NaN</td>\n",
       "      <td>4.016667</td>\n",
       "    </tr>\n",
       "    <tr>\n",
       "      <th>5071</th>\n",
       "      <td>2141-03-09 07:36:00</td>\n",
       "      <td>200063.0</td>\n",
       "      <td>45</td>\n",
       "      <td>0.000000</td>\n",
       "      <td>0.0</td>\n",
       "      <td>0.0</td>\n",
       "      <td>0.016667</td>\n",
       "    </tr>\n",
       "    <tr>\n",
       "      <th>5072</th>\n",
       "      <td>2141-03-09 11:35:00</td>\n",
       "      <td>200063.0</td>\n",
       "      <td>1</td>\n",
       "      <td>-1.722668</td>\n",
       "      <td>NaN</td>\n",
       "      <td>NaN</td>\n",
       "      <td>4.000000</td>\n",
       "    </tr>\n",
       "    <tr>\n",
       "      <th>5073</th>\n",
       "      <td>2141-03-09 11:35:00</td>\n",
       "      <td>200063.0</td>\n",
       "      <td>3</td>\n",
       "      <td>0.842273</td>\n",
       "      <td>NaN</td>\n",
       "      <td>NaN</td>\n",
       "      <td>4.000000</td>\n",
       "    </tr>\n",
       "  </tbody>\n",
       "</table>\n",
       "</div>"
      ],
      "text/plain": [
       "                timestep   episode  type     value  action  reward  time_hours\n",
       "5064 2141-03-09 07:35:00  200063.0     1 -1.722668     NaN     NaN    0.000000\n",
       "5065 2141-03-09 07:35:00  200063.0     3  0.842273     NaN     NaN    0.000000\n",
       "5066 2141-03-09 07:35:00  200063.0     5  0.859479     NaN     NaN    0.000000\n",
       "5067 2141-03-09 07:35:00  200063.0     6  0.521621     NaN     NaN    0.000000\n",
       "5068 2141-03-09 07:35:00  200063.0     7 -0.985954     NaN     NaN    0.000000\n",
       "5069 2141-03-09 11:36:00  200063.0    44 -0.101575     NaN     NaN    4.016667\n",
       "5070 2141-03-09 11:36:00  200063.0    43 -0.468559     NaN     NaN    4.016667\n",
       "5071 2141-03-09 07:36:00  200063.0    45  0.000000     0.0     0.0    0.016667\n",
       "5072 2141-03-09 11:35:00  200063.0     1 -1.722668     NaN     NaN    4.000000\n",
       "5073 2141-03-09 11:35:00  200063.0     3  0.842273     NaN     NaN    4.000000"
      ]
     },
     "execution_count": 58,
     "metadata": {},
     "output_type": "execute_result"
    }
   ],
   "source": [
    "def timestep_to_hours(dataset):\n",
    "    return dataset.groupby('episode')['timestep'].transform(lambda x: to_hours(x - x.min())) \n",
    "\n",
    "# Add timestep (starting at 0 hours) as additional feature\n",
    "train_df['time_hours'] = timestep_to_hours(train_df)\n",
    "valid_df['time_hours'] = timestep_to_hours(valid_df)\n",
    "test_df['time_hours'] = timestep_to_hours(test_df)\n",
    "\n",
    "valid_df.head(10)"
   ]
  },
  {
   "cell_type": "markdown",
   "id": "64302a61-d53e-4d51-b26f-aa12dc4a2cd7",
   "metadata": {},
   "source": [
    "## Rename Columns to `x0-x2`"
   ]
  },
  {
   "cell_type": "code",
   "execution_count": 59,
   "id": "6a867a67-93b4-4468-9a1f-e3e94c4d3b88",
   "metadata": {},
   "outputs": [
    {
     "name": "stdout",
     "output_type": "stream",
     "text": [
      "Done!\n"
     ]
    }
   ],
   "source": [
    "train_df.rename(columns={'type':'x0', 'value':'x1', 'time_hours':'x2'}, inplace=True)\n",
    "valid_df.rename(columns={'type':'x0', 'value':'x1', 'time_hours':'x2'}, inplace=True)\n",
    "test_df.rename(columns={'type':'x0', 'value':'x1', 'time_hours':'x2'}, inplace=True)\n",
    "print('Done!')"
   ]
  },
  {
   "cell_type": "markdown",
   "id": "bef4791f-abc2-4264-8ac6-b3e2b0622078",
   "metadata": {},
   "source": [
    "### Sort and Export Datasets"
   ]
  },
  {
   "cell_type": "code",
   "execution_count": 60,
   "id": "91fcaa47-acca-4b01-adde-cb6841b3beaa",
   "metadata": {},
   "outputs": [
    {
     "name": "stdout",
     "output_type": "stream",
     "text": [
      "Done!\n"
     ]
    }
   ],
   "source": [
    "# Sort within episode in order of time (also on x0 to make 'action' last at timestep)\n",
    "train_df = train_df.sort_values(by=['episode', 'timestep', 'x0'])\n",
    "valid_df = valid_df.sort_values(by=['episode', 'timestep', 'x0'])\n",
    "test_df = test_df.sort_values(by=['episode', 'timestep', 'x0'])\n",
    "\n",
    "# Save training, validation and test sets\n",
    "train_df.to_csv(OUTPUT_DIR + 'mimic-iii_train.csv', index=False)\n",
    "valid_df.to_csv(OUTPUT_DIR + 'mimic-iii_valid.csv', index=False)\n",
    "test_df.to_csv(OUTPUT_DIR + 'mimic-iii_test.csv', index=False)\n",
    "print('Done!')"
   ]
  },
  {
   "cell_type": "markdown",
   "id": "78a06e42",
   "metadata": {},
   "source": [
    "---\n",
    "## Let's Visualize!\n",
    "\n",
    "Messy as expected..."
   ]
  },
  {
   "cell_type": "code",
   "execution_count": 65,
   "id": "f90f7c1c",
   "metadata": {},
   "outputs": [
    {
     "data": {
      "image/png": "[encoded data removed]",
      "text/plain": [
       "<Figure size 864x576 with 1 Axes>"
      ]
     },
     "metadata": {
      "needs_background": "light"
     },
     "output_type": "display_data"
    }
   ],
   "source": [
    "# Sample measurements for one admission by icustay_id\n",
    "icustay_id = random.choice(train_df['episode'].values)\n",
    "icustay_df = train_df[train_df['episode'] == icustay_id]\n",
    "\n",
    "plt.figure(figsize=(12, 8))\n",
    "\n",
    "for item_id, item_df in icustay_df.groupby('x0'):\n",
    "    plt.plot(item_df['timestep'], item_df['x1'], '.-', label=item_id)\n",
    "    \n",
    "plt.title('ICUSTAY: %s' % icustay_id)\n",
    "plt.legend(ncol=2)\n",
    "plt.show()"
   ]
  },
  {
   "cell_type": "markdown",
   "id": "2fcfc247-310b-4651-9b28-9618fdd1748c",
   "metadata": {},
   "source": [
    "Note the straight lines which are sampled regularly over time; these represent demographics (e.g. `age` or `weight`). Also, notice that some variables may be missing at times (particularly at the edges of the figure); As we use a transformer there is no need to impute these values: afterall, the physician does not have access to these unknwon measurements either..."
   ]
  },
  {
   "cell_type": "code",
   "execution_count": 62,
   "id": "08a24c81-42f0-4f4a-8aa4-3f750ab7be32",
   "metadata": {},
   "outputs": [
    {
     "name": "stdout",
     "output_type": "stream",
     "text": [
      "Dataset sizes:\n",
      "Train: (100494, 7)\n",
      "Valid: (14346, 7)\n",
      "Test:  (28728, 7)\n"
     ]
    }
   ],
   "source": [
    "print('Dataset sizes:')\n",
    "print('Train:', train_df[train_df.action.notna()].shape)\n",
    "print('Valid:', valid_df[valid_df.action.notna()].shape)\n",
    "print('Test: ', test_df[test_df.action.notna()].shape)"
   ]
  },
  {
   "cell_type": "code",
   "execution_count": 63,
   "id": "e1405603-7251-4d94-858a-2f1ce6e2c1ee",
   "metadata": {},
   "outputs": [
    {
     "data": {
      "text/plain": [
       "Index(['timestep', 'episode', 'x0', 'x1', 'action', 'reward', 'x2'], dtype='object')"
      ]
     },
     "execution_count": 63,
     "metadata": {},
     "output_type": "execute_result"
    }
   ],
   "source": [
    "train_df.columns"
   ]
  },
  {
   "cell_type": "code",
   "execution_count": null,
   "id": "ac46cbab-bf7d-49ae-bec2-c51bbac65b45",
   "metadata": {},
   "outputs": [],
   "source": []
  }
 ],
 "metadata": {
  "kernelspec": {
   "display_name": "Python 3 (ipykernel)",
   "language": "python",
   "name": "python3"
  },
  "language_info": {
   "codemirror_mode": {
    "name": "ipython",
    "version": 3
   },
   "file_extension": ".py",
   "mimetype": "text/x-python",
   "name": "python",
   "nbconvert_exporter": "python",
   "pygments_lexer": "ipython3",
   "version": "3.8.10"
  }
 },
 "nbformat": 4,
 "nbformat_minor": 5
}
