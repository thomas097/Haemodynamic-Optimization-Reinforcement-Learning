{
 "cells": [
  {
   "cell_type": "markdown",
   "id": "db2ccbbc-4af3-41f8-ab25-8c12372988fa",
   "metadata": {},
   "source": [
    "## Percentage on Fluids and Vasopressor treatments\n",
    "\n",
    "### Convenience Functions"
   ]
  },
  {
   "cell_type": "code",
   "execution_count": 1,
   "id": "280fa4ac-1fa3-4876-bbcb-3249b878c212",
   "metadata": {},
   "outputs": [],
   "source": [
    "import os\n",
    "import numpy as np\n",
    "import pandas as pd\n",
    "from tqdm import tqdm\n",
    "\n",
    "CHUNK_SIZE = 10000"
   ]
  },
  {
   "cell_type": "code",
   "execution_count": 2,
   "id": "f9e13453-d31e-42cd-b012-6e2a3d9b1bdb",
   "metadata": {},
   "outputs": [],
   "source": [
    "def read_csv(path, usecols, chunksize=CHUNK_SIZE):\n",
    "    \"\"\" Reads file limited to columns in `usecols` from path in chunks of size `chunksize` \"\"\"\n",
    "    for i, chunk in enumerate(pd.read_csv(path, usecols=usecols, encoding='latin1', engine='c', chunksize=chunksize)):\n",
    "        yield i, chunk.reset_index(drop=True) # resets index so that indices range from 0 to chunksize - 1"
   ]
  },
  {
   "cell_type": "code",
   "execution_count": 3,
   "id": "007e49b0-2aee-4d0a-947b-46773992a6e0",
   "metadata": {},
   "outputs": [],
   "source": [
    "def pbar(iterator, col='admissionid', total_admissions=23106):\n",
    "    # Keep track of admissions already seen\n",
    "    processed_admissions = set()\n",
    "    \n",
    "    with tqdm(total=total_admissions) as progress_bar:\n",
    "        for i, chunk in iterator:\n",
    "            \n",
    "            # count number of new admissions not yet seen\n",
    "            # we do it only if last admission is new (saves time checking)\n",
    "            if chunk[col].values[-1] not in processed_admissions:\n",
    "                new_admissions = set(chunk[col]) - processed_admissions\n",
    "                processed_admissions.update(new_admissions)\n",
    "            \n",
    "                # update progress bar\n",
    "                progress_bar.update(len(new_admissions))\n",
    "                \n",
    "            yield i, chunk"
   ]
  },
  {
   "cell_type": "markdown",
   "id": "bfaea8ac-4b27-43ee-89b2-c6bad5d707de",
   "metadata": {},
   "source": [
    "## AmsterdamUMCdb"
   ]
  },
  {
   "cell_type": "code",
   "execution_count": 7,
   "id": "4a95b64a-4e72-44fa-a842-42a9d077ad70",
   "metadata": {},
   "outputs": [
    {
     "name": "stderr",
     "output_type": "stream",
     "text": [
      "100%|█████████████████████████████████████████████████████████████████████████▋| 22999/23106 [00:16<00:00, 1425.84it/s]"
     ]
    },
    {
     "name": "stdout",
     "output_type": "stream",
     "text": [
      "IV: 99.60%\n",
      "VP: 58.81%\n"
     ]
    },
    {
     "name": "stderr",
     "output_type": "stream",
     "text": [
      "\n"
     ]
    }
   ],
   "source": [
    "admissions_with_iv = set()\n",
    "admissions_with_vp = set()\n",
    "admissions_all = set()\n",
    "\n",
    "for i, chunk in pbar(read_csv(r\"D:/AmsterdamUMCdb-v1.0.2/drugitems.csv\", usecols=['admissionid', 'ordercategoryid', 'item', 'itemid'])):\n",
    "    admissions_with_iv.update(chunk.admissionid[(chunk.ordercategoryid == 17) | (chunk.ordercategoryid == 55)].unique()) # colloids/crystalloids\n",
    "    admissions_with_vp.update(chunk.admissionid[chunk.itemid.isin([7229, 7179, 6818, 19929])].unique()) # norepinephrine/dopamine/epinefrine/phenylphrine -> vasopressin not administered!\n",
    "    admissions_all.update(chunk.admissionid)\n",
    "\n",
    "print('IV: %.2f%%' % (100 * len(admissions_with_iv) / len(admissions_all)))\n",
    "print('VP: %.2f%%' % (100 * len(admissions_with_vp) / len(admissions_all)))"
   ]
  },
  {
   "cell_type": "markdown",
   "id": "ccb43165-170e-42fa-bb07-7677dc35b65e",
   "metadata": {},
   "source": [
    "## MIMIC-III"
   ]
  },
  {
   "cell_type": "code",
   "execution_count": 8,
   "id": "95f60468-e9c5-4c5f-bf27-ac4a02354621",
   "metadata": {},
   "outputs": [],
   "source": [
    "VP_MIMIC = [\n",
    "    30120,221906,30047, # norepinephrine\n",
    "    221662,30043,30307, # dopamine\n",
    "    30119,221289,       # epinefrine\n",
    "    30128,221749,30127, # phenylphrine\n",
    "    30051,222315        # vasopressin\n",
    "]\n",
    "\n",
    "IV_CATEGORIES_MIMIC = [\n",
    "    '01-Drips',\n",
    "    '02-Fluids (Crystalloids)',\n",
    "    '04-Fluids (Colloids)',\n",
    "    '03-IV Fluid Bolus',\n",
    "    '10-Prophylaxis (IV)',\n",
    "    '07-Blood Products',\n",
    "]\n",
    "\n",
    "IV_ITEMIDS_MIMIC = [\n",
    "    225158,225943,226089,225168,225828,225823,220862,220970,220864,225159,220995,225170,\n",
    "    225825,227533,225161,227531,225171,225827,225941,225823,225825,225941,225825,228341,\n",
    "    225827,30018,30021,30015,30296,30020,30066,30001,30030,30060,30005,30321,30006,30061,\n",
    "    30009,30179,30190,30143,30160,30008,30168,30186,30211,30353,30159,30007,30185,30063,\n",
    "    30094,30352,30014,30011,30210,46493,45399,46516,40850,30176,30161,30381,30315,42742,\n",
    "    30180,46087,41491,30004,42698,42244,220949,225944,227523   # a lot of IDs....\n",
    "]"
   ]
  },
  {
   "cell_type": "code",
   "execution_count": 9,
   "id": "610c81fb-6899-4619-a0b2-e83ba23e397a",
   "metadata": {},
   "outputs": [
    {
     "name": "stderr",
     "output_type": "stream",
     "text": [
      "100%|██████████████████████████████████████████████████████████████████████████| 21247/21247 [00:13<00:00, 1529.07it/s]"
     ]
    },
    {
     "name": "stdout",
     "output_type": "stream",
     "text": [
      "IV: 92.30%\n",
      "VP: 28.72%\n"
     ]
    },
    {
     "name": "stderr",
     "output_type": "stream",
     "text": [
      "\n"
     ]
    }
   ],
   "source": [
    "admissions_with_iv = set()\n",
    "admissions_with_vp = set()\n",
    "admissions_all = set()\n",
    "\n",
    "mimic_data = read_csv(r\"D:/mimic-iii-clinical-database-1.4/INPUTEVENTS_MV.csv\", usecols=['ICUSTAY_ID', 'ITEMID', 'AMOUNTUOM', 'ORDERCATEGORYNAME'])\n",
    "\n",
    "for i, chunk in pbar(mimic_data, col='ICUSTAY_ID', total_admissions=21247):\n",
    "    admissions_with_iv.update(chunk.ICUSTAY_ID[chunk.ORDERCATEGORYNAME.isin(IV_CATEGORIES_MIMIC) & chunk.ITEMID.isin(IV_ITEMIDS_MIMIC) & (chunk.AMOUNTUOM == 'ml')].unique())\n",
    "    admissions_with_vp.update(chunk.ICUSTAY_ID[chunk.ITEMID.isin(VP_MIMIC)].unique())\n",
    "    admissions_all.update(chunk.ICUSTAY_ID)\n",
    "    \n",
    "print('IV: %.2f%%' % (100 * len(admissions_with_iv) / len(admissions_all)))\n",
    "print('VP: %.2f%%' % (100 * len(admissions_with_vp) / len(admissions_all)))"
   ]
  },
  {
   "cell_type": "code",
   "execution_count": null,
   "id": "42b63bb9-f348-49bf-91a5-de771b9e17ec",
   "metadata": {},
   "outputs": [],
   "source": []
  }
 ],
 "metadata": {
  "kernelspec": {
   "display_name": "Python 3 (ipykernel)",
   "language": "python",
   "name": "python3"
  },
  "language_info": {
   "codemirror_mode": {
    "name": "ipython",
    "version": 3
   },
   "file_extension": ".py",
   "mimetype": "text/x-python",
   "name": "python",
   "nbconvert_exporter": "python",
   "pygments_lexer": "ipython3",
   "version": "3.8.10"
  }
 },
 "nbformat": 4,
 "nbformat_minor": 5
}
