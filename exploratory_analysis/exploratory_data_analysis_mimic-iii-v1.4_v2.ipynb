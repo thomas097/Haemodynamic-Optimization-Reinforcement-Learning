{
 "cells": [
  {
   "cell_type": "markdown",
   "id": "7e5cd857",
   "metadata": {},
   "source": [
    "## Exploratory Data Analysis: MIMIC-III v1.4\n",
    "\n"
   ]
  },
  {
   "cell_type": "code",
   "execution_count": 1,
   "id": "73f25a5c",
   "metadata": {},
   "outputs": [],
   "source": [
    "DATA_DIR = '../data/mimic-iii/final'"
   ]
  },
  {
   "cell_type": "markdown",
   "id": "753758f1",
   "metadata": {},
   "source": [
    "### Convenience functions"
   ]
  },
  {
   "cell_type": "code",
   "execution_count": 2,
   "id": "e945658e",
   "metadata": {},
   "outputs": [],
   "source": [
    "# dependencies\n",
    "import numpy as np\n",
    "import pandas as pd\n",
    "import matplotlib.pyplot as plt\n",
    "\n",
    "from collections import defaultdict"
   ]
  },
  {
   "cell_type": "code",
   "execution_count": 3,
   "id": "f735d518",
   "metadata": {},
   "outputs": [],
   "source": [
    "def read_csv(fname, parse_dates=[]):\n",
    "    df = pd.read_csv(fname)\n",
    "    for col in parse_dates:\n",
    "        df[col] = pd.to_datetime(df[col])\n",
    "    return df\n",
    "\n",
    "def histogram(df, col, bins=50, label=None, type_col=None, num_cols=2, x_label='Value'):\n",
    "    # Single measurement type in `df`\n",
    "    if type_col is None and type(col) == str:\n",
    "        plt.figure(figsize=(8, 6))\n",
    "        if label:\n",
    "            plt.hist(df[col].values, bins=bins, label=label)\n",
    "            plt.legend()\n",
    "        else:\n",
    "            plt.hist(df[col].values, bins=bins)\n",
    "        plt.show()\n",
    "        \n",
    "    # Multiple columns as separate histograms\n",
    "    elif type(col) == list:\n",
    "        num_rows = len(df) // num_cols\n",
    "        \n",
    "        plt.figure(figsize=(7 * num_cols, 5 * num_rows))\n",
    "        for i, col_label in enumerate(col):\n",
    "            plt.subplot(num_rows, num_cols, i + 1)\n",
    "            plt.hist(df[col_label].values, bins=bins, alpha=0.5)\n",
    "            plt.title(col_label)\n",
    "            plt.xlabel(x_label)\n",
    "            plt.ylabel('Frequency')\n",
    "        plt.show()\n",
    "    \n",
    "    # Multiple measurement types indexed by `type_col`\n",
    "    else:\n",
    "        num_rows = len(set(df[type_col].values)) // num_cols\n",
    "        \n",
    "        plt.figure(figsize=(7 * num_cols, 5 * num_rows))\n",
    "        for i, (label, subdf) in enumerate(df.groupby(type_col)):\n",
    "            plt.subplot(num_rows, num_cols, i + 1)\n",
    "            plt.hist(subdf[col].values, bins=bins, alpha=0.5)\n",
    "            plt.title(label)\n",
    "            plt.xlabel(x_label)\n",
    "            plt.ylabel('Frequency')\n",
    "        plt.show()\n",
    "        \n",
    "        \n",
    "def missing_values_in_intervals(df, item_col=None, freq='1H'):\n",
    "    df['rounded_charttime'] = df['charttime'].dt.round(freq='H')\n",
    "    df['rounded_window_start'] = df['window_start'].dt.round(freq='H')\n",
    "    df['rounded_window_end'] = df['window_end'].dt.round(freq='H')\n",
    "    \n",
    "    measurements = defaultdict(list)\n",
    "\n",
    "    # Consider ICU stays separately\n",
    "    for icustay_id, icustay_data in df.groupby('icustay_id'):\n",
    "        # Define hourly intervals\n",
    "        starttime = icustay_data['rounded_window_start'].min()\n",
    "        endtime = icustay_data['rounded_window_end'].max()\n",
    "        date_range = set(pd.date_range(start=starttime, end=endtime, freq='1H'))\n",
    "\n",
    "        # Check recordings of each item (e.g. vital)\n",
    "        for item_id, item_data in icustay_data.groupby(item_col):\n",
    "            timestamps = set(item_data['rounded_charttime'])\n",
    "\n",
    "            # Percentage of `date_range` covered\n",
    "            perc_measured = len(timestamps.intersection(date_range)) / len(date_range)\n",
    "            measurements[item_id].append(perc_measured)\n",
    "        \n",
    "    return {item:np.mean(measurements[item]) for item in measurements.keys()}\n",
    "    "
   ]
  },
  {
   "cell_type": "markdown",
   "id": "4469cd79",
   "metadata": {},
   "source": [
    "---\n",
    "### General Data Statistics"
   ]
  },
  {
   "cell_type": "code",
   "execution_count": 4,
   "id": "769d706a",
   "metadata": {},
   "outputs": [
    {
     "data": {
      "text/html": [
       "<div>\n",
       "<style scoped>\n",
       "    .dataframe tbody tr th:only-of-type {\n",
       "        vertical-align: middle;\n",
       "    }\n",
       "\n",
       "    .dataframe tbody tr th {\n",
       "        vertical-align: top;\n",
       "    }\n",
       "\n",
       "    .dataframe thead th {\n",
       "        text-align: right;\n",
       "    }\n",
       "</style>\n",
       "<table border=\"1\" class=\"dataframe\">\n",
       "  <thead>\n",
       "    <tr style=\"text-align: right;\">\n",
       "      <th></th>\n",
       "      <th>subject_id</th>\n",
       "      <th>hadm_id</th>\n",
       "      <th>icustay_id</th>\n",
       "      <th>intime</th>\n",
       "      <th>outtime</th>\n",
       "      <th>suspected_infection_time_poe</th>\n",
       "      <th>window_start</th>\n",
       "      <th>window_end</th>\n",
       "      <th>hospital_expire_flag</th>\n",
       "    </tr>\n",
       "  </thead>\n",
       "  <tbody>\n",
       "    <tr>\n",
       "      <th>0</th>\n",
       "      <td>10006</td>\n",
       "      <td>142345</td>\n",
       "      <td>206504</td>\n",
       "      <td>2164-10-23 21:10:15</td>\n",
       "      <td>2164-10-25 12:21:07</td>\n",
       "      <td>2164-10-23 15:30:00</td>\n",
       "      <td>2164-10-22 15:30:00</td>\n",
       "      <td>2164-10-25 15:30:00</td>\n",
       "      <td>0</td>\n",
       "    </tr>\n",
       "    <tr>\n",
       "      <th>1</th>\n",
       "      <td>10013</td>\n",
       "      <td>165520</td>\n",
       "      <td>264446</td>\n",
       "      <td>2125-10-04 23:38:00</td>\n",
       "      <td>2125-10-07 15:13:52</td>\n",
       "      <td>2125-10-05 02:00:00</td>\n",
       "      <td>2125-10-04 02:00:00</td>\n",
       "      <td>2125-10-07 02:00:00</td>\n",
       "      <td>1</td>\n",
       "    </tr>\n",
       "    <tr>\n",
       "      <th>2</th>\n",
       "      <td>10017</td>\n",
       "      <td>199207</td>\n",
       "      <td>204881</td>\n",
       "      <td>2149-05-29 18:52:29</td>\n",
       "      <td>2149-05-31 22:19:17</td>\n",
       "      <td>2149-05-27 05:15:00</td>\n",
       "      <td>2149-05-26 05:15:00</td>\n",
       "      <td>2149-05-29 05:15:00</td>\n",
       "      <td>0</td>\n",
       "    </tr>\n",
       "    <tr>\n",
       "      <th>3</th>\n",
       "      <td>10019</td>\n",
       "      <td>177759</td>\n",
       "      <td>228977</td>\n",
       "      <td>2163-05-14 20:43:56</td>\n",
       "      <td>2163-05-16 03:47:04</td>\n",
       "      <td>2163-05-14 21:52:00</td>\n",
       "      <td>2163-05-13 21:52:00</td>\n",
       "      <td>2163-05-16 21:52:00</td>\n",
       "      <td>1</td>\n",
       "    </tr>\n",
       "    <tr>\n",
       "      <th>4</th>\n",
       "      <td>10026</td>\n",
       "      <td>103770</td>\n",
       "      <td>277021</td>\n",
       "      <td>2195-05-17 07:40:18</td>\n",
       "      <td>2195-05-19 17:24:25</td>\n",
       "      <td>2195-05-17 09:12:00</td>\n",
       "      <td>2195-05-16 09:12:00</td>\n",
       "      <td>2195-05-19 09:12:00</td>\n",
       "      <td>0</td>\n",
       "    </tr>\n",
       "  </tbody>\n",
       "</table>\n",
       "</div>"
      ],
      "text/plain": [
       "   subject_id  hadm_id  icustay_id              intime             outtime  \\\n",
       "0       10006   142345      206504 2164-10-23 21:10:15 2164-10-25 12:21:07   \n",
       "1       10013   165520      264446 2125-10-04 23:38:00 2125-10-07 15:13:52   \n",
       "2       10017   199207      204881 2149-05-29 18:52:29 2149-05-31 22:19:17   \n",
       "3       10019   177759      228977 2163-05-14 20:43:56 2163-05-16 03:47:04   \n",
       "4       10026   103770      277021 2195-05-17 07:40:18 2195-05-19 17:24:25   \n",
       "\n",
       "  suspected_infection_time_poe        window_start          window_end  \\\n",
       "0          2164-10-23 15:30:00 2164-10-22 15:30:00 2164-10-25 15:30:00   \n",
       "1          2125-10-05 02:00:00 2125-10-04 02:00:00 2125-10-07 02:00:00   \n",
       "2          2149-05-27 05:15:00 2149-05-26 05:15:00 2149-05-29 05:15:00   \n",
       "3          2163-05-14 21:52:00 2163-05-13 21:52:00 2163-05-16 21:52:00   \n",
       "4          2195-05-17 09:12:00 2195-05-16 09:12:00 2195-05-19 09:12:00   \n",
       "\n",
       "   hospital_expire_flag  \n",
       "0                     0  \n",
       "1                     1  \n",
       "2                     0  \n",
       "3                     1  \n",
       "4                     0  "
      ]
     },
     "execution_count": 4,
     "metadata": {},
     "output_type": "execute_result"
    }
   ],
   "source": [
    "# Load cohort.csv data\n",
    "cohort_df = read_csv(DATA_DIR + '/cohort.csv', ['intime', 'outtime', 'window_start', 'window_end', 'suspected_infection_time_poe'])\n",
    "cohort_df.head()"
   ]
  },
  {
   "cell_type": "code",
   "execution_count": 5,
   "id": "d432bc62",
   "metadata": {},
   "outputs": [
    {
     "data": {
      "text/html": [
       "<div>\n",
       "<style scoped>\n",
       "    .dataframe tbody tr th:only-of-type {\n",
       "        vertical-align: middle;\n",
       "    }\n",
       "\n",
       "    .dataframe tbody tr th {\n",
       "        vertical-align: top;\n",
       "    }\n",
       "\n",
       "    .dataframe thead th {\n",
       "        text-align: right;\n",
       "    }\n",
       "</style>\n",
       "<table border=\"1\" class=\"dataframe\">\n",
       "  <thead>\n",
       "    <tr style=\"text-align: right;\">\n",
       "      <th></th>\n",
       "      <th>Value</th>\n",
       "    </tr>\n",
       "  </thead>\n",
       "  <tbody>\n",
       "    <tr>\n",
       "      <th>Total patients</th>\n",
       "      <td>60</td>\n",
       "    </tr>\n",
       "    <tr>\n",
       "      <th>Total hospital admissions</th>\n",
       "      <td>60</td>\n",
       "    </tr>\n",
       "    <tr>\n",
       "      <th>Total ICU admissions</th>\n",
       "      <td>60</td>\n",
       "    </tr>\n",
       "    <tr>\n",
       "      <th>Avg. ICU admissions per patient</th>\n",
       "      <td>1.0</td>\n",
       "    </tr>\n",
       "    <tr>\n",
       "      <th>Avg. time spent at ICU</th>\n",
       "      <td>5.6 (±7.9 days)</td>\n",
       "    </tr>\n",
       "    <tr>\n",
       "      <th>Avg. time to infection</th>\n",
       "      <td>-0.2 (±2.5 days)</td>\n",
       "    </tr>\n",
       "    <tr>\n",
       "      <th>30-day mortality</th>\n",
       "      <td>0.316667</td>\n",
       "    </tr>\n",
       "  </tbody>\n",
       "</table>\n",
       "</div>"
      ],
      "text/plain": [
       "                                            Value\n",
       "Total patients                                 60\n",
       "Total hospital admissions                      60\n",
       "Total ICU admissions                           60\n",
       "Avg. ICU admissions per patient               1.0\n",
       "Avg. time spent at ICU            5.6 (±7.9 days)\n",
       "Avg. time to infection           -0.2 (±2.5 days)\n",
       "30-day mortality                         0.316667"
      ]
     },
     "execution_count": 5,
     "metadata": {},
     "output_type": "execute_result"
    }
   ],
   "source": [
    "subject_ids = set(cohort_df['subject_id'])\n",
    "hadm_ids = set(cohort_df['hadm_id'])\n",
    "icustay_ids = set(cohort_df['icustay_id'])\n",
    "\n",
    "avg_duration = round((cohort_df['outtime'] - cohort_df['intime']).mean().total_seconds() / (3600 * 24), 1)\n",
    "std_duration = round((cohort_df['outtime'] - cohort_df['intime']).std().total_seconds() / (3600 * 24), 1)\n",
    "\n",
    "avg_time_to_infect = round((cohort_df['suspected_infection_time_poe'] - cohort_df['intime']).mean().total_seconds() / (3600 * 24), 1)\n",
    "std_time_to_infect = round((cohort_df['suspected_infection_time_poe'] - cohort_df['intime']).std().total_seconds() / (3600 * 24), 1)\n",
    "\n",
    "day30_mortality = cohort_df['hospital_expire_flag'].mean()\n",
    "\n",
    "pd.DataFrame({'Total patients': [len(subject_ids)],\n",
    "              'Total hospital admissions': len(hadm_ids),\n",
    "              'Total ICU admissions': len(icustay_ids),\n",
    "              'Avg. ICU admissions per patient': len(icustay_ids) / len(subject_ids),\n",
    "              'Avg. time spent at ICU': '%s (±%s days)' % (avg_duration, std_duration),\n",
    "              'Avg. time to infection': '%s (±%s days)' % (avg_time_to_infect, std_time_to_infect),\n",
    "              '30-day mortality': day30_mortality}).T.rename({0: 'Value'}, axis=1)"
   ]
  },
  {
   "cell_type": "markdown",
   "id": "0fc5d3ec",
   "metadata": {},
   "source": [
    "*Remarks:*\n",
    "1. The negative `Avg. time to infection` indicates that patients often develop an infection prior to ICU admission (e.g. at a general ward).\n",
    "2. Estimated mortality within 30 days is approx. 30\\% (expected from literature)."
   ]
  },
  {
   "cell_type": "markdown",
   "id": "d73dafce",
   "metadata": {},
   "source": [
    "--- \n",
    "## Patient Cohort"
   ]
  },
  {
   "cell_type": "code",
   "execution_count": 6,
   "id": "3232daab",
   "metadata": {},
   "outputs": [
    {
     "data": {
      "text/html": [
       "<div>\n",
       "<style scoped>\n",
       "    .dataframe tbody tr th:only-of-type {\n",
       "        vertical-align: middle;\n",
       "    }\n",
       "\n",
       "    .dataframe tbody tr th {\n",
       "        vertical-align: top;\n",
       "    }\n",
       "\n",
       "    .dataframe thead th {\n",
       "        text-align: right;\n",
       "    }\n",
       "</style>\n",
       "<table border=\"1\" class=\"dataframe\">\n",
       "  <thead>\n",
       "    <tr style=\"text-align: right;\">\n",
       "      <th></th>\n",
       "      <th>subject_id</th>\n",
       "      <th>hadm_id</th>\n",
       "      <th>icustay_id</th>\n",
       "      <th>age</th>\n",
       "      <th>is_male</th>\n",
       "      <th>race_white</th>\n",
       "      <th>race_black</th>\n",
       "      <th>race_hispanic</th>\n",
       "      <th>race_other</th>\n",
       "      <th>height</th>\n",
       "      <th>...</th>\n",
       "      <th>vent</th>\n",
       "      <th>sofa</th>\n",
       "      <th>lods</th>\n",
       "      <th>sirs</th>\n",
       "      <th>qsofa</th>\n",
       "      <th>qsofa_sysbp_score</th>\n",
       "      <th>qsofa_gcs_score</th>\n",
       "      <th>qsofa_resprate_score</th>\n",
       "      <th>elixhauser_hospital</th>\n",
       "      <th>blood_culture_positive</th>\n",
       "    </tr>\n",
       "  </thead>\n",
       "  <tbody>\n",
       "    <tr>\n",
       "      <th>0</th>\n",
       "      <td>10076</td>\n",
       "      <td>198503</td>\n",
       "      <td>201006</td>\n",
       "      <td>68.8612</td>\n",
       "      <td>1</td>\n",
       "      <td>0</td>\n",
       "      <td>0</td>\n",
       "      <td>0</td>\n",
       "      <td>1</td>\n",
       "      <td>NaN</td>\n",
       "      <td>...</td>\n",
       "      <td>1</td>\n",
       "      <td>8</td>\n",
       "      <td>7</td>\n",
       "      <td>4</td>\n",
       "      <td>2</td>\n",
       "      <td>1</td>\n",
       "      <td>0</td>\n",
       "      <td>1</td>\n",
       "      <td>15</td>\n",
       "      <td>1</td>\n",
       "    </tr>\n",
       "    <tr>\n",
       "      <th>1</th>\n",
       "      <td>42321</td>\n",
       "      <td>114648</td>\n",
       "      <td>201204</td>\n",
       "      <td>80.5603</td>\n",
       "      <td>0</td>\n",
       "      <td>0</td>\n",
       "      <td>0</td>\n",
       "      <td>0</td>\n",
       "      <td>1</td>\n",
       "      <td>163.00</td>\n",
       "      <td>...</td>\n",
       "      <td>0</td>\n",
       "      <td>5</td>\n",
       "      <td>7</td>\n",
       "      <td>2</td>\n",
       "      <td>3</td>\n",
       "      <td>1</td>\n",
       "      <td>1</td>\n",
       "      <td>1</td>\n",
       "      <td>9</td>\n",
       "      <td>0</td>\n",
       "    </tr>\n",
       "    <tr>\n",
       "      <th>2</th>\n",
       "      <td>10045</td>\n",
       "      <td>126949</td>\n",
       "      <td>203766</td>\n",
       "      <td>68.6668</td>\n",
       "      <td>0</td>\n",
       "      <td>1</td>\n",
       "      <td>0</td>\n",
       "      <td>0</td>\n",
       "      <td>0</td>\n",
       "      <td>165.10</td>\n",
       "      <td>...</td>\n",
       "      <td>1</td>\n",
       "      <td>12</td>\n",
       "      <td>12</td>\n",
       "      <td>3</td>\n",
       "      <td>2</td>\n",
       "      <td>1</td>\n",
       "      <td>0</td>\n",
       "      <td>1</td>\n",
       "      <td>12</td>\n",
       "      <td>0</td>\n",
       "    </tr>\n",
       "    <tr>\n",
       "      <th>3</th>\n",
       "      <td>10104</td>\n",
       "      <td>177678</td>\n",
       "      <td>204201</td>\n",
       "      <td>70.5176</td>\n",
       "      <td>0</td>\n",
       "      <td>0</td>\n",
       "      <td>0</td>\n",
       "      <td>0</td>\n",
       "      <td>1</td>\n",
       "      <td>157.48</td>\n",
       "      <td>...</td>\n",
       "      <td>0</td>\n",
       "      <td>5</td>\n",
       "      <td>7</td>\n",
       "      <td>1</td>\n",
       "      <td>2</td>\n",
       "      <td>1</td>\n",
       "      <td>1</td>\n",
       "      <td>0</td>\n",
       "      <td>13</td>\n",
       "      <td>1</td>\n",
       "    </tr>\n",
       "    <tr>\n",
       "      <th>4</th>\n",
       "      <td>10017</td>\n",
       "      <td>199207</td>\n",
       "      <td>204881</td>\n",
       "      <td>73.6772</td>\n",
       "      <td>0</td>\n",
       "      <td>1</td>\n",
       "      <td>0</td>\n",
       "      <td>0</td>\n",
       "      <td>0</td>\n",
       "      <td>NaN</td>\n",
       "      <td>...</td>\n",
       "      <td>0</td>\n",
       "      <td>2</td>\n",
       "      <td>0</td>\n",
       "      <td>4</td>\n",
       "      <td>2</td>\n",
       "      <td>1</td>\n",
       "      <td>0</td>\n",
       "      <td>1</td>\n",
       "      <td>-1</td>\n",
       "      <td>0</td>\n",
       "    </tr>\n",
       "  </tbody>\n",
       "</table>\n",
       "<p>5 rows × 21 columns</p>\n",
       "</div>"
      ],
      "text/plain": [
       "   subject_id  hadm_id  icustay_id      age  is_male  race_white  race_black  \\\n",
       "0       10076   198503      201006  68.8612        1           0           0   \n",
       "1       42321   114648      201204  80.5603        0           0           0   \n",
       "2       10045   126949      203766  68.6668        0           1           0   \n",
       "3       10104   177678      204201  70.5176        0           0           0   \n",
       "4       10017   199207      204881  73.6772        0           1           0   \n",
       "\n",
       "   race_hispanic  race_other  height  ...  vent  sofa  lods  sirs  qsofa  \\\n",
       "0              0           1     NaN  ...     1     8     7     4      2   \n",
       "1              0           1  163.00  ...     0     5     7     2      3   \n",
       "2              0           0  165.10  ...     1    12    12     3      2   \n",
       "3              0           1  157.48  ...     0     5     7     1      2   \n",
       "4              0           0     NaN  ...     0     2     0     4      2   \n",
       "\n",
       "   qsofa_sysbp_score  qsofa_gcs_score  qsofa_resprate_score  \\\n",
       "0                  1                0                     1   \n",
       "1                  1                1                     1   \n",
       "2                  1                0                     1   \n",
       "3                  1                1                     0   \n",
       "4                  1                0                     1   \n",
       "\n",
       "   elixhauser_hospital  blood_culture_positive  \n",
       "0                   15                       1  \n",
       "1                    9                       0  \n",
       "2                   12                       0  \n",
       "3                   13                       1  \n",
       "4                   -1                       0  \n",
       "\n",
       "[5 rows x 21 columns]"
      ]
     },
     "execution_count": 6,
     "metadata": {},
     "output_type": "execute_result"
    }
   ],
   "source": [
    "demographics_df = read_csv(DATA_DIR + '/demographics_cohort.csv')\n",
    "demographics_df.head()"
   ]
  },
  {
   "cell_type": "markdown",
   "id": "1085cf98",
   "metadata": {},
   "source": [
    "#### Demographics"
   ]
  },
  {
   "cell_type": "code",
   "execution_count": 7,
   "id": "2bc6a265",
   "metadata": {},
   "outputs": [
    {
     "data": {
      "text/html": [
       "<div>\n",
       "<style scoped>\n",
       "    .dataframe tbody tr th:only-of-type {\n",
       "        vertical-align: middle;\n",
       "    }\n",
       "\n",
       "    .dataframe tbody tr th {\n",
       "        vertical-align: top;\n",
       "    }\n",
       "\n",
       "    .dataframe thead th {\n",
       "        text-align: right;\n",
       "    }\n",
       "</style>\n",
       "<table border=\"1\" class=\"dataframe\">\n",
       "  <thead>\n",
       "    <tr style=\"text-align: right;\">\n",
       "      <th></th>\n",
       "      <th>Value (%)</th>\n",
       "    </tr>\n",
       "  </thead>\n",
       "  <tbody>\n",
       "    <tr>\n",
       "      <th>Male</th>\n",
       "      <td>0.466667</td>\n",
       "    </tr>\n",
       "    <tr>\n",
       "      <th>White (Ethnicity)</th>\n",
       "      <td>0.766667</td>\n",
       "    </tr>\n",
       "    <tr>\n",
       "      <th>Black (Ethnicity)</th>\n",
       "      <td>0.066667</td>\n",
       "    </tr>\n",
       "    <tr>\n",
       "      <th>Hispanic (Ethnicity)</th>\n",
       "      <td>0.033333</td>\n",
       "    </tr>\n",
       "    <tr>\n",
       "      <th>Other (Ethnicity)</th>\n",
       "      <td>0.133333</td>\n",
       "    </tr>\n",
       "    <tr>\n",
       "      <th>On ventilator</th>\n",
       "      <td>0.450000</td>\n",
       "    </tr>\n",
       "    <tr>\n",
       "      <th>Blood culture</th>\n",
       "      <td>0.483333</td>\n",
       "    </tr>\n",
       "  </tbody>\n",
       "</table>\n",
       "</div>"
      ],
      "text/plain": [
       "                      Value (%)\n",
       "Male                   0.466667\n",
       "White (Ethnicity)      0.766667\n",
       "Black (Ethnicity)      0.066667\n",
       "Hispanic (Ethnicity)   0.033333\n",
       "Other (Ethnicity)      0.133333\n",
       "On ventilator          0.450000\n",
       "Blood culture          0.483333"
      ]
     },
     "execution_count": 7,
     "metadata": {},
     "output_type": "execute_result"
    }
   ],
   "source": [
    "pd.DataFrame({'Male': [demographics_df['is_male'].mean()],\n",
    "              'White (Ethnicity)': demographics_df['race_white'].mean(),\n",
    "              'Black (Ethnicity)': demographics_df['race_black'].mean(),\n",
    "              'Hispanic (Ethnicity)': demographics_df['race_hispanic'].mean(),\n",
    "              'Other (Ethnicity)': demographics_df['race_other'].mean(),\n",
    "              'On ventilator': demographics_df['vent'].mean(),\n",
    "              'Blood culture': demographics_df['blood_culture_positive'].mean()}).T.rename({0: 'Value (%)'}, axis=1)"
   ]
  },
  {
   "cell_type": "code",
   "execution_count": 8,
   "id": "c26723ce",
   "metadata": {},
   "outputs": [
    {
     "data": {
      "image/png": "[encoded data removed]",
      "text/plain": [
       "<Figure size 1512x7200 with 3 Axes>"
      ]
     },
     "metadata": {
      "needs_background": "light"
     },
     "output_type": "display_data"
    }
   ],
   "source": [
    "histogram(demographics_df, col=['height', 'weight', 'age'], num_cols=3)"
   ]
  },
  {
   "cell_type": "markdown",
   "id": "4dfab3fd",
   "metadata": {},
   "source": [
    "#### Disease Severity Scores"
   ]
  },
  {
   "cell_type": "code",
   "execution_count": 9,
   "id": "51247f9c",
   "metadata": {},
   "outputs": [
    {
     "data": {
      "image/png": "[encoded data removed]",
      "text/plain": [
       "<Figure size 1512x7200 with 5 Axes>"
      ]
     },
     "metadata": {
      "needs_background": "light"
     },
     "output_type": "display_data"
    }
   ],
   "source": [
    "histogram(demographics_df, col=['sofa', 'lods', 'sirs', 'qsofa', 'elixhauser_hospital'], num_cols=3)"
   ]
  },
  {
   "cell_type": "markdown",
   "id": "cc5e59d7",
   "metadata": {},
   "source": [
    "*Remarks:*\n",
    "\n",
    "1. Clear overrepresentation of `race_white` (76.6\\%); a near 50-50 balance between men and women.\n",
    "2. For a mere 48.3% of patients a blood culture is found (or grown?) which contradicts the idea that a culture must be found before sepsis can be verified. \n",
    "3. Overrepresentation of the elderly (expected as the elderly are more likely to develop sepsis)."
   ]
  },
  {
   "cell_type": "markdown",
   "id": "ffae447c",
   "metadata": {},
   "source": [
    "---\n",
    "## Vitals"
   ]
  },
  {
   "cell_type": "code",
   "execution_count": 10,
   "id": "8d60f736",
   "metadata": {},
   "outputs": [
    {
     "data": {
      "text/html": [
       "<div>\n",
       "<style scoped>\n",
       "    .dataframe tbody tr th:only-of-type {\n",
       "        vertical-align: middle;\n",
       "    }\n",
       "\n",
       "    .dataframe tbody tr th {\n",
       "        vertical-align: top;\n",
       "    }\n",
       "\n",
       "    .dataframe thead th {\n",
       "        text-align: right;\n",
       "    }\n",
       "</style>\n",
       "<table border=\"1\" class=\"dataframe\">\n",
       "  <thead>\n",
       "    <tr style=\"text-align: right;\">\n",
       "      <th></th>\n",
       "      <th>subject_id</th>\n",
       "      <th>hadm_id</th>\n",
       "      <th>icustay_id</th>\n",
       "      <th>window_start</th>\n",
       "      <th>window_end</th>\n",
       "      <th>intime</th>\n",
       "      <th>outtime</th>\n",
       "      <th>charttime</th>\n",
       "      <th>vital_id</th>\n",
       "      <th>valuenum</th>\n",
       "    </tr>\n",
       "  </thead>\n",
       "  <tbody>\n",
       "    <tr>\n",
       "      <th>0</th>\n",
       "      <td>10006</td>\n",
       "      <td>142345</td>\n",
       "      <td>206504</td>\n",
       "      <td>2164-10-22 15:30:00</td>\n",
       "      <td>2164-10-25 15:30:00</td>\n",
       "      <td>2164-10-23 21:10:15</td>\n",
       "      <td>2164-10-25 12:21:07</td>\n",
       "      <td>2164-10-23 22:40:00</td>\n",
       "      <td>DiasBP</td>\n",
       "      <td>50.000000</td>\n",
       "    </tr>\n",
       "    <tr>\n",
       "      <th>1</th>\n",
       "      <td>10006</td>\n",
       "      <td>142345</td>\n",
       "      <td>206504</td>\n",
       "      <td>2164-10-22 15:30:00</td>\n",
       "      <td>2164-10-25 15:30:00</td>\n",
       "      <td>2164-10-23 21:10:15</td>\n",
       "      <td>2164-10-25 12:21:07</td>\n",
       "      <td>2164-10-23 22:40:00</td>\n",
       "      <td>HeartRate</td>\n",
       "      <td>104.000000</td>\n",
       "    </tr>\n",
       "    <tr>\n",
       "      <th>2</th>\n",
       "      <td>10006</td>\n",
       "      <td>142345</td>\n",
       "      <td>206504</td>\n",
       "      <td>2164-10-22 15:30:00</td>\n",
       "      <td>2164-10-25 15:30:00</td>\n",
       "      <td>2164-10-23 21:10:15</td>\n",
       "      <td>2164-10-25 12:21:07</td>\n",
       "      <td>2164-10-23 22:40:00</td>\n",
       "      <td>MeanBP</td>\n",
       "      <td>63.666698</td>\n",
       "    </tr>\n",
       "    <tr>\n",
       "      <th>3</th>\n",
       "      <td>10006</td>\n",
       "      <td>142345</td>\n",
       "      <td>206504</td>\n",
       "      <td>2164-10-22 15:30:00</td>\n",
       "      <td>2164-10-25 15:30:00</td>\n",
       "      <td>2164-10-23 21:10:15</td>\n",
       "      <td>2164-10-25 12:21:07</td>\n",
       "      <td>2164-10-23 22:40:00</td>\n",
       "      <td>RespRate</td>\n",
       "      <td>25.000000</td>\n",
       "    </tr>\n",
       "    <tr>\n",
       "      <th>4</th>\n",
       "      <td>10006</td>\n",
       "      <td>142345</td>\n",
       "      <td>206504</td>\n",
       "      <td>2164-10-22 15:30:00</td>\n",
       "      <td>2164-10-25 15:30:00</td>\n",
       "      <td>2164-10-23 21:10:15</td>\n",
       "      <td>2164-10-25 12:21:07</td>\n",
       "      <td>2164-10-23 22:40:00</td>\n",
       "      <td>SpO2</td>\n",
       "      <td>98.000000</td>\n",
       "    </tr>\n",
       "  </tbody>\n",
       "</table>\n",
       "</div>"
      ],
      "text/plain": [
       "   subject_id  hadm_id  icustay_id        window_start          window_end  \\\n",
       "0       10006   142345      206504 2164-10-22 15:30:00 2164-10-25 15:30:00   \n",
       "1       10006   142345      206504 2164-10-22 15:30:00 2164-10-25 15:30:00   \n",
       "2       10006   142345      206504 2164-10-22 15:30:00 2164-10-25 15:30:00   \n",
       "3       10006   142345      206504 2164-10-22 15:30:00 2164-10-25 15:30:00   \n",
       "4       10006   142345      206504 2164-10-22 15:30:00 2164-10-25 15:30:00   \n",
       "\n",
       "               intime             outtime           charttime   vital_id  \\\n",
       "0 2164-10-23 21:10:15 2164-10-25 12:21:07 2164-10-23 22:40:00     DiasBP   \n",
       "1 2164-10-23 21:10:15 2164-10-25 12:21:07 2164-10-23 22:40:00  HeartRate   \n",
       "2 2164-10-23 21:10:15 2164-10-25 12:21:07 2164-10-23 22:40:00     MeanBP   \n",
       "3 2164-10-23 21:10:15 2164-10-25 12:21:07 2164-10-23 22:40:00   RespRate   \n",
       "4 2164-10-23 21:10:15 2164-10-25 12:21:07 2164-10-23 22:40:00       SpO2   \n",
       "\n",
       "     valuenum  \n",
       "0   50.000000  \n",
       "1  104.000000  \n",
       "2   63.666698  \n",
       "3   25.000000  \n",
       "4   98.000000  "
      ]
     },
     "execution_count": 10,
     "metadata": {},
     "output_type": "execute_result"
    }
   ],
   "source": [
    "# Load vitals.csv data\n",
    "vitals_df = read_csv(DATA_DIR + '/vitals_cohort.csv', ['intime', 'outtime', 'window_start', 'window_end', 'charttime'])\n",
    "vitals_df.head()"
   ]
  },
  {
   "cell_type": "markdown",
   "id": "f2dff408",
   "metadata": {},
   "source": [
    "#### General Data Statistics"
   ]
  },
  {
   "cell_type": "code",
   "execution_count": 11,
   "id": "9e3bb790",
   "metadata": {},
   "outputs": [
    {
     "data": {
      "text/plain": [
       "vital_id\n",
       "DiasBP       2603\n",
       "Glucose       477\n",
       "HeartRate    2546\n",
       "MeanBP       2632\n",
       "RespRate     2541\n",
       "SpO2         2494\n",
       "SysBP        2611\n",
       "TempC         747\n",
       "Name: icustay_id, dtype: int64"
      ]
     },
     "execution_count": 11,
     "metadata": {},
     "output_type": "execute_result"
    }
   ],
   "source": [
    "# Which vitals exist?\n",
    "vitals_df.groupby('vital_id')['icustay_id'].count()"
   ]
  },
  {
   "cell_type": "markdown",
   "id": "d972be22",
   "metadata": {},
   "source": [
    "#### Spread of measurements (by type):"
   ]
  },
  {
   "cell_type": "code",
   "execution_count": 12,
   "id": "d34aa2c5",
   "metadata": {
    "scrolled": false
   },
   "outputs": [
    {
     "data": {
      "image/png": "[encoded data removed]",
      "text/plain": [
       "<Figure size 1008x1440 with 8 Axes>"
      ]
     },
     "metadata": {
      "needs_background": "light"
     },
     "output_type": "display_data"
    }
   ],
   "source": [
    "histogram(vitals_df, col='valuenum', type_col='vital_id')"
   ]
  },
  {
   "cell_type": "markdown",
   "id": "924b9a35",
   "metadata": {},
   "source": [
    "#### Spread of differences of measurment acquisition times (by type):"
   ]
  },
  {
   "cell_type": "code",
   "execution_count": 13,
   "id": "86ea7c4f",
   "metadata": {
    "scrolled": false
   },
   "outputs": [
    {
     "data": {
      "image/png": "[encoded data removed]",
      "text/plain": [
       "<Figure size 1008x1440 with 8 Axes>"
      ]
     },
     "metadata": {
      "needs_background": "light"
     },
     "output_type": "display_data"
    }
   ],
   "source": [
    "# Compute difference in measurement times for eaach measurement type in hours\n",
    "vitals_df = vitals_df.sort_values(['icustay_id', 'charttime'])\n",
    "vitals_df['time_diff'] = vitals_df.groupby(['icustay_id', 'vital_id'])['charttime'].diff().dt.total_seconds() / 3600\n",
    "\n",
    "histogram(vitals_df, col='time_diff', type_col='vital_id', x_label='Δt (hours)', bins=100)"
   ]
  },
  {
   "cell_type": "markdown",
   "id": "f7acefcb",
   "metadata": {},
   "source": [
    "#### Missing values (in hourly windows)"
   ]
  },
  {
   "cell_type": "code",
   "execution_count": 14,
   "id": "3ebe0982",
   "metadata": {},
   "outputs": [
    {
     "name": "stdout",
     "output_type": "stream",
     "text": [
      "Percentage of recorded vital measurements (per hour):\n"
     ]
    },
    {
     "data": {
      "text/plain": [
       "{'DiasBP': 0.4729763387297633,\n",
       " 'Glucose': 0.11187214611872143,\n",
       " 'HeartRate': 0.48991282689912824,\n",
       " 'MeanBP': 0.47621419676214194,\n",
       " 'RespRate': 0.4704856787048568,\n",
       " 'SpO2': 0.4752179327521793,\n",
       " 'SysBP': 0.4729763387297633,\n",
       " 'TempC': 0.16768138001014712}"
      ]
     },
     "execution_count": 14,
     "metadata": {},
     "output_type": "execute_result"
    }
   ],
   "source": [
    "print('Percentage of recorded vital measurements (per hour):')\n",
    "missing_values_in_intervals(vitals_df, item_col='vital_id')"
   ]
  },
  {
   "cell_type": "markdown",
   "id": "ef1fa82b",
   "metadata": {},
   "source": [
    "*Remarks:*\n",
    "\n",
    "1. Different distributions for different vital functions.\n",
    "2. Most vitals ignals have a $\\Delta t$ within 1~2 hours, with the exception of `Glucose` and `TempC`, which are being measured highly infrequently (increasing $\\Delta t$).\n",
    "\n",
    "1. Missing value percentage is very high (>50\\% for all vital signals).\n",
    "2. Temperature (`TempC`) and `Glucose` measurements are the most rare, only being recorded in 16.7\\% and 11.1\\% of hours in the 72h of interest (as was found previously)."
   ]
  },
  {
   "cell_type": "markdown",
   "id": "df81805f",
   "metadata": {},
   "source": [
    "---\n",
    "## FiO2 (Fraction of Inspired Oxygen)"
   ]
  },
  {
   "cell_type": "code",
   "execution_count": 15,
   "id": "d375de9f",
   "metadata": {},
   "outputs": [
    {
     "data": {
      "text/html": [
       "<div>\n",
       "<style scoped>\n",
       "    .dataframe tbody tr th:only-of-type {\n",
       "        vertical-align: middle;\n",
       "    }\n",
       "\n",
       "    .dataframe tbody tr th {\n",
       "        vertical-align: top;\n",
       "    }\n",
       "\n",
       "    .dataframe thead th {\n",
       "        text-align: right;\n",
       "    }\n",
       "</style>\n",
       "<table border=\"1\" class=\"dataframe\">\n",
       "  <thead>\n",
       "    <tr style=\"text-align: right;\">\n",
       "      <th></th>\n",
       "      <th>subject_id</th>\n",
       "      <th>hadm_id</th>\n",
       "      <th>icustay_id</th>\n",
       "      <th>charttime</th>\n",
       "      <th>fio2</th>\n",
       "    </tr>\n",
       "  </thead>\n",
       "  <tbody>\n",
       "    <tr>\n",
       "      <th>0</th>\n",
       "      <td>10013</td>\n",
       "      <td>165520</td>\n",
       "      <td>264446</td>\n",
       "      <td>2125-10-05 00:00:00</td>\n",
       "      <td>60.000002</td>\n",
       "    </tr>\n",
       "    <tr>\n",
       "      <th>1</th>\n",
       "      <td>10013</td>\n",
       "      <td>165520</td>\n",
       "      <td>264446</td>\n",
       "      <td>2125-10-05 01:00:00</td>\n",
       "      <td>40.000001</td>\n",
       "    </tr>\n",
       "    <tr>\n",
       "      <th>2</th>\n",
       "      <td>10013</td>\n",
       "      <td>165520</td>\n",
       "      <td>264446</td>\n",
       "      <td>2125-10-05 03:00:00</td>\n",
       "      <td>40.000001</td>\n",
       "    </tr>\n",
       "    <tr>\n",
       "      <th>3</th>\n",
       "      <td>10013</td>\n",
       "      <td>165520</td>\n",
       "      <td>264446</td>\n",
       "      <td>2125-10-05 07:00:00</td>\n",
       "      <td>69.999999</td>\n",
       "    </tr>\n",
       "    <tr>\n",
       "      <th>4</th>\n",
       "      <td>10013</td>\n",
       "      <td>165520</td>\n",
       "      <td>264446</td>\n",
       "      <td>2125-10-05 10:00:00</td>\n",
       "      <td>69.999999</td>\n",
       "    </tr>\n",
       "  </tbody>\n",
       "</table>\n",
       "</div>"
      ],
      "text/plain": [
       "   subject_id  hadm_id  icustay_id           charttime       fio2\n",
       "0       10013   165520      264446 2125-10-05 00:00:00  60.000002\n",
       "1       10013   165520      264446 2125-10-05 01:00:00  40.000001\n",
       "2       10013   165520      264446 2125-10-05 03:00:00  40.000001\n",
       "3       10013   165520      264446 2125-10-05 07:00:00  69.999999\n",
       "4       10013   165520      264446 2125-10-05 10:00:00  69.999999"
      ]
     },
     "execution_count": 15,
     "metadata": {},
     "output_type": "execute_result"
    }
   ],
   "source": [
    "fio2_df = read_csv(DATA_DIR + '/fio2_cohort.csv', parse_dates=['charttime'])\n",
    "fio2_df.head()"
   ]
  },
  {
   "cell_type": "markdown",
   "id": "50c7b4d0",
   "metadata": {},
   "source": [
    "#### Distribution of values:"
   ]
  },
  {
   "cell_type": "code",
   "execution_count": 16,
   "id": "0a5204f0",
   "metadata": {},
   "outputs": [
    {
     "data": {
      "image/png": "[encoded data removed]",
      "text/plain": [
       "<Figure size 1008x60120 with 1 Axes>"
      ]
     },
     "metadata": {
      "needs_background": "light"
     },
     "output_type": "display_data"
    }
   ],
   "source": [
    "histogram(fio2_df, col=['fio2'], num_cols=2)"
   ]
  },
  {
   "cell_type": "markdown",
   "id": "ac19e7f4",
   "metadata": {},
   "source": [
    "#### Distribution of time deltas:"
   ]
  },
  {
   "cell_type": "code",
   "execution_count": 17,
   "id": "a9b843bc",
   "metadata": {},
   "outputs": [
    {
     "data": {
      "image/png": "[encoded data removed]",
      "text/plain": [
       "<Figure size 1008x60120 with 1 Axes>"
      ]
     },
     "metadata": {
      "needs_background": "light"
     },
     "output_type": "display_data"
    }
   ],
   "source": [
    "# Compute difference in measurement times for eaach measurement type in hours\n",
    "fio2_df = fio2_df.sort_values(['icustay_id', 'charttime'])\n",
    "fio2_df['time_diff'] = fio2_df.groupby(['icustay_id'])['charttime'].diff().dt.total_seconds() / 3600\n",
    "\n",
    "histogram(fio2_df, col=['time_diff'], x_label='Δt (hours)', bins=50)"
   ]
  }
 ],
 "metadata": {
  "kernelspec": {
   "display_name": "Python 3 (ipykernel)",
   "language": "python",
   "name": "python3"
  },
  "language_info": {
   "codemirror_mode": {
    "name": "ipython",
    "version": 3
   },
   "file_extension": ".py",
   "mimetype": "text/x-python",
   "name": "python",
   "nbconvert_exporter": "python",
   "pygments_lexer": "ipython3",
   "version": "3.8.10"
  }
 },
 "nbformat": 4,
 "nbformat_minor": 5
}
