{
 "cells": [
  {
   "cell_type": "markdown",
   "id": "95e8b0ef-ba68-4ab6-bca6-63a9ac63e8a5",
   "metadata": {},
   "source": [
    "## Dataset Analysis\n",
    "\n",
    "In this notebook we'll have a look at the resulting datasets created using the `DataPreprocessing_Aggregated.ipynb` notebook."
   ]
  },
  {
   "cell_type": "code",
   "execution_count": 1,
   "id": "a10bd693-18b2-469a-bed5-92ab1f1b9461",
   "metadata": {},
   "outputs": [
    {
     "data": {
      "text/html": [
       "<div>\n",
       "<style scoped>\n",
       "    .dataframe tbody tr th:only-of-type {\n",
       "        vertical-align: middle;\n",
       "    }\n",
       "\n",
       "    .dataframe tbody tr th {\n",
       "        vertical-align: top;\n",
       "    }\n",
       "\n",
       "    .dataframe thead th {\n",
       "        text-align: right;\n",
       "    }\n",
       "</style>\n",
       "<table border=\"1\" class=\"dataframe\">\n",
       "  <thead>\n",
       "    <tr style=\"text-align: right;\">\n",
       "      <th></th>\n",
       "      <th>episode</th>\n",
       "      <th>timestep</th>\n",
       "      <th>max_vaso</th>\n",
       "      <th>x0</th>\n",
       "      <th>total_iv_fluid</th>\n",
       "      <th>x1</th>\n",
       "      <th>reward</th>\n",
       "      <th>x2</th>\n",
       "      <th>x3</th>\n",
       "      <th>x4</th>\n",
       "      <th>...</th>\n",
       "      <th>x40</th>\n",
       "      <th>x41</th>\n",
       "      <th>x42</th>\n",
       "      <th>x43</th>\n",
       "      <th>x44</th>\n",
       "      <th>x45</th>\n",
       "      <th>x46</th>\n",
       "      <th>x47</th>\n",
       "      <th>action</th>\n",
       "      <th>perc_missing</th>\n",
       "    </tr>\n",
       "  </thead>\n",
       "  <tbody>\n",
       "    <tr>\n",
       "      <th>0</th>\n",
       "      <td>200003</td>\n",
       "      <td>2199-08-01 22:02:00</td>\n",
       "      <td>0.0</td>\n",
       "      <td>-0.214655</td>\n",
       "      <td>0.0</td>\n",
       "      <td>-0.538247</td>\n",
       "      <td>0.0</td>\n",
       "      <td>1.068553</td>\n",
       "      <td>0.225769</td>\n",
       "      <td>-0.238059</td>\n",
       "      <td>...</td>\n",
       "      <td>-0.533695</td>\n",
       "      <td>-2.137279</td>\n",
       "      <td>-0.863924</td>\n",
       "      <td>-0.617202</td>\n",
       "      <td>-0.499452</td>\n",
       "      <td>-1.735171</td>\n",
       "      <td>-0.899866</td>\n",
       "      <td>0.345952</td>\n",
       "      <td>0.0</td>\n",
       "      <td>0.770833</td>\n",
       "    </tr>\n",
       "  </tbody>\n",
       "</table>\n",
       "<p>1 rows × 55 columns</p>\n",
       "</div>"
      ],
      "text/plain": [
       "   episode             timestep  max_vaso        x0  total_iv_fluid        x1  \\\n",
       "0   200003  2199-08-01 22:02:00       0.0 -0.214655             0.0 -0.538247   \n",
       "\n",
       "   reward        x2        x3        x4  ...       x40       x41       x42  \\\n",
       "0     0.0  1.068553  0.225769 -0.238059  ... -0.533695 -2.137279 -0.863924   \n",
       "\n",
       "        x43       x44       x45       x46       x47  action  perc_missing  \n",
       "0 -0.617202 -0.499452 -1.735171 -0.899866  0.345952     0.0      0.770833  \n",
       "\n",
       "[1 rows x 55 columns]"
      ]
     },
     "execution_count": 1,
     "metadata": {},
     "output_type": "execute_result"
    }
   ],
   "source": [
    "import numpy as np\n",
    "import pandas as pd\n",
    "\n",
    "df = pd.read_csv('datasets/mimic-iii/aggregated_all_1h/mimic-iii_train.csv')\n",
    "df.head(1)"
   ]
  },
  {
   "cell_type": "markdown",
   "id": "d99cbdc8-a084-4e04-95a0-2d75fcfa744d",
   "metadata": {},
   "source": [
    "### General Stats"
   ]
  },
  {
   "cell_type": "code",
   "execution_count": 2,
   "id": "575b4213-fbb4-464e-81a5-d182cc4e6374",
   "metadata": {},
   "outputs": [
    {
     "name": "stdout",
     "output_type": "stream",
     "text": [
      "Average length of episode: 72.0\n"
     ]
    }
   ],
   "source": [
    "episode_length = df.groupby('episode').size().mean()\n",
    "print('Average length of episode:', episode_length)"
   ]
  },
  {
   "cell_type": "markdown",
   "id": "269b02df-4b7d-4e2d-b27f-a5d74ce69c2b",
   "metadata": {},
   "source": [
    "### Reward Distribution"
   ]
  },
  {
   "cell_type": "code",
   "execution_count": 3,
   "id": "242dfdfd-c90c-430d-8be3-6f1f07a40eb2",
   "metadata": {},
   "outputs": [
    {
     "name": "stdout",
     "output_type": "stream",
     "text": [
      "Average terminal reward: 10.005\n"
     ]
    }
   ],
   "source": [
    "# reshape rewards to table with a column for each time step\n",
    "rewards = df.reward.values.reshape(-1, int(episode_length))\n",
    "\n",
    "# mean reward at terminal time step\n",
    "avg_terminal_reward = np.mean(rewards[:, -1], axis=0)\n",
    "\n",
    "print('Average terminal reward: %.3f' % avg_terminal_reward)"
   ]
  },
  {
   "cell_type": "code",
   "execution_count": 4,
   "id": "86e03922-e5d8-4aa5-b04e-84e53d3b3950",
   "metadata": {},
   "outputs": [
    {
     "name": "stdout",
     "output_type": "stream",
     "text": [
      "All rewards:\n",
      "R=0  ->  98.611 %\n",
      "R>0  ->   1.158 %\n",
      "R<0  ->   0.231 %\n"
     ]
    }
   ],
   "source": [
    "print('All rewards:')\n",
    "print('R=0  ->  %.3f %%' % (100 * np.mean(rewards == 0)))\n",
    "print('R>0  ->   %.3f %%' % (100 * np.mean(rewards > 0)))\n",
    "print('R<0  ->   %.3f %%' % (100 * np.mean(rewards < 0)))"
   ]
  },
  {
   "cell_type": "code",
   "execution_count": 5,
   "id": "c4c45424-7731-4f5e-81a6-4cbff73d4395",
   "metadata": {},
   "outputs": [
    {
     "name": "stdout",
     "output_type": "stream",
     "text": [
      "Terminal rewards:\n",
      "R=0  ->   0.000 %\n",
      "R>0  ->  83.351 %\n",
      "R<0  ->  16.649 %\n"
     ]
    }
   ],
   "source": [
    "print('Terminal rewards:')\n",
    "print('R=0  ->   %.3f %%' % (100 * np.mean(rewards[:, -1] == 0)))\n",
    "print('R>0  ->  %.3f %%' % (100 * np.mean(rewards[:, -1] > 0)))\n",
    "print('R<0  ->  %.3f %%' % (100 * np.mean(rewards[:, -1] < 0)))"
   ]
  },
  {
   "cell_type": "markdown",
   "id": "271ef81e-1d7b-4986-823f-4a7ca87fd040",
   "metadata": {},
   "source": [
    "### Action Distribution"
   ]
  },
  {
   "cell_type": "code",
   "execution_count": 6,
   "id": "cfef9483-70af-43a8-8c50-ce762143e39d",
   "metadata": {},
   "outputs": [
    {
     "name": "stdout",
     "output_type": "stream",
     "text": [
      "Actions:\n"
     ]
    },
    {
     "data": {
      "text/html": [
       "<div>\n",
       "<style scoped>\n",
       "    .dataframe tbody tr th:only-of-type {\n",
       "        vertical-align: middle;\n",
       "    }\n",
       "\n",
       "    .dataframe tbody tr th {\n",
       "        vertical-align: top;\n",
       "    }\n",
       "\n",
       "    .dataframe thead th {\n",
       "        text-align: right;\n",
       "    }\n",
       "</style>\n",
       "<table border=\"1\" class=\"dataframe\">\n",
       "  <thead>\n",
       "    <tr style=\"text-align: right;\">\n",
       "      <th></th>\n",
       "      <th>Freq.</th>\n",
       "      <th>Prob. (%)</th>\n",
       "    </tr>\n",
       "  </thead>\n",
       "  <tbody>\n",
       "    <tr>\n",
       "      <th>0.0</th>\n",
       "      <td>506533</td>\n",
       "      <td>76.154801</td>\n",
       "    </tr>\n",
       "    <tr>\n",
       "      <th>20.0</th>\n",
       "      <td>31729</td>\n",
       "      <td>4.770303</td>\n",
       "    </tr>\n",
       "    <tr>\n",
       "      <th>10.0</th>\n",
       "      <td>30880</td>\n",
       "      <td>4.642660</td>\n",
       "    </tr>\n",
       "    <tr>\n",
       "      <th>5.0</th>\n",
       "      <td>30727</td>\n",
       "      <td>4.619657</td>\n",
       "    </tr>\n",
       "    <tr>\n",
       "      <th>15.0</th>\n",
       "      <td>29947</td>\n",
       "      <td>4.502387</td>\n",
       "    </tr>\n",
       "    <tr>\n",
       "      <th>24.0</th>\n",
       "      <td>5805</td>\n",
       "      <td>0.872754</td>\n",
       "    </tr>\n",
       "    <tr>\n",
       "      <th>23.0</th>\n",
       "      <td>3954</td>\n",
       "      <td>0.594465</td>\n",
       "    </tr>\n",
       "    <tr>\n",
       "      <th>22.0</th>\n",
       "      <td>3442</td>\n",
       "      <td>0.517488</td>\n",
       "    </tr>\n",
       "    <tr>\n",
       "      <th>11.0</th>\n",
       "      <td>2869</td>\n",
       "      <td>0.431340</td>\n",
       "    </tr>\n",
       "    <tr>\n",
       "      <th>21.0</th>\n",
       "      <td>2576</td>\n",
       "      <td>0.387289</td>\n",
       "    </tr>\n",
       "    <tr>\n",
       "      <th>12.0</th>\n",
       "      <td>2376</td>\n",
       "      <td>0.357220</td>\n",
       "    </tr>\n",
       "    <tr>\n",
       "      <th>17.0</th>\n",
       "      <td>2240</td>\n",
       "      <td>0.336773</td>\n",
       "    </tr>\n",
       "    <tr>\n",
       "      <th>19.0</th>\n",
       "      <td>2180</td>\n",
       "      <td>0.327753</td>\n",
       "    </tr>\n",
       "    <tr>\n",
       "      <th>16.0</th>\n",
       "      <td>2043</td>\n",
       "      <td>0.307155</td>\n",
       "    </tr>\n",
       "    <tr>\n",
       "      <th>18.0</th>\n",
       "      <td>1998</td>\n",
       "      <td>0.300390</td>\n",
       "    </tr>\n",
       "    <tr>\n",
       "      <th>13.0</th>\n",
       "      <td>1935</td>\n",
       "      <td>0.290918</td>\n",
       "    </tr>\n",
       "    <tr>\n",
       "      <th>14.0</th>\n",
       "      <td>1402</td>\n",
       "      <td>0.210784</td>\n",
       "    </tr>\n",
       "    <tr>\n",
       "      <th>6.0</th>\n",
       "      <td>1267</td>\n",
       "      <td>0.190487</td>\n",
       "    </tr>\n",
       "    <tr>\n",
       "      <th>7.0</th>\n",
       "      <td>599</td>\n",
       "      <td>0.090057</td>\n",
       "    </tr>\n",
       "    <tr>\n",
       "      <th>8.0</th>\n",
       "      <td>456</td>\n",
       "      <td>0.068557</td>\n",
       "    </tr>\n",
       "    <tr>\n",
       "      <th>9.0</th>\n",
       "      <td>178</td>\n",
       "      <td>0.026761</td>\n",
       "    </tr>\n",
       "  </tbody>\n",
       "</table>\n",
       "</div>"
      ],
      "text/plain": [
       "       Freq.  Prob. (%)\n",
       "0.0   506533  76.154801\n",
       "20.0   31729   4.770303\n",
       "10.0   30880   4.642660\n",
       "5.0    30727   4.619657\n",
       "15.0   29947   4.502387\n",
       "24.0    5805   0.872754\n",
       "23.0    3954   0.594465\n",
       "22.0    3442   0.517488\n",
       "11.0    2869   0.431340\n",
       "21.0    2576   0.387289\n",
       "12.0    2376   0.357220\n",
       "17.0    2240   0.336773\n",
       "19.0    2180   0.327753\n",
       "16.0    2043   0.307155\n",
       "18.0    1998   0.300390\n",
       "13.0    1935   0.290918\n",
       "14.0    1402   0.210784\n",
       "6.0     1267   0.190487\n",
       "7.0      599   0.090057\n",
       "8.0      456   0.068557\n",
       "9.0      178   0.026761"
      ]
     },
     "execution_count": 6,
     "metadata": {},
     "output_type": "execute_result"
    }
   ],
   "source": [
    "print('Actions:')\n",
    "action_freq = df.action.value_counts()\n",
    "action_prob = 100 * action_freq / action_freq.sum()\n",
    "\n",
    "pd.DataFrame({'Freq.':action_freq, 'Prob. (%)':action_prob})"
   ]
  },
  {
   "cell_type": "code",
   "execution_count": 7,
   "id": "93e073eb-4b2d-432a-aadf-6dac507abb66",
   "metadata": {},
   "outputs": [
    {
     "data": {
      "image/png": "[encoded data removed]",
      "text/plain": [
       "<Figure size 720x576 with 2 Axes>"
      ]
     },
     "metadata": {
      "needs_background": "light"
     },
     "output_type": "display_data"
    }
   ],
   "source": [
    "import matplotlib.pyplot as plt\n",
    "import seaborn as sns\n",
    "\n",
    "# convert to nice action table\n",
    "action_matrix = np.zeros(25)\n",
    "for a, f in action_freq.iteritems():\n",
    "    action_matrix[int(a)] = f\n",
    "action_matrix = action_matrix.reshape(5, 5)[::-1]\n",
    "\n",
    "plt.figure(figsize=(10, 8))\n",
    "sns.heatmap(action_matrix, fmt='g', annot=True)\n",
    "plt.title('Frequency of actions:')\n",
    "plt.xlabel('Vasopressor', fontsize=13)\n",
    "plt.ylabel('IV fluids', fontsize=13);"
   ]
  },
  {
   "cell_type": "code",
   "execution_count": 8,
   "id": "273b985b-a8ef-4b7f-ba59-aa679195131f",
   "metadata": {},
   "outputs": [
    {
     "data": {
      "image/png": "[encoded data removed]",
      "text/plain": [
       "<Figure size 720x576 with 2 Axes>"
      ]
     },
     "metadata": {
      "needs_background": "light"
     },
     "output_type": "display_data"
    }
   ],
   "source": [
    "# convert to nice action table\n",
    "action_matrix = np.zeros(25)\n",
    "for a, f in action_prob.iteritems():\n",
    "    action_matrix[int(a)] = f\n",
    "action_matrix = action_matrix.reshape(5, 5)[::-1]\n",
    "\n",
    "plt.figure(figsize=(10, 8))\n",
    "sns.heatmap(action_matrix, fmt='.2f', annot=True)\n",
    "plt.title('Likelihood of actions:')\n",
    "plt.xlabel('Vasopressor', fontsize=13)\n",
    "plt.ylabel('IV fluids', fontsize=13);"
   ]
  }
 ],
 "metadata": {
  "kernelspec": {
   "display_name": "Python 3 (ipykernel)",
   "language": "python",
   "name": "python3"
  },
  "language_info": {
   "codemirror_mode": {
    "name": "ipython",
    "version": 3
   },
   "file_extension": ".py",
   "mimetype": "text/x-python",
   "name": "python",
   "nbconvert_exporter": "python",
   "pygments_lexer": "ipython3",
   "version": "3.8.10"
  }
 },
 "nbformat": 4,
 "nbformat_minor": 5
}
