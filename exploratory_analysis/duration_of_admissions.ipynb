{
 "cells": [
  {
   "cell_type": "code",
   "execution_count": null,
   "id": "efada784-3c2d-43b1-b5e5-a3ff4967de38",
   "metadata": {},
   "outputs": [],
   "source": [
    "import pandas as pd\n",
    "import matplotlib.pyplot as plt"
   ]
  },
  {
   "cell_type": "markdown",
   "id": "9bf26850-e486-41e0-aa2e-e68e0c746fb7",
   "metadata": {},
   "source": [
    "### AmsterdamUMCdb"
   ]
  },
  {
   "cell_type": "code",
   "execution_count": null,
   "id": "1f84bab9-a1fd-41ac-b0a9-d560c7d36051",
   "metadata": {},
   "outputs": [],
   "source": [
    "umc_los = pd.read_csv('D:/AmsterdamUMCdb-v1.0.2/admissions.csv', usecols=['lengthofstay']).lengthofstay\n",
    "\n",
    "plt.figure(figsize=(12, 3.5))\n",
    "plt.subplot(1, 2, 1)\n",
    "umc_los.hist(bins=100)\n",
    "plt.xlabel('length of stay (hours)')\n",
    "plt.ylabel('frequency')\n",
    "\n",
    "plt.subplot(1, 2, 2)\n",
    "umc_los[umc_los < 300].hist(bins=100)\n",
    "plt.xlabel('length of stay (hours)');"
   ]
  },
  {
   "cell_type": "markdown",
   "id": "4a740519-6b51-4ba9-9c77-d64cb8324870",
   "metadata": {},
   "source": [
    "### MIMIC-III"
   ]
  },
  {
   "cell_type": "code",
   "execution_count": null,
   "id": "a056f405-04f8-46b4-9ba0-d9977f0132b8",
   "metadata": {},
   "outputs": [],
   "source": [
    "mimic_df = pd.read_csv('D:/mimic-iii-clinical-database-1.4/ICUSTAYS.csv', usecols=['LOS'])\n",
    "\n",
    "# convert to hours\n",
    "mimic_los = mimic_df.LOS * 24\n",
    "\n",
    "plt.figure(figsize=(12, 3.5))\n",
    "plt.subplot(1, 2, 1)\n",
    "mimic_los.hist(bins=100)\n",
    "plt.xlabel('length of stay (hours)')\n",
    "plt.ylabel('frequency')\n",
    "\n",
    "plt.subplot(1, 2, 2)\n",
    "mimic_los[mimic_los < 300].hist(bins=100)\n",
    "plt.xlabel('length of stay (hours)');"
   ]
  }
 ],
 "metadata": {
  "kernelspec": {
   "display_name": "Python 3 (ipykernel)",
   "language": "python",
   "name": "python3"
  },
  "language_info": {
   "codemirror_mode": {
    "name": "ipython",
    "version": 3
   },
   "file_extension": ".py",
   "mimetype": "text/x-python",
   "name": "python",
   "nbconvert_exporter": "python",
   "pygments_lexer": "ipython3",
   "version": "3.8.10"
  }
 },
 "nbformat": 4,
 "nbformat_minor": 5
}
