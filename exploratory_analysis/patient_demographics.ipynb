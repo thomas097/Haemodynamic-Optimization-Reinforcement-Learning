{
 "cells": [
  {
   "cell_type": "code",
   "execution_count": 67,
   "id": "efada784-3c2d-43b1-b5e5-a3ff4967de38",
   "metadata": {},
   "outputs": [],
   "source": [
    "import numpy as np\n",
    "import pandas as pd\n",
    "import matplotlib.pyplot as plt"
   ]
  },
  {
   "cell_type": "markdown",
   "id": "24d95baf-ddee-454f-8704-389f4c6c4497",
   "metadata": {},
   "source": [
    "## Gender"
   ]
  },
  {
   "cell_type": "markdown",
   "id": "9bf26850-e486-41e0-aa2e-e68e0c746fb7",
   "metadata": {},
   "source": [
    "### AmsterdamUMCdb"
   ]
  },
  {
   "cell_type": "code",
   "execution_count": 16,
   "id": "1f84bab9-a1fd-41ac-b0a9-d560c7d36051",
   "metadata": {},
   "outputs": [
    {
     "name": "stdout",
     "output_type": "stream",
     "text": [
      "Men:   63.8%\n",
      "Women: 34.1%\n"
     ]
    }
   ],
   "source": [
    "umc_gender = pd.read_csv('D:/AmsterdamUMCdb-v1.0.2/admissions.csv', usecols=['gender']).gender\n",
    "\n",
    "print('Men:   %.1f%%' % (100 * np.mean(umc_gender == 'Man')))\n",
    "print('Women: %.1f%%' % (100 * np.mean(umc_gender == 'Vrouw')))"
   ]
  },
  {
   "cell_type": "code",
   "execution_count": 18,
   "id": "800a0e9c-82fe-4cdf-819f-c44bff487977",
   "metadata": {},
   "outputs": [
    {
     "name": "stdout",
     "output_type": "stream",
     "text": [
      "Men:   14735\n",
      "Women: 7875\n"
     ]
    }
   ],
   "source": [
    "print('Men:   %d' % np.sum(umc_gender == 'Man'))\n",
    "print('Women: %d' % np.sum(umc_gender == 'Vrouw'))"
   ]
  },
  {
   "cell_type": "markdown",
   "id": "4a740519-6b51-4ba9-9c77-d64cb8324870",
   "metadata": {},
   "source": [
    "### MIMIC-III"
   ]
  },
  {
   "cell_type": "code",
   "execution_count": 4,
   "id": "a056f405-04f8-46b4-9ba0-d9977f0132b8",
   "metadata": {},
   "outputs": [
    {
     "name": "stdout",
     "output_type": "stream",
     "text": [
      "Men:   56.1%\n",
      "Women: 43.9%\n"
     ]
    }
   ],
   "source": [
    "mimic_gender = pd.read_csv('D:/mimic-iii-clinical-database-1.4/PATIENTS.csv', usecols=['SUBJECT_ID', 'GENDER'])\n",
    "\n",
    "# limit admissions to those who eventually went to IC\n",
    "patients_in_icu = pd.read_csv('D:/mimic-iii-clinical-database-1.4/ICUSTAYS.csv', usecols=['SUBJECT_ID']).SUBJECT_ID.unique()\n",
    "mimic_gender = mimic_gender[mimic_gender.SUBJECT_ID.isin(patients_in_icu)].GENDER\n",
    "\n",
    "print('Men:   %.1f%%' % (100 * np.mean(mimic_gender == 'M')))\n",
    "print('Women: %.1f%%' % (100 * np.mean(mimic_gender == 'F')))"
   ]
  },
  {
   "cell_type": "code",
   "execution_count": 7,
   "id": "dbddfcb9-acba-473e-a5eb-736fbf6ce616",
   "metadata": {},
   "outputs": [
    {
     "name": "stdout",
     "output_type": "stream",
     "text": [
      "Men:   26096\n",
      "Women: 20380\n"
     ]
    }
   ],
   "source": [
    "print('Men:   %d' % np.sum(mimic_gender == 'M'))\n",
    "print('Women: %d' % np.sum(mimic_gender == 'F'))"
   ]
  },
  {
   "cell_type": "markdown",
   "id": "5f80864c-b9a2-438a-a2e0-eba799af9204",
   "metadata": {},
   "source": [
    "## Age"
   ]
  },
  {
   "cell_type": "markdown",
   "id": "fd951e3f-8cfa-4450-b8e2-a051f90731b4",
   "metadata": {},
   "source": [
    "### AmsterdamUMCdb"
   ]
  },
  {
   "cell_type": "code",
   "execution_count": 20,
   "id": "9bbda4a5-e7a4-4a4e-b332-aa718f4eb3b0",
   "metadata": {},
   "outputs": [],
   "source": [
    "umc_age = pd.read_csv('D:/AmsterdamUMCdb-v1.0.2/admissions.csv', usecols=['agegroup']).agegroup\n",
    "\n",
    "agegroups = {\n",
    "    '60-69': 65,\n",
    "    '70-79': 75,\n",
    "    '50-59': 55,\n",
    "    '18-39': 28.5,\n",
    "    '80+': 85,\n",
    "    '40-49': 45,\n",
    "}\n",
    "\n",
    "umc_age = umc_age.transform(lambda x: agegroups[x])"
   ]
  },
  {
   "cell_type": "code",
   "execution_count": 22,
   "id": "9f761ad1-ef6a-4964-ae2d-37b155814763",
   "metadata": {},
   "outputs": [
    {
     "name": "stdout",
     "output_type": "stream",
     "text": [
      "Mean: 61.9613303903748\n",
      "SD:   16.064631049503685\n"
     ]
    }
   ],
   "source": [
    "print('Mean:', np.mean(umc_age))\n",
    "print('SD:  ', np.std(umc_age))"
   ]
  },
  {
   "cell_type": "markdown",
   "id": "784c0d33-c6a6-42b3-8c72-f19de20ea688",
   "metadata": {},
   "source": [
    "### MIMIC-III"
   ]
  },
  {
   "cell_type": "code",
   "execution_count": 45,
   "id": "8be9baa8-668e-4f57-bd05-f801c18ac2b3",
   "metadata": {},
   "outputs": [],
   "source": [
    "mimic_age = pd.read_csv('D:/mimic-iii-clinical-database-1.4/PATIENTS.csv', usecols=['SUBJECT_ID', 'DOB'])\n",
    "mimic_adm = pd.read_csv('D:/mimic-iii-clinical-database-1.4/ADMISSIONS.csv', usecols=['SUBJECT_ID', 'ADMITTIME']) \n",
    "mimic_age = mimic_age.merge(mimic_adm, on='SUBJECT_ID').dropna(axis=0)\n",
    "\n",
    "mimic_age.ADMITTIME = pd.to_datetime(mimic_age.ADMITTIME).dt.date\n",
    "mimic_age.DOB = pd.to_datetime(mimic_age.DOB).dt.date\n",
    "\n",
    "mimic_age['age'] = mimic_age.apply(lambda e: (e.ADMITTIME - e.DOB).days/365, axis=1)\n",
    "mimic_age = mimic_age[mimic_age.age > 17].age"
   ]
  },
  {
   "cell_type": "code",
   "execution_count": 46,
   "id": "1c454b01-4652-4593-b8b0-bd545c16e0a6",
   "metadata": {},
   "outputs": [
    {
     "name": "stdout",
     "output_type": "stream",
     "text": [
      "Mean: 74.7882821537852\n",
      "SD:   55.04342066888314\n"
     ]
    }
   ],
   "source": [
    "print('Mean:', np.mean(mimic_age))\n",
    "print('SD:  ', np.std(mimic_age))"
   ]
  },
  {
   "cell_type": "markdown",
   "id": "80fb6dbd-adc7-4922-a63a-46820bcf8311",
   "metadata": {},
   "source": [
    "## SIRS core on admission"
   ]
  },
  {
   "cell_type": "markdown",
   "id": "89a87791-eb4f-4508-8de1-a25f2611cd9e",
   "metadata": {},
   "source": [
    "### AmsterdamUMCdb"
   ]
  },
  {
   "cell_type": "code",
   "execution_count": 75,
   "id": "8b4cf39e-4648-4eb6-a419-8d8adeec91a1",
   "metadata": {},
   "outputs": [
    {
     "data": {
      "image/png": "[encoded data removed]",
      "text/plain": [
       "<Figure size 432x288 with 1 Axes>"
      ]
     },
     "metadata": {
      "needs_background": "light"
     },
     "output_type": "display_data"
    }
   ],
   "source": [
    "# determine where SIRS score is stored in dataset\n",
    "with open('../preprocessing/datasets/amsterdam-umc-db/aggregated_full_cohort_2h/state_space_features.txt') as file:\n",
    "    i = [f.strip() for f in file.readlines()].index('sirs_score')\n",
    "\n",
    "umc_sirs = pd.read_csv('../preprocessing/datasets/amsterdam-umc-db/aggregated_full_cohort_2h/valid.csv', usecols=['x%d' % i])\n",
    "\n",
    "# Rescale sirs from 0 to 4\n",
    "umc_sirs = umc_sirs - umc_sirs.min()\n",
    "umc_sirs = 4 * umc_sirs / umc_sirs.max()\n",
    "\n",
    "plt.hist(umc_sirs, bins=100);"
   ]
  },
  {
   "cell_type": "code",
   "execution_count": 76,
   "id": "ee89d543-21a5-4178-9c03-956c0a3f0e5d",
   "metadata": {},
   "outputs": [
    {
     "name": "stdout",
     "output_type": "stream",
     "text": [
      "Mean: x82    1.939824\n",
      "dtype: float64\n",
      "SD:   x82    0.582726\n",
      "dtype: float64\n"
     ]
    }
   ],
   "source": [
    "print('Mean:', np.mean(umc_sirs))\n",
    "print('SD:  ', np.std(umc_sirs))"
   ]
  },
  {
   "cell_type": "markdown",
   "id": "c1a88637-e6f2-4d28-a9a0-41903f15d6b4",
   "metadata": {},
   "source": [
    "## MIMIC-III"
   ]
  },
  {
   "cell_type": "code",
   "execution_count": 78,
   "id": "a6c81c0e-c5d1-43f1-a829-ab7752954362",
   "metadata": {},
   "outputs": [
    {
     "data": {
      "image/png": "[encoded data removed]",
      "text/plain": [
       "<Figure size 432x288 with 1 Axes>"
      ]
     },
     "metadata": {
      "needs_background": "light"
     },
     "output_type": "display_data"
    }
   ],
   "source": [
    "# determine where SIRS score is stored in dataset\n",
    "with open('../preprocessing/datasets/mimic-iii/aggregated_full_cohort_2h/state_space_features.txt') as file:\n",
    "    i = [f.strip() for f in file.readlines()].index('sirs_score')\n",
    "\n",
    "mimic_sirs = pd.read_csv('../preprocessing/datasets/mimic-iii/aggregated_full_cohort_2h/valid.csv', usecols=['x%d' % i])\n",
    "\n",
    "# Rescale sirs from 0 to 4\n",
    "mimic_sirs = mimic_sirs - mimic_sirs.min()\n",
    "mimic_sirs = 4 * mimic_sirs / mimic_sirs.max()\n",
    "\n",
    "plt.hist(mimic_sirs, bins=100);"
   ]
  },
  {
   "cell_type": "code",
   "execution_count": 79,
   "id": "7f595dff-60a1-4bbe-9730-6f51c568bb32",
   "metadata": {},
   "outputs": [
    {
     "name": "stdout",
     "output_type": "stream",
     "text": [
      "Mean: x3    2.702843\n",
      "dtype: float64\n",
      "SD:   x3    1.183183\n",
      "dtype: float64\n"
     ]
    }
   ],
   "source": [
    "print('Mean:', np.mean(mimic_sirs))\n",
    "print('SD:  ', np.std(mimic_sirs))"
   ]
  },
  {
   "cell_type": "code",
   "execution_count": null,
   "id": "053da1f6-f8dc-405c-b15c-73d655ce7798",
   "metadata": {},
   "outputs": [],
   "source": []
  }
 ],
 "metadata": {
  "kernelspec": {
   "display_name": "Python 3 (ipykernel)",
   "language": "python",
   "name": "python3"
  },
  "language_info": {
   "codemirror_mode": {
    "name": "ipython",
    "version": 3
   },
   "file_extension": ".py",
   "mimetype": "text/x-python",
   "name": "python",
   "nbconvert_exporter": "python",
   "pygments_lexer": "ipython3",
   "version": "3.8.10"
  }
 },
 "nbformat": 4,
 "nbformat_minor": 5
}
