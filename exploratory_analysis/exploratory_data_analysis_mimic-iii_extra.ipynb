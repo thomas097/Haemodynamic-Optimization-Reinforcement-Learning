{
 "cells": [
  {
   "cell_type": "markdown",
   "id": "8b3b697a-1525-43b8-9c4b-12c01670f5b6",
   "metadata": {},
   "source": [
    "## Average Duration of Treatments"
   ]
  },
  {
   "cell_type": "code",
   "execution_count": 16,
   "id": "65eba1d8-ecbe-48a6-89bd-b4a0ec6830c9",
   "metadata": {},
   "outputs": [],
   "source": [
    "import numpy as np\n",
    "import pandas as pd\n",
    "import matplotlib.pyplot as plt"
   ]
  },
  {
   "cell_type": "code",
   "execution_count": 2,
   "id": "b5feaf3a-17cf-4cd1-9eaa-e3280163785d",
   "metadata": {},
   "outputs": [],
   "source": [
    "# mind the typo\n",
    "vaso_df = pd.read_csv('../data/mimic-iii/final/vassopressors_mv_cohort.csv', usecols=['starttime', 'endtime'])\n",
    "ivfl_df = pd.read_csv('../data/mimic-iii/final/inputevents_mv_cohort.csv', usecols=['starttime', 'endtime', 'amountuom'])\n",
    "\n",
    "# conly consider unit=ml\n",
    "ivfl_df = ivfl_df[ivfl_df.amountuom == 'ml']\n",
    "\n",
    "# Compute Vasopressor and IV treatment durations\n",
    "vaso_duration = (pd.to_datetime(vaso_df.endtime) - pd.to_datetime(vaso_df.starttime)) / pd.Timedelta(hours=1)\n",
    "ivfl_duration = (pd.to_datetime(ivfl_df.endtime) - pd.to_datetime(ivfl_df.starttime)) / pd.Timedelta(hours=1)\n",
    "\n",
    "# Remove outliers\n",
    "vaso_duration = vaso_duration[(vaso_duration >= 0) & (vaso_duration < np.quantile(vaso_duration, 0.99))]\n",
    "ivfl_duration = ivfl_duration[(ivfl_duration >= 0) & (ivfl_duration < np.quantile(vaso_duration, 0.99))]"
   ]
  },
  {
   "cell_type": "code",
   "execution_count": 4,
   "id": "1648432e-4b7c-4170-8911-4ad1bacbc939",
   "metadata": {},
   "outputs": [
    {
     "data": {
      "image/png": "[encoded data removed]",
      "text/plain": [
       "<Figure size 864x288 with 2 Axes>"
      ]
     },
     "metadata": {
      "needs_background": "light"
     },
     "output_type": "display_data"
    }
   ],
   "source": [
    "plt.figure(figsize=(12, 4))\n",
    "\n",
    "plt.subplot(1, 2, 1)\n",
    "plt.hist(vaso_duration, bins=100)\n",
    "plt.title('Vasopressor treatments')\n",
    "plt.xlabel('time (hours)')\n",
    "plt.ylabel('Frequency')\n",
    "\n",
    "plt.subplot(1, 2, 2)\n",
    "plt.hist(ivfl_duration, bins=100)\n",
    "plt.title('IV therapy')\n",
    "plt.xlabel('time (hours)')\n",
    "plt.ylabel('Frequency');"
   ]
  },
  {
   "cell_type": "markdown",
   "id": "f44f360c-d73a-4879-90ee-fc4f8354ee81",
   "metadata": {},
   "source": [
    "## Why a spike in low-duration IV therapies?"
   ]
  },
  {
   "cell_type": "code",
   "execution_count": 17,
   "id": "7026a5fe-aacc-49c1-98a7-9fc5aea53563",
   "metadata": {},
   "outputs": [
    {
     "data": {
      "text/plain": [
       "14-Oral/Gastric Intake      225047\n",
       "08-Antibiotics (IV)         160709\n",
       "01-Drips                     58801\n",
       "03-IV Fluid Bolus            48142\n",
       "10-Prophylaxis (IV)          26159\n",
       "16-Pre Admission             15342\n",
       "02-Fluids (Crystalloids)     12261\n",
       "13-Enteral Nutrition          8062\n",
       "05-Med Bolus                  4744\n",
       "12-Parenteral Nutrition        625\n",
       "07-Blood Products              569\n",
       "04-Fluids (Colloids)           326\n",
       "15-Supplements                  78\n",
       "Name: ordercategoryname, dtype: int64"
      ]
     },
     "execution_count": 17,
     "metadata": {},
     "output_type": "execute_result"
    }
   ],
   "source": [
    "ivfl_df = pd.read_csv('../data/mimic-iii/final/inputevents_mv_cohort.csv', usecols=['starttime', 'endtime', 'amount', 'ordercategoryname', 'amountuom'])\n",
    "\n",
    "# only consider unit=ml\n",
    "ivfl_df = ivfl_df[ivfl_df.amountuom == 'ml']\n",
    "\n",
    "# Identify treatments <2 minutes\n",
    "ivfl_duration = (pd.to_datetime(ivfl_df.endtime) - pd.to_datetime(ivfl_df.starttime)) / pd.Timedelta(minutes=1)\n",
    "low_duration = ivfl_duration < 2\n",
    "\n",
    "ivfl_df[low_duration].ordercategoryname.value_counts()"
   ]
  },
  {
   "cell_type": "code",
   "execution_count": 6,
   "id": "2eb10e42-1838-462d-a559-6cf8bb131e6d",
   "metadata": {},
   "outputs": [
    {
     "name": "stdout",
     "output_type": "stream",
     "text": [
      "Total treatments: 1491663\n",
      "Low-dim treatments: 560865\n",
      "Percentage treatments: 0.3759998069268997\n"
     ]
    }
   ],
   "source": [
    "print('Total treatments:', len(ivfl_df))\n",
    "print('Low-dim treatments:', len(ivfl_df[low_duration]))\n",
    "print('Percentage treatments:', len(ivfl_df[low_duration]) / len(ivfl_df))"
   ]
  },
  {
   "cell_type": "code",
   "execution_count": 7,
   "id": "17b2de14-5737-4840-af5e-7535edab2a47",
   "metadata": {},
   "outputs": [],
   "source": [
    "# What if we remove non-IV?\n",
    "non_iv_categories = [\n",
    "    '14-Oral/Gastric Intake',\n",
    "    '09-Antibiotics (Non IV)',\n",
    "    '13-Enteral Nutrition',\n",
    "    '06-Insulin (Non IV)',\n",
    "    '11-Prophylaxis (Non IV)',\n",
    "    '16-Pre Admission',\n",
    "    '09-Antibiotics (Non IV)'\n",
    "]\n",
    "\n",
    "# Drop Non-IV\n",
    "ivfl_df = ivfl_df[~ivfl_df.ordercategoryname.isin(non_iv_categories)]\n",
    "\n",
    "# Compute durations\n",
    "ivfl_duration = (pd.to_datetime(ivfl_df.endtime) - pd.to_datetime(ivfl_df.starttime)) / pd.Timedelta(hours=1)\n",
    "ivfl_df['duration'] = ivfl_duration\n",
    "\n",
    "# Compute rate\n",
    "ivfl_df['rate'] = ivfl_df.amount / ivfl_df.duration\n",
    "\n",
    "# Remove outliers\n",
    "ivfl_duration = ivfl_duration[(ivfl_duration >= 0) & (ivfl_duration < np.quantile(vaso_duration, 0.99))]"
   ]
  },
  {
   "cell_type": "code",
   "execution_count": 8,
   "id": "f8fec8d1-da67-403b-8d0d-9ec415f43767",
   "metadata": {},
   "outputs": [
    {
     "data": {
      "image/png": "[encoded data removed]",
      "text/plain": [
       "<Figure size 432x288 with 1 Axes>"
      ]
     },
     "metadata": {
      "needs_background": "light"
     },
     "output_type": "display_data"
    }
   ],
   "source": [
    "plt.hist(ivfl_duration, bins=100)\n",
    "plt.title('IV therapy')\n",
    "plt.xlabel('time (hours)')\n",
    "plt.ylabel('Frequency');"
   ]
  },
  {
   "cell_type": "code",
   "execution_count": 15,
   "id": "9c9424d6-be1d-4a37-be93-de2f0a3d4ea6",
   "metadata": {},
   "outputs": [
    {
     "data": {
      "text/html": [
       "<div>\n",
       "<style scoped>\n",
       "    .dataframe tbody tr th:only-of-type {\n",
       "        vertical-align: middle;\n",
       "    }\n",
       "\n",
       "    .dataframe tbody tr th {\n",
       "        vertical-align: top;\n",
       "    }\n",
       "\n",
       "    .dataframe thead th {\n",
       "        text-align: right;\n",
       "    }\n",
       "</style>\n",
       "<table border=\"1\" class=\"dataframe\">\n",
       "  <thead>\n",
       "    <tr style=\"text-align: right;\">\n",
       "      <th></th>\n",
       "      <th>starttime</th>\n",
       "      <th>endtime</th>\n",
       "      <th>amount</th>\n",
       "      <th>amountuom</th>\n",
       "      <th>ordercategoryname</th>\n",
       "      <th>duration</th>\n",
       "      <th>rate</th>\n",
       "    </tr>\n",
       "  </thead>\n",
       "  <tbody>\n",
       "    <tr>\n",
       "      <th>1105170</th>\n",
       "      <td>2126-07-24 11:00:00</td>\n",
       "      <td>2126-07-24 18:41:00</td>\n",
       "      <td>960.400055</td>\n",
       "      <td>ml</td>\n",
       "      <td>02-Fluids (Crystalloids)</td>\n",
       "      <td>7.683333</td>\n",
       "      <td>124.997838</td>\n",
       "    </tr>\n",
       "    <tr>\n",
       "      <th>1881086</th>\n",
       "      <td>2153-12-16 07:45:00</td>\n",
       "      <td>2153-12-16 07:46:00</td>\n",
       "      <td>0.499118</td>\n",
       "      <td>ml</td>\n",
       "      <td>01-Drips</td>\n",
       "      <td>0.016667</td>\n",
       "      <td>29.947091</td>\n",
       "    </tr>\n",
       "    <tr>\n",
       "      <th>1659364</th>\n",
       "      <td>2117-09-18 21:16:00</td>\n",
       "      <td>2117-09-18 22:19:00</td>\n",
       "      <td>6.817683</td>\n",
       "      <td>ml</td>\n",
       "      <td>01-Drips</td>\n",
       "      <td>1.050000</td>\n",
       "      <td>6.493031</td>\n",
       "    </tr>\n",
       "    <tr>\n",
       "      <th>1401820</th>\n",
       "      <td>2132-06-28 16:20:00</td>\n",
       "      <td>2132-06-28 17:20:00</td>\n",
       "      <td>49.999999</td>\n",
       "      <td>ml</td>\n",
       "      <td>02-Fluids (Crystalloids)</td>\n",
       "      <td>1.000000</td>\n",
       "      <td>49.999999</td>\n",
       "    </tr>\n",
       "    <tr>\n",
       "      <th>2038199</th>\n",
       "      <td>2176-08-29 21:54:00</td>\n",
       "      <td>2176-08-29 23:54:00</td>\n",
       "      <td>180.000000</td>\n",
       "      <td>ml</td>\n",
       "      <td>02-Fluids (Crystalloids)</td>\n",
       "      <td>2.000000</td>\n",
       "      <td>90.000000</td>\n",
       "    </tr>\n",
       "    <tr>\n",
       "      <th>384660</th>\n",
       "      <td>2111-03-23 14:15:00</td>\n",
       "      <td>2111-03-23 14:16:00</td>\n",
       "      <td>100.000000</td>\n",
       "      <td>ml</td>\n",
       "      <td>08-Antibiotics (IV)</td>\n",
       "      <td>0.016667</td>\n",
       "      <td>6000.000000</td>\n",
       "    </tr>\n",
       "    <tr>\n",
       "      <th>2743256</th>\n",
       "      <td>2151-04-29 09:00:00</td>\n",
       "      <td>2151-04-29 09:01:00</td>\n",
       "      <td>200.000000</td>\n",
       "      <td>ml</td>\n",
       "      <td>08-Antibiotics (IV)</td>\n",
       "      <td>0.016667</td>\n",
       "      <td>12000.000000</td>\n",
       "    </tr>\n",
       "    <tr>\n",
       "      <th>2723569</th>\n",
       "      <td>2133-12-15 03:09:00</td>\n",
       "      <td>2133-12-15 03:10:00</td>\n",
       "      <td>200.000000</td>\n",
       "      <td>ml</td>\n",
       "      <td>03-IV Fluid Bolus</td>\n",
       "      <td>0.016667</td>\n",
       "      <td>12000.000000</td>\n",
       "    </tr>\n",
       "    <tr>\n",
       "      <th>1046163</th>\n",
       "      <td>2193-08-28 02:20:00</td>\n",
       "      <td>2193-08-28 05:18:00</td>\n",
       "      <td>59.164950</td>\n",
       "      <td>ml</td>\n",
       "      <td>01-Drips</td>\n",
       "      <td>2.966667</td>\n",
       "      <td>19.943242</td>\n",
       "    </tr>\n",
       "    <tr>\n",
       "      <th>2537749</th>\n",
       "      <td>2102-03-18 02:55:00</td>\n",
       "      <td>2102-03-18 05:27:00</td>\n",
       "      <td>759.166630</td>\n",
       "      <td>ml</td>\n",
       "      <td>02-Fluids (Crystalloids)</td>\n",
       "      <td>2.533333</td>\n",
       "      <td>299.671038</td>\n",
       "    </tr>\n",
       "  </tbody>\n",
       "</table>\n",
       "</div>"
      ],
      "text/plain": [
       "                   starttime              endtime      amount amountuom  \\\n",
       "1105170  2126-07-24 11:00:00  2126-07-24 18:41:00  960.400055        ml   \n",
       "1881086  2153-12-16 07:45:00  2153-12-16 07:46:00    0.499118        ml   \n",
       "1659364  2117-09-18 21:16:00  2117-09-18 22:19:00    6.817683        ml   \n",
       "1401820  2132-06-28 16:20:00  2132-06-28 17:20:00   49.999999        ml   \n",
       "2038199  2176-08-29 21:54:00  2176-08-29 23:54:00  180.000000        ml   \n",
       "384660   2111-03-23 14:15:00  2111-03-23 14:16:00  100.000000        ml   \n",
       "2743256  2151-04-29 09:00:00  2151-04-29 09:01:00  200.000000        ml   \n",
       "2723569  2133-12-15 03:09:00  2133-12-15 03:10:00  200.000000        ml   \n",
       "1046163  2193-08-28 02:20:00  2193-08-28 05:18:00   59.164950        ml   \n",
       "2537749  2102-03-18 02:55:00  2102-03-18 05:27:00  759.166630        ml   \n",
       "\n",
       "                ordercategoryname  duration          rate  \n",
       "1105170  02-Fluids (Crystalloids)  7.683333    124.997838  \n",
       "1881086                  01-Drips  0.016667     29.947091  \n",
       "1659364                  01-Drips  1.050000      6.493031  \n",
       "1401820  02-Fluids (Crystalloids)  1.000000     49.999999  \n",
       "2038199  02-Fluids (Crystalloids)  2.000000     90.000000  \n",
       "384660        08-Antibiotics (IV)  0.016667   6000.000000  \n",
       "2743256       08-Antibiotics (IV)  0.016667  12000.000000  \n",
       "2723569         03-IV Fluid Bolus  0.016667  12000.000000  \n",
       "1046163                  01-Drips  2.966667     19.943242  \n",
       "2537749  02-Fluids (Crystalloids)  2.533333    299.671038  "
      ]
     },
     "execution_count": 15,
     "metadata": {},
     "output_type": "execute_result"
    }
   ],
   "source": [
    "ivfl_df.sample(frac=1).head(10)"
   ]
  },
  {
   "cell_type": "code",
   "execution_count": null,
   "id": "71a7f5bb-363f-4789-9335-1340afdd7ab9",
   "metadata": {},
   "outputs": [],
   "source": []
  }
 ],
 "metadata": {
  "kernelspec": {
   "display_name": "Python 3 (ipykernel)",
   "language": "python",
   "name": "python3"
  },
  "language_info": {
   "codemirror_mode": {
    "name": "ipython",
    "version": 3
   },
   "file_extension": ".py",
   "mimetype": "text/x-python",
   "name": "python",
   "nbconvert_exporter": "python",
   "pygments_lexer": "ipython3",
   "version": "3.8.10"
  }
 },
 "nbformat": 4,
 "nbformat_minor": 5
}
