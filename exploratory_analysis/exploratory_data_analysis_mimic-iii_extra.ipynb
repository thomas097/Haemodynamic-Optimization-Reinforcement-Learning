{
 "cells": [
  {
   "cell_type": "markdown",
   "id": "8b3b697a-1525-43b8-9c4b-12c01670f5b6",
   "metadata": {},
   "source": [
    "## Average Duration of Treatments"
   ]
  },
  {
   "cell_type": "code",
   "execution_count": 1,
   "id": "65eba1d8-ecbe-48a6-89bd-b4a0ec6830c9",
   "metadata": {},
   "outputs": [],
   "source": [
    "import numpy as np\n",
    "import pandas as pd\n",
    "import matplotlib.pyplot as plt"
   ]
  },
  {
   "cell_type": "code",
   "execution_count": 2,
   "id": "b5feaf3a-17cf-4cd1-9eaa-e3280163785d",
   "metadata": {},
   "outputs": [],
   "source": [
    "# mind the typo\n",
    "vaso_df = pd.read_csv('vassopressors_mv_cohort.csv', usecols=['starttime', 'endtime'])\n",
    "ivfl_df = pd.read_csv('inputevents_mv_cohort.csv', usecols=['starttime', 'endtime'])\n",
    "\n",
    "# Compute Vasopressor and IV treatment durations\n",
    "vaso_duration = (pd.to_datetime(vaso_df.endtime) - pd.to_datetime(vaso_df.starttime)) / pd.Timedelta(hours=1)\n",
    "ivfl_duration = (pd.to_datetime(ivfl_df.endtime) - pd.to_datetime(ivfl_df.starttime)) / pd.Timedelta(hours=1)\n",
    "\n",
    "# Remove outliers\n",
    "vaso_duration = vaso_duration[(vaso_duration >= 0) & (vaso_duration < np.quantile(vaso_duration, 0.99))]\n",
    "ivfl_duration = ivfl_duration[(ivfl_duration >= 0) & (ivfl_duration < np.quantile(ivfl_duration, 0.99))]"
   ]
  },
  {
   "cell_type": "code",
   "execution_count": 3,
   "id": "1648432e-4b7c-4170-8911-4ad1bacbc939",
   "metadata": {},
   "outputs": [
    {
     "data": {
      "image/png": "[encoded data removed]",
      "text/plain": [
       "<Figure size 1200x400 with 2 Axes>"
      ]
     },
     "metadata": {},
     "output_type": "display_data"
    }
   ],
   "source": [
    "plt.figure(figsize=(12, 4))\n",
    "\n",
    "plt.subplot(1, 2, 1)\n",
    "plt.hist(vaso_duration, bins=100)\n",
    "plt.title('Vasopressor treatments')\n",
    "plt.xlabel('time (hours)')\n",
    "plt.ylabel('Frequency')\n",
    "\n",
    "plt.subplot(1, 2, 2)\n",
    "plt.hist(ivfl_duration, bins=100)\n",
    "plt.title('IV therapy')\n",
    "plt.xlabel('time (hours)')\n",
    "plt.ylabel('Frequency');"
   ]
  },
  {
   "cell_type": "code",
   "execution_count": 5,
   "id": "c9a0ac8a-edbc-46f0-ae17-1330a3561888",
   "metadata": {},
   "outputs": [
    {
     "name": "stdout",
     "output_type": "stream",
     "text": [
      "Percentage beyond 4h:\n",
      "Vasopressors: 0.22108843537414966\n",
      "IV fluids:    0.2328675981370592\n"
     ]
    }
   ],
   "source": [
    "print('Percentage beyond 4h:')\n",
    "print('Vasopressors:', np.sum(vaso_duration >= 4) / len(vaso_duration))\n",
    "print('IV fluids:   ', np.sum(ivfl_duration >= 4) / len(ivfl_duration))"
   ]
  },
  {
   "cell_type": "code",
   "execution_count": 7,
   "id": "d07e628a-3392-40be-867e-b3d0ae222251",
   "metadata": {},
   "outputs": [
    {
     "name": "stdout",
     "output_type": "stream",
     "text": [
      "Percentage beyond 1h:\n",
      "Vasopressors: 0.6156462585034014\n",
      "IV fluids:    0.48186959414504327\n"
     ]
    }
   ],
   "source": [
    "print('Percentage beyond 1h:')\n",
    "print('Vasopressors:', np.sum(vaso_duration >= 1) / len(vaso_duration))\n",
    "print('IV fluids:   ', np.sum(ivfl_duration >= 1) / len(ivfl_duration))"
   ]
  },
  {
   "cell_type": "code",
   "execution_count": 19,
   "id": "0e69444c-1e62-41e8-8d4b-a277b42b0442",
   "metadata": {},
   "outputs": [
    {
     "name": "stdout",
     "output_type": "stream",
     "text": [
      "Percentage beyond 1 min:\n",
      "Vasopressors: 0.9897959183673469\n",
      "IV fluids:    0.5666167664670658\n"
     ]
    }
   ],
   "source": [
    "print('Percentage beyond 1 min:')\n",
    "print('Vasopressors:', np.sum(vaso_duration >= 1/60 + 1e-11) / len(vaso_duration))\n",
    "print('IV fluids:   ', np.sum(ivfl_duration >= 1/60 + 1e-11) / len(ivfl_duration))"
   ]
  },
  {
   "cell_type": "markdown",
   "id": "f44f360c-d73a-4879-90ee-fc4f8354ee81",
   "metadata": {},
   "source": [
    "## Why so many low-duration IV therapies?"
   ]
  },
  {
   "cell_type": "code",
   "execution_count": 8,
   "id": "7026a5fe-aacc-49c1-98a7-9fc5aea53563",
   "metadata": {},
   "outputs": [
    {
     "data": {
      "text/html": [
       "<div>\n",
       "<style scoped>\n",
       "    .dataframe tbody tr th:only-of-type {\n",
       "        vertical-align: middle;\n",
       "    }\n",
       "\n",
       "    .dataframe tbody tr th {\n",
       "        vertical-align: top;\n",
       "    }\n",
       "\n",
       "    .dataframe thead th {\n",
       "        text-align: right;\n",
       "    }\n",
       "</style>\n",
       "<table border=\"1\" class=\"dataframe\">\n",
       "  <thead>\n",
       "    <tr style=\"text-align: right;\">\n",
       "      <th></th>\n",
       "      <th>starttime</th>\n",
       "      <th>endtime</th>\n",
       "      <th>amount</th>\n",
       "      <th>ordercategoryname</th>\n",
       "      <th>duration</th>\n",
       "    </tr>\n",
       "  </thead>\n",
       "  <tbody>\n",
       "    <tr>\n",
       "      <th>2925</th>\n",
       "      <td>2145-07-08 22:45:00</td>\n",
       "      <td>2145-07-08 22:46:00</td>\n",
       "      <td>40.000000</td>\n",
       "      <td>14-Oral/Gastric Intake</td>\n",
       "      <td>0.016667</td>\n",
       "    </tr>\n",
       "    <tr>\n",
       "      <th>11268</th>\n",
       "      <td>2123-11-30 01:42:00</td>\n",
       "      <td>2123-12-01 19:19:00</td>\n",
       "      <td>249.700000</td>\n",
       "      <td>01-Drips</td>\n",
       "      <td>41.616667</td>\n",
       "    </tr>\n",
       "    <tr>\n",
       "      <th>5072</th>\n",
       "      <td>2199-02-06 05:30:00</td>\n",
       "      <td>2199-02-06 06:30:00</td>\n",
       "      <td>49.999999</td>\n",
       "      <td>02-Fluids (Crystalloids)</td>\n",
       "      <td>1.000000</td>\n",
       "    </tr>\n",
       "    <tr>\n",
       "      <th>10965</th>\n",
       "      <td>2123-12-21 08:02:00</td>\n",
       "      <td>2123-12-21 11:19:00</td>\n",
       "      <td>99.831097</td>\n",
       "      <td>01-Drips</td>\n",
       "      <td>3.283333</td>\n",
       "    </tr>\n",
       "    <tr>\n",
       "      <th>8609</th>\n",
       "      <td>2186-02-11 22:59:00</td>\n",
       "      <td>2186-02-12 04:19:00</td>\n",
       "      <td>21.348924</td>\n",
       "      <td>01-Drips</td>\n",
       "      <td>5.333333</td>\n",
       "    </tr>\n",
       "  </tbody>\n",
       "</table>\n",
       "</div>"
      ],
      "text/plain": [
       "                 starttime              endtime      amount  \\\n",
       "2925   2145-07-08 22:45:00  2145-07-08 22:46:00   40.000000   \n",
       "11268  2123-11-30 01:42:00  2123-12-01 19:19:00  249.700000   \n",
       "5072   2199-02-06 05:30:00  2199-02-06 06:30:00   49.999999   \n",
       "10965  2123-12-21 08:02:00  2123-12-21 11:19:00   99.831097   \n",
       "8609   2186-02-11 22:59:00  2186-02-12 04:19:00   21.348924   \n",
       "\n",
       "              ordercategoryname   duration  \n",
       "2925     14-Oral/Gastric Intake   0.016667  \n",
       "11268                  01-Drips  41.616667  \n",
       "5072   02-Fluids (Crystalloids)   1.000000  \n",
       "10965                  01-Drips   3.283333  \n",
       "8609                   01-Drips   5.333333  "
      ]
     },
     "execution_count": 8,
     "metadata": {},
     "output_type": "execute_result"
    }
   ],
   "source": [
    "ivfl_df = pd.read_csv('inputevents_mv_cohort.csv', usecols=['starttime', 'endtime', 'amount', 'ordercategoryname'])\n",
    "\n",
    "ivfl_df['duration'] = (pd.to_datetime(ivfl_df.endtime) - pd.to_datetime(ivfl_df.starttime)) / pd.Timedelta(hours=1)\n",
    "\n",
    "ivfl_df.sample(frac=1).head()"
   ]
  },
  {
   "cell_type": "code",
   "execution_count": 12,
   "id": "a7e5cd44-6104-481c-a4a1-26f2094ec374",
   "metadata": {},
   "outputs": [
    {
     "name": "stdout",
     "output_type": "stream",
     "text": [
      "Avg. duration of input event categories (in hours):\n"
     ]
    },
    {
     "data": {
      "text/plain": [
       "ordercategoryname\n",
       "01-Drips                     5.403664\n",
       "02-Fluids (Crystalloids)     6.765159\n",
       "03-IV Fluid Bolus            0.014925\n",
       "04-Fluids (Colloids)         0.515323\n",
       "05-Med Bolus                 0.016606\n",
       "06-Insulin (Non IV)          0.016667\n",
       "07-Blood Products            2.869383\n",
       "08-Antibiotics (IV)          0.016625\n",
       "09-Antibiotics (Non IV)      0.016667\n",
       "10-Prophylaxis (IV)          0.016667\n",
       "11-Prophylaxis (Non IV)      0.016667\n",
       "12-Parenteral Nutrition     23.502778\n",
       "13-Enteral Nutrition         7.499590\n",
       "14-Oral/Gastric Intake       0.016667\n",
       "16-Pre Admission             0.016667\n",
       "Name: duration, dtype: float64"
      ]
     },
     "execution_count": 12,
     "metadata": {},
     "output_type": "execute_result"
    }
   ],
   "source": [
    "print('Avg. duration of input event categories (in hours):')\n",
    "ivfl_df.groupby('ordercategoryname').duration.mean()"
   ]
  },
  {
   "cell_type": "code",
   "execution_count": 13,
   "id": "71a7f5bb-363f-4789-9335-1340afdd7ab9",
   "metadata": {},
   "outputs": [
    {
     "data": {
      "image/png": "[encoded data removed]",
      "text/plain": [
       "<Figure size 600x300 with 1 Axes>"
      ]
     },
     "metadata": {},
     "output_type": "display_data"
    }
   ],
   "source": [
    "ivfl_df2 = ivfl_df[ivfl_df.duration > 0.0167]\n",
    "\n",
    "ivfl_duration2 = ivfl_df2.duration[(ivfl_df2.duration >= 0) & (ivfl_df2.duration < np.quantile(ivfl_df2.duration, 0.95))]\n",
    "\n",
    "plt.figure(figsize=(6, 3))\n",
    "plt.hist(ivfl_duration2, bins=100)\n",
    "plt.title('IV therapy')\n",
    "plt.xlabel('time (hours)')\n",
    "plt.ylabel('Frequency');"
   ]
  },
  {
   "cell_type": "code",
   "execution_count": 22,
   "id": "0b88cf94-ec51-41a7-940a-9116535b8df1",
   "metadata": {},
   "outputs": [
    {
     "name": "stdout",
     "output_type": "stream",
     "text": [
      "Percentage beyond 1h (of those beyond 1 min):\n",
      "IV fluids:    0.8453483077857035\n"
     ]
    }
   ],
   "source": [
    "print('Percentage beyond 1h (of those beyond 1 min):')\n",
    "print('IV fluids:   ', np.sum(ivfl_duration2 >= 1) / len(ivfl_duration2))"
   ]
  },
  {
   "cell_type": "code",
   "execution_count": null,
   "id": "a63a1301-d984-4d51-9f79-f546457f9b4d",
   "metadata": {},
   "outputs": [],
   "source": []
  }
 ],
 "metadata": {
  "kernelspec": {
   "display_name": "Python 3 (ipykernel)",
   "language": "python",
   "name": "python3"
  },
  "language_info": {
   "codemirror_mode": {
    "name": "ipython",
    "version": 3
   },
   "file_extension": ".py",
   "mimetype": "text/x-python",
   "name": "python",
   "nbconvert_exporter": "python",
   "pygments_lexer": "ipython3",
   "version": "3.8.10"
  }
 },
 "nbformat": 4,
 "nbformat_minor": 5
}
