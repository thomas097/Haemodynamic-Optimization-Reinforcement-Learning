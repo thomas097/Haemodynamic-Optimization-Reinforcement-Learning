{
 "cells": [
  {
   "cell_type": "code",
   "execution_count": 2,
   "id": "efada784-3c2d-43b1-b5e5-a3ff4967de38",
   "metadata": {},
   "outputs": [],
   "source": [
    "import numpy as np\n",
    "import pandas as pd"
   ]
  },
  {
   "cell_type": "markdown",
   "id": "9bf26850-e486-41e0-aa2e-e68e0c746fb7",
   "metadata": {},
   "source": [
    "### AmsterdamUMCdb"
   ]
  },
  {
   "cell_type": "code",
   "execution_count": 3,
   "id": "1f84bab9-a1fd-41ac-b0a9-d560c7d36051",
   "metadata": {},
   "outputs": [
    {
     "name": "stdout",
     "output_type": "stream",
     "text": [
      "Mortality rate: 9.90%\n"
     ]
    }
   ],
   "source": [
    "umc_outcome = pd.read_csv('D:/AmsterdamUMCdb-v1.0.2/admissions.csv', usecols=['destination']).destination\n",
    "\n",
    "print('Mortality rate: %.2f%%' % (100 * np.mean(umc_outcome == 'Overleden')))"
   ]
  },
  {
   "cell_type": "markdown",
   "id": "4a740519-6b51-4ba9-9c77-d64cb8324870",
   "metadata": {},
   "source": [
    "### MIMIC-III"
   ]
  },
  {
   "cell_type": "code",
   "execution_count": 4,
   "id": "a056f405-04f8-46b4-9ba0-d9977f0132b8",
   "metadata": {},
   "outputs": [
    {
     "name": "stdout",
     "output_type": "stream",
     "text": [
      "Mortality rate: 10.06%\n"
     ]
    }
   ],
   "source": [
    "mimic_outcome = pd.read_csv('D:/mimic-iii-clinical-database-1.4/ADMISSIONS.csv', usecols=['HADM_ID', 'HOSPITAL_EXPIRE_FLAG'])\n",
    "\n",
    "# limit admissions to those who eventually went to IC\n",
    "hadm_ids_with_icu = pd.read_csv('D:/mimic-iii-clinical-database-1.4/ICUSTAYS.csv', usecols=['HADM_ID']).HADM_ID.unique()\n",
    "mimic_outcome = mimic_outcome[mimic_outcome.HADM_ID.isin(hadm_ids_with_icu)].HOSPITAL_EXPIRE_FLAG\n",
    "\n",
    "print('Mortality rate: %.2f%%' % (100 * np.mean(mimic_outcome)))"
   ]
  }
 ],
 "metadata": {
  "kernelspec": {
   "display_name": "Python 3 (ipykernel)",
   "language": "python",
   "name": "python3"
  },
  "language_info": {
   "codemirror_mode": {
    "name": "ipython",
    "version": 3
   },
   "file_extension": ".py",
   "mimetype": "text/x-python",
   "name": "python",
   "nbconvert_exporter": "python",
   "pygments_lexer": "ipython3",
   "version": "3.8.10"
  }
 },
 "nbformat": 4,
 "nbformat_minor": 5
}
