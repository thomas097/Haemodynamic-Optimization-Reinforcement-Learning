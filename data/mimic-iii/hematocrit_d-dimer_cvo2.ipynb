{
 "cells": [
  {
   "cell_type": "code",
   "execution_count": 1,
   "id": "1e2924f8-7280-4bf4-a814-d502e44dfe17",
   "metadata": {},
   "outputs": [],
   "source": [
    "import numpy as np\n",
    "import pandas as pd\n",
    "from collections import defaultdict\n",
    "from tqdm import tqdm\n",
    "\n",
    "CHUNK_SIZE = 10000"
   ]
  },
  {
   "cell_type": "markdown",
   "id": "06d36640-134d-421a-829a-b591b8bb9055",
   "metadata": {},
   "source": [
    "### Convenience functions\n",
    "\n",
    "As the files are in the orders of GBs we read in and process the files incrementally;"
   ]
  },
  {
   "cell_type": "code",
   "execution_count": 2,
   "id": "c4220fe1-4db2-489c-b266-6f35850a2004",
   "metadata": {},
   "outputs": [],
   "source": [
    "# reads file from path in chunks of size `chunksize`\n",
    "def read_csv(path, usecols, chunksize=CHUNK_SIZE):\n",
    "    for i, chunk in enumerate(pd.read_csv(path, usecols=usecols, encoding='latin1', engine='c', chunksize=chunksize)):\n",
    "        yield i, chunk.reset_index(drop=True) # resets index so that indices range from 0 to chunksize - 1"
   ]
  },
  {
   "cell_type": "markdown",
   "id": "abe8f189-52e5-4dd6-83bf-c3b218e10762",
   "metadata": {},
   "source": [
    "### Patients\n",
    "\n",
    "As the raw MIMIC-III database does not identify admissions by `ICUSTAY_ID`, rather by `SUBJECT_ID` (or more specific `hadm_id`), and subjects can be re-admitted several times, we need to check for each of our measurements to which admission it actually belongs by checking the time it was recorded and for which patient."
   ]
  },
  {
   "cell_type": "code",
   "execution_count": 3,
   "id": "a7e858e0-74d2-45f8-8896-45fe9c20aad4",
   "metadata": {},
   "outputs": [
    {
     "data": {
      "text/html": [
       "<div>\n",
       "<style scoped>\n",
       "    .dataframe tbody tr th:only-of-type {\n",
       "        vertical-align: middle;\n",
       "    }\n",
       "\n",
       "    .dataframe tbody tr th {\n",
       "        vertical-align: top;\n",
       "    }\n",
       "\n",
       "    .dataframe thead th {\n",
       "        text-align: right;\n",
       "    }\n",
       "</style>\n",
       "<table border=\"1\" class=\"dataframe\">\n",
       "  <thead>\n",
       "    <tr style=\"text-align: right;\">\n",
       "      <th></th>\n",
       "      <th>SUBJECT_ID</th>\n",
       "      <th>ICUSTAY_ID</th>\n",
       "      <th>INTIME</th>\n",
       "      <th>OUTTIME</th>\n",
       "    </tr>\n",
       "  </thead>\n",
       "  <tbody>\n",
       "    <tr>\n",
       "      <th>0</th>\n",
       "      <td>268</td>\n",
       "      <td>280836</td>\n",
       "      <td>2198-02-14 23:27:38</td>\n",
       "      <td>2198-02-18 05:26:11</td>\n",
       "    </tr>\n",
       "    <tr>\n",
       "      <th>1</th>\n",
       "      <td>269</td>\n",
       "      <td>206613</td>\n",
       "      <td>2170-11-05 11:05:29</td>\n",
       "      <td>2170-11-08 17:46:57</td>\n",
       "    </tr>\n",
       "    <tr>\n",
       "      <th>2</th>\n",
       "      <td>270</td>\n",
       "      <td>220345</td>\n",
       "      <td>2128-06-24 15:05:20</td>\n",
       "      <td>2128-06-27 12:32:29</td>\n",
       "    </tr>\n",
       "    <tr>\n",
       "      <th>3</th>\n",
       "      <td>271</td>\n",
       "      <td>249196</td>\n",
       "      <td>2120-08-07 23:12:42</td>\n",
       "      <td>2120-08-10 00:39:04</td>\n",
       "    </tr>\n",
       "    <tr>\n",
       "      <th>4</th>\n",
       "      <td>272</td>\n",
       "      <td>210407</td>\n",
       "      <td>2186-12-25 21:08:04</td>\n",
       "      <td>2186-12-27 12:01:13</td>\n",
       "    </tr>\n",
       "  </tbody>\n",
       "</table>\n",
       "</div>"
      ],
      "text/plain": [
       "   SUBJECT_ID  ICUSTAY_ID               INTIME              OUTTIME\n",
       "0         268      280836  2198-02-14 23:27:38  2198-02-18 05:26:11\n",
       "1         269      206613  2170-11-05 11:05:29  2170-11-08 17:46:57\n",
       "2         270      220345  2128-06-24 15:05:20  2128-06-27 12:32:29\n",
       "3         271      249196  2120-08-07 23:12:42  2120-08-10 00:39:04\n",
       "4         272      210407  2186-12-25 21:08:04  2186-12-27 12:01:13"
      ]
     },
     "execution_count": 3,
     "metadata": {},
     "output_type": "execute_result"
    }
   ],
   "source": [
    "icustay_cols = ['ICUSTAY_ID', 'SUBJECT_ID', 'INTIME', 'OUTTIME']\n",
    "icustays = pd.read_csv(r\"D:/mimic-iii-clinical-database-1.4/ICUSTAYS.csv\", usecols=icustay_cols)\n",
    "icustays.head()"
   ]
  },
  {
   "cell_type": "markdown",
   "id": "3d50bf69-d28c-4945-8f03-0ea1d057d0c5",
   "metadata": {},
   "source": [
    "### Hematocrit, S(c)vO2 and D-Dimer\n",
    "\n",
    "Sources: \n",
    "- [D_LABITEMS.csv - MIMIC_III](https://physionet.org/content/mimiciii-demo/1.4/D_LABITEMS.csv)\n",
    "- [D_ITEMS.csv - MIMIC_III](https://physionet.org/content/mimiciii-demo/1.4/D_ITEMS.csv)\n",
    "\n",
    "#### Hematocrit, D-Dimer"
   ]
  },
  {
   "cell_type": "code",
   "execution_count": 4,
   "id": "d847bd3d-8fbf-4488-bf6a-aacb2c92181a",
   "metadata": {},
   "outputs": [],
   "source": [
    "ITEMIDS = [\n",
    "    50810, # -- Hematocrit, Calculated\n",
    "    51221, # -- Hematocrit\n",
    "    50915, # -- D-Dimer\n",
    "    51196, # -- D-Dimer\n",
    "]\n",
    "\n",
    "VALUENUM_RANGES = {\n",
    "    '<500': 500,\n",
    "    '500-1000': 750,\n",
    "    '1000-2000': 1500,\n",
    "    '>2000': 2000,\n",
    "    '>10000': 10000,\n",
    "    'GREATER THAN 10,000': 10000,\n",
    "    'GREATER THAN 10000': 10000,\n",
    "    'GREATER THAN 21000': 21000\n",
    "}\n",
    "\n",
    "def range_to_valuenum(string):\n",
    "    \"\"\" tries to parse the VALUE column of LABEVENTS.csv \n",
    "    (with an emphasis on trying)\n",
    "    \"\"\"\n",
    "    # If it can be parsed as a float, return as float\n",
    "    try:\n",
    "        return float(string)\n",
    "    except:\n",
    "        pass\n",
    "    \n",
    "    # If it is one of a known value range, return centroid of range\n",
    "    if string in VALUENUM_RANGES:\n",
    "        return VALUENUM_RANGES[string]\n",
    "    \n",
    "    # If ERROR or NETWORK TIMEOUT drop value\n",
    "    return np.NaN"
   ]
  },
  {
   "cell_type": "code",
   "execution_count": 5,
   "id": "50ea2c49-c54a-44c6-8ad9-f6e82fd3ded8",
   "metadata": {},
   "outputs": [
    {
     "name": "stderr",
     "output_type": "stream",
     "text": [
      "2786it [02:12, 21.02it/s]\n"
     ]
    }
   ],
   "source": [
    "results = []\n",
    "\n",
    "for _, chunk in tqdm(read_csv(r\"D:/mimic-iii-clinical-database-1.4/LABEVENTS.csv\", usecols=['SUBJECT_ID', 'HADM_ID', 'ITEMID', 'VALUEUOM', 'CHARTTIME', 'VALUE', 'VALUENUM'])):\n",
    "    # Link lab results to their corresponding icustay_ids (using subject_id and ICU stay time window)\n",
    "    chunk = icustays.merge(chunk, on='SUBJECT_ID', how='inner')\n",
    "    chunk = chunk[(chunk.CHARTTIME > chunk.INTIME) & (chunk.CHARTTIME < chunk.OUTTIME)].copy()\n",
    "    \n",
    "    # Drop admissions where itemids are not of interest\n",
    "    chunk = chunk[chunk.ITEMID.isin(ITEMIDS)]\n",
    "    \n",
    "    chunk['LABID'] = ''\n",
    "    chunk.loc[chunk.ITEMID == 50810, 'LABID'] = 'HEMATOCRIT'\n",
    "    chunk.loc[chunk.ITEMID == 51221, 'LABID'] = 'HEMATOCRIT'\n",
    "    chunk.loc[chunk.ITEMID == 50915, 'LABID'] = 'D-DIMER'\n",
    "    chunk.loc[chunk.ITEMID == 51196, 'LABID'] = 'D-DIMER'\n",
    "    \n",
    "    # Map non-integer VALUE column of D-Dimer to values\n",
    "    chunk.loc[chunk.ITEMID == 50915, 'VALUENUM'] = chunk.VALUE.transform(lambda x: range_to_valuenum(x))\n",
    "    chunk.loc[chunk.ITEMID == 51196, 'VALUENUM'] = chunk.VALUE.transform(lambda x: range_to_valuenum(x))\n",
    "    \n",
    "    chunk = pd.DataFrame({\n",
    "        'icustay_id': chunk.ICUSTAY_ID,\n",
    "        'charttime': chunk.CHARTTIME,\n",
    "        'lab_id': chunk.LABID,\n",
    "        'valuenum': chunk.VALUENUM\n",
    "    })\n",
    "    results.append(chunk)"
   ]
  },
  {
   "cell_type": "markdown",
   "id": "ce2ff9e8-2b08-4d16-b899-528edb1410fb",
   "metadata": {},
   "source": [
    "---\n",
    "\n",
    "#### Central Venous Oxygen Saturation (CvO2)"
   ]
  },
  {
   "cell_type": "code",
   "execution_count": null,
   "id": "3d95fe8b-a797-4b9a-ba0d-7e54c289c51e",
   "metadata": {},
   "outputs": [
    {
     "name": "stderr",
     "output_type": "stream",
     "text": [
      "4359it [01:51, 37.08it/s]"
     ]
    }
   ],
   "source": [
    "for _, chunk in tqdm(read_csv(r\"D:/mimic-iii-clinical-database-1.4/CHARTEVENTS.csv\", usecols=['SUBJECT_ID', 'ITEMID', 'CHARTTIME', 'VALUENUM'])):\n",
    "    # Limit measurements to CvO2\n",
    "    chunk = chunk[chunk.ITEMID == 143]\n",
    "    \n",
    "    if not len(chunk):\n",
    "        continue\n",
    "    \n",
    "    # Link vitals to their corresponding icustay_ids (using subject_id and ICU stay time window)\n",
    "    chunk = icustays.merge(chunk, on='SUBJECT_ID', how='inner')\n",
    "    chunk = chunk[(chunk.CHARTTIME > chunk.INTIME) & (chunk.CHARTTIME < chunk.OUTTIME)].copy()\n",
    "    \n",
    "    chunk = pd.DataFrame({\n",
    "        'icustay_id': chunk.ICUSTAY_ID,\n",
    "        'charttime': chunk.CHARTTIME,\n",
    "        'lab_id': 'CvO2',\n",
    "        'valuenum': chunk.VALUENUM\n",
    "    })\n",
    "    results.append(chunk)"
   ]
  },
  {
   "cell_type": "code",
   "execution_count": null,
   "id": "75ff55f2-53e5-4ff9-8807-63b0fb9217d7",
   "metadata": {},
   "outputs": [],
   "source": [
    "# merge!\n",
    "results = pd.concat(results, axis=0).reset_index(drop=True)\n",
    "\n",
    "# save!\n",
    "results.to_csv('final/hematocrit_d-dimer_cvo2.csv')"
   ]
  }
 ],
 "metadata": {
  "kernelspec": {
   "display_name": "Python 3 (ipykernel)",
   "language": "python",
   "name": "python3"
  },
  "language_info": {
   "codemirror_mode": {
    "name": "ipython",
    "version": 3
   },
   "file_extension": ".py",
   "mimetype": "text/x-python",
   "name": "python",
   "nbconvert_exporter": "python",
   "pygments_lexer": "ipython3",
   "version": "3.8.10"
  }
 },
 "nbformat": 4,
 "nbformat_minor": 5
}
