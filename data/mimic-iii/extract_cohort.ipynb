{
 "cells": [
  {
   "cell_type": "markdown",
   "id": "85b171f9-1dd7-490f-acf1-4b7aaa1abfaa",
   "metadata": {},
   "source": [
    "## Extracting Cohort for MIMIC-III\n",
    "\n",
    "In this notebook we will be extracting the patient cohort from the MIMIC-III database. The original work of Roggeveen et al. focused on the use of a sepsis cohort filtered by SOFA$\\geq2$ and a suspected or documented infection; as we are concerned with including all patients admitted to intensive care, we will generate a new cohort consisting of all patients admitted.\n",
    "\n",
    "### All ICU admissions"
   ]
  },
  {
   "cell_type": "code",
   "execution_count": 10,
   "id": "46bea6c2-4941-41ca-bfa5-781fc709154a",
   "metadata": {},
   "outputs": [],
   "source": [
    "import pandas as pd"
   ]
  },
  {
   "cell_type": "code",
   "execution_count": 11,
   "id": "ea46a50c-d8f3-4fed-ba94-f49d71b7ae9f",
   "metadata": {},
   "outputs": [
    {
     "data": {
      "text/html": [
       "<div>\n",
       "<style scoped>\n",
       "    .dataframe tbody tr th:only-of-type {\n",
       "        vertical-align: middle;\n",
       "    }\n",
       "\n",
       "    .dataframe tbody tr th {\n",
       "        vertical-align: top;\n",
       "    }\n",
       "\n",
       "    .dataframe thead th {\n",
       "        text-align: right;\n",
       "    }\n",
       "</style>\n",
       "<table border=\"1\" class=\"dataframe\">\n",
       "  <thead>\n",
       "    <tr style=\"text-align: right;\">\n",
       "      <th></th>\n",
       "      <th>HADM_ID</th>\n",
       "      <th>ICUSTAY_ID</th>\n",
       "      <th>INTIME</th>\n",
       "      <th>OUTTIME</th>\n",
       "    </tr>\n",
       "  </thead>\n",
       "  <tbody>\n",
       "    <tr>\n",
       "      <th>0</th>\n",
       "      <td>110404</td>\n",
       "      <td>280836</td>\n",
       "      <td>2198-02-14 23:27:38</td>\n",
       "      <td>2198-02-18 05:26:11</td>\n",
       "    </tr>\n",
       "    <tr>\n",
       "      <th>1</th>\n",
       "      <td>106296</td>\n",
       "      <td>206613</td>\n",
       "      <td>2170-11-05 11:05:29</td>\n",
       "      <td>2170-11-08 17:46:57</td>\n",
       "    </tr>\n",
       "    <tr>\n",
       "      <th>2</th>\n",
       "      <td>188028</td>\n",
       "      <td>220345</td>\n",
       "      <td>2128-06-24 15:05:20</td>\n",
       "      <td>2128-06-27 12:32:29</td>\n",
       "    </tr>\n",
       "    <tr>\n",
       "      <th>3</th>\n",
       "      <td>173727</td>\n",
       "      <td>249196</td>\n",
       "      <td>2120-08-07 23:12:42</td>\n",
       "      <td>2120-08-10 00:39:04</td>\n",
       "    </tr>\n",
       "    <tr>\n",
       "      <th>4</th>\n",
       "      <td>164716</td>\n",
       "      <td>210407</td>\n",
       "      <td>2186-12-25 21:08:04</td>\n",
       "      <td>2186-12-27 12:01:13</td>\n",
       "    </tr>\n",
       "  </tbody>\n",
       "</table>\n",
       "</div>"
      ],
      "text/plain": [
       "   HADM_ID  ICUSTAY_ID               INTIME              OUTTIME\n",
       "0   110404      280836  2198-02-14 23:27:38  2198-02-18 05:26:11\n",
       "1   106296      206613  2170-11-05 11:05:29  2170-11-08 17:46:57\n",
       "2   188028      220345  2128-06-24 15:05:20  2128-06-27 12:32:29\n",
       "3   173727      249196  2120-08-07 23:12:42  2120-08-10 00:39:04\n",
       "4   164716      210407  2186-12-25 21:08:04  2186-12-27 12:01:13"
      ]
     },
     "execution_count": 11,
     "metadata": {},
     "output_type": "execute_result"
    }
   ],
   "source": [
    "icustays = pd.read_csv(r\"D:/mimic-iii-clinical-database-1.4/ICUSTAYS.csv\", usecols=['ICUSTAY_ID', 'HADM_ID', 'INTIME', 'OUTTIME'])\n",
    "icustays.head()"
   ]
  },
  {
   "cell_type": "code",
   "execution_count": 12,
   "id": "f59e7f2b-ae62-4445-9a34-700c1e433d60",
   "metadata": {},
   "outputs": [
    {
     "data": {
      "text/plain": [
       "1.0648253902329283"
      ]
     },
     "execution_count": 12,
     "metadata": {},
     "output_type": "execute_result"
    }
   ],
   "source": [
    "# how many HADM_IDs per ICUSTAY_ID on average?\n",
    "icustays.groupby('HADM_ID').size().mean()"
   ]
  },
  {
   "cell_type": "markdown",
   "id": "aeb98998-0d96-4e80-8b7c-2a0436e6c230",
   "metadata": {},
   "source": [
    "i.e. there may be re-admissions, that is, two or more trips to the ICU while at the hospital.\n",
    "\n",
    "### Which ICU admissions have data?"
   ]
  },
  {
   "cell_type": "code",
   "execution_count": 13,
   "id": "99afaba2-b424-4433-90e6-d9ecf023df47",
   "metadata": {},
   "outputs": [
    {
     "name": "stdout",
     "output_type": "stream",
     "text": [
      "Admissions (all): 58976\n",
      "\n",
      "Admissions excluding births/no chartdata: 49621\n",
      "\n"
     ]
    },
    {
     "data": {
      "text/html": [
       "<div>\n",
       "<style scoped>\n",
       "    .dataframe tbody tr th:only-of-type {\n",
       "        vertical-align: middle;\n",
       "    }\n",
       "\n",
       "    .dataframe tbody tr th {\n",
       "        vertical-align: top;\n",
       "    }\n",
       "\n",
       "    .dataframe thead th {\n",
       "        text-align: right;\n",
       "    }\n",
       "</style>\n",
       "<table border=\"1\" class=\"dataframe\">\n",
       "  <thead>\n",
       "    <tr style=\"text-align: right;\">\n",
       "      <th></th>\n",
       "      <th>HADM_ID</th>\n",
       "      <th>ICUSTAY_ID</th>\n",
       "      <th>INTIME</th>\n",
       "      <th>OUTTIME</th>\n",
       "      <th>HOSPITAL_EXPIRE_FLAG</th>\n",
       "    </tr>\n",
       "  </thead>\n",
       "  <tbody>\n",
       "    <tr>\n",
       "      <th>0</th>\n",
       "      <td>110404</td>\n",
       "      <td>280836</td>\n",
       "      <td>2198-02-14 23:27:38</td>\n",
       "      <td>2198-02-18 05:26:11</td>\n",
       "      <td>1</td>\n",
       "    </tr>\n",
       "    <tr>\n",
       "      <th>1</th>\n",
       "      <td>106296</td>\n",
       "      <td>206613</td>\n",
       "      <td>2170-11-05 11:05:29</td>\n",
       "      <td>2170-11-08 17:46:57</td>\n",
       "      <td>0</td>\n",
       "    </tr>\n",
       "    <tr>\n",
       "      <th>2</th>\n",
       "      <td>188028</td>\n",
       "      <td>220345</td>\n",
       "      <td>2128-06-24 15:05:20</td>\n",
       "      <td>2128-06-27 12:32:29</td>\n",
       "      <td>0</td>\n",
       "    </tr>\n",
       "    <tr>\n",
       "      <th>3</th>\n",
       "      <td>173727</td>\n",
       "      <td>249196</td>\n",
       "      <td>2120-08-07 23:12:42</td>\n",
       "      <td>2120-08-10 00:39:04</td>\n",
       "      <td>0</td>\n",
       "    </tr>\n",
       "    <tr>\n",
       "      <th>4</th>\n",
       "      <td>164716</td>\n",
       "      <td>210407</td>\n",
       "      <td>2186-12-25 21:08:04</td>\n",
       "      <td>2186-12-27 12:01:13</td>\n",
       "      <td>0</td>\n",
       "    </tr>\n",
       "  </tbody>\n",
       "</table>\n",
       "</div>"
      ],
      "text/plain": [
       "   HADM_ID  ICUSTAY_ID               INTIME              OUTTIME  \\\n",
       "0   110404      280836  2198-02-14 23:27:38  2198-02-18 05:26:11   \n",
       "1   106296      206613  2170-11-05 11:05:29  2170-11-08 17:46:57   \n",
       "2   188028      220345  2128-06-24 15:05:20  2128-06-27 12:32:29   \n",
       "3   173727      249196  2120-08-07 23:12:42  2120-08-10 00:39:04   \n",
       "4   164716      210407  2186-12-25 21:08:04  2186-12-27 12:01:13   \n",
       "\n",
       "   HOSPITAL_EXPIRE_FLAG  \n",
       "0                     1  \n",
       "1                     0  \n",
       "2                     0  \n",
       "3                     0  \n",
       "4                     0  "
      ]
     },
     "execution_count": 13,
     "metadata": {},
     "output_type": "execute_result"
    }
   ],
   "source": [
    "admissions = pd.read_csv(r\"D:/mimic-iii-clinical-database-1.4/ADMISSIONS.csv\", usecols=['HADM_ID', 'ADMISSION_TYPE', 'HOSPITAL_EXPIRE_FLAG', 'HAS_CHARTEVENTS_DATA'])\n",
    "print('Admissions (all): %d\\n' % len(admissions))\n",
    "\n",
    "# if no data has been charted or is newborn -> drop admission\n",
    "admissions = admissions[admissions.HAS_CHARTEVENTS_DATA.astype(bool) & (admissions.ADMISSION_TYPE != 'NEWBORN')]\n",
    "admissions = admissions[['HADM_ID', 'HOSPITAL_EXPIRE_FLAG']]\n",
    "print('Admissions excluding births/no chartdata: %d\\n' % len(admissions))\n",
    "\n",
    "# merge with ICU stays\n",
    "icustays = icustays.merge(admissions, on='HADM_ID')\n",
    "\n",
    "icustays.head()"
   ]
  },
  {
   "cell_type": "code",
   "execution_count": 24,
   "id": "884b2b2a-984a-4745-a7f0-df28e3333a08",
   "metadata": {},
   "outputs": [
    {
     "data": {
      "text/plain": [
       "0    46649\n",
       "1     6533\n",
       "Name: HOSPITAL_EXPIRE_FLAG, dtype: int64"
      ]
     },
     "execution_count": 24,
     "metadata": {},
     "output_type": "execute_result"
    }
   ],
   "source": [
    "icustays.HOSPITAL_EXPIRE_FLAG.value_counts()"
   ]
  },
  {
   "cell_type": "code",
   "execution_count": null,
   "id": "bc28c890-6cbd-4a22-ad93-8a322fcee877",
   "metadata": {},
   "outputs": [],
   "source": []
  }
 ],
 "metadata": {
  "kernelspec": {
   "display_name": "Python 3 (ipykernel)",
   "language": "python",
   "name": "python3"
  },
  "language_info": {
   "codemirror_mode": {
    "name": "ipython",
    "version": 3
   },
   "file_extension": ".py",
   "mimetype": "text/x-python",
   "name": "python",
   "nbconvert_exporter": "python",
   "pygments_lexer": "ipython3",
   "version": "3.8.10"
  }
 },
 "nbformat": 4,
 "nbformat_minor": 5
}
