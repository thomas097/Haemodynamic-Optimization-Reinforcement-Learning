{
 "cells": [
  {
   "cell_type": "code",
   "execution_count": 1,
   "id": "117fe42b-487e-4c71-aa05-9258c88315d1",
   "metadata": {},
   "outputs": [],
   "source": [
    "import pandas as pd"
   ]
  },
  {
   "cell_type": "code",
   "execution_count": 2,
   "id": "b991143f-33c3-490b-9afc-908cd531d48d",
   "metadata": {},
   "outputs": [],
   "source": [
    "IS_SURGICAL = [\n",
    "    'CSURG',  # Cardiac Surgery\n",
    "    'NSURG',  # Neurologic Surgical\n",
    "    'ORTHO',  # Orthopaedic - surgical\n",
    "    'PSURG',  # Plastic - restoration/reconstruction\n",
    "    'SURG',   # Surgical - general surgical service\n",
    "    'TSURG',  # Thoracic Surgical - surgery on the thorax\n",
    "    'VSURG',  # Vascular Surgical\n",
    "]"
   ]
  },
  {
   "cell_type": "markdown",
   "id": "00d41664-44a0-4389-9d42-ce568681aa83",
   "metadata": {},
   "source": [
    "### is_elective"
   ]
  },
  {
   "cell_type": "markdown",
   "id": "9b95ae10-4b0b-477e-9dd3-467221c7bc30",
   "metadata": {},
   "source": [
    "#### Determine time of ICU admission during hospital stay"
   ]
  },
  {
   "cell_type": "code",
   "execution_count": 8,
   "id": "4cf2650b-9c2d-4863-a68a-f3363ca51ead",
   "metadata": {},
   "outputs": [
    {
     "data": {
      "text/plain": [
       "Timestamp('2128-06-24 15:05:20')"
      ]
     },
     "execution_count": 8,
     "metadata": {},
     "output_type": "execute_result"
    }
   ],
   "source": [
    "df = pd.read_csv('D:/mimic-iii-clinical-database-1.4/ICUSTAYS.csv')\n",
    "df.INTIME = pd.to_datetime(df.INTIME)\n",
    "\n",
    "icu_times = {row.HADM_ID: row.INTIME for _, row in df.iterrows()}\n",
    "icu_times[188028]"
   ]
  },
  {
   "cell_type": "markdown",
   "id": "15813c5d-f5e8-4ee0-a438-e3a94dfb5b7c",
   "metadata": {},
   "source": [
    "#### Determine whether a surgical procedure was carried out prior"
   ]
  },
  {
   "cell_type": "code",
   "execution_count": 16,
   "id": "73bfc237-6ab8-47e7-bc9a-ff5856d8e67e",
   "metadata": {},
   "outputs": [
    {
     "data": {
      "text/plain": [
       "[131072, 131073, 196612, 196617, 196619, '...']"
      ]
     },
     "execution_count": 16,
     "metadata": {},
     "output_type": "execute_result"
    }
   ],
   "source": [
    "df = pd.read_csv('D:/mimic-iii-clinical-database-1.4/SERVICES.csv')\n",
    "df.TRANSFERTIME = pd.to_datetime(df.TRANSFERTIME)\n",
    "\n",
    "is_elective = set()\n",
    "\n",
    "for hadm_id, hadm_df in df.groupby('HADM_ID'):\n",
    "    # determine time of ICU stay\n",
    "    if hadm_id in icu_times:\n",
    "        intime = icu_times[hadm_id]\n",
    "        \n",
    "        # limit to services before ICU admission\n",
    "        hadm_df = hadm_df[hadm_df.TRANSFERTIME <= intime]\n",
    "        \n",
    "        # If patient had surgery prior to admission to the ICU during the same hospitalization -> elective\n",
    "        is_surgical = (hadm_df.PREV_SERVICE.isin(IS_SURGICAL) | hadm_df.CURR_SERVICE.isin(IS_SURGICAL)).any().astype(int)\n",
    "    \n",
    "        if is_surgical:\n",
    "            is_elective.add(hadm_id)\n",
    "        \n",
    "list(is_elective)[:5] + ['...']"
   ]
  },
  {
   "cell_type": "markdown",
   "id": "390377c5-447f-4060-b0db-72152be2b988",
   "metadata": {},
   "source": [
    "### is_sepsis\n",
    "\n",
    "We already determined whether a patient is likely to have sepsis in the data extraction, so we must only check whether there is a suspected infection time known (Note these are NaN when SOFA < 2)."
   ]
  },
  {
   "cell_type": "code",
   "execution_count": 38,
   "id": "74404e6c-3146-45be-90ec-6afd8ceacd2d",
   "metadata": {},
   "outputs": [
    {
     "data": {
      "text/plain": [
       "[294638, 220597, 232669, 273430, 217847, '...']"
      ]
     },
     "execution_count": 38,
     "metadata": {},
     "output_type": "execute_result"
    }
   ],
   "source": [
    "cohort_df = pd.read_csv('D:/mimic-iii/final/cohort_all_admissions.csv')\n",
    "demo_df = pd.read_csv('D:/mimic-iii/final/demographics_cohort.csv')\n",
    "\n",
    "cohort_df = cohort_df.merge(demo_df, on=['subject_id', 'hadm_id', 'icustay_id'])\n",
    "\n",
    "is_sepsis = cohort_df.icustay_id[(cohort_df.suspected_infection_time_poe.notna() & (cohort_df.sofa >= 2))].tolist()\n",
    "is_sepsis[:5] + ['...']"
   ]
  },
  {
   "cell_type": "markdown",
   "id": "79267dfa-50d5-48b2-a6bc-418adbbcf99c",
   "metadata": {},
   "source": [
    "## Augment demographics.csv"
   ]
  },
  {
   "cell_type": "code",
   "execution_count": 39,
   "id": "5045cfe9-da15-4edb-9a77-52dd96339ec3",
   "metadata": {},
   "outputs": [
    {
     "data": {
      "text/html": [
       "<div>\n",
       "<style scoped>\n",
       "    .dataframe tbody tr th:only-of-type {\n",
       "        vertical-align: middle;\n",
       "    }\n",
       "\n",
       "    .dataframe tbody tr th {\n",
       "        vertical-align: top;\n",
       "    }\n",
       "\n",
       "    .dataframe thead th {\n",
       "        text-align: right;\n",
       "    }\n",
       "</style>\n",
       "<table border=\"1\" class=\"dataframe\">\n",
       "  <thead>\n",
       "    <tr style=\"text-align: right;\">\n",
       "      <th></th>\n",
       "      <th>subject_id</th>\n",
       "      <th>hadm_id</th>\n",
       "      <th>icustay_id</th>\n",
       "      <th>age</th>\n",
       "      <th>is_male</th>\n",
       "      <th>race_white</th>\n",
       "      <th>race_black</th>\n",
       "      <th>race_hispanic</th>\n",
       "      <th>race_other</th>\n",
       "      <th>height</th>\n",
       "      <th>...</th>\n",
       "      <th>lods</th>\n",
       "      <th>sirs</th>\n",
       "      <th>qsofa</th>\n",
       "      <th>qsofa_sysbp_score</th>\n",
       "      <th>qsofa_gcs_score</th>\n",
       "      <th>qsofa_resprate_score</th>\n",
       "      <th>elixhauser_hospital</th>\n",
       "      <th>blood_culture_positive</th>\n",
       "      <th>is_elective</th>\n",
       "      <th>is_sepsis</th>\n",
       "    </tr>\n",
       "  </thead>\n",
       "  <tbody>\n",
       "    <tr>\n",
       "      <th>0</th>\n",
       "      <td>27513</td>\n",
       "      <td>163557</td>\n",
       "      <td>200003</td>\n",
       "      <td>48.2940</td>\n",
       "      <td>1</td>\n",
       "      <td>1</td>\n",
       "      <td>0</td>\n",
       "      <td>0</td>\n",
       "      <td>0</td>\n",
       "      <td>177.80</td>\n",
       "      <td>...</td>\n",
       "      <td>3</td>\n",
       "      <td>4</td>\n",
       "      <td>2</td>\n",
       "      <td>1.0</td>\n",
       "      <td>0.0</td>\n",
       "      <td>1.0</td>\n",
       "      <td>0</td>\n",
       "      <td>1</td>\n",
       "      <td>1</td>\n",
       "      <td>1</td>\n",
       "    </tr>\n",
       "    <tr>\n",
       "      <th>1</th>\n",
       "      <td>20707</td>\n",
       "      <td>129310</td>\n",
       "      <td>200007</td>\n",
       "      <td>43.3439</td>\n",
       "      <td>1</td>\n",
       "      <td>1</td>\n",
       "      <td>0</td>\n",
       "      <td>0</td>\n",
       "      <td>0</td>\n",
       "      <td>177.80</td>\n",
       "      <td>...</td>\n",
       "      <td>2</td>\n",
       "      <td>2</td>\n",
       "      <td>2</td>\n",
       "      <td>1.0</td>\n",
       "      <td>0.0</td>\n",
       "      <td>1.0</td>\n",
       "      <td>0</td>\n",
       "      <td>0</td>\n",
       "      <td>0</td>\n",
       "      <td>0</td>\n",
       "    </tr>\n",
       "    <tr>\n",
       "      <th>2</th>\n",
       "      <td>29904</td>\n",
       "      <td>129607</td>\n",
       "      <td>200009</td>\n",
       "      <td>47.5548</td>\n",
       "      <td>0</td>\n",
       "      <td>1</td>\n",
       "      <td>0</td>\n",
       "      <td>0</td>\n",
       "      <td>0</td>\n",
       "      <td>161.29</td>\n",
       "      <td>...</td>\n",
       "      <td>4</td>\n",
       "      <td>4</td>\n",
       "      <td>2</td>\n",
       "      <td>1.0</td>\n",
       "      <td>0.0</td>\n",
       "      <td>1.0</td>\n",
       "      <td>-4</td>\n",
       "      <td>0</td>\n",
       "      <td>1</td>\n",
       "      <td>0</td>\n",
       "    </tr>\n",
       "    <tr>\n",
       "      <th>3</th>\n",
       "      <td>28448</td>\n",
       "      <td>177527</td>\n",
       "      <td>200012</td>\n",
       "      <td>32.9891</td>\n",
       "      <td>0</td>\n",
       "      <td>0</td>\n",
       "      <td>0</td>\n",
       "      <td>0</td>\n",
       "      <td>1</td>\n",
       "      <td>NaN</td>\n",
       "      <td>...</td>\n",
       "      <td>1</td>\n",
       "      <td>3</td>\n",
       "      <td>2</td>\n",
       "      <td>1.0</td>\n",
       "      <td>0.0</td>\n",
       "      <td>1.0</td>\n",
       "      <td>0</td>\n",
       "      <td>0</td>\n",
       "      <td>0</td>\n",
       "      <td>0</td>\n",
       "    </tr>\n",
       "    <tr>\n",
       "      <th>4</th>\n",
       "      <td>9514</td>\n",
       "      <td>127229</td>\n",
       "      <td>200014</td>\n",
       "      <td>84.7274</td>\n",
       "      <td>1</td>\n",
       "      <td>0</td>\n",
       "      <td>0</td>\n",
       "      <td>0</td>\n",
       "      <td>1</td>\n",
       "      <td>167.64</td>\n",
       "      <td>...</td>\n",
       "      <td>5</td>\n",
       "      <td>4</td>\n",
       "      <td>2</td>\n",
       "      <td>1.0</td>\n",
       "      <td>0.0</td>\n",
       "      <td>1.0</td>\n",
       "      <td>0</td>\n",
       "      <td>1</td>\n",
       "      <td>1</td>\n",
       "      <td>1</td>\n",
       "    </tr>\n",
       "  </tbody>\n",
       "</table>\n",
       "<p>5 rows × 23 columns</p>\n",
       "</div>"
      ],
      "text/plain": [
       "   subject_id  hadm_id  icustay_id      age  is_male  race_white  race_black  \\\n",
       "0       27513   163557      200003  48.2940        1           1           0   \n",
       "1       20707   129310      200007  43.3439        1           1           0   \n",
       "2       29904   129607      200009  47.5548        0           1           0   \n",
       "3       28448   177527      200012  32.9891        0           0           0   \n",
       "4        9514   127229      200014  84.7274        1           0           0   \n",
       "\n",
       "   race_hispanic  race_other  height  ...  lods  sirs  qsofa  \\\n",
       "0              0           0  177.80  ...     3     4      2   \n",
       "1              0           0  177.80  ...     2     2      2   \n",
       "2              0           0  161.29  ...     4     4      2   \n",
       "3              0           1     NaN  ...     1     3      2   \n",
       "4              0           1  167.64  ...     5     4      2   \n",
       "\n",
       "   qsofa_sysbp_score  qsofa_gcs_score  qsofa_resprate_score  \\\n",
       "0                1.0              0.0                   1.0   \n",
       "1                1.0              0.0                   1.0   \n",
       "2                1.0              0.0                   1.0   \n",
       "3                1.0              0.0                   1.0   \n",
       "4                1.0              0.0                   1.0   \n",
       "\n",
       "   elixhauser_hospital  blood_culture_positive  is_elective  is_sepsis  \n",
       "0                    0                       1            1          1  \n",
       "1                    0                       0            0          0  \n",
       "2                   -4                       0            1          0  \n",
       "3                    0                       0            0          0  \n",
       "4                    0                       1            1          1  \n",
       "\n",
       "[5 rows x 23 columns]"
      ]
     },
     "execution_count": 39,
     "metadata": {},
     "output_type": "execute_result"
    }
   ],
   "source": [
    "demo_df = pd.read_csv('D:/mimic-iii/final/demographics_cohort.csv')\n",
    "\n",
    "demo_df['is_elective'] = demo_df.hadm_id.transform(lambda x: int(x in is_elective))\n",
    "demo_df['is_sepsis'] = demo_df.icustay_id.transform(lambda x: int(x in is_sepsis))\n",
    "\n",
    "demo_df.head()"
   ]
  },
  {
   "cell_type": "code",
   "execution_count": 41,
   "id": "fe353acb-70d9-4b9b-9eda-8368fbef48b1",
   "metadata": {},
   "outputs": [],
   "source": [
    "# Save to local drive\n",
    "demo_df.to_csv('final/demographics_cohort.csv', index=False)"
   ]
  }
 ],
 "metadata": {
  "kernelspec": {
   "display_name": "Python 3 (ipykernel)",
   "language": "python",
   "name": "python3"
  },
  "language_info": {
   "codemirror_mode": {
    "name": "ipython",
    "version": 3
   },
   "file_extension": ".py",
   "mimetype": "text/x-python",
   "name": "python",
   "nbconvert_exporter": "python",
   "pygments_lexer": "ipython3",
   "version": "3.8.10"
  }
 },
 "nbformat": 4,
 "nbformat_minor": 5
}
